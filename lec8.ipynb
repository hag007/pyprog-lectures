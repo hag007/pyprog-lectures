{
 "cells": [
  {
   "cell_type": "code",
   "execution_count": null,
   "id": "f9e99179",
   "metadata": {
    "execution": {
     "iopub.execute_input": "2025-03-10T07:51:24.223326Z",
     "iopub.status.busy": "2025-03-10T07:51:24.222764Z",
     "iopub.status.idle": "2025-03-10T07:51:24.443201Z",
     "shell.execute_reply": "2025-03-10T07:51:24.442079Z"
    },
    "id": "f9e99179",
    "slideshow": {
     "slide_type": "notes"
    }
   },
   "outputs": [],
   "source": [
    "import urllib.request\n",
    "import zipfile\n",
    "import os\n",
    "\n",
    "try:\n",
    "    os.mkdir(\"files\")\n",
    "except:\n",
    "    pass\n",
    "\n",
    "with urllib.request.urlopen('https://courses.cs.tau.ac.il/pyProg/2425a/resources/notebook_resources.zip') as f:\n",
    "    content = f.read()\n",
    "\n",
    "with open('files/notebook_resources.zip', 'wb') as f:\n",
    "    f.write(content)\n",
    "\n",
    "with zipfile.ZipFile('files/notebook_resources.zip', 'r') as zip_ref:\n",
    "    zip_ref.extractall('files')\n",
    "\n",
    "print(os.listdir('files'))"
   ]
  },
  {
   "cell_type": "markdown",
   "id": "6e194dba",
   "metadata": {
    "id": "6e194dba",
    "slideshow": {
     "slide_type": "slide"
    }
   },
   "source": [
    "# Libraries: Pandas (two weeks)\n",
    "\n",
    "## Python Programming for Engineers\n",
    "### Tel-Aviv University / 0509-1820 / Fall 2025-2026"
   ]
  },
  {
   "cell_type": "markdown",
   "id": "4aa599b2",
   "metadata": {
    "id": "4aa599b2",
    "slideshow": {
     "slide_type": "slide"
    }
   },
   "source": [
    "## Today's agenda"
   ]
  },
  {
   "cell_type": "markdown",
   "id": "c0274e4e",
   "metadata": {
    "slideshow": {
     "slide_type": "subslide"
    }
   },
   "source": [
    "### What's Pandas?"
   ]
  },
  {
   "cell_type": "markdown",
   "id": "3ee03d40",
   "metadata": {
    "id": "3ee03d40",
    "slideshow": {
     "slide_type": "fragment"
    }
   },
   "source": [
    "- Pandas is a **library** for analysing and processing **tabular** data.\n",
    "    - reminder: **library**: an extension of Python that contains additional classes, functions, etc.\n",
    "- Pandas is **open-source**, meaning its code is available to see for all<br>\n",
    "- Pandas is built on top of Numpy."
   ]
  },
  {
   "cell_type": "markdown",
   "id": "81e26413",
   "metadata": {
    "id": "4aa599b2",
    "slideshow": {
     "slide_type": "subslide"
    }
   },
   "source": [
    "## Today's agenda - Pandas\n",
    "- Introduction\n",
    "- Tabular data representation as `DataFrame` objects\n",
    "- `DataFrame` creation\n",
    "- `DataFrame` manipulations\n",
    "- Adding, deleting and changing **rows**\n",
    "-  Adding, deleting and changing **columns**\n",
    "-  Combining `DataFrame`'s\n",
    "-  Perform calculations on `DataFrame`\n",
    "-  groupby` operation`\n"
   ]
  },
  {
   "cell_type": "markdown",
   "id": "ba7cf6ac",
   "metadata": {
    "id": "ba7cf6ac",
    "slideshow": {
     "slide_type": "subslide"
    }
   },
   "source": [
    "### Import and usage\n"
   ]
  },
  {
   "cell_type": "markdown",
   "id": "0f32c674",
   "metadata": {
    "id": "0f32c674",
    "slideshow": {
     "slide_type": "fragment"
    }
   },
   "source": [
    "Reminder:\n",
    "```python\n",
    "import numpy as np\n",
    "```"
   ]
  },
  {
   "cell_type": "markdown",
   "id": "024b4e23",
   "metadata": {
    "id": "024b4e23",
    "slideshow": {
     "slide_type": "fragment"
    }
   },
   "source": [
    "- Make sure you `import` the packages you need at the beginning of your program\n",
    "- Pandas alias (shortage): `pd` (same as `np` for Numpy)\n",
    "- Use `pd` instead of the full name **pandas**"
   ]
  },
  {
   "cell_type": "code",
   "execution_count": null,
   "id": "bb3e21f2",
   "metadata": {
    "execution": {
     "iopub.execute_input": "2025-03-10T07:51:24.447701Z",
     "iopub.status.busy": "2025-03-10T07:51:24.447145Z",
     "iopub.status.idle": "2025-03-10T07:51:25.823167Z",
     "shell.execute_reply": "2025-03-10T07:51:25.822268Z"
    },
    "executionInfo": {
     "elapsed": 1002,
     "status": "ok",
     "timestamp": 1710177630585,
     "user": {
      "displayName": "Arielle Arabov",
      "userId": "02375953330854429968"
     },
     "user_tz": -120
    },
    "id": "bb3e21f2",
    "slideshow": {
     "slide_type": "fragment"
    }
   },
   "outputs": [],
   "source": [
    "import pandas as pd"
   ]
  },
  {
   "cell_type": "markdown",
   "id": "eaeff8d7",
   "metadata": {
    "execution": {
     "iopub.execute_input": "2024-01-25T21:57:36.595139Z",
     "iopub.status.busy": "2024-01-25T21:57:36.594409Z",
     "iopub.status.idle": "2024-01-25T21:57:36.597679Z",
     "shell.execute_reply": "2024-01-25T21:57:36.598377Z"
    },
    "id": "eaeff8d7",
    "slideshow": {
     "slide_type": "subslide"
    }
   },
   "source": [
    "## Pandas' `DataFrame` class"
   ]
  },
  {
   "cell_type": "markdown",
   "id": "88b4206a",
   "metadata": {
    "id": "88b4206a",
    "slideshow": {
     "slide_type": "fragment"
    }
   },
   "source": [
    "Pandas main class is a **tabular** data structure called `DataFrame`\n",
    "- DataFrame comprises rows and columns\n",
    "- Rows and columns are of type `Series`\n",
    "- Rows and columns have indices\n",
    "    - By default, row indices are sequence of number starting from 0\n",
    "    - Column indices are the header of the table"
   ]
  },
  {
   "cell_type": "markdown",
   "id": "bd2c5c66",
   "metadata": {
    "id": "bd2c5c66",
    "slideshow": {
     "slide_type": "fragment"
    }
   },
   "source": [
    "Table dimensions (axes):    \n",
    "- Two-dimensions: rows (axis 0) and columns (axis 1).\n",
    "- The values of each column are of the **same (d)type**.\n",
    "- As in Numpy, dimensions are called axes.\n",
    "    - Typically, we operate along the axes"
   ]
  },
  {
   "cell_type": "markdown",
   "id": "5f068db1",
   "metadata": {
    "id": "5f068db1",
    "slideshow": {
     "slide_type": "subslide"
    }
   },
   "source": [
    "### `DataFrame` from dictionary"
   ]
  },
  {
   "cell_type": "code",
   "execution_count": null,
   "id": "88ab3147",
   "metadata": {
    "colab": {
     "base_uri": "https://localhost:8080/",
     "height": 1164
    },
    "execution": {
     "iopub.execute_input": "2025-03-10T07:51:25.827095Z",
     "iopub.status.busy": "2025-03-10T07:51:25.826691Z",
     "iopub.status.idle": "2025-03-10T07:51:25.843874Z",
     "shell.execute_reply": "2025-03-10T07:51:25.842915Z"
    },
    "executionInfo": {
     "elapsed": 596,
     "status": "ok",
     "timestamp": 1710177946240,
     "user": {
      "displayName": "Arielle Arabov",
      "userId": "02375953330854429968"
     },
     "user_tz": -120
    },
    "id": "88ab3147",
    "outputId": "4cdf5c6c-6393-4f38-e229-8f30e91b1568",
    "slideshow": {
     "slide_type": "fragment"
    }
   },
   "outputs": [],
   "source": [
    "ages_by_name = {'Name': ['Rick', 'Morty'], 'Age': [70, 14]}\n",
    "df = pd.DataFrame(data=ages_by_name)\n",
    "display(df)"
   ]
  },
  {
   "cell_type": "markdown",
   "id": "1482b94e",
   "metadata": {
    "id": "1482b94e",
    "slideshow": {
     "slide_type": "subslide"
    }
   },
   "source": [
    "### `DataFrame` from Numpy matrix"
   ]
  },
  {
   "cell_type": "code",
   "execution_count": null,
   "id": "1bd56fef",
   "metadata": {
    "execution": {
     "iopub.execute_input": "2025-03-10T07:51:25.848453Z",
     "iopub.status.busy": "2025-03-10T07:51:25.848096Z",
     "iopub.status.idle": "2025-03-10T07:51:25.852435Z",
     "shell.execute_reply": "2025-03-10T07:51:25.851437Z"
    },
    "slideshow": {
     "slide_type": "fragment"
    }
   },
   "outputs": [],
   "source": [
    "import numpy as np"
   ]
  },
  {
   "cell_type": "code",
   "execution_count": null,
   "id": "87f36966",
   "metadata": {
    "colab": {
     "base_uri": "https://localhost:8080/",
     "height": 143
    },
    "execution": {
     "iopub.execute_input": "2025-03-10T07:51:25.855782Z",
     "iopub.status.busy": "2025-03-10T07:51:25.855267Z",
     "iopub.status.idle": "2025-03-10T07:51:25.864179Z",
     "shell.execute_reply": "2025-03-10T07:51:25.863279Z"
    },
    "executionInfo": {
     "elapsed": 425,
     "status": "ok",
     "timestamp": 1710178303729,
     "user": {
      "displayName": "Arielle Arabov",
      "userId": "02375953330854429968"
     },
     "user_tz": -120
    },
    "id": "87f36966",
    "outputId": "35336a97-d8a4-4442-ae90-fa13772726a1",
    "slideshow": {
     "slide_type": "fragment"
    }
   },
   "outputs": [],
   "source": [
    "df = pd.DataFrame(np.array([[1, 2, 3], [4, 5, 6], [7, 8, 9]]), columns=['a', 'b', 'c'])\n",
    "display(df)"
   ]
  },
  {
   "cell_type": "markdown",
   "id": "20ef2541",
   "metadata": {
    "id": "1482b94e",
    "slideshow": {
     "slide_type": "subslide"
    }
   },
   "source": [
    "### `DataFrame` from file"
   ]
  },
  {
   "cell_type": "markdown",
   "id": "97cc4cc2",
   "metadata": {
    "id": "97cc4cc2",
    "slideshow": {
     "slide_type": "fragment"
    }
   },
   "source": [
    "#### Reminder - CSV files\n",
    "- CSV: **C**omma **S**eperated **V**alues\n",
    "- CSV files contain data in a tabular format using comma to separate between values\n",
    "    - Each row is seperated by a line break (\\n)\n",
    "    - Each value in columns is seperated by a comma (,)\n",
    "    - e.g.,      \n",
    "        \n",
    "        Name,Programming,Marine Biology,Stellar Cartography    \n",
    "        Yael,50,56,70    \n",
    "        Nadav,61,77,75    \n",
    "   \n",
    "        <table align=left><tr><td>Name</td><td>Programming</td><td>Marine Biology</td><td>Stellar Cartography</td></tr>\n",
    "               <tr><td>Yael</td><td>50</td><td>56</td><td>70</td></tr>\n",
    "               <tr><td>Nadav</td><td>61</td><td>77</td><td>75</td></tr>\n",
    "        </table>"
   ]
  },
  {
   "cell_type": "markdown",
   "id": "a05d9b72",
   "metadata": {
    "id": "a05d9b72",
    "slideshow": {
     "slide_type": "subslide"
    }
   },
   "source": [
    "### Opening a CSV file: `files/StudentsGrades.csv`"
   ]
  },
  {
   "cell_type": "markdown",
   "id": "de37fac3",
   "metadata": {
    "id": "de37fac3",
    "slideshow": {
     "slide_type": "fragment"
    }
   },
   "source": [
    "<table>\n",
    "    <tr><td>Using a simple text editor\n",
    "        \n",
    "<img width=1000 height=600 src='data:image/png;base64,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' />\n",
    "        </td>\n",
    "    <td>Using Microsoft Excel:    \n",
    "       <img width=1000 height=600 src='data:image/png;base64,iVBORw0KGgoAAAANSUhEUgAABFIAAAIOCAYAAACbJim8AAAKs2lDQ1BJQ0MgUHJvZmlsZQAASImVlwdUk9kSgO//p4eEBBJ6CzUUQToBpARCCaAgHUQlJIGEEmIgqNiVxRVcCyIiWNEFEQXXAshasWBFsWHfIIuAum4s2FB5P3AIu/vOe++8yblnvsw/d2buf+7kTAAg03lSaTZMBSBHki+LDglgJCYlM3ADAAY6gArsgRaPnydlR0VFAEQm9N/lwz0Ajerb9qOx/v35fxUNgTCPDwAUhXCaII+fg/BRZCn5Ulk+AKi9iN18fr50lC8hTJchBSL8eJQzxlk5ymljjEaP+cRGByKsCwCexOPJMgAgWSB2RgE/A4lD4iDsKBGIJQgj34FvTk6uAGEkL7BGfKQIj8Znpf0lTsbfYqapYvJ4GSoeP8uY4DniPGk2b+H/+Tr+t+RkyydyWCGLJJKFRiMaqQu6n5UbrmJJ2ozICRYLxvzHWCQPjZtgfl5g8gQLeJxw1d7sGRETnC4O5qri5HNjJ1iYFxQzwbLcaFWudFkge4J5ssm88qw4lV0k5KriF4piEya4QBw/Y4LzsmLCJ30CVXaZPFpVv1ASEjCZN1h19py8v5xXzFXtzRfFhqrOzpusXyhhT8bMS1TVJhBygiZ94lT+0vwAVS5pdpTKX5gdorLnFcSo9uYjF3Jyb5TqHWbywqImGHBAEIhAPgwQB1wACzghiwMS8oULRu8oCMyVLpSJM0T5DDbSZUIGV8J3mMJwdnR2BWC0Z8evxLvosV6EtE9N2nKRHmJ9QPpk46QtrRyAlmIk9cNJm8UOAChFADS38+WygnHbaDsBDCACCqADPWAMzIE18qvgDNyBN/BHKg4DkSAWJIE5gA9EIAfIwHywGKwAxaAUbACbQRXYCfaAfeAgOAxawAlwFlwEV8FNcBc8AgrQB14CJfgAhiEIwkFkiAbpQSaQJWQHOUMsyBcKgiKgaCgJSoUyIAkkhxZDq6BSqAyqgnZD9dAv0HHoLHQZ6oIeQD3QIPQW+gKjYBJMh41gK3gqzILZcDgcC8+GM+B5cCFcBK+DK+Ea+ADcDJ+Fr8J3YQX8Eh5CAZQaShtlirJHsVCBqEhUMiodJUMtRZWgKlA1qEZUG6oDdRulQL1CfUZj0TQ0A22P9kaHouPQfPQ89FL0WnQVeh+6GX0efRvdg1aiv2PIGEOMHcYLw8UkYjIw8zHFmApMLeYY5gLmLqYP8wGLxWpjmVgPbCg2CZuJXYRdi92ObcKewXZhe7FDOBxOD2eH88FF4ni4fFwxbivuAO407hauD/cJr4Y3wTvjg/HJeAl+Jb4Cvx9/Cn8L348fJlAJlgQvQiRBQFhIWE/YS2gj3CD0EYaJGkQm0YcYS8wkriBWEhuJF4iPie/U1NTM1DzVZqqJ1ZarVaodUruk1qP2maRJsiUFklJIctI6Uh3pDOkB6R2ZTLYi+5OTyfnkdeR68jnyU/IndZq6gzpXXaC+TL1avVn9lvprCoFiSWFT5lAKKRWUI5QblFdUAtWKGkjlUZdSq6nHqd3UIQ2ahpNGpEaOxlqN/RqXNQY0cZpWmkGaAs0izT2a5zR7aSiaOS2Qxqetou2lXaD10bF0Jp1Lz6SX0g/SO+lKLU0tV614rQVa1VontRTaKG0rba52tvZ67cPa97S/6BjpsHWEOmt0GnVu6XzUNdD11xXqlug26d7V/aLH0AvSy9LbqNei90QfrW+rP1N/vv4O/Qv6rwzoBt4GfIMSg8MGDw1hQ1vDaMNFhnsMrxkOGRkbhRhJjbYanTN6Zaxt7G+caVxufMp40IRm4msiNik3OW3ygqHFYDOyGZWM8wylqaFpqKncdLdpp+mwGdMszmylWZPZE3OiOcs83bzcvN1caWFiMd1isUWDxUNLgiXLUmS5xbLD8qMV0yrBarVVi9UAU5fJZRYyG5iPrcnWftbzrGus79hgbVg2WTbbbW7awrZutiLbatsbdrCdu53Ybrtd1xTMFM8pkik1U7rtSfZs+wL7BvseB22HCIeVDi0Or6daTE2eunFqx9Tvjm6O2Y57HR85aTqFOa10anN662zrzHeudr7jQnYJdlnm0uryxtXOVei6w/W+G81tuttqt3a3b+4e7jL3RvdBDwuPVI9tHt0sOiuKtZZ1yRPjGeC5zPOE52cvd698r8Nef3rbe2d57/cemMacJpy2d1qvj5kPz2e3j8KX4Zvqu8tX4Wfqx/Or8Xvmb+4v8K/172fbsDPZB9ivAxwDZAHHAj4GegUuCTzDQXFCOCWcziDNoLigqqCnwWbBGcENwcoQt5BFIWdCMaHhoRtDu7lGXD63nqsM8whbEnY+nBQeE14V/izCNkIW0TYdnh42fdP0xzMsZ0hmtESCSG7kpsgnUcyoeVG/zsTOjJpZPfN5tFP04uiOGFrM3Jj9MR9iA2LXxz6Ks46Tx7XHU+JT4uvjPyZwEsoSFIlTE5ckXk3STxIntSbjkuOTa5OHZgXN2jyrL8UtpTjl3mzm7AWzL8/Rn5M95+Rcylze3COpmNSE1P2pX3mRvBreUBo3bVuakh/I38J/KfAXlAsGhT7CMmF/uk96WfpAhk/GpoxBkZ+oQvRKHCiuEr/JDM3cmfkxKzKrLmskOyG7KQefk5pzXKIpyZKczzXOXZDbJbWTFksV87zmbZ6nlIXLavOgvNl5rfl0ZDi6JreW/yDvKfAtqC74ND9+/pEFGgskC64ttF24ZmF/YXDhz4vQi/iL2hebLl6xuGcJe8nupdDStKXty8yXFS3rWx6yfN8K4oqsFddXOq4sW/l+VcKqtiKjouVFvT+E/NBQrF4sK+5e7b1654/oH8U/dq5xWbN1zfcSQcmVUsfSitKva/lrr/zk9FPlTyPr0td1rndfv2MDdoNkw72Nfhv3lWmUFZb1bpq+qbmcUV5S/n7z3M2XK1wrdm4hbpFvUVRGVLZutdi6YevXKlHV3eqA6qZthtvWbPu4XbD91g7/HY07jXaW7vyyS7zr/u6Q3c01VjUVe7B7CvY83xu/t+Nn1s/1tfq1pbXf6iR1in3R+87Xe9TX7zfcv74BbpA3DB5IOXDzIOdga6N94+4m7abSQ+CQ/NCLX1J/uXc4/HD7EdaRxqOWR7cdox0raYaaFzYrW0Qtitak1q7jYcfb27zbjv3q8GvdCdMT1Se1Tq4/RTxVdGrkdOHpoTPSM6/OZpztbZ/b/uhc4rk752ee77wQfuHSxeCL5zrYHacv+Vw6cdnr8vErrCstV92vNl9zu3bsutv1Y53unc03PG603vS82dY1revULb9bZ29zbl+8w71z9e6Mu1334u7d707pVtwX3B94kP3gzcOCh8OPlj/GPC55Qn1S8dTwac1vNr81KdwVJ3s4PdeexTx71Mvvffl73u9f+4qek59X9Jv01w84D5wYDB68+WLWi76X0pfDr4r/0Phj22vr10f/9P/zmjJR2fdG9mbk7dp3eu/q3ru+bx+KGnr6IefD8MeST3qf9n1mfe74kvClf3j+V9zXym8239q+h39/PJIzMiLlyXhjowAKWXB6OgBv6wAgJwFAuwkAcdb4TD0m0Pj/gDEC/4nH5+4xcQdgTzcAsYsAiLgOwNYqZKRF4lNSAIiiIHZvALu4qNbE/Ds2q48K9QAAu945BkdEPGQSE8E/ZHyO/0vd/9RgNKor+Kf+F+dxCQt31iesAAAAimVYSWZNTQAqAAAACAAEARoABQAAAAEAAAA+ARsABQAAAAEAAABGASgAAwAAAAEAAgAAh2kABAAAAAEAAABOAAAAAAAAAJAAAAABAAAAkAAAAAEAA5KGAAcAAAASAAAAeKACAAQAAAABAAAEUqADAAQAAAABAAACDgAAAABBU0NJSQAAAFNjcmVlbnNob3Q+WQeBAAAACXBIWXMAABYlAAAWJQFJUiTwAAAB12lUWHRYTUw6Y29tLmFkb2JlLnhtcAAAAAAAPHg6eG1wbWV0YSB4bWxuczp4PSJhZG9iZTpuczptZXRhLyIgeDp4bXB0az0iWE1QIENvcmUgNi4wLjAiPgogICA8cmRmOlJERiB4bWxuczpyZGY9Imh0dHA6Ly93d3cudzMub3JnLzE5OTkvMDIvMjItcmRmLXN5bnRheC1ucyMiPgogICAgICA8cmRmOkRlc2NyaXB0aW9uIHJkZjphYm91dD0iIgogICAgICAgICAgICB4bWxuczpleGlmPSJodHRwOi8vbnMuYWRvYmUuY29tL2V4aWYvMS4wLyI+CiAgICAgICAgIDxleGlmOlBpeGVsWURpbWVuc2lvbj41MjY8L2V4aWY6UGl4ZWxZRGltZW5zaW9uPgogICAgICAgICA8ZXhpZjpQaXhlbFhEaW1lbnNpb24+MTEwNjwvZXhpZjpQaXhlbFhEaW1lbnNpb24+CiAgICAgICAgIDxleGlmOlVzZXJDb21tZW50PlNjcmVlbnNob3Q8L2V4aWY6VXNlckNvbW1lbnQ+CiAgICAgIDwvcmRmOkRlc2NyaXB0aW9uPgogICA8L3JkZjpSREY+CjwveDp4bXBtZXRhPgr8c58RAAAAHGlET1QAAAACAAAAAAAAAQcAAAAoAAABBwAAAQcAAMOa9h+KKgAAQABJREFUeAHsXQXgFcX2HrBbMSk7KbtbwsDg2c/uenaAPv+2GE/srodPETsxUBS7sMEOEBX4YaGioKLs/3yDZ5m7d3fvzr1z7904oz/u7uzs7Jxvvok9e+ZMq/btOniemhEmTBintt56a33y2Wef/R0rP4KAGwRatWqljjzySJ3ZVVddpTyfecnznzp1akniueaaq+RcTgSBIiDQpk2bIogpMgoCgoAgIAgIAoKAICAICAKpRKAVFCkoGV5qWyZOUFtttZUuqChSUllfhS+UKFIKTwEBgBAQRYrQQBAQBAQBQUAQEAQEAUFAEGgeAqRI6UiKlBk2KePFIqV5NSFPToSAKFISwSSJBAFBQBAQBAQBQUAQEAQEAUFAEBAE6oSAtkiRpT11QleydY6AKFKcQyoZCgKCgCAgCAgCgoAgIAgIAoKAICAIWCDgL+3BPWKRYoGcJG0KAqJIaQrs8lBBQBAQBAQBQUAQEAQEAUFAEBAEBIG/EfAVKfCRMqFlAjmbFR8pwo70IiCKlPTWjZRMEBAEBAFBQBAQBAQBQUAQEAQEgSIgMFORQtK2tIxXO+ywg5b7/fffL4L8ImNGEWCFiuzak9EKlGILAoKAICAICAKCgCAgCAgCgoAgkFEEWrVv35GMUTzVigTA0p4+ffpoUUSRktEaLUixRZFSkIoWMQUBQUAQEAQEAUFAEBAEBAFBQBBIGQJlzmbvuf8BNUurVuqnHyfpLZHN8raieK10od/p06er1q1bSxoDIMGHFHLCDWkXpJg1g7QLaRcyXshYKX3CDASkP5T+UPpD6Q+lP5T+UMaCfIwF2iKFtCGa0bBIGfXe+/QyrNRvU6ea7bzsmBUqZReMCEkDO5/oIPgIPlHsEG4IN4Qb5QhIu5B2Uc6KGTHCDeGGcKMcAWkX0i7KWSF9prQLaReu2oXvIwUZQpGCJRNhlibBBwoJhYRBTvC5cEO4wVwI/go3hBtBTvC5cEO4wVwI/go3hBtBTvC5cEO4wVwI/go3hBtBTvC5cEO4wVwI/tpyw1ekwCZlAilSWlpa9HKdadOmBfMuObd9UMnNxonkI2Q26FByKNwQbpQQwjgRbgg3DDqUHAo3hBslhDBOhBvCDYMOJYfCDeFGCSGME+GGcMOgQ8mhcEO4UeYjZcQbbypv+l9qyq+/an8XYAyIwoHXdJnnOJY0MxARfEq5ItwoxSPYTgQfwQcckH6jlAfSLkrxkH4DjJjRTvAbxCN4LmmEP+CA9KulPJB2UYqH9BtghPSrwCDIheC5pJG2Aw6EjSllFin33EfOZmchZ7OTxNksQOPA4OFXHIWJozDmBX6FG/lwGCV1OgMB4bPwWcY4GeOkP5T+UMYCGQtkLJCxQMaC+LHAUKR4tLRnvOrRo4fWzI0cOdLELrXHg28fpMt2w403pbaMUrDGIfDss8827mHypNQhsNlmm+kyCQ9SVzUNLZDwoKFwp/ZhwoPUVk1DCyY8aCjcqX2Y8CC1VdPQggkPGgp3ah/migeGIgU+UqBI6a6Ffvfdd1MrvFkwUaSYaMixvEAXmwOuOsZio5h96YUH2a9DFxIID1ygmP08hAfZr0MXEggPXKCY/TyEB9mvQxcSuOKBr0hBobBrj1ikuKgeyaNZCIgipVnIp+O5rjrGdEgjpagWAeFBtcjl6z7hQb7qs1pphAfVIpev+4QH+arPaqURHlSLXL7uc8UDX5ECxzoTWmYs7QFUYpGSL8IURRpRpBSlpsPldNUxhucusVlBQHiQlZqqbzmFB/XFNyu5Cw+yUlP1LafwoL74ZiV34UFWaqq+5XTFg5mKFCovtj+GRQqCKFI0DPJPxhAQRUrGKsxxcV11jI6LJdk1GAHhQYMBT+njhAcprZgGF0t40GDAU/o44UFKK6bBxRIeNBjwlD7OFQ9EkZLSCpZiVYeAKFKqwy0vd7nqGPOCR1HlEB4UteZL5RYelOJR1DPhQVFrvlRu4UEpHkU9Ex4UteZL5XbFg1bt23f0aJsehR2ixSKlFGQ5yx4CokjJXp25LLGrjtFlmSSvxiMgPGg85ml8ovAgjbXS+DIJDxqPeRqfKDxIY600vkzCg8ZjnsYnuuJBiUVKC+3a01127UljfUuZEiIgipSEQOU0mauOMafwFEYs4UFhqjpWUOFBLDyFuSg8KExVxwoqPIiFpzAXhQeFqepYQV3xoESRAouU7t27q1atWqXSR8rSSy+tvvjiixJgZPvjEjgKfyKKlGJTwFXHWGwUsy+98CD7dehCAuGBCxSzn4fwIPt16EIC4YELFLOfh/Ag+3XoQgJXPAgoUrBrT3ddvrQ5m4USBX/BF2VRpLigU37yCPIjP5KJJEkQcNUxJnmWpEkvAsKD9NZNI0smPGgk2ul9lvAgvXXTyJIJDxqJdnqfJTxIb900smSueFCiSEnr0h5WogDg4IuyKFIaSbv0PyvIj/SXWEroEgFXHaPLMklejUdAeNB4zNP4ROFBGmul8WUSHjQe8zQ+UXiQxlppfJmEB43HPI1PdMUDrUiBo1mENDqbNZUoKGPwRVkUKUBFAiMQ5AfHy28xEHDVMRYDrfxKKTzIb93aSCY8sEErv2mFB/mtWxvJhAc2aOU3rfAgv3VrI5krHpRYpKRNkRJUogCg4IuyKFJsaJP/tEF+5F9ikdBEwFXHaOYpx9lDQHiQvTqrR4mFB/VANXt5Cg+yV2f1KLHwoB6oZi9P4UH26qweJXbFg5nbH9MWyC0TJ2hnsyhws32khClRUK7gi7IoUpTaeOONtYPg33//Xb322muAqbAhyI88A7HYYosp7ghMOX/44Qc1duxY9emnn5rRhThmPIrEA67Y9dZbT3Xt2lW1b99eTZ8+XX3wwQdq1KhR6pNPPqEd7tnukFPn+7dIPIjqB3799Vc1fvx49fHHH6spU6bku8IjpCsSDxiCKD7wdf4dPny4+u677/g017/Cg/DqxTjx4IMPqj///DM8Qc5ii8gDrsK1115brbrqqnp+gA1FMEfE/OCNN97gJIX5LRIPzPHgkUceiZwLrLXWWmrZZZdVeH946qmnCsEFVzxIpUVKlBIFNRt8QSq6ImXFFVdU55xzjiY9XpaOOOII3RAK0QpChAzyIyRJbqL22GMPdemll0bK884776iTTz5Zvf3225Fp8nbBVceYJVxWWGEFdd1116kuXbqEFhvK1YMPPlhNnDgx9HoeI4vEg0r9wC+//KLuvfdedcEFF6hJkyblsbojZSoSDxiESnzgdIcddph64IEH+DTXv8KD6Opdf/311ejRo6MT5OhKEXnQuXNnPU+EEiUsvP7663qe+N5774VdzmVckXhgjgfbbbedGjFiRGid3nnnnWrzzTdX33zzjf4gF5ooZ5GueECKlI70qdKj/2b4SGn29sdxShTUYfBFueiKlH333Vdts802Pr1vueUW9fjjj/vnRTsI8iPP8psdJL44//jjj2rBBRdUc889ty82vjiiTbe0tPhxeT5w1TFmBaP55ptPPfHEE2q55ZbTRYYVwocffqjmmmsuBSXrbLPNpuO//fZbteuuu2orlazIVks5i8QDsx+YNm2a3w9w3TOOX3zxhdp9993VmDFjOCr3v0XiAVemyYfffvtN/fTTT3yp5Peoo45Szz33XElcXk+EB+E8gEXKlltuWRgle9F4sOaaa6q77rpLYZ6AMHnyZPX+++/r85VXXlnNMsssOv77779XvXv3LszYUCQemOOBKFI03f1/XPEgVRYplZQokD74olxkRQrM86655hrVpk0bnxgw4z799NP986IdBPmRZ/nDOsjZZ59dbbDBBpoD+BKB0K9fPwUFWxGCq44xC1ih/d92222qZ8+eurgw0UZdQ6GGsMgii6jrr79ebbTRRvocXxyOOeYYfZz3f4rEg7B+YI455tBflTCRRp0vvPDCusphpbb11lvrpV955wDkKxIPuD7D+MDXivorPIj+El0kThSJB7POOqt+X4LFKsLDDz+sTjrpJH9+sNBCC+l5IZYEIzz//PNql1120cd5/6dIPEg6HohFSvWs932kIIvxE8apHj166PX0I0eOrD7XKu5MokRBtsEX5SIrUqBRPuusszTan3/+uf4qXfTlPUF+VEHFzNwS10HuvPPO6uqrr9ayDBw4UJtuZkawGgpapAFyp5120opUwPXVV1+pTTbZpGz9K744vfnmm6pt27b6axSUa/CllPdQJB7E9QOo527duuklHPPOO6+udlgi3H333XmngJavSDzgCq3EB05XpF/hgShSwPci8WDHHXdU1157rW7mX3/9tfalGPSVBYX7Sy+9pDp27Kj95HTq1CnSgi1P/UWReJB0PBBFSvUM1xYp7IawWbv2JFWiQMzgi3KRFSn777+/2mqrrRTMuWGFcv7552sm/O9//1OPPfZY9azI8J1BfmRYlIpFj+sgt912W3XzzTfrPC666CI1YMCAivnlIUGRBsizzz5bHXroobrasGTjmWeeCa3CU089VR199NH62qabbqo++uij0HR5iiwSD+L6Aa5TLO8bPHiwPh02bJjaa6+9+FKuf4vEA67IJHzgtEX5FR6IIgVcLxIPzjzzTHX44YfrJh43P0AavEsgIF0R/OUUiQdJxwNRpOgmUNU/M5f2GLv2wKqhURYpNkoUSBh8US6qIgVm/XAwCZ8Yb731lrrwwgvVJZdcoj1yF3l5T5AfVbWKjNwU1UEuuuii+ksEdnNCgA8dWCUUIRRpgIQDUdQxvjIts8wyRajexDIWiQdR/UAQLDidbteunYIfHXjnL0IoEg+4PpPygdMX4Vd4IIoU8LxIPLjnnnu0lWqR+vukfVmReJB0PBBFSlL2lKcjRcoMZ7O4xEt7cNyI7Y9tlSgoV/BFuaiKFJjgnXHGGYBE3XDDDerpp59WaDA77LCDXppV1N17gvzQAOX0H7ODxM4sX375pV7CAR8prVu31lI/+eSTap999inM9rdFGiCxvTF8X+AX3tYlzESgSDww+4E4Z3L//e9/tUNBoATFW9DMeyZ6+TkqEg+41kw+DB06VGHZbzBgS3RMnIsShAfhPIDfDPhNKkooEg/gVBZ+0rDFMVw2SJiJQJF4YI4H6PfHjx8/EwjjCLt3YamX7NpjgJLwsGlLe6pRokCm4ItyURUpBx54oOrVq5d+QYZ5Pzzzw6nUueeeq6u+qMt7gvxI2A4ymczsIKMEgELtvvvui7qcu/iiDJBwMI3deRCwaw+UZRJmIlAUHkBisx+IU6Rged/ee++tQVprrbW0X52ZiOXzqEg84Bo0+cBxwV9YscLpcFGC8CC8pjFfvPLKK8Mv5jC2KDww5wePPvqoOuCAA/zahDX7CSecoOacc04/jg9efPHFsncsvpan36LwAHWWZDww61YUKSYayY79pT1IDouURmx/XK0SBWUMvigXUZGCjhC7cSywwAIKGsbTTjsN0OiAeCz3KeryniA/GJc8/podJLaxxLam2LVn3XXX9bfDhdzAZLfddssjBGUyFWWAxBbX+NIMyyPUPbY2ljATgaLwABKb/UCcIuXyyy/Xa+BxDxzQTpw4EYe5DkXiAVekyQd8lYajyWDAV2r4zipKEB6E8wC7+Q0fPrwoNFBF4YE5P2Brda5kKFDGjh3LpyW/gwYN0kqWksgcnhSFB6g6czwYMWJEZN3D3ya2yRZFij3hfUUK/KJMaJlAJmDd67prTy1KFIiHl0IzFFGR0qVLlxLlyRdffOFDAnwRirp7T5AfGoyc/mN2kMEXqKWWWkov+VpttdW09EiLATXvoUgD5KuvvqqXaGBJ19prr533qrWSr0g8iOsHTNDuuusuBVwwNnTo0EHv0mBez+NxkXjA9ZeUD5y+CL/CA/GRAp4XiQevvPKK9oWF9wN8XOOAnfzgDgDLOBCwDTIsFBHgd5FdBuiInP5TJB4kHQ/ER0r1ZJ+pSKE8WlrGa4sUZFcPHym1KlFQruCLchEVKQcffHCiNY9FXN4T5Ac4k9dQqYPEDi28zekFF1ygLr300rxC4ctVpAGSfV5Mnz5dK1R+++03HwfzAGtfeekPeBD1Ncq8J+vHReJBpX4AdYlJM3ZrwpfKcePGqTXWWCPrVZyo/EXiAQOShA+ctii/wgNRpIDrReLBTTfdpPCB7a+//tIKlaj5ARzWw3E9wpFHHqngpDbvoUg8SDoeiCKleta3at++I32g8lQryqOeS3tcKFEgZvBFuWiKFJjyY/nO/PPPr3744YdQK4Ptt99eT5yLuLwnyI/qm0b676zUQcKHzm233aYFwY5O2Nkp76FIA+SJJ56oTjrpJF2ll112mb/9ebCOUe/77befjt5kk030sr9gmrydF4kHlfoB1C2+MsJfEsLAgQPVySefrI/z/k+ReMB1mYQPnLYov8IDUaSA60XiwXHHHef381jWed5554U2d/hL6du3r74GfNj3WmjinEQWiQdJxwNRpFRP7oY4m3WlRIGYwRfloilSsLb91FNP1TU+ZMgQhTWNwYCXK5jqFXF5T5AfQWzydF6pg7zqqqvULrvsokXea6+91LBhw/IkfqgsRRogsZznkUce0Tj8+eefqmfPnnoHHxOY5ZZbTtf7PPPMo/0p8ZbYZpo8HheJB5X6gcMPP1ydeeaZupphvYS10PWwOE0jj4rEA8a/Eh84XZF+hQeiSAHfi8SDzp07K+zaBb95mB+g34dvJDOsvvrq6sEHH9SOZ6dOnap968GCJe+hSDxIOh6IIqV61muLFHrj1jnUY/tjl0oUFDL4olw0RQp26Nliiy10fZ1++umhX5dxHekQira8J8gPDUJO/zE7SDgOxE4MWP/asWNHtc022yh+acbAuPLKK6uff/45p0jMFKtIAySkZvNdHMN56MUXX6xefvllnCpsgw2rlcUWW0yfY9eWojiYLBIPzH4A1kdvvvmmWnzxxfXyHSzhgfIdDsoRYM2IcaMooUg84DoN4wNfM3/feOMN9euvv5pRuT0uOg+CPtRyW9EVBCsaD/ABDXMCBDgRxRzgpZde0n5RNtxwQ4XdP3l+cOyxx6o77rijAoL5uFwkHpjjQVw/IIqU6rnt+0hBFq6X9rhWoqCMwRflIilS2EnUvPPOq3788Ud12GGHaasT4GIG7OaDCTMmz0Vb3hPkh4lL3o7NDjJKNqyLBU8ef/zxqCS5ii/SAImKg5d1LN+CH5S4AEejMOGdNm1aXLLcXCsSD5L0A6hYOBjEEh9YpRQlFIkHXKdJ+YBx4YEHHuDbcv1bdB7EvUDluuIDwhWRB+bS3gAc/im2wMZW2EUJReKBOR7E9QOiSKme/b4iBTYpE2j74x49eujcajX9rYcSBQULvigXSZGCr4xXXHGFrh/swIKJcVTo37+/Wn755dWUKVP0HvJY5lOEEORHnmXu06ePVpgFZcRXxg8++EBh60u8QMNSpSihSAMk1ykcicIHykEHHaSWXHJJHY32/vvvv+v1znAkB8uVIoUi8SCuH4BjWVioQNmG36KFIvGA6zaKD3ydf+GA+oknnuDTXP8WnQfdu3dX7733Xq7rOIlwReTBrLPOqvbdd191yCGHKLyXIWi/mPSh9auvvlJwWn/NNdfo+KL8UyQemONBXD/AmxcEd3nKMydc8SDURwoa2ciRI6vGr15KFBQo+KJcJEVK1RVSoBuD/CiQ6CIqIeCqY8wqmLBQWXjhhfWa6AkTJmiP/VmVpZZyF50HtWCXp3uFB3mqzeplER5Uj12e7iw6D2DNvsgii2hFyuTJk/WGFXmq36SyFJ0HSXHKezpXPHBukVJPJQoqNfiiLIqUvFPdTr4gP+zultRZR8BVx5h1HIpefuFB0RkwQ37hgfAACAgPhAfCA+EAIyD9ASNR7F9XPDAUKR4t7Rmvl/ZUa5FSbyUKqjz4oiyKlGI3hKD0QX4Er8t5vhFw1THmG6X8Syc8yH8dJ5FQeJAEpfynER7kv46TSCg8SIJS/tMID/Jfx0kkdMUDQ5ECHylQpHTXz7f1kdIIJQoKFnxRFkVKEroUJ02QH8WRXCQFAq46RkEz2wgID7Jdf65KLzxwhWS28xEeZLv+XJVeeOAKyWznIzzIdv25Kr0rHviKFBSMtz+2tUhplBIFZQy+KIsiBahIYASC/OB4+S0GAq46xmKglV8phQf5rVsbyYQHNmjlN63wIL91ayOZ8MAGrfymFR7kt25tJHPFA1+RAuXJhJYZS3tQkKQWKY1UoqBcwRdlUaQAFQmMQJAfHC+/xUDAVcdYDLTyK6XwIL91ayOZ8MAGrfymFR7kt25tJBMe2KCV37TCg/zWrY1krngwU5FCT7fd/rjRShQAFHxRFkWKDW3ynzbIj/xLLBKaCLjqGM085Th7CAgPsldn9Six8KAeqGYvT+FB9uqsHiUWHtQD1ezlKTzIXp3Vo8SueFC1IqUZShQAGXxRFkVKPeiV3TyD/MiuJFLyahBw1TFW82y5Jz0ICA/SUxfNLInwoJnop+fZwoP01EUzSyI8aCb66Xm28CA9ddHMkrjiQav27Tt6tKm48kgaW4uUZgLAzxZFCiMhv0BAFCnF5oGrjrHYKGZfeuFB9uvQhQTCAxcoZj8P4UH269CFBMIDFyhmPw/hQfbr0IUErnhQYpHSMmG86l7lrj0uhKomD1GkVINafu8RRUp+6zaJZK46xiTPkjTpRUB4kN66aWTJhAeNRDu9zxIepLduGlky4UEj0U7vs4QH6a2bRpbMFQ9KFCmwSOnevbtq1apVYmezjRQ67FmsSDl46ICwyxJXUAR+ve2dgkpebLFddYzFRjH70gsPsl+HLiQQHrhAMft5CA+yX4cuJBAeuEAx+3kID7Jfhy4kcMWDgCIFu/Z01+VLumuPC2FqyUMUKbWgl997RZGS37qNk8xVxxj3DLmWfgSEB+mvo0aUUHjQCJTT/wzhQfrrqBElFB40AuX0P0N4kP46akQJXfGgRJGCpT2vvvoyXKaoyZN/boQczp4hFinOoMxFRjdudWIu5BAhBAFBQBAQBAQBQUAQEAQEAUFAEBAE0oWAVqTA0SwClva8+uorCpqUyZMnz4jMyL+iSMlIRTWomKJIaRDQ8hhBQBAQBAQBQUAQEAQEAUFAEBAECoZAiUUKFCn9+vXTEIwePTrVULze8ceS8o0e8ETJuZwUC4FlT9yyRGDhQwkchTl5//33taydO3cujMwiaDkCwoNyTIoYIzwoYq2Xyyw8KMekiDHCgyLWernMwoNyTIoY44oHM7c/JiuUlokTVN++fTWeokgpIq2yK7MoUrJbdy5L7qpjdFkmyavxCAgPGo95Gp8oPEhjrTS+TMKDxmOexicKD9JYK40vk/Cg8Zin8YmueCAWKWmsXSmTNQKiSLGGLJc3uOoYcwlOgYQSHhSosmNEFR7EgFOgS8KDAlV2jKjCgxhwCnRJeFCgyo4R1RUPSJHSkVykePTfDB8psEjB9sdikRKDvlxKHQKiSEldlTSlQK46xqYUXh7qDAHhgTMoM52R8CDT1ees8MIDZ1BmOiPhQaarz1nhhQfOoMx0Rq54IBYpmaaBFJ4REEUKI1HsX1cdY7FRzL70woPs16ELCYQHLlDMfh7Cg+zXoQsJhAcuUMx+HsKD7NehCwlc8cD3kYJCjf/b2axH/lLGjBnjopx1y0OczdYN2kxmLIqUTFab80K76hidF0wybCgCwoOGwp3ahwkPUls1DS2Y8KChcKf2YcKD1FZNQwsmPGgo3Kl9mCseaIsUc/tj2bUntXUuBYtBQBQpMeAU6JKrjrFAkOVSVOFBLqvVWijhgTVkubxBeJDLarUWSnhgDVkubxAe5LJarYVyxYOZS3uMXXvyYpECOX755RcN7jzzzKNat24dCvSff/6ppk6dqmaffXY1xxxzhKaRyHQjEKdIMXlgSjH33HOrWWaZxYyS4zoj8M0336hFFlkksi3W+vi4jtHkQZK6//XXX9X06dPVnHPOqWabbbZaixZ7f71xiX343xdNfDg9+kz0nZWCi/JPmzZN/fbbb0764TgemLLgmR9++KH6448/VKdOnRR4Ue8QJWdUfL3LE8wfPEB9fvHFF7ougEtWx8U4Hph8T1N/8Ndff6kpU6boPgd9j4TaEUjCA/gGnHfeeSMfxu0TY0GwXlz0f5EPlgvOEEjCg+DDovoG5kOe3xsgY6PHxyD+cefVtrs4HgSfh74YfXJYuw+mlfNsIWDDgzjJfGezSMRLe3Ds0tns9ttvr3baaSdkqy644ALdMPVJDf8kWdrzyiuvqA022EA/5fTTT1dnnXVW6BMvu+wyddxxx6nevXurRx55JDSNRKYbgThFiskDUwq8IK6zzjpqq622UieeeGLdXu7NZxb5+MYbb1SHHnqoxvzVV1+tCxRxHaPJg6OOOkpdccUVkWV499131eqrr67wsoW+4ZJLLolMW+uFRuCSpIwmPmZ6vFysuOKK6rDDDlP77bdfmVLJVfnPOOMMdfbZZ6tdd91V3XXXXWYRrI/jeIDMPv/8cy3LiBEjtBIFcVAarbTSSurKK69U3bt3R1RdQpScUfF1KURIpuD6tddeq7kOfDhgArnKKquoU089VdcNx2fhN44HJt/T1B/ccMMNup/cZJNN1HPPPZcFmFNfxqQ8+P7771WbNm1C5Tn++OPVpZdeqrbYYgv19NNP+2lc9X9+hnJQNwSS8sAsQNQ8sdn9tVlG18fNHB+TylJLu4vjgfl8fGBZfPHF1Y8//qg/tPB9Zho5zi4CXJ+dO3euSYjQpT3QzJsTqWqfgAnYnnvuqbbeems/i//85z/qzTff9M+rPUiiSHn55ZfVhhtuqB+BLwjvvfeeWm655coeicERg+Q222yjHn300bLrEpF+BOIUKSYP2rVrp18EoWkfP368L9hee+2lBg4cqGaddVY/Tg7cItC/f3/1f//3f2rppZeumw+muI7R5AG+In300UdqmWWWCRVyu+2285Wqxx57rJ5AhyZ0ENkIXJIU08QHkwf035MnT1Y//fSTf/sBBxygbr75Zv8cB67KD2X3Oeeco3bZZRd19913lzzD9iSOB6NGjVKbb765wksTAsYETJZHjhypz2GlBoXCwQcfrM9hrYj0UDQMHTpULbTQQjq+2n+i5IyKr/Y5tvdBiYWXA4SFF15Yde3aVVsIARd8lUOAwuHiiy8uU6bpi47+cYl3HA9MvjeyP6gk3/XXX6+VlhtvvLF6/vnnHaFa7GyS8uC7777T3A9DCwp1fHRDXzB8+HA/Sa39XyU++A+Sg5oRSMqDJPPEZvfXScGw5Zft+Ji0HK7T1dLu4nhglhPvg9tuu60fhXdI25duW/z9h8lB3RFIyoOKBWnfroPHf6RA8chHinfyySd79FWw6r+DDjrIe+ihhzwalGjuWRouvPDCqvM1y7TMCb0886/0KTPOXnrpJbh/8f9IURKWzKOvzTpN1PXQmyQyVQiYXMCxGUwemJykFwTv6KOP9vlBL0/mbQ05RhnQJm655ZaGPK+ZD6EldB59Bfa+/fbbuhWDBjoPf2HB5AH6BVLyhiXzgulIkRKazlVkI3BJUlZTbm4nZNLqvfjii96WW27pt5O33367JDtX5T/ttNP0M0iRUpJ/NSdxPOjbt69+DinXPbQ/Dl9++aVHy1j0NVKucLT3888/+7KT8tWPr/YgSs6o+GqfY3Pfww8/7GH8R7sAPqQ48W/H8d577+1jcMcdd/jX6nHgEu84Hph8b2R/UEm+6667TmNNipR6wFvIPJPygPu9MJAwDoAnpEgpuVxr/1eJDyUPk5OaEKiGB1HzxGb21zYg2PLLdny0KYvLtLW0uzgemGU0xz20ffrQYF5OdGyLf6JMJZETBJLyoNLDSnykTGiZoPr166u/vNWyaw++ZOHLc1holkUKrGwIDPXggw+qHXbYoaRoSSxS8GX2hRde0D5X8BV77bXXLskDJzD/Gjt2rJp//vn1l248jzph9fXXX+uve0suuaR/DywisLwBpmNYQhBlTgptJsx7kdcaa6yhzcz8TOTARyCpRQpNlMq+OLH1wW677abuvPNOvx4XWGABbT2BOqKXSbXeeuuV+VCATwdcgy+NjTbaqOy6X8C/D7766iv12WefqdVWW03zYv3111fwxYEv/fjSC/4keW4j+eiK15zPfPPNp5ZddlkfGo7ndoML0BRjeSG0/2Za/6a/D4J4sh+ksK8G5hdo9AcIpBRQq6666t+5zfjZdNNNS74Ex1mk2NRDVL2y/C5xqabfMPEJtpN33nlH91NA6L///a/af//9fcyiyu8noIMk7STJF74k+eC5cV8a1lprLW0Vue+++ypSYCK5H2699VaFeASsDYelAizXYB2A8MQTT+g+eNFFF1X4ahkMSXCPkjMq3nyGC76Z+eF43Lhxup3B8gjLSZ599lnF7cNMiy/xuIYvdEOGDDEv+ce1lq+lpcUK70p8iOOByXeWt979Afq0SnwKs0jh/hD+asKsav0KkINQBJLyINjvmZlFWaRU6v9Q35gH/vDDD6p9+/Zq3XXX9X2sJOGDWYZKfEdaLk/YePPpp5/q7LCEMejn5ffff9dWmmgL3bp1Mx+bm+NaeBCcJ7rur6uZ/1Qab2z5hYq2GR9XXnllhTaDMQSWmuY7DvKCD5MJEyboOXeHDh0Q5YyfzHOeN/H7Fp5Rid/sGzFsnoj7EdAeFltsMUWKEHXeeeepf//736HLe7gcYe3Ndjyb8WT5t1EIxPUHVmVga5R2ZJlCLyHaGqVWixRoaklR4H388ccevq6cf/75xPEZoRkWKdQYPJoc668JSy21VMnXNpQqziLljTfe8Ohl16MlH/p+Alf/0ouwhy+YZuAvST169PBuuukmb4kllvDvocHJI7N1jxqnR74GPGr8/jUcP/bYY2ZWHpmdezRh9eaaay4/HZ6Ne2kwLUkrJ16JdVJSixTGDZwEtjTJ0VFcj+TbxyPzQb+u6MWKb9FfqVE/+KrNnCCHjB7qngYPPx0f3H///R4NMn5a8IHvo5c3j5aZ6LaCuLjnNoOPjEetvKY1rVpmmkgyLPrXzJ9e0j16QfWxAR60nKAkPU6i8IzTMPMXaLRlUprpZ9Cyw5K8aemGjqelLfrLI54fZpFSTT1E1atLXGrpNxgfyEyToxJcaLLg0eRDY0P+S0quRZUfifA1Jmk7ifvCZ5MPnhvHA1KIajnIXw+SlgSMW6Q00n+wxCAfSjotMDH/SJFUcp8N7lFyRsXjQS75VlJwOiHlsZaNlEZ6zA5e5/P//e9/fjpS/nK0/nVVvqR4J+VDHA+Y743sD5LIx/0hLFIwjwj2h4cffngJ9nJSGYEkPAjr98ycoyxSovo/WPMdccQRZXNHUsJ69EFPZ52ED0iYlO9Iy/wJG2/I35Vuw7fddhuSlgRaTqmv0Uc9D1/78xhq4UFwnui6v8b8Kun8J+l4k5RfZl3bjI+4D+81aDv0gdrMRh+fcsop+to///lP/1ocP2mJrU4fZvXI4xQtO9X8DLY7Uip5Se+P4wEXFKsqIBesUzEXIKfD+hz3miFOnmrwN/OW4/oikIQHSUpAGvKONFDPWN6DlzsXS3uwBAcNh5finHvuuX5ZmqVImThxorfgggvqhkBO8/zy4CBKkYLBhCcxZIHiXX755dq0q2PHjjqfnj17luTDDQoTM2AJRQr53vC6dOmi05PPAY98tuhjmJDvs88+Xtu2bfU58sQknsOOO+6o40njq5d+nHnmmR4GODRssl7gZPL7NwLVLO1h8Mg3gMZ1hRVW0FFcj3ixAN6kadcv1WzWT9YnHtcPOEUOOD0sZ6PdaHR6smgoqUtyTOchL9Q/+IABAIMm8sb9/NJa6bnN4iOXq1ZeBwc+xj+YP3DcY489PLQ5YIQ/+hLOyb04POM6RvPFib7M+RNczhv1SlZf+nnkiNajL1D6OKhIqbYeovjkChcAxLyspt9gfIA3c5JB5zqCsh2TODNEld+2nURNTG3zAT/ieIAxDjKiPq655hoPLzxRgSwodftmHmI5GJTZgwYNKrnFBvcoOaPiXfOtpOB0Ql/aNB7gfjXBZfmS4G3DhzgeMN/RrzWqP0giH7c15hxeHKD45b4J8eSjo5qqKuw9SXgAXIP9ngmYrSKFLJ11u8IHFvQZAwYM8JXz+ACDOWkSPtjwHeVl/oSNN+i/ICdt/mCKpo8xj8G1oJK4LGGGI2rhQXCe6Lq/5vlVpfkP4E863iThV7A6bcZH3FutIiWMn3hnBAfDll1j7oxr/P4TNu9Ien8cDxgPzEHxvBNOOEFH/eMf/9DnZwSW98S1t2rw5+fLb/0RSMKDJKVQsEiBIgV/ePmHNUqtFimsQOHfNChSAAbtxqAbAga2Tz75xMcnSpHy2muv6fQY9GgJgZ+eluToeHR8tOzDj+cGhcZ35JFHehgAEcjc2YNVDOLxZ37RJce7fjy+hCLcfvvtOg4WDLiXA9Zq4kUGX4Yx8ZMwE4FqFSmoP1qKpvEm55I6Q7MeMbkw6wAJBg4cqNOj/mFJwgGKFrY0IlNAjtZKAdQ78jIDK+mgaUeo9Nxm8dEsVy28Dhv4gnKjDvBihoBfKASAHfokDjzAheEZ1zGaL07IC192kTe+wCDwFzlYrcFyLEqRUks9hPHJFS619huMDzCBz54HHnjAI8eyHnxHQQmIeHLKrbEy/4kqv207iZqY2uYDfsTxgBype7Q8U8sDmdAOMVlC/xoW8DUY6fDHylQznS3uUXJGxbvmm1l2HMNiCLJhvK4muC5fJbxt+BDHA+Y7+nGERvUHleQz+1tYTXF/iA8tUPajrvCyIyE5Akl4AFzx4gNfaWF/m222mcY+6CMlqv+j3QB1+gMPPNAv6C+//OLhoxnmlLRDpI6vxAcbviNDkz/B8YaW5Oky4cs9vuBzwFwVVpjAgMvF1/L0m5QHQYVa2DyxHv11kvmP7XhTiV/B+rUdH6tVpIBrQX7ec889moNBqyj0gfwhmRzA6iKHtbuk98fxAJmjbfBcnhx+6+dhToQy0w52+pz/iWtvSGOLP+crv/VHoBIPkpZAW6Tw8p68K1LQGMkfiW4McJ7IIUqRgsEFL1SmpQjuwTmbuZsv0tygaN2dr0ThZ8DMEo0Qk/xggMWDOYBh4MU5rHeCgQfnq6++Onip0OdJFSnohGltvIfOkda4essvv7zGGnhjkoHA9UhbvvqTWBNcWJ8gPStezGuwHMI1c8kIv7Tdd999ZlL/SzdrvCs9t1l85HLVyuuwgQ+AxOXPLzf4GsEhDs+4jjH44kRrd31TUAzAtK5W1x0mrghRipRq6yGKT65wqbXfYHzA37A/KJzwIhAMUeW3bSdRE1PbfMCPOB6g/Kh7KBCgmDZlhYxBs/dKEyFb3KPkjIp3zbdg/fGSQ1imVBNcl68S3jZ8iOMB850VKY3qDyrJF9cfQrECvpr9YTV1VrR7kvDA7AfijpMqUrDUAfnAeXac1VslPtjwHfXK/AkbbzCf5fkmli5wwNI8lJX8dOg5L8fn7TcpD5LME13312Hzq7D5j+14U4lfYXVsMz5Wq0gJ4yeWjPISGvJJ6RcNx+An+SHx+Rk270h6fxwP8FAsHcfzsAyP2y6Ua/zeh/s5xLU3pKkGf85bfuuLQCUeJH26tkgxFSmulvawNQp+02KRAlDwEg2FERrJvffeq3GKUqQEQSRnYR78ZGApAKxakMe7777rJ+MGFfQBgQTQvCI9OSzz0/MB1uDhGhovAi//wcSWnBuW/LEi5aSTTuLb5ZcQSKpIAc7BP3SO/PIMMOPqEdfhMwd5kFNAnJYE+LrBNXx14kDOTHVccFcgfOlHWihfECo9l/Pj30bxMa5cNrwOG/gqyY1leMDI/Foeh2dcxxh8ccKzOX88A3/42sBfgKMUKYw//9ZSD8jDFS619huMD3DAskOYox9yyCF6SQH3mbDeMCfgceW3bSdRE1PbfMCPOB5wveEXloaYCJoKVcjPyk2kqTQRssU9Ss6oeJTBDLXyzcwLx0svvbTmPtazuwi1lq8S3jZ8iOMB850VKZC9Ef1BJfni+ltY5oGfZn/oos7ynkcSHgBXLHmBkirsj62BkipSMN4jT/zBpx5tnRxq0VaJDzZ8Rz3G8QfXWTGDsZsDL1sJ+9DHafLwm5QHXG/mb3Ce2Ij+mvsjs73bjjeV+BVXr0nGx2oVKWHvSSjLzjvvrNuMaXXHOwmZCuSoeVOS++N4gDKwD73gMjcs2wcnzOU9ldpbLfijLBLqh0AlHiR9sq9IKcLSHgYFa+zQGPCyiy+scYqUMWPGeP/617/8L9dmx4rjpIoUNEikD1Ok8CSeFSnsayP4LPPc7FBYriL/JlWkwIEffNvgD358MLkJmvRX6hihFUddBB0EA/9Ro0bpa7hOu2DoKsFyGJxjAGRHwRigWBk3bNgwna7Sc5GoGXyMK5cNr6MGvrj8afcvjZ05kYjDM65jDHtxQh3BBwG3LdNqKE6R4qoeUKeucKm132B8gEXQtBlfqPCSgWvw6zNp0iQUXYeo8tu2k6iJqW0+4EccD7jcwV9s88wWi5ATS5sQKk2EbHGPkjMqHmVwyTfkZwbmeS3bTrssXyW8bfgQxwPmu6lIaUR/UEm+uP6QnTea/aFZl3IcjkASHoT1e2Zutj5ScC8+kvCySOSPl3G0t6DjelzDX9jSQRu+45lx/MH1p556Sj+LnXYiDi+1eL45/iE+byEpD5LMExvRX4fNf2zHm0r9TdI6jhofXStS4PoAXISFDgd84EIcO2lGfNS8I8n9cTyAVQs7rcWHaygZ+Y/bibm8p1J7c4U/YyG/7hCI44HNU8p8pGCghiYQA7WrvzRZpAAc7KrC5o34whOlSMGggkkWGjBtbevBAeUzzzyjX7wRh796KFJ44MQLAXwUhP3Rlsg29Zz7tEkVKcEXxDBgKnWMMPdD3Qe/zCMv2j5TX8OSAd7ZAi+h8LuBezAIYq018wptjC0gKj23WXyMK1czFClxeMZ1jGEvTqgzbv9wbmsGfsEMOpt1WQ94XtSEIA73sAlWrf0G4wOehrUT2sZdcxjXsbsRh6jy27aTqImpbT7gRxwPuNxhv/CHxBYaJ554ok5SaSJki3uUnFHxrvkWlJu/euKreVzAzk1YAoc/c4mX6/JVwtuGD3E8YL6bihTIX+/+oJJ8ce1eFClxDI2+loQHUf0e51qNIgX3fvvtt3ruCMsStuyDz7zPPvtMZ12JDzZ8R4Zx/MF1zDfYHwrmsygf5itYUoHdSfIcXPCA8WlEf+1inK/EL5YnyW/Y+OhakYKxhXcrhYIePlvQNrHjlOnXJ2rekeT+OB6wnxU8M+4PeSBUam8u8U9SR5ImOQJxPEiei+cV0iIFAGG3BjQSeI6G+TqOsdTCDLyEAB6ksQ7cDGxNUA9FygYbbKDLg63QJCRDoJGKFJj2gi9XXXVVWeGgMcc13gEICV555RV/3Sc4hUlUr1699NbKYc6Ko0wem8XHuIGiGYqUODzjOsaoFye0bQzQQV9IUYoUl/UAfkRNCOJwD5tg1dpvMD7gb5giBS/SuIa/wYMHo+g6RJXftp1ETUxt8wE/oniAePhBwZ/pQJxlwS/vbMF+tCpNhGxxj5IzKt4130xZccxOlvHlHBZ1UQF1jrrHJNdUpLguXyW8bfgQxQPIyHwPKlLq3R9Uki+u3YsiJYqd8fFJeBDV73HO1SpS+H78whcJ+4C44IIL9KVKfLDhOzKM449+IP3DVp1HH3209gkF2bEkIu/BBQ8Yo0b01y7G+Ur8YnnwW834yIoUzJeCgfursO2Po+a5yIN3JcIGIbAaBz+x3MYMUfOOJPfH8YCXBuHDApbwBP/Ypxh8LCJUam82+OsM5Z+GIRDHA5tCGIqU9v6uPXm3SAFAcCC05ppr+i8GaKhBRQprRR9++OESTOGwi80166FIYcUO/BQEA3b2wddgc9ehYJoinjdSkcKTkD59+pRBfcQRR2hOYSDggOUCMOkNeznlNPit1CE3i49x5WqGIiUOz7iOMerFyawD8zhKkeKyHvC8qAlBHO5hE6xa+w3GJ+qFAhZYuIY//poaV37bdoIJC/I2HTUjf9t8wI8oHsBKjLddvOGGG5B9WeBxgS1SsByPvyQHlwHiZlvco+SMinfNt6DA48aN07uIAPt11lnHd65npoNyAcshkcbs25DGdfkq4W3DhygeoNzM96AiBdfCgqv+oJJ8ce2eX0xkaU9YDUXHJeEBuB03RtsoUjC/hKUW/PAFrTx233133Y7wi1CJDzZ8R35x/MF1BCzTgLx4KeTy3HHHHTMu5vhfFzxgeBrRX7sY5yvxi+XBbzXjI3wFgkv4OBEMUKDgmq0ihZX2+JjRo0cPnQcsRcwQNW9Cmkr3R/EAHwhY0YmVAGEB78eQiZf3VGpvNviHPU/i6odAFA9sn2goUrD9cetcb38cBAfbGPMEGQ0jqEjhdXnQPHPAV1n+QoB76qFIefzxx3W5UDaYXnL48ssvtXkbnms6R+XrRf5tpCIFiizmjeknBV/CoTBB/WCrNA5dunTRcby+Eo6zsM0i6tBUiFXqkJvFx7hyNUOREodnXMfo6sXJZT2AI1ETgjjcwyZYtfYbjA/4a75QwPQb647Zl0yHDh2Y2vo3qvy27QQTFzy7bdu23sSJE/1n2OYDfsTxgPtvPAeOwzng5Qc+DbhtP/nkk3xJb5GMsl100UV+HB/Y4h4lZ1S8a75xuc1f/roKGbFTBMY5DjhmBTGuB1+46lE+3ho+DG8bPsTxgPleqyLFVn7gGidfXLsXRQqz0u43CQ/AbbPfCz7BRpECxSMvyenfv7+fFeKxWwmedd555/nxcXyw4TsyjOMPPxDl4C/rKAssrPHlPO/BBQ8Yo0b0167G+Th+sTz8azs+8tIb9KP8PoR2xO0F/LJVpICL2CIc9+IPyg1eKs/ljJp34Hql+6N4cOedd+rnYakbXECEBVZColzIJ0l7s8E/7JkSVx8Eonhg+zRfkYKdezCBhM+QIlikMFDswRyNIqhI4Y4AL8f4GgcLBGwPxwMk7uGOA/nFNSibF07khV15kD/qBJpePBtOHhGHAdBcK4j0RQ+NVKQAa57Qoj46derk8cs9zsEpM7z//vu63nAt7A91CyunOP4gv2bxMa5cNryOGvji8g+bSMThGdcxunpxclkPqFdXuCCvWvoNxgcchdUGJjK8hJF5i2Vpr7/+Oh7lh6jyI4FNO0HdsaUfnj9gwAD/GTb5gB9xPMBWimYfDsXQWmutpft2lhNmxOayu3333ddvu9gm23wJQiFtcI+SMyreNd98UI0DLGuDA3OWHxNXmDbjj7/QYSw666yzjLtmHNajfJXwTsqHOB4w32tVpNjKD9Ti5IvrD1lusUgpo2FsRBIegPuuFCkoDCzakCf6MvhFO/jgg/VcgeNQJg5xfEAarnfcW2m+Eccffh5+uXzIM2xZhpk2L8cueMBYIK+w8cq2P4irr7D5D55vM94gfSV+IQ2HasZH3nkU70pQFEIRAV5hbMWvrSIFZcG8GPfiL2gFietx845K90fxgJcUbbLJJsgiNOCDC88fsLwnrv44Axv8+R75rT8CUTywfbKvSGnXdubSHihTXDmaRT6mRQcmYi7yjntxZhBgIYBGuMQSS3BU2S8GzjZt2uh02267bcl1vNxivTx3lvDkDC/OY8aM8bX55ppymIrjeXAqFgy897u5rSan4S8UpkdqTGyBFawY2MoBE9oddtih5Gst51H03zg+MA9QN9ias1KIq0e+F50p6gcOSjFo4CVjjTXW0BMe8MYMqDM8G5MVbGeNXXpuvfVWvb0s1y3WglZ6brP4GFcuG17zF5xg+4jLHwMVsGMzaOAah2dcx8g8wMQ2SeDnHH/88SXJXdYDMnaFC/Kqpd9gfIC3+QfH3HgRwATRXNKD5yFElR/XbNoJ0sMkF7tboa81dzizyQf1FscDPGfs2LFe7969tfNnlhVtES8psBYLBjjZ23vvvb1ll11WYwPem8EW9yg5w+Jd880st3mMr9T/+9//PPZ5wrjg4wF2scAyhbBQj/JVwjspH+J4wHxvdH8ADOPki+sP2TGw2R+G1YnElSKQhAfge9z8AOMA0nTv3r0k86j+DxzF3NfcZQV9DJST8JVihjg+IF1SviNtHH9wncNrr73m9/OmBS1fz+OvCx6YuNS7vw6b/+D5tuNNJX6ZMuHYdnwcPny4rzSBYhpjOMYSWGOhzeA9ikNSfg4aNMjnJ3AOhqh2x+ni7g/jAT6c8DJVOByPC6wYwTLiJPLY4h/3bLnmDoEwHlSTeytYohDR9cx5woRxiqxRcKpGjx6tf9P6z+sdfywp2ugBT5ScuzyhNW6KtqVTtPOKooHQZdaJ8qKtRhU1REXaXUUv7YnukUSNQ4C2zFTU+BRZDJU99OOPP1Zk+q1oJ5DQNkX+FRRp1tV+++2naKlP2f1hEc3mY1iZGhVXCU+yRtBFoa3z6l6ktNdD2vqNuHZiU1lx+TA/SMGdmAe0jEjRC5RaZpllFFnh2BQlNG29cG8k38iMWtEuTYqUDLrvIkVxqKxmZCPLZz43jg/SH5hIFfe4kTwIokwKStXS0qLQpjp27FhzHxPH9+Cz487J55Wir/6KrA4V+kDafSwueS6uNZIHjeoP6zXecIXbjI/0YVrzab755uPbU/nbSB6kEgAplEbAFQ9EkSKEEgTqiADtiKFomYCiJRGKLJkUWRX5T4PyhTTaipaHqX//+9+KtPf+NTkIR6ASnh988IG+sRGKlPASSmwzEWB+0JcG4UEzKyIlz3Y1UUqJOFKMKhEQHpQCB+UOOdVWtHmBnp+Qb4jSBDk9Ex7ktGItxRIeWAKW0+SueNCqffuOHn1OF4uUnBIlr2Ite+KWiUSrp6VSkgLgawEtLVNkNqhoNxJ12GGH6S8/5MBRkbmiwosflCvk+Fh17do1SZaFTlMJTzKF1fiIIqWYNGF+vPXWW8KDYlKgRGpXE6WSTOUkcwgID2ZUGT7ekA83Rf6BFKz3EGiZkVaqzEiR73+FB/mu36TSCQ+SIpXvdK54UGKR0jJhvOrbr69GTpb25JtAWZcuK4oU4AwlCaxSaNelMtjxwn/ZZZcp2uKt7JpEhCMQh6dYIoRjVqRY8INNi0WhVqSaL5fV1USpPGeJyRICwoMZtUW+VhT5sNAn5A9Czz2wvLgoQXhQlJqOl1N4EI9PUa664kGJIgU+UmhrVoX10KJIKQqVsilnlhQpQBgTGCztwVcg2lZNkQNP7XOHHM/p9pbNWmheqaPwhE8HBHmBbl7dpOHJrgbINMgiZageAeFB9djl6U7hwczaxFJi+IJafvnlm+Lzb2ZJGn8kPGg85ml8ovAgjbXS+DK54kFAkTKenM2KRUrjq1OeaItA1hQptvJJ+uoQcNUxVvd0uSstCAgP0lITzS2H8KC5+Kfl6cKDtNREc8shPGgu/ml5uvAgLTXR3HK44kGJIiXLS3uaWx3y9EYhwD5PkipShux/SaOKJs8RBAQBQUAQEAQEAUFAEBAEBAFBQBAoAAJakaL3PyZheftjOKTCMoQ0h+D2x2kuq5TNHQKiSHGHpeQkCAgCgoAgIAgIAoKAICAICAKCgCBgj0CJRQoUKez0Euso0xzm2Xu1NBdPylYnBGwVKZy+TsWRbFOGgCtTvZSJJcWxREB4YAlYTpMLD3JasZZiCQ8sActpcuFBTivWUizhgSVgOU3uigcztz8mK5SWiRNU9+7dNWSiSMkpczIuFitGki7t4fQZF1uKnxABVx1jwsdJspQiIDxIacU0uFjCgwYDntLHCQ9SWjENLpbwoMGAp/RxwoOUVkyDi+WKB5m1SGG8B98+SB9279GTo+S3AAiIIqUAlVyFiK46xioeLbekCAHhQYoqo4lFER40EfwUPQHyj60AAEAASURBVFp4kKLKaGJRhAdNBD9FjxYepKgymlgUVzwgRUpHcpHi0X8zfKTAIgXbH6fdIoWxF0UKI1GsX1GkFKu+k0rrqmNM+jxJl04EhAfprJdGl0p40GjE0/k84UE666XRpRIeNBrxdD5PeJDOeml0qVzxQCxSGl1z8ry6IOCqQdSlcJJpwxAQHjQM6lQ/SHiQ6uppWOGEBw2DOtUPEh6kunoaVjjhQcOgTvWDhAeprp6GFc4VD3wfKSj5+L+dzWLXnpEjRzZMmFoeJBYptaCXn3tdNYj8IFJMSYQHxaz3oNTCgyAixTwXHhSz3oNSCw+CiBTzXHhQzHoPSi08CCJSzHNXPNAWKeb2x1nZtYerXRQpjESxf101iGKjmH3phQfZr0MXEggPXKCY/TyEB9mvQxcSCA9coJj9PIQH2a9DFxIID1ygmP08XPFg5tIeY9ce1xYpc8wxh5p99tnV5MmTnSMfpUjhZ80111xq1llnDX3u77//rv744w/VunVrNc8884SmcRk5bdo09dtvv2ksgIkEdwi4ahDuSiQ5NQMB4UEzUE/fM4UH6auTZpRIeNAM1NP3TOFB+uqkGSUSHjQD9fQ9U3iQvjppRolc8cB3NgsheGkPjmt1NrvIIouok046Sa255ppqlVVW0cqML774Qr311lvq4osvVp999hkeU3MIU6RMnTpVtWvXTv34449qv/32UwMHDgx9ztprr63eeOMNtdZaa6nXX389NI3LyDPOOEOdffbZatddd1V33XWXy6wLn5erBlF4IOsEQP/+/dXEiRMjc+/Xr59q3759yfUvv/xS3XnnnerVV19VaNPrrruu6tOnj1pttdVK0pknwgMTjfQdV8ODn376Sd14443qtddeU99++61acskl1eabb6723nvvSCW58CB9dY8SffDBB+q6665LVLgtt9xS9e7d208r/YEPRa4OXnzxRfXCCy8o/M4333wK9d6rV6+y8YCFFh4wEvn6HTVqlLr33nvV22+/rfCRE+P8NttsozbddFNf0Fr6D2Qi44IPZWoPbMb7auYTwoPUVn1JwWzHBb4Z4wPetadPn651DdBFRAVn/UH7dh28dn//0W49Xs+ePfXfYost5lX716lTJ+/DDz8kw5bwQJNhb7PNNqs6f7NcTw170sNfMJx77rlYseSRNYo3ZsyY4GVv6NCh+jrSPPTQQ2XX6xFx2mmn6Wfusssu9ci+0Hm+9957Hv4kpBOBxRdf3G9vaHPBP1JklhScfDR5bdu2LUtHFmbeI488UpLWPBEemGik79iWB2+++aZHA2EZD8Cfbt26eZMmTQoVUngQCkvTIzHWBtt+1PnJJ5/sl1f6Ax+KXB0cddRRoXwgK2HvqquuKpNVeFAGSS4irr32Wo+stMu4gHcS9AN//vmnlrPa/oNBknGBkUjnr+14bzufYKmFB4xEOn9txwWWAvW6wgor+P3Ip59+ypdCf13xoFUH2v54oYXbqDlp6c0bb72punffoubtj6+88kptdUETJG3xcfPNN2sNMykQ1NZbb41o9eyzz6rddttNH9fyT5hFCvL75Zdf1DLLLKO+++47ddhhhynqqEses/HGG+svIOuss47+0llysU4np59+ujrnnHMUcLj77rvr9JRiZutMs1hM+OoqNfVgejkbltBdfvnloc9Cm1h44YX1NWiS0XahWV5uueXUeeedp5feXXDBBbrNzjbbbOqrr75SNIiW5SU8KIMkNRG2PIBFIQ2Kug+HhSEpojUfhg8frq6++mq9VDSqLxUepKbaSwpCHzXU/fffXxJnnvz1118K1mkIl156qTr22GP1lyXpD0yU8nF86qmn6r4d48IJJ5ygtt12W/X1118rzBfRxhEwT2SLBBkX8lHvQSlQ5x07dtTR4EDfvn31+8I999yjbrjhBh3/5JNPKvrIq6rpP8znybhgopGuY9vx3nY+YUorPDDRSNex7biA0sNSbdCgQXrOAPcZHEiRopZffnk+Lft1xoNVVu7k9eq1ldejR09vlllm0dYo5HC2JmuR0aNHa+0PmWh5HTp0KMlrwoQJ+hopOrwlllii5JppaZL0OMoiBQ8ZMGCA1kxB0z1u3Dj9XPxDg7OvsaIO2o83D37++Wfv0Ucf9WgJjjdixAjzUujxlClTvMcff9x77LHHvJaWltA0YpESCouTSFeaRSeFkUxKEPjhhx90e0NfkCQ88cQTOj36I3yB5ABLNv4CcdFFF3F0ya/woASOVJ3Y8uCUU07RPCAFmxf8soD6p1HRI6Wah3yDQXgQRCQb54MHD9b1uuCCC3qYPyBIf5CNurMpJSlFPLRrtOFjjjmm5FbMpWDVjGvrr7++f0144EORqwNa6qfrGl+SwQszrLrqqvra0UcfbUZHHof1H2ZiGRdMNNJ1bDve284nTGmFByYa6TmuZlygj6q6j8B4gb/11lvPPw/OG4OSuuKBWnmlVbxePbf0evbopZfB1Lq0h9ave/RVSZeXrC7KFCWI40DWIGXXkypQOF2cIgUDMi8PoC9b/FitLALgm2yyiR/HB+QzRQ/eWBLEFYNfWq/p0RdyTub/fv/99x5p0T0sOTDTkxWMR5oxPx0ORJFSAofTE1cNwmmhJDONwMcff6zbxhprrJEIkX333VenR4cYDAcffLC+tvrqqwcv6XPhQSgsqYi05QGbaB533HFl5ac19N4tt9zikf8rD31wMAgPgoik/xzzBn6BxljJQfoDRiI/v2ifPF+itfBlgr388sv6OpZ2kG8tfV14UAZTLiLQv4MLO+20U5k8PGcmS/aya8GIqP7DTCfjgolGuo5tx3vb+YQprfDARCM9x9WMC1CkzDnnnGQM0kO76cB7Oo8tDVOkdGjf0evapZu31pprexi0UBgoU1hRUc0vOQL00PF17ty5LB8eNLHmcamlliq7bvu8OEUK6IF1tgB17rnn9r755huPHBb6ID///PMlDEKZyIRcXydHtB4tQ/DIaY1HZoc6DrgEw4477qivrbzyyt6FF17onXnmmV6bNm103AEHHFCSnAcFMkcviZeT2hGQjrF2DOuVA9o82uBWW22lHwFrNDLF82jHrNBHbrTRRjo9vlAEA39xWmCBBYKX9LnwIBSWVETa8IDMvTUHwBsot22D8MAWseanx0cW1DftoOfRkly/QNIf+FDk5oCWbfjtm3ZYLJMLXyZ5HnXffffp68KDMphyETFkyBDNBXI275FT+RKZyOmwvkbuAkriw06i+g8zrYwLJhrpOa5mvLeZTwQlFR4EEUnHeTXjAkpuvks0RZFSD2ezUcoQfG1igUHkqHQ28ZUUKfhyCSsZTNDgtGr77bfXx+QZvow5rGSBdgtaLg60a4i+B1YqXH5cu/3223U88jcnA1iOAGdpWJpgasREkcKIuv+VjtE9pq5yfOCBB3Q7oR28PCgo0TbQHmHFBasw2iGs5FErrriivh7mbPC5557T13B/0OILmQgPSqBM1YkND/iLNOqZ1k7rZZZHHnmkByX9DjvsoJdtfv7555HyCQ8ioUnlBbw4d+3aVbdt8pdRUkbpD0rgyMUJlKNo2/jD5DkYMG/j69dcc42+LDwIopSP819//VUv80d9Q1n21FNPaeU5WyDNP//8JUvzw6SO6z/M9DIumGik57ia8d5mPhGUVHgQRCQd59WMC8GSN0eRQhYpUKbgz9WuPWGKEPhDefrpp32ZyaFUQxQpeOBNN93kD8o8OIf5PUFnjAF82rRpfjlxgHMoRXDvRx995F878MADdRwsUYIBX9+Rnpwi+pdEkeJD4fxAOkbnkDrLkBzG+e0PShRYb9FWxv5yOHx5NHftgbUJ2g45jyorA5Qu3IbDltoJD8ogS02EDQ+wMxPXc/fu3f1jjsMvdvMJKuFYWOEBI5GNX3JAq+sY/szGjx9fUmjpD0rgyMUJrBJpq2Nd51CmQ1nKAdaKG264od/msQMjgvCAEcrfL6zFsfTX7N9xvOyyy3pjQnbdDCIQ13+YaWVcMNFIz3E1473NfCIoqfAgiEg6zqsZF4Ilb4oipUOHJWkpD/lIoT+85LhY2hNUpMBBpPnVASZZwTTVnleySAHIUISQ516/k8YXzSQBzoywjTOc02KCh47dnLjzYP/vf/9bO8SDMzT+Y0XKSSed5D9KFCk+FM4PpGN0DqmzDDHgwdEsrFEwSeYwduxYr0uXLrpdwdKAw+yzz67jTH9KfA3tkSdbn3zyCUf7v8IDH4rUHdjwwDTxRH3jSyXteObBIunOO+/Uy0IRv+iii5YpviG48CB11R9ZIHzAgA8y1Ofhhx9elk76gzJIchEBSxPuyxdaaCGPdlLUL874oMfx+MVyaQThQS6qvUwIvDzRTl3acTjqG0v+V1llFf0+Ai7sv//+vp+cspspolL/Yd4j44KJRnqOqxnvbeYTQUmFB0FE0nNuOy4ES94URUpHUqRg1x44m4UipVZns0GFCNY9Yu93DrTdkP4iHUxX7XkSRQqeTVvq+YMz9iqPCtB+/+tf/9LrtM3BnI9NRQq+iHJ81O9ee+3lP0oUKT4Uzg+kY3QOaUMyxE5XaDvwiwAfRQjoMxB34403lpWBl9nhuuzWUgZPZiOCPBg2bJjft4ZZ/JlfsMJ8qEh/kB0qYH6A9oyls1988UVZwaU/KIMkNxFwFo25H+off3hxxk4tWN4By0XEXXHFFVpe4UFuqr1EkN13313XM6zWX3rpJf8altfj4ws4AOfyvImFn+Dvg0r9h5lexgUTjfQc1zreByUJzieC14UHQUTSdW4zLgRL3gxFSisoUlZeZRXqqjz19PCnFJlR06GnyM8H9V+1BXLwqmhnBbXpppvqjLBnMzlaVbTLQm0ZG3cPvn2QPuveo6cRW35Iy4oUWdvoC+TITtHWe2WJyDxQ7bbbbope6BR9AVW77rqronXbOm23bt10elKkKD6mLRoVbdGoaO2+oo6+LD9EYA9rMl3V104//XRFX1U1BvS1PTS9RFaHgLP9wKt7vNxVJQJoi2RVoO9+++23FX2ZVuRLRb311lvqP//5jyKLrpKchw4dqsiRtaKvk4qW4ZVcw4nwoAySTEQEeYAxiEy9ddnJF44ii8ASOVD34A35plL0oqWOOuqokuvCgxI4Un1CL0uKlGGKfCLo+UKwsNIfBBHJ3zm9NKuWlha10korKfKJoQUkKxVFS34UORhX//znP2VcyF+1K/oY4s/Fyeeg2mOPPUqkHDdunCJrVh1HluyKrMBLruOkUv9h3iDjgolGeo4x96tlvA9KEpxPYF5pBuGBiUZ6j5OMC8HS4x7yW6qjyUepfgcPpuFzZzyAImXLOlik4GsCvQz5yqJXXnlFL6+p1vIk6r6kFin4wkHg6T9qZH65zAPes37PPfcs288+bGnPBhtsoPP773//a2YTeSwWKZHQ1HxBNMw1Q1iXDOCcGR738VUxbJtamjz77ZKX/WDHL7RVUmSWlQnLO3ANS4XCgvAgDJXmx9nyAA4Iuc8dPnx4mQAw58aSUXDh0ksvLbsuPCiDJJURjz76qK5DWMOa/sfMwkp/YKJRjGP4zOL5GjuVFh7kr+5N55JY6hsWll56ac2F2267rexykv7DvEnGBRON9Bzbjve284mgpMKDICLZOA8bF4Ilb4ZFitJLe+AjxVjaAz8pUYqLJPFY72z6L4CZFbYQTnKvbRqXihTsIoLB++GHHy6pGzignW222fQ1c2nPIYccouP22WefkvQ4eeeddzz6el6CA7ZSRv6YEEhwi4B0jG7xdJWb+cJr+kni/O+9917dJshCzFdeXnzxxX6cuUsW7mG/RFg3HRaEB2GoND+uGh6wk9nNNtvMX/bFkvAOa+hPoaQPBuFBEJF0nsPpNOowTGnKJZb+gJHIzy+WV6PPh48j+L0KhgMOOEDzAr7tOAgPGIn8/GJ5Lto//vCxMxiwGyZ20cT1UaNGBS9rp/WV+g/zJhkXTDTSdWwz3lcznzClFR6YaKTnuJpxIVj65ipSSJkyS+tZavaRst5663nYE5wDvjjDTwjWQQb/sB2qreIkmN6lIgUOrtApw3KEA7zJwxEm4vFnKlKgIMKaXvw988wzfIuHipx33nl1eqz14sB+Wtq2bRvrPIvTy29yBKRjTI5Vo1NC0Yi2gy9LWAvLu2J9/PHH3nLLLaevYVtyDhMnTvQVl0cccYSvYDGdUD3//POcvORXeFACR6pObHnAXxvBneOOO86bMmWKlgdfr3gbe/jWkW2wU1XNiQuDDw08ruLDQ1SQ/iAKmezGwx8WFCmof/jlmzBhghYGL0jnn3++zwtz/iQ8yG59x5W8U6dOur5XWGEFvbED+0rDWL7tttvqa/CPEwxJ+w/zPpkfmGik69h2vLedT5jSCg9MNNJzXM24ECx9UxUpvf7etQeDWi0WKbC6SBrIf0qqFCnHHnus7rSx1TFw6NOnj4c97PHVhCd8piIFcmJXHlyDMgVKJNxDvlN0HK3T8qZOnerDgcbLli3wQD9gwAD/mhzUhoB0jLXhV8+7aR2iv8sK2gom0FCi8tINKFOCZr3YCYvbHJzQoS3xedyuW8KDetZkbXlXwwNYHnG9w2JwnXXW8bBdNuLQh0KZHRaEB2GopCuOl8biZalSkP6gEkLZu04+Mfy2jfkT+Z7zsHsPt/cdd9yxzMGo8CB79VypxLAuZKsT1D0+lsKCnXmAecKtt95alo1N/8E3y7jASKTz12a8r2Y+wVILDxiJ9P1WMy6YUjRNkQIfKT2MpT1QIgQtP5Kem9v9msKFHeMLc9J8o9IltUjBOnvumMN2+0D5sIQH/lFY2YGvndjGGDv58Itc0LwQX9fPOussbWIIBQyeQU52Pbzs4QtKMJDjNL08AXnjK6sENwhIx+gGx3rlgraw8847lyglsevVP/7xD48cyoU+9qKLLvJ38EG7wgs0LFTYoiXsJuFBGCrpibPlAb5QX3XVVR7Mflnxhv4VVoJDhgyJFEx4EAlNKi68/PLL/ngctjQrrJDSH4Shku24++67z9+dh+dnmOv179+/bDkfSyo8YCTy8wtfKb1799Y7hzIPoDiHsmTEiBFlglbTfyATGRfKoExVhO14bzufYGGFB4xEOn+rGRdYEqyI4T6E/WvxteCvKx7oXXtoSQs9V6mnnh6md+3BMXanyUJIumuPjSzYJWL8+PGK9rNXpBxJfOukSZP0LhLwMk7O8xLfJwlrR8CZ9+XaiyI5VECANMaKBkxFS30qpJxxmTpGvZMW2iN9uYy9R3gQC0+qLtrygKz7FFkuKbJgUqTsjpVFeBALT6YvSn+Q6eoLLTx2cqTlPQo7IbZr1y7R/El4EAplpiPJJ5ru4zF/xvzAZv6dRHAZF5KglI40NuM9SmwznxAepKOOK5WimnGhUp7mdVc80IoUWqOoX2yeHv40KVK20M8psiLFBFqOs4GAqwaRDWmllFEICA+ikClWvPCgWPUdJa3wIAqZYsULD4pV31HSCg+ikClWvPCgWPUdJa0rHrTq2HEpb5WVV1Zk8qKeHv6UWKREIS7xqUbAVYNItZBSuIoICA8qQlSIBMKDQlRzRSGFBxUhKkQC4UEhqrmikMKDihAVIoHwoBDVXFFIVzwosUgZ/szTaostxCKlIvqSIHUIuGoQqRNMCmSFgPDACq7cJhYe5LZqrQQTHljBldvEwoPcVq2VYMIDK7hym1h4kNuqtRLMFQ98HylskQJFCvwQyNIeq/qQxE1GwFWDaLIY8vgaERAe1AhgTm4XHuSkImsUQ3hQI4A5uV14kJOKrFEM4UGNAObkduFBTiqyRjFc8aBVhw5Lep3I2axH/w0nHylikVJjzcjtTUHAVYNoSuHloc4QEB44gzLTGQkPMl19zgovPHAGZaYzEh5kuvqcFV544AzKTGckPMh09TkrvCsetGrfrgO2CiI1ilItE8arvv366kKOHj1a/6b9n0MOPkgXcYm27dJeVCmfICAICAKCgCAgCAgCgoAgIAgIAoKAICAIZBwBrUjRmhQSZMKEcapfv37a8eyYMWMyIZooUjJRTVJIQUAQEAQEAUFAEBAEBAFBQBAQBAQBQSAXCJRYpECR0qNHDy2Y+EjJRf0WRghXJlqFASynggoPclqxlmIJDywBy2ly4UFOK9ZSLOGBJWA5TS48yGnFWoolPLAELKfJXfGgVfv2Hck9Cv73VMvECbL9cU4Jk3exXDWIvOOUd/mEB3mv4WTyCQ+S4ZT3VMKDvNdwMvmEB8lwynsq4UHeaziZfMKDZDjlPZUrHohFSt6ZUhD5XDWIgsCVWzGFB7mtWivBhAdWcOU2sfAgt1VrJZjwwAqu3CYWHuS2aq0EEx5YwZXbxK54QIoUskjRe/bM8JHSvXt32f44t7TJr2CuGkR+ESqGZMKDYtRzJSmFB5UQKsZ14UEx6rmSlMKDSggV47rwoBj1XElK4UElhIpx3RUPxCKlGHzJvZSuGkTugcq5gMKDnFdwQvGEBwmBynky4UHOKziheMKDhEDlPJnwIOcVnFA84UFCoHKezBUPfB8pwGv8385m4S9l5MiRmYBw8O2DdDm79+iZifJKIeuDgKsGUZ/SSa6NQkB40Cik0/0c4UG666dRpRMeNArpdD9HeJDu+mlU6YQHjUI63c8RHqS7fhpVOlc80BYp5vbHsmtPo6pQnuMSAVcNwmWZJK/GIyA8aDzmaXyi8CCNtdL4MgkPGo95Gp8oPEhjrTS+TMKDxmOexicKD9JYK40vkysezFzaY+za49oiZe6551azzTab+umnn5wjFWeRAjl++eUX/cx55plHtW7dOvT5f/75p5o6daqaffbZ1RxzzBGaptZIfgZwmHPOOWvNTu4PIOCqQQSyldOMISA8yFiF1am4woM6AZuxbIUHGauwOhVXeFAnYDOWrfAgYxVWp+IKD+oEbMaydcUD39ks5OelPTh+99138VN1mHfeedX//d//qfXWW0+ttNJKWonR0tKi3n77bXXGGWeosWPHVp23eWOcIuWVV15RG2ywgU5++umnq7POOsu81T++7LLL1HHHHad69+6tHnnkET/e5cE111yj/vWvf6mePXuqJ5980mXWkhch4KpBCJj1QwCK1BtvvFG99tpr6ttvv1VLLrmk2nzzzdXee++tZp111sgHf/nll7rPmD59urr44ovVIossEplWeBAJTVMvfPDBB+q6665LVIYtt9xSLbPMMlbp0XebQXhgopGeY1secL32799fTZw4MVKQfv36qfbt25ddFx6UQZKKiGp5gMKPGjVK3XvvvXou+fvvv6vVVltNbbPNNmrTTTeNlE14EAlNai7Yzg/efPNN9dRTT6lXX31V/frrr2rVVVdVG2+8sdp+++0jZRIeREKTigvV9PMjRoxQL7zwgsLvzz//rNZee221/vrrq6233jpSJuFBJDSpuWDbz9umh6DOeNC+XQev3d9/rVq18uhFX/8ttthiXrV/nTt39kgoMggJD9RhetTZVZ2/Wa6nhj3p4S8svPTSS1i1pP/ICsT77LPPwpJ5l1xyiU5Dg3HodReRV111lX4GLZ1ykZ3kEUDgvffe8/AnIZ0I0KTHIwWI3x65XeK3W7du3qRJk0ILjjpdYYUV/Ps+/fTT0HQcKTxgJNL1+9BDD/l1aNZ92PHJJ5/s2aYPSis8CCKSjvNq63XxxReP5c/rr78eKqDwIBSWpkdWy4Nrr73WI6vhMi5g7op+gyx/Q2UTHoTCkppI2/nB9ddf780yyyxlPMB4ss8++3hTpkwJlU14EApLaiJt+3n6CB7KAfDg0EMP9ejjW6hswoNQWFITadvP26ZnQV3xwF/aQ8TTFikutj8+55xz1CGHHIIs1UcffaTuu+8+9c0336hevXppqw/EP/roo+qAAw7AYU0hziLl5ZdfVhtuuKGfP75a4LnBcOmll6rjjz9ef9UIux5MX8351VdfrY488kgFHzTDhg2rJgu5JwYBZ5rFmGfIpeoQ+PHHHxUpQ9R3332n2rVrp0477TS13HLLqeHDhyu0i8mTJ6tddtlF3X333f4D8MVy0KBBCm3zt99+8+NJkaKWX355/zx4IDwIIpKO8zFjxqj7778/sjB//fWXglUBAup8hx12sEp/7LHHluQtPCiBIzUntjxAvdKkRy+7xdLcyy+/PFQW9B8LL7xw2TXhQRkkqYiohgdff/216tixoy7/tttuq/r27atgkXLPPfeoG264QcfD2hdWv8EgPAgikp5z2/nB0KFDfWsDzO/33HNP1bZtW/X4449ri1f0F1deeaWebwelFB4EEUnPuW0/j/fKnXfeWQvQp08ftddee6m55ppLDRkyRJGiTY8bAwYMUCeccEKZkMKDMkhSE2Hbz9umNwV1xgNYpGirlLbtvVatWmtrFFhNmFYftsf0EqQVPmRu5y277LJ+XtA2fvHFF/oavTx51Pn512yfwemTWqTgiwUB6D344IP6+eY/SSxSyGTMIyWLd9ddd3lkQmbeHnqML+f0YujRsgR9vZJFSlz+0Kq+8847+o98uZQ9j1409TVajlV2rSgRrjSLRcGrkXKecsopuu3Ri44XtCi56KKL9DXyHeT98MMPulhfffVVyVcGWh7onwfvD8ohPAgiko3zwYMH6zpecMEFPVgsVgqV0gsPKiGYzuth9Yp+AWN3hw4drAstPLCGLBU3hPGAlgZqHsBCMfilmZZ16GtHH310aPmFB6GwpCLSdn5AS+R9HgQFoOUc+tpWW20VvKTPhQehsKQi0raf33fffXVdr7766mXl32KLLfQ1rLAIC8KDMFTSEWfbz9umN6V0xQPlK1JIoUJffJws7YEihdYzewMHDixTlLz44otaDigEMDFihUi1v0kUKcibG91SSy1VZvYXp0h54403PFpv55EPB90wMaHDH63L9ZUkZsWQhstbccUVS9LS2l3v/PPP13HBpT1J8gdW5CxX33/HHXeYj9PHd955p76GF9Uo09aym3IW4apB5AyWVIjDS3PID1FZeeiLonfLLbfovuL777/X16FIwVI8tBWYgEMZye1OFCllEGY+gqxRvE6dOuk6JmulivIkSS/9QUUYU5cgql4//vhjzY011ljDuszCA2vImn5DFA8wfmAc2GmnncrKiH4D1/AiHRaEB2GopCPOdn4AJckSSyzhkeVimQAXXHCB5gHGk7AgPAhDJR1xtv08+d7UdU1+VcoEIMtFfW2++eYru4YI4UEoLKmItO3nbdObQrriATlo66h9pEChAqsNvLxAi1etYiPuvnXWWcd/0X/sscecPCOpIgWKHXztxGB76qmnmlhG+kiBUoKWIuh7yIGRh8ZJjnI9Mi/VcUFtJ9ZldunSRV8jx3cevo7QcqYSJYypSLHJf9ddd9X5khljSdlxQiZt+hotlSq7VpQIVw2iKHg1Sk4yu9PcRLuD0jBp+OOPP/ykokjxocjlASz3wA8oi2n5V0UZk6SX/qAijKlLEFWv+PgCfvBXZtqJz8PHGrOPiBJGeBCFTHrjo3hAJvuaB5hbBS1zMc8CR2hJR6hgwoNQWJoeWe38IKrgULaCB7ByCQvCgzBU0hFn28/TxiUebSji0dKwMgHOPPNMzQOsiAgLwoMwVNIRZ9vP26Y3pXTFA22R4trZrKlMWXPNNb2zzz7bQyPBlwYETID22GOPhipS8FwMsuhk4azsk08+QZQOURYptLuITo+v4/hKzoG8hOt4WKmYk7n//Oc/Or5Nmzb+Eibc8+yzz/qOsUxFik3+tA7Yz9u0OsExnge5sPSoqMFVgygqfvWSm/wUaW6CnxjwwFHyFeTRbj0e+cHwaA2r9/nnn8c+XhQpsfBk+iJM9Lt27ao5QmuZK8qSNL30BxWhTFWCuHp94IEHND8wl8AHDVjOoj+h9fDeJpts4sUtaRUepKqaKxYmjgdYKg5LBNT9Rhtt5NGOLVo5z9bG888/vzdu3LjQZwgPQmFpemSt84Np06Z55G9HW7ViswhwAzxAfYcF4UEYKumIq6WfD0rAy8F333334CV9LjwIhSUVkbb9vG16U0hXPNAWKby8x9WuPaYihZzFmeXWx7CqMNPUcpzUIgUPhtIB6+nQ2dIWm365ohQpGNSx9ACdtRlwzh7DyZmufwlyIe8jjjjCj+MDNj8yFSk2+YMsc889t86ftvribD0c45kLLLCALqt/oWAHrhpEwWCru7i0nbjmJzhKjqz9Y5zzH3bziXsZEkVK3aupaQ8gB7SaB1Bujx8/vmI5kqaX/qAilKlKEFev5EjU7yugRFl55ZW9ddddVytS0IfgQ4Ls2pOq6qy6MHE8QKa0aYHHVgc8fuAXX57xQh0VpD+IQqa58bXOD8ydOcEDLOmJUqZBUuFBc+s77um19PNmvuSEVo8XeJ+lDQ3MS/6x8MCHIpUHtv28bXoW2hUPfB8p9Vras+OOO+rOy7SigHICyotaFCh8r40iBeBBA86OZ++9916NZ5QihcHmXzhD+vDDD7WFCW/BZ74ArrXWWroB33777XyL/1vJ2SwSVsqfPFTr/Gl3Cz9f8lyv47C8p8jBVYMoMob1kJ0tqXjSiy+JtKuX99xzz3nw7QOfRbi26KKLliksuTyiSGEk8vULRTJ8TaH+Dz/88IrC2aSX/qAinKlJUKleMcGGPzVYo7AjexR+7Nix/lJaWLiFBeFBGCrpjKvEAyzpwtwHjsnRZ2DsWGWVVbSFEuZ0+++/v/bNFyad8CAMlebH1To/QL1i3g2rcZ5j0I5OJf2EKaXwwEQjXce19PMsCd7v4BcFXMD2x1FBeBCFTPPjbft52/SmhK544CtSsLynHhYprPCg7U69/fbbz/vss898ObbffvualSm2ihQ8HL5E0NDg6wSVEKdIwVcOeAlnZ6/cWfOvqUjhBkxb8Pky8kGUIsUmf+wYhOd27tyZs9UTCcSF7UbkJyrAgasGUQCoGioibfXtT3AuvPDCsmebX6SifKiIIqUMtlxEwJEw+i4skeTd3OIEs0kv/UEckum6ZlOvwZLTlqeaQxifzY81nE54wEik/7cSD2Cmj/4Cy3tgicABy66hZMM1WBzzEnK+jl/hgYlGeo5dzA8gDfwTPvHEE97GG2+sebD00kt7sOIOBuFBEJFsnFfq5yHF888/r5d1oR+APy3sZhoVhAdRyDQ/3raft01vSuiKB6E+UrD8hBUgtr9QTmy22Wb6DwNe8P7tttvOlwMetoPXbc+rUaTADGihhRbSHe7JJ58cqUiBiRjv1oMv6VdccYX3zDPPeCNHjtT3osGaihTsmoM4NPpgCFOk2OYPpQ/WheMZUMDAtwSO55133jLna8Hn5/3cVYPIO06Nlu+tt97y20rYwIY4VkCifYUFUaSEoZL9OLbgg4+DJMEmvfQHSRBNRxqbeg2W+Ntvv/X7FzgfDAbhQRCR9J7H8QA7umGug78wi1/TaSnvDGlKKjww0UjPsYv5gSkNNpVgi/OhQ4eal/Sx8KAMkkxEVOrnH374Yd8qCTt3hc01TUGFByYa6Tm27edt0wcldcUD5xYppn8QKFSCipFu3br5stx0001l14PpK51Xo0hBAa655ho9KM8+++zeIYccoo/hrMoMq666qo6H7xOYnZohbGkPtknGQD+Qtn0OhjBFim3+yBNLpfAMOM697LLL9PFuu+0WfFzhzl01iMIBV2eB8VWI20rYelW0q8UXX1zzOGw7QxRPFCl1rqQmZA+nw+jH4PPC9DMVVRTb9NIfRCGZrvhK9Qpn7hjroGTl7dFNCVpaWjSPwCVz2Q+nER4wEun+rcQDWCuijvGHJV1hAVYIuH7bbbeVXRYelEGSigjb+cE777zjwbodvlDCLI8gFDskvu6668pkFB6UQZKKiFr6+VtuucX/4I13NXMDkCjhhAdRyDQ33raft00flM4VDwxFSnt/aU8tFimmxQmUFUFFiLluDdsQB6/bnlerSEEnjF0AeHDGb1CRwtYf0HaaAT5eeJ2uaZGyzz776Pz++c9/msn18THHHKOvmc5mbfNHRoMHD9b5wFku8kK5sc606MFVgyg6jvWQn53MQrEaNL/nnavAY2xlFxZEkRKGSrbj4CwUdY5t3ZME2/TSHyRBtflpKtWrqWgNG+fg5ww8gjVo8GMHpBMeNL+Ok5SgEg/gPw71jD/s1hMMkydP9r9Ijxo1KnhZeFCGSHoibOYHpmVC2HwBOwPyrl5Y6hMM0h8EEUnHebX9PHZ9ZAskbGwSNgaESSg8CEOl+XG2/bxt+qCErnhgKFLgI6W117NnT/1nq9Dg9Msss4x2mooCQ1kBrfCmm26qtzqFVcakSZN8WaAM4Puq/a1WkYJCYBtjboQYoIOKFDgyQ/xpp53mlxkdNRzb8aBuKlJuvPFGHQ/HV8gbARjA8oafYypSbPNHfj///LM/YUAZsJNP2FpQpC1ScNUgioRZo2Tlr43gK3avwnpmBPAWfpIQDx8HUeaYokhpVE015jkwueb+E18YKwXb9MhP+oNKqDb/etJ65Q8UsDiATwXeRe/jjz/WX6fBJfQjYUF4EIZKuuKS8gBWCKjrFVZYQTv8Z6U86hgORnGtffv2ocIJD0JhSUWk7fyga9euuq4xf37//fd9GVDH//jHP/Q1zMGhdAkG4UEQkfSc2/bzcDzN84jzzz/fShDhgRVcDU1s28/bpjeFccUDX5HCu/ZAkVKLRQoUInAqWynAQ3O1yhPzvloUKSjjQQcd5DfGoCIFGk40VGx1DFz69OmjnRlhhxFuwKYiBdpQVrLA2mTDDTfUMiIt+2QxFSm2+TOmKAc/H0t9JMiLU9o5gB0VmLNoG+uss47ethRxWF4X5leIZRJFCiORj98NNthAcwEvP0mCbXrk6WqATFI+SVMdAknrFS9L2KGF+w9Yn8CalJcMwtQ/armH8KC6umnkXUl5AOtFc3cWzAPhk495AT7ceuutoUUXHoTCkppIm/kBlO/c9uHDsEuXLh4+4DIP8HvttdeGyiY8CIUlFZE2/Tysjcz6Rr8Q9YeVEcEgPAgikp5z237eNr0pqSse+IqUdm1nLu2B0sBUVlRzjEkyBOR1jGxyBQ/rxx9/vF7HWE2+wXviFCkw/UNjw5rJqPDdd9/5L3TBiT2W8GDNHS/jwVdzeIMeQ45el1xySZ130IwUL3277LKLdgCLZ7dr187DFsUY4HHeq1cvvyjV5I+bBw0a5HciWOojQV6c0s4BtH9YpMGMlydBsKaC4nHIkCGxxTcdCcLBclxw1THGPUOuVY8AtifkCVCYaXYwZ9v0fL/wgJFI569tvcKJ5M4776y3SWf+LLLIIvoL9Lhx4yKFFB5EQpOKC7Y8wJr43r17+8s3wAUo5qGMGTFiRKRMwoNIaFJxwXZ+AH9IsELjuTn3CbBWidvBUniQiuqOLETSfv6xxx7z5xFc91G/YZsYCA8iqyAVF2z7edv0LKQrHrSCJQoRUC8+nTBhnCKLCZwqsrTQv7X+Qx2d6tChgyIHQIrWsSpamlJrliX3D759kD7v3qNnSbzLE1pyoMaPH6/oq5gi65REWeMeco6nyNS0Yvpq8q+YacESkDZbS0xbQxdM8uyJO3XqVEVfkBV9SVboH1wG4YFLNLObl/Agu3VXqeT0sULRi5eipT6VkirhQUWIMpkA80mMIeQPQ/Og0rxMeJCdaraZH9CHWs0D8IGskxR97IwVVHgQC0+qLtr087YFFx7YItac9Lb9vG16VzyouyKl3vA3QpFSbxkk/9oRcNUgai+J5NBMBIQHzUQ/Pc8WHqSnLppZEuFBM9FPz7OFB+mpi2aWRHjQTPTT82zhQXrqopklccWDVu3b0xpTj/4naephkVJvkESRUm+Es5G/qwaRDWmllFEICA+ikClWvPCgWPUdJa3wIAqZYsULD4pV31HSCg+ikClWvPCgWPUdJa0rHpRYpLRMGK+69+iun+lqaU+UAK7iRZHiCsls5+OqQWQbBSm98EA4AASEB8ID4YFwgBGQ/oCRKPav8KDY9c/SCw8YiWL/uuJBiSIFFinkDFLRVr3OfKTUu5pEkVJvhLORv6sGkQ1ppZRRCAgPopApVrzwoFj1HSWt8CAKmWLFCw+KVd9R0goPopApVrzwoFj1HSWtKx4EFCnjydmsWKREgS7x6UXAVYNIr4RSsiQICA+SoJT/NMKD/NdxEgmFB0lQyn8a4UH+6ziJhMKDJCjlP43wIP91nERCVzwoUaRgaU/ffn3180ePHp2kHE1Pc8jBB+kyLNG2XdPLIgUQBAQBQUAQEAQEAUFAEBAEBAFBQBAQBASBfCOgFSl6/2OSE0t7+vXrR75nPTVmzJhMSC6KlExUkxRSEBAEBAFBQBAQBAQBQUAQEAQEAUFAEMgFAiUWKbJrTy7qtJBCuDLRKiR4ORJaeJCjyqxBFOFBDeDl6FbhQY4qswZRhAc1gJejW4UHOarMGkQRHtQAXo5udcWDmdsfkxVKy8QJ2tkscJJde3LElgKI4qpBFACqXIsoPMh19SYWTniQGKpcJxQe5Lp6EwsnPEgMVa4TCg9yXb2JhRMeJIYq1wld8UAsUnJNk+II56pBFAexfEoqPMhnvdpKJTywRSyf6YUH+axXW6mEB7aI5TO98CCf9WorlfDAFrF8pnfFA1KkdCQXKR79N8NHimx/nE/C5F0qVw0i7zjlXT7hQd5rOJl8woNkOOU9lfAg7zWcTD7hQTKc8p5KeJD3Gk4mn/AgGU55T+WKB2KRknemFEQ+Vw2iIHDlVkzhQW6r1kow4YEVXLlNLDzIbdVaCSY8sIIrt4mFB7mtWivBhAdWcOU2sSse+D5SgNR42rWnR48eeteekSNHZgK8wbcP0uXs3qNnJsorhawPAq4aRH1KJ7k2CgHhQaOQTvdzhAfprp9GlU540Cik0/0c4UG666dRpRMeNArpdD9HeJDu+mlU6VzxQFukmNsfQ5GCIM5mG1WV8hwXCLhqEC7KInk0DwHhQfOwT9OThQdpqo3mlUV40Dzs0/Rk4UGaaqN5ZREeNA/7ND1ZeJCm2mheWVzxYObSHmPXHo+O82CRAjl++eUXXUtzzz23mmWWWWJr7Ndff1XTp09Xc845p5ptttlK0n7zzTdqkUUWUa1bty6Jtzn566+/1JQpU3TeeIbrMG3aNPXbb7+p2WefXc0xxxyus091fq4aRKqFlMJVREB4UBGiQiQQHhSimisKKTyoCFEhEggPClHNFYUUHlSEqBAJhAeFqOaKQrrige9sFk/kpT04dm2RssACC6hnnnlGLbHEEmrs2LFq/fXXx2NqDnFLe1555RW1wQYb6GccddRR6oorroh8HuRdffXV9bKm4447Tl1yySV+2htvvFEdeuihap111lGvvvqqH297cMMNN+h8NtlkE/Xcc8/Z3l4x/RlnnKHOPvtsteuuu6q77rqrYvo8JXDVIPKESdpkGTVqlLr33nvV22+/rX7//Xe12mqrqW222UZtuummsUX98ssvFbgNJefFF1+sFZpRNwgPopBpbvwHH3ygrrvuukSF2HLLLVXv3r39tCNGjFAvvPCCwu/PP/+s1l57bT1+bL311n6a4IHwIIhIOs5r4cFPP/2kMBa/9tpr6ttvv1VLLrmk2nzzzdXee++tZp111lABhQehsKQq8sUXX9TtG7/zzTefQvvv1auXat++faJyXnTRRer1119XXbt2VaeddlroPcKDUFhSFZmkfdfSf0BY4UGqqjy0MDJPDIWlEJG1tO9qeOOsP2jfroPX7u+/Vq1aeT179tR/iy22mOfyj16gyEBkRpg4caKzvJ8a9qSHv7Dw0ksvYdWS/iMrDW/06NFhyXTctttu66c99thjS9Kde+65+trSSy9dEm97Qi8SOp+NN97Y9tZE6WkSofPfZZddEqXPU6L33nvPw5+EdCJw7bXXemQl5bcxbpfoc04++WTvzz//DC046nSFFVbw7/v0009D03Gk8ICRSNfvQw895Nch133UL/jA4bLLLou8j5TbHinXOGnJr/CgBI7UnFTLgzfffNMji9BQLnTr1s2bNGlSqIzCg1BYUhNJH7hC65Qsf72rrrqqYjmHDRvmYQxBX7LZZptFphceREKTigtJ23e1/QcLKTxgJNL5K/PEdNZLo0pVbfuuhTfoE2oN/tIeGoi0RUo9tj8mJYW6+eab8QgdsEwGXw9chDiLlJdfflltuOGG/mP23HNPNWjQDOe0fiQdBNORIkVdeumlfhIsycEXj+WXXz72a7h/Q8TB9ddfrw477DBFihT1/PPPR6SqPvr0009X55xzjiJFirr77rurzyiDdzrTLGZQ9rQX+euvv1YdO3bUxURf0LdvX22Rcs899yhYaSE8+eSTipS4+hj/QDONtop2iOVqHEiRotshnwd/hQdBRNJxPmbMGHX//fdHFgZ9bL9+/fR11Dn64Pvuu0/tvPPOOq5Pnz5qr732UnPNNZcaMmSIQl9Kg58aMGCAOuGEE8ryFR6UQZKKiGp48OOPPypSpqrvvvtOtWvXTlsdLLfccmr48OHq6quvVpMnT44c84QHqaj20EKceuqp6rzzztPLpdGGMTZgrMBcEXWL8Oyzz0ZaLIIXmEfiHgRSpGirZ30S+Ed4EAAkRac27bua/sMUVXhgopGuY5knpqs+mlGaatp3Nbxh2Zz1B7BI0VYpbduTZr+1tkYhh7POLEY6d+7sff/99yUKn2ZYpOCrBf7eeeedkrLghJbalHwVCVqk4GsX7vv888/L7uUI8n3iPfHEEx40arB8CftSGmaRAm3Yww8/7H322WecVegvmbR7jz76qEdLdjwycQ9NIxYptWsWQ4GVyJoQYN7DsiTYLlZddVXd9o4++mj/GV999VVJe1xvvfX8c7FI8WHK1cHgwYN1HS+44IIemXhr2fbdd18dR0suy2TdYost9DVYUIYF+fIYhkr648J4cMopp+i6Xnjhhb1g+6dlHfoa+TTzfvjhhzIBhQdlkKQiAuMA6pMmtN4xxxxTUibMpTp16qSv0RLwkmvmCS3p0mmQB/7EIsVEJzvHtbTvoJRh/YeZRvoDE410Hcs8MV31kcbShLVvW96YcrnqD5SvSCGFCswpXS/tgXIBgRyh+gqARitSaP20t9tuu+nBltbVmzh6Q4cO1fGLL764R+ut9XFQkULrsnX8uuuuW3IvTqDgID8PZcsWMAEg3w4l6bnCsbTnpptuoiVV7XS+PBE4/PDDS9Lj5I033vCQF2TgdPgl/xJl+YsiRRQpZQRKQQT5HNLc3WmnncpKw5w12yUUKeSM2YNCF4pJtCPmfvBFKpihq44xmK+c1w8BskbxX5zABw4rrbSSrvf+/ftzlP97+eWX62vkU8GPMw+EByYa2TiO4gEv7UM/Egzka8m75ZZbvIEDB5Z9sEFa4UEQsXSco164TyffKGWFIithfR0fvzBfDAayVtPXF1poIY8scfWxKFKCKGXjvJb2bUoY1X+YaaQ/MNFI17HME9NVH2krTVT7tuWNKZer/oAcenXUPlKgUMGghZcXKFNc+EcxFRJkgu2RObaWoRmKFLyAsTKCzEV1OfBVZI011tCDMDmi9bbbbjt9bJYbCaMUKbifTM71PcAL630PPPBAjR0mCSuuuKJ+Dv/DihSeQOCLDBQ8XAbEk0krJ9d+I1jZQg4WPbw8kNNNj5ZJ6GcGv8byS6n4SPEhlIMUIEBLMTRfyXmgN3Xq1JISkVNBfe3KK68sif/jjz/8c1Gk+FDk8oCWIWoOzDPPPB4t3/BlJKfEHjkM98j024/jgzPPPFPfs+yyy3JUya+rAbIkUzmpKwJhPCCzXV3PGBvxUcE2CA9sEWtMelrW6dcrLc0qeyjmVm3atNFpoDQxA+aPiy66qL52xx3/z951wFtRXP0BK3bFAu9JC3YUC4q9UWwYxO5PY40aYyd+AY3RaBRrjJpgwxoUJIpGRQGBiC1GMQiKscTIs1Gs2FGjzjf/Sc46d+/uvTt35947u3sG7tvdmdnZM+f8Z3b2zJkzd0oaV7EixeRSNs7Ttm+zllH9h5mOc+4Pwhzx55rHif7IwkdK4tp3Lbih+rnqD7RFSj2czfbp00fSC1LtiKOtL5qpSAHjYPGBARmWCiCQYLp16yYxs2WrSLnlllt0eZgVffnll3WZ+KO8B2vrHjwLMysU6IWPeDhKJAebsNYhrbzyE0DZpdqdQJeP2XnM0lNQOwfpeCiGzA9OVqSwRQphxKej2lZcqt26NGZ32GEHOW3aNP1RREs3VlppJTlv3rxYklmREsuazCfgg0n5OdDYUH4SEteHlnsdcsghkfe4ekFGFs6RzjkQhwOyTMA7Ewo1LG89+eSTtfXoPvvsIzFBU2nJLePAuaicFAilGGSKH5Qq4YDxGKVfe+21JcmQO9LU7oQ6nsZVrEgpYVMmLtK2b6pkXP9B6XTk/oA44d+Rx4n+ycQXiiq17zS4cdUfaIsUWt4DixQXS3uwTAY75iAoR5ESS1lgsdFsRcqCBQskZj3p5U2m4zALRrBVpBx//PG6rKOPPlrfb/6B1QuWJUDjToFe+PAbA2CYAYoV0KUcKgbRyIMBBRQtZsD1EkssofO/8sorQRIrUliREoDBsxPlYLrE8ooGybAoaGtrq0gtK1IqsifTicoBre7HsKPT/PnzE9WFzPrxvjIt+MybXb0gzTL5vH4ciMPBgw8+qPGB/kI5wg/Oqf/AEbv5YLImKjAOorjS/LjPP/9cYgIK8oOPOtPqTDkal2qTgEDW2DWRAsZquAeKebJeo3EVK1KIS9k5pm3fVNO4/oPS6cj9AXHCzyOPE/2US7Opqta+a8WNq/4g8JHicmmPuc4dS1FomVCzFSkAg/IUH7yg8ULecMMNA8sQW0XKdtttp8saPXp0IpzRCz/K1wq2/AQ9NMsSVSCc6cHyBUoa2krWHECyIoUVKVG4aXYcBs2wtIJDSGAcFmBod/DJhI9hKCKj1sET3axIIU7k6whFMXw9ARNR/qGiaosZTPoAg/I5Lrh6QcaVz/HuOFAJB+YSEOAEFm1qZzr52GOPyXHjxum+BPFY6hGecACFjAN3cnJdEixNIDv84OsEE25QrOOdQPE4YhkfwhtvvCFhvYg4fIBToHEVK1KII9k5pm3fqGml/iPMCe4Pwhzx55rHif7IwidKqrXvNLhx1R8EihQs73FhkYKBDvlBwPp2WKf4pEjBjhDkLR4vZHP9ra0iZeWVV9YvdXKoWw189MKPUqSQ5/KwIgWz9SeddFJgSWMOMHDOipT/ct1Vg6gmQ0635wCWXwCrmEUkSzWUguVq8P2DNOzMAmdSUYEVKVFcyX4cLPYgeyxRxEdStaC2jA8+pPbYYw9t7Rh3D/cHcZzxL74SDqZOnaoxApxceumlZcSbM9pRPlQYB2Us8yoCFiYYH0K++GEMip3csPxzgw020HHwX4fBNG0GcOyxx5bUgcZVrEgpYUsmLtK2b1SyUv8RZgL3B2GO+HPN40R/ZOETJdXadxrcuOoPIn2kpNn+2PQJctVVV0l41KUfDXTwwYS4E044IVCykLLF9jht6hSJX1TARxsN1M303//+9zoeH3FmsFWk0ADgvvvuM4uJPacXflJFCpQ85CAXCioMKKZPny5feOEFTT/qxoqU/7LbVYOIFR4n1MQBbH1Og+QxY8aUlWE6m4vavQE3sCKljG25iNhyyy01NuArp1rAFvHwFQUsYYcnLBmtFLg/qMQdv9Iq4eC5554L+o8omSOOLJTwfgwHxkGYI35eo4+fMWNGsPU5qMRW6Gjv2PKSdunCMi4oXfFeoR9tgY3dDRGHnRTDgXEQ5ogf12nbN2pRqf8I15JxEOaIH9c8TvRDDj5SUal9p8WNq/7AuUVKNX8HYUF17tw5lTKlFkUKZjdgNRM2BbZVpNCa7SuvvDIyE03TAABAAElEQVRcrchrW0UKZmYwkDjssMPKfKrw0p5SFrtqEKWl8lVaDphOBd98883I4rp3765xfvvtt0emsyIlki2ZjoTTUPRtWN5l+nmKqhS2tyWFMvpC08F2VH7EcX8Qxxm/4qvhAI7k6F0X5Q8H73JYvQJLUe9hxoFf8k5KzbPPPqtlCrnCmfCgQYOCa8RV+q2zzjplj2EclLHEi4i07bta/xGuJOMgzBE/rnmc6IccfKOiWvtOixtX/YGhSGkNlvaksUiBxQScBkb9TCEhHS9Ic+mPrTUK8teiSDHpMM9tFSm0f/Xee+9tFqPPkQbv8jBLomCrSOnQoYMeMGA21gxwQEv+JkyLFPijwQADM7ZFC64aRNH4Vu/6wq8PDXphrh0O2NmLLA2w21VUYEVKFFeyHQerPOAivJQxXCvsykI+E7AtPT6ckwTuD5Jwqfl5kuCAJiywdIN2uiPKaWc7YAlLicOBcRDmiB/XM2fO1Eus4dvG3PGQqDvmmGN0/0BKkaOOOkq2trZG/lZYYQWdF8pW5IGvlXBgHIQ54s91mvadpP8wa8o4MLnhzzmPE/2RhU+UVGvfaXHjqj8wFCnwkdLeya49cQoR2h0HjiXj8tjGN1ORAt8oNMg3t/DDByN9PEKxRMFWkQKHnCjHdN4L7/a0VhhppiLl5ptv1vlh5VPJeSfRk6ejqwaRJ574UpeNNtpI4xJbfMNRMn0MQWZQQgLHGADHBVakxHEmm/GTJ0/WMofcZ8+eHVsJOChGHvwuvvji2HxRCdwfRHHFr7ikOKBZKeAAExRffvmlrghmswcPHqzxgd34opb+MA78kjlRg3cA+arDTpHYUREBilK0dWr3NGak+6KOWNKF/OwjJYo7/sfV2r6T9h8mB7g/MLnh1zmPE/2SR7OpSdq+0+DGVX8QKFJo1x681NJYpFRShNBLMS+KFADt3HPPDV76cI62ySabBNfY1s9cPmSrSMEMLAYI2OoYchkyZIh2tohZHBpomIoUgIIsVZZeemmJ2dyiBFcNoij8amQ9MWtMVifALfqILl26BBiG6X6lna9YkdJIadX/WbTbWZQlHz0dSmrq43AEfuJ+2P0jHLg/CHPEv+skOCCqsbMX4QGWmn379pWrrbaajsO7btKkSZS15Mg4KGGHVxfwmUUyxYRU79699e49FLfffvvFOiA3K8KKFJMb2TyvpX3b9B/EFe4PiBP+HXmc6J9MmklR0vadBjeu+oNAkdLS+YelPfhor6QQqTXtmmuu0XJpUzvR1FpG+L5KFikw9cVLGQOtJAFLcZD/F7/4RUl2svSAM7NwwAwKtmPs06ePXu+P+zHQw3aecIRjhlGjRunyo8qhbZnhgZgClvDAJwApRzDrht0qwL+uXbvqssLLIeCYbfvtt9e7/GD2rijBVYMoCr8aXU+sZcQ6d/jEoIEy2gk6SzgZrBRMh7RYDlgpMA4qcaf5aXBGTvKPWopBFE6cODHIR/njjuxklLiWnWNSHFCN8J4dOXKkxDIA8pmy3HLLaevMCRMmULayI/cHZSzxKgIO9Wl3HmrfGOONGDEisFysRjBwgXv79esXm5VxEMsaLxJs27dt/0GVZBwQJ/w88jjRT7k0mirb9l0rblz1B+1giaJeQtp+esGCeUJZo+BSKEsHffT9z9gxd2gS+w8Y2HRS1bIbocyOhdrmVagPRmf0KJNloXzKiG7dugllneKs3DwV9M9//lNXp1evXnmqVu7qohyFCuV0VrcP5WTWOZ4ZB7mDTE0VYhzUxLZM3KQcxes+pGfPnkJNMlSkmXFQkT3eJKpJJ6GW9wi1U49oaWlxOn5CJRkH3oi6KiE27btqYaEMjIMQQzy95HGip4LxnCxb3LjqD1iR4jkwmLxkHHDVIJI9jXP5ygHGga+SaSxdjIPG8tvXpzEOfJVMY+liHDSW374+jXHgq2QaSxfjoLH89vVprnDQrrVV+SqQ6r+qKVuk+CpupqsaB1w1iGrP4XS/OcA48Fs+jaKOcdAoTvv9HMaB3/JpFHWMg0Zx2u/nMA78lk+jqGMcNIrTfj/HFQ5KLFIWLpgv+g/or2vOS3v8BgBTV8oBVw2itFS+yhoHGAdZk1h96GUc1IevWSuVcZA1idWHXsZBffiatVIZB1mTWH3oZRzUh69ZK9UVDkoUKbBIUc7chPKgzj5SsoaIgtPrqkEUnI2Zrz7jIPMidFIBxoETNma+EMZB5kXopAKMAydszHwhjIPMi9BJBRgHTtiY+UJc4SCkSJmvnM2yRUrm0VHACrhqEAVkXa6qzDjIlThrrgzjoGbW5epGxkGuxFlzZRgHNbMuVzcyDnIlzporwziomXW5utEVDkoUKVjaM2z4MM2ouXPnZoJhxx93rKazU+eWTNDLRDIHmAPMAeYAc4A5wBxgDjAHmAPMAeYAc4A5kF0OaEWK3v9Y1QFLe4YPH658z0rR1taWiVqxIiUTYmIimQPMAeYAc4A5wBxgDjAHmAPMAeYAc4A5kAsOlFik8K49uZBpISvhykSrkMzLUaUZBzkSZoqqMA5SMC9HtzIOciTMFFVhHKRgXo5uZRzkSJgpqsI4SMG8HN3qCgc/bH+srFAWvrtAO5sFn3jXnhyhpQBVcdUgCsCqXFeRcZBr8SauHOMgMatynZFxkGvxJq4c4yAxq3KdkXGQa/EmrhzjIDGrcp3RFQ7YIiXXMClO5Vw1iOJwLJ81ZRzkU662tWIc2HIsn/kZB/mUq22tGAe2HMtnfsZBPuVqWyvGgS3H8pnfFQ6UIqWLcpEi1b//+kjh7Y/zCZi818pVg8g7n/JeP8ZB3iWcrH6Mg2R8ynsuxkHeJZysfoyDZHzKey7GQd4lnKx+jINkfMp7Llc4YIuUvCOlIPVz1SAKwq7cVpNxkFvRWlWMcWDFrtxmZhzkVrRWFWMcWLErt5kZB7kVrVXFGAdW7MptZlc4CHykgFPz1a49AwYM0Lv2vPDCC5lg3tgxd2g6+w8YmAl6mcj6cMBVg6gPdVxqozjAOGgUp/1+DuPAb/k0ijrGQaM47fdzGAd+y6dR1DEOGsVpv5/DOPBbPo2izhUOtEWKuf0xFCkI7Gy2UaLk57jggKsG4YIWLqN5HGAcNI/3Pj2ZceCTNJpHC+Ogebz36cmMA5+k0TxaGAfN471PT2Yc+CSN5tHiCgc/LO0xdu2R6jxvFin/+c9/xMsvvyy++eYbsdFGG4nllluuTHrfffed+PLLL8VSSy0lll122bL0RkX4Qkej6uviOa4ahAtauIzmcYBx0Dze+/RkxoFP0mgeLYyD5vHepyczDnySRvNoYRw0j/c+PZlx4JM0mkeLKxwEzmZRFVrag/M0FilLLLGEmDlzJoqJDUOHDhXTp0+PTU+aUG1pz+uvvy6OOuooMWPGDK1EQbnt27cX66+/vvjjH/8YbPeM+FGjRomf/exnYqeddhKPPfYYopoSfKGjKZWv8aGuGkSNj+fbEnBgzpw5Yvz48WLWrFni66+/FptttpnYa6+9xM477xx5N9rsE088odvup59+Krbaaiux7bbbij333DMyPyIZB7GsaWrCSy+9JK6//vpENOy+++5i0KBBQV68S6ZNmyaefvpp8cUXX4hNN91U7LjjjmLw4MFBnvAJ4yDMEf+uk/QHaXCDGjMO/JN7mKInn3xS9/M4rrjiigLtf7fddhOtra3hrPraNj9uYhxEsrLpkWnbNyrw1ltvid/85jfi+++/F1dccYVYffXVY+vFOIhlTVMT0uCAxwdNFZ3Th6fBwSeffCJuvPFG8cwzz4j3339fdO3aVey6667i8MMPF0suuWQknc76g9aWtWXL/37t2rWTAwcO1L8111xT1vrr1auXMmqpHE488cSayzfpmjZ1isQvKiirGtmxY0esXNK/nj17yt69ewfXSuEjldIiuFUN9HWaGqQHcc048YWOZtS91me++OKLEj8OfnLguuuuk8sss0zQ9qhNos8588wz5bfffltC+FVXXVWWl+5Ryk6pBk0l+emCcUCc8Ot4//33x8qT5EpH4IHCDTfcINFPU5p5POKII6SyIKSsJUfGQQk7vLtI2h/UihuqMOOAOOHn8ZRTTols22qyS44cObKMaNv8VADjgDjh19FF+1533XUDDL322msVK8g4qMiepiXWigMeHzRNZHV5cK04UMo0qRSoQT9gjhPxzb9o0aJIel31B8HSHvVgbZHiYvvjDTbYILDoGDFihICmKBwmT54s3n333XC09XUli5Thw4eLyy67TC/Twez2Jptsost/++23xR577CGg/VLKFfHvf/9bx6tGKU444QQ92/n4449b0+LqBl/ocFWfRpTjTLPYCGIL9ox33nlHdOnSRdd67733FsOGDdMWKXfffbe2AkPClClThFLi6jz33HOPOOCAA/T5kCFDxE9+8hPRoUMHMWHCBIG2oXpE8bvf/U6cccYZOo/5h3FgcsOf87a2NnHvvffGEoTljOivEa688kpx+umnC7wjyPpo++23F4cddpjo3LmzmDRpkp55AA5gVXjyySeXlcs4KGOJNxE2/UEtuDEryjgwueHX+dlnny0uuugibSGMvhzvBmDj5ptvFo888ogm9tFHHw0sFm3zm7VlHJjc8Oe81vaNsfsdd9yh3xVfffVVUCGlSBHrrLNOcB0+YRyEOeLHdS044PGBH7JzSUUtOPj444+FUqaKDz74QLS0tIhzzjlHf9fjHXLNNdeIzz77TBx44IHirrvuKiPVWX8AixRtldK5VbZr115boyiHs6msRfbdd99A+9O9e/dUZZnWJ1HnlSxS+vTpozVURx55ZEAPnfzpT38KtFfKd4qOjrIEgcbqgQcekErZQrdGHhcvXiynTp0qH374YanMzyPzUOS8efOk+hiQY8aMkWqgIHGvGdLQoZZAyIceekj++c9/lkp5ZBYbnEM7N3v2bDl37twgjuqplkIFcVEnScqPuq/eca40i/Wms4jlE54xcxS2JFHLNHQ7PPXUUwPWoL2qHk9uvvnmQRyd9OvXT6fBci4qMA6iuOJ/3NixY7VcV1llFakU75rgk046SccBN+GgFCw6TSnEw0n6mnEQyRYvIm37g0pER+HGzM84MLnhzzneA2QtfNppp5UQBisz5cdOt2+1lFOn2eYvKVBdMA7CHMnGdVT7VhOhGhsYI+C3zTbbBNdskZINudpSGYUDHh/YcjH7+aNwcNZZZ+n2j/dJuP1ffvnlOk35PZUfffRRGQNcvRdEoEhRChWYU7pY2nPsscdqgvFCjFJ+uIyrpEihDhZLAcJBOZ/VygQoFMg8nAZ4WNpz0003qSVPLUEHjQ775z//ebgYCcWCmkmRyjltkBdLGKCMeu+990ryq1lXiSVNar1WkBflrrHGGvK+++4L8tZCxz/+8Q+JQUe4bOWHQqo1pEHZOKHyQeMtt9xSVk+Yz4aDTfnhextx7apBNILWoj1D+UPSeN9///3Lqq60xzoNH8YUlP8iHaes2SgqOF599dU6Ta2lD+LME8aByY1snKNfpA8n4IEClCSdOnWSykKFooLjJZdconGA+6IC4yCKK37E2fYHcVTH4cbMzzgwueHPOeRCH8LK50kZYU899ZROx9JPZbmsFSE2+cMFMg7CHPH/Oq59Q5GC8TbGr1gKgPEtYSP8IRWuJeMgzBH/r+NwwOMD/2XnksI4HNDSPowrwkH5YpS33XabvPXWW+WHH34YTnamYFcOvbpoHylQqOClhc4JypQ0yg5loq0JRgenHElKZaYtoRk67rjjJD7s05QdvreSIgV0oINdeuml5bXXXishiEqBFAzUKUPDdfDBB8stttgi6KiVuVBQBGZJ9ttvP52GmVTl1FZCiURrtVB3KGwo4IMAZUPRopYQSbU8QSpnODoOLwYMGBBs6YB/CVL6KIecEh+byvmWVMspdNnh2XsqH0oXyBz0HnrooRL3Ut1hKUPBtny6r5FHfkE2ktt2z1JLcjSulPPAMusr5VRQp6klGkGhyhmt/Pvf/y6VyV4QRyfnnXeezv+jH/2IokqOjIMSdmTiQplcapkuv/zyUplnJqKZ+mTMRkQFxkEUV/yIs+0P4qhOghvGQRz3mhuvlnXqNo/xhjK9LiMGY6vVVltN51FLPaVt/nCBjIMwR/y/rtS+1e6bQQVYkRKwIpcnlXAQV2EeH8RxJrvxUThQS0GD9wgm+22Dq/eCtkhx7WxW+SWpWB9YQYQVIrVeV1KkYJlKjx49AkZD2aDW4ko4oY0KpGDAyx1WLOQAE8oQ0nqRkgj3Q8uFvFBIvPLKK0GR8+fPl5gxR5paAxzEQ4OKuJ/+9KdB3Oeff64VHlCkPPjggzrelg7lpViXizKgraegdrkI6DNfPGb5UG5RPXFU/m30PabDR9vy6fmNPLpqEI2kuSjPwlI3WBYA+zvssINUO7BIdHq0hGellVaSWO6WJJCV2SGHHBKZnXEQyRZvI/HBpHxXaWygb44L6IPb2tr07ILa6UnnB24g76jAOIjiih9xLvqDpLhhHPgh8zAV6P/xPsAPSpJwwEwipWMSzDZ/uDzGQZgjfl8nbd+oBStS/JZlGuqS4oDHB2m47P+9cTggy0W8KzDxCrcWymeeNlDYZ599tLFCJXcVrt4L2iKFlvfAOsHF0h4oSsyAjg4Em9YZyqGYE2VKJUUKaFiwYIFeeoNlS/RixhEfZLfffrtJZmAJgl2HIDgzQLGC+5TjyyAa1ieIgzIiHGjm3FyyAMEiv3J8U9E6hhQdSekArRh4mPwFPbimHS9MRU+l8rF8KVxP2/LDvGjEtasG0Qhai/gMLHOjWQLgi36wLMEHcpKAmUnch37KtAwz72UcmNzw/1w5oNUyhZUeFNBx4W9/+1uAGWAAS3oqKd8YB3Gc9CM+bX+QFDeMAz/kHaYCE0g02bTTTjuVWB8qR6JSOZcO2vuFF14obfOHn8c4CHPE7+uk7Ru1YEWK37JMQ11SHPD4IA2X/b83DgcwPqBvCbVRTnBOcThixcXzzz8fWUlX74XAR4rLpT2wwsAg91//+pdUu24EChMsY1H7O+sKYVZK7cAQpNXDIsXkHCw1LrjgAqk8epcw25wFJQXD1ltvbd6qz2GhAaEcdNBBQRp8kiAOW3CFw8SJE3UaltdQwJaPJGAsccIWr1EfD7Z0UPl0hFMdONDF8hzactYEUqXylWf8snpSuXSsVj7la+TRVYNoJM1FeRYGwbDkgsMn4L9bt25yww031D6ZoBQ5+uijg2VtcTyB5pkG3lE+j+g+xgFxwv8jFLToB4GJKP9TZg0g1y233LLEFxV8U+GjKyowDqK44kdc2v7AFjfAAgf/OABLExoPrbrqqhK+6aBYxzuB4nHEpBSCbX6zxtwfmNzw+9ymfaMmrEjxW561UmeDAx4f1Mpl/++rhANzySfeFbB4x3f+Y489JseNG6e/NRAPP6RhQwPU3NV7IVCkYHmPK4uUSkoR05lgWl8seE41i5QomMC5GXYEoZf1X/7yF52tkoKBPAObipSVV15ZlwGlSTjMmTMnKJ92oUAeDArogxLPh8XIj3/8Y634oDJs6cB9mNWHF2v4GaB6mcekipRf//rX+n6znrblUz0aeXTVIBpJc1GehWU4wCKW92DmgAKUm+SXB+0xzoeR2opcYhkHysDyOLXdIRVRdmQclLHE2wg4CoRMsTTyjTfeSEQnHINjZzR8dOFe7AoXtUsa4yARO5uSKW1/YIMbxkFTRJz4oVgejXEc2jJ+GINiJzcs/6Rlxn/4wx+C8mzz042MA+KE/0eb9o3asCLFf5nWQqEtDvAMHh/Uwmm/76mEA+yUS++OSy+9tKwipsVKlA8VV++FSB8pcDhbSRmSJs3cGvkXv/hF6ufUokgBt+HgDINwCOH//u//tABsFRjQcuF+CDoc4DATaVhSFB7owyoHgwNYtNDsC3hKWyzb0oElD7RbDzRyKHv69OnaFwyBLI0ixbb8MC8ace2qQTSC1iI9A56yCYPY7jscTGdRUbs3YOtx+P5BGVgmV0mJgrIZB2EO+3sNCxPIFb5ybAMcc1PfOXny5LLbGQdlLPEiIm1/gErY4IZx4IXYqxKBj+EZM2YEW5/jBjjwR/+ALS/DwTY/4yDMQX+vbdo3asGKFH9lmYYyWxyYz+LxgcmNbJ9XwsFzzz0XfF9EfRsgjizZTYU8ccTVe8G5RcrGG28s8UGEH3yBhJUuhx12GNVB73ITTre9jlOkgEHwg4Kf6YA1eLg6AS14Ue++++462laBQTvujBw50ixWn2M7Y5QNJ7WVArRkyy23nM6LLT0RbOnADA6ehfrADMoMtkt7oixSbMs3n9+oc1cNolH0FuU5ppPAN998M7LapNAM+yzCtmWkIAS2TYfJkQWpSMZBHGf8iodTMPRZUDSb/puISmxL37NnT+0LJc5SiRwYo78MB8ZBmCN+XKfpD1CDargJ15JxEOZINq6fffZZ3T+gj6jkLJBqUy0/44A45ffRtn2jNqxI8VumtVBXDQc8PqiFq9m7pxoOYKRA37hRfhPxPbzWWmvpdwl2zQ0HV+8FQ5HSGiztSWORAnNMGvhiu6KwYsT00A5nquF02+s4RQoYjG2P8SIeNWpUmH/6uk+fPjq9VosUeAdG+fADEw4nnniiTsP2yAjgCSw7xo8fr83PzPxk6kw7kdgqUjp06KCfhdl7M8ABLS0jSmORYlu+SUOjzl01iEbRW5TnwJ8O2gh+MNcOB1iGkcUJlsNRwNbgZHGA7dPDCkLKFz4yDsIc8fMafqiAifASQqIWVnuEG2yFHQ7w0E4OxLHUJxwYB2GO+HFda39A1FfDDeWjI+OAOOHXcebMmbJjx4567Tr8uYXDMccco9s/fNoh2OYPl8c4CHPEz2vb9o1asCLFT1mmoaoaDnh8kIa72bm3Gg5QE3Iyu8suuwQ70FINacdZjCWjxpGu3guGIgU+Uto72bUH5jYU4G33qKOO0k5gYLlBH0SYZbBVmkTlj1Ok4PlkMQKntnC8SgFKDfgqoQ+1KVOm6CRbBQZMyqkM008KBEa75WBWHQH1pqVAI0aM0HEUv9566+lBA22VbEsHHHcCKKb/GXxoUP2RlkaRYlt+ULkGnrhqEA0kuTCPwg4rwCCss9AOabttyAwOQ5HW2toa8AOOaRGH38UXXxzEJzlhHCThUnPzoN8k+WJmKS7Qtsjof/75z38G2SBjLBFFGVDCkQPzIIM6YRyY3PDr3LY/IOqT4oby48g4MLnhzzneAVCkoA3DVx52V0TAOAl9PvUP8ImCYJtf32T8YRwYzPD0tJb2jaqwIsVTgdZIVlIc8PigRgZn5LakOCCrFbwzhg4dGhgqwJhi8ODB+l0C36FRS39cvRcCRQrt2oOXWhqLFCg79t9//5K1rmG5LVq0SO622251V6Q88cQTgfICTF577bX1+mpyXIm4gw8+OFgyYKvAQL3ICS3KwgARS5twjh+2RzYDLF8QD0sZaM+wbTINKhEHoSLY0oEZe5QL5Q3kBwsZ1JEUN0hLo0ixLd+sc6POXTWIRtFbpOdAK0xWJ8Ai+gjsZoVz/GCaN3r0aM0SWBdQPI64L+6HXRzCgXEQ5oh/19ttt52WMZRolQKULGS2iSVe6Ft79OhRgg/shBYVGAdRXPEjzqY/MClOihvzHsaByQ2/zuEzi/p6TEj17t1bYvceioM1L1k3g3Lb/GZtGQcmN/w8r6V9oyasSPFTnrVSlRQHPD6olcPZuC8pDlAb7PxJ7w2soOjbt69cbbXVdBy+rSdNmhRZaVfvhUCR0tL5h6U9LnbTARMw+/zpp5/qCmCmAWb8iIOlRJR1SS1xlSxS8GD4ZRg0aJDeS5oYDYUDFBiXXXZZCXOxBAh54AQ2HGhbYFp+Q+l40Z9//vl69xGYmmNAsMUWW2gFC5bWmAF5YTWCfa1NWrAFqOlR2JYOPAc+JGgZD7Rv2N2kTe3k07VrV/0sc9lEpfLPPfdcnd+sp235Zp0bde6qQTSK3qI9B/hGO6TlGMA/Ojz0E3AySIG2Daf2UelYT+dRRA8f3XIA21iTTKNMLcNPw/bGmFWgvo3uxWwU/FDFBe4P4jjjR3zS/oCotcUN3cc4IE74ecRyZ9qdh9o2xoGw2iXLRZNy2/x0L+OAOOHnsdb2jdqYDuur+dNhHPgpf6LKFgc8PiDO5etoiwPoF7DiBct8aPINvkeha5gwYUIsc1z1B+1giaJeYHpqeMGCeUJZo+BSKAsGfXTxR80+C7WHs1CelIWqkYsigzLGjrlDn/cfMDCIizvB89UabaFmNYWa5Y7LVnO82uZY1095m69YhhK6WLhwoVCmRwK8cUWLMl0S8+fPF926dRNKWVSRhloS611+LTTRPcr0X58qvzsUxUcPOaAcxgql3BRKoSKUk1nnOGUceCh0ByQpJbTGDfCDPlMpiyuWyjioyB5vErk/8EYUTSVE7eYk1PIegbFTS0uLfj9UIsg2P/cHlbhZnDTGQT5lzeODfMq1llotXrxYjxXVZgVCTcBVLMJVf9AQRUrFmqRMtFGkpHwU3+4xB1w1CI+ryKQl4ADjIAGTCpCFcVAAISeoIuMgAZMKkIVxUAAhJ6gi4yABkwqQhXFQACEnqKIrHLRrbVW+CpSVCOxE6mWRkqA+NWdhRUrNrMvVja4aRK6YUsDKMA4KKPSIKjMOIphSwCjGQQGFHlFlxkEEUwoYxTgooNAjqsw4iGBKAaNc4aDEImXhgvmi/4D+mp0ul/bUUz6sSKknd7NTtqsGkZ0aM6VRHGAcRHGleHGMg+LJPKrGjIMorhQvjnFQPJlH1ZhxEMWV4sUxDoon86gau8JBiSIFFinKWYtQDlOd+kiJqoCrOFakuOJktstx1SCyzQWmnnHAGAAHGAeMA8YBY4A4wP0BcaLYR8ZBseVPtWccECeKfXSFg5AiZb5yNssWKcWGVjZr76pBZLP2TDVxgHFAnCj2kXFQbPlT7RkHxIliHxkHxZY/1Z5xQJwo9pFxUGz5U+1d4aBEkYKlPcOGD9PPmDt3Lj3L6+Pxxx2r6evUucVrOpk45gBzgDnAHGAOMAeYA8wB5gBzgDnAHGAOMAeyzwGtSKENibG0Z/jw4XoL37a2tkzUjhUpmRATE8kcYA4wB5gDzAHmAHOAOcAcYA4wB5gDzIFccCCwSOnUqZOY/fws0a9fP10xdjabC/kWphKuTLQKw7CcVpRxkFPBWlaLcWDJsJxmZxzkVLCW1WIcWDIsp9kZBzkVrGW1GAeWDMtpdlc4CLY/7tS5s3IwO0vsuuuummWsSMkpcnJaLVcNIqfsKUy1GAeFEXXFijIOKrKnMImMg8KIumJFGQcV2VOYRMZBYURdsaKMg4rsKUyiKxwEFimdW1rErFkz2SKlMBDKV0VdNYh8caV4tWEcFE/mUTVmHERxpXhxjIPiyTyqxoyDKK4UL45xUDyZR9WYcRDFleLFucKBUqR0US5SpOisLFJmzX5OW6Tw9sfFA1TWa+yqQWSdD0Wnn3FQdAT8t/6MA8YBOMA4YBwwDhgDxAHuD4gTxT4yDootf6q9Kxz8YJHyP0UK+0ghFvMxSxxw1SCyVGemtZwDjINynhQxhnFQRKmX15lxUM6TIsYwDooo9fI6Mw7KeVLEGMZBEaVeXmdXOAh8pJhLe6SU4oUXXih/qocxY8fcoanqP2Cgh9QxSY3igKsG0Sh6+Tn14QDjoD58zVqpjIOsSaw+9DIO6sPXrJXKOMiaxOpDL+OgPnzNWqmMg6xJrD70usKBtkjB9sctbJFSH0lxqQ3hgKsG0RBi+SF14wDjoG6szVTBjINMiatuxDIO6sbaTBXMOMiUuOpGLOOgbqzNVMGMg0yJq27EusJBsLTH3LXHtUXKUkstJVZaaSXx0UcfCZTtMlSySMGzPv/887LHrbDCCgJ+YHwI7733nlh99dVF+/btaybnP//5j/jqq6/E0ksvLZZZZpmgnLj4IEOOTlw1iByxpJBVYRwUUuxllWYclLGkkBGMg0KKvazSjIMylhQygnFQSLGXVZpxUMaSQka4wsEPzmbrsGvPT37yE3H88ceLddddVysKvv76azF79mxxxRVXiMcee8yJ4CopUv7+97+L7bbbruw5UOy0traK/v37i5///OeiT58+ZXkaEXHjjTeKn/3sZ6Jv377i6aefrvmRv/nNb8Rvf/tbcdBBB4k///nPQTlx8UGGHJ24ahA5Yol3VZk5c6aYNm2axvoXX3whNt10U7HjjjuKwYMHR9L6ySefCLSRZ555Rrz//vuia9eu2hn24YcfLpZccsnIexgHkWxpeuRLL70krr/++kR07L777mLQoEGxeS+//HLx7LPPik022UScc845kfkYB5Fs8Spyzpw5Yvz48Wq3wFkCY4PNNttM7LXXXmLnnXeOpHPGjBniiSeeEDh++umnYqutthLbbrut2HPPPSPzI5JxEMuauie89dZbAmOQ77//Xo/5MGEUFZBv3Lhx+r2wePFisfXWW4shQ4ZoPLjIjzIYB1GcbH5cmveCbf/BOGi+vJNQYCtXHicm4Wr28tjIdcSIEeLdd9+NreTw4cP1N384g7P3QmvL2rJF/bbcsq9cYokl5MCBA/VvzTXXlGl+o0ePVgYh0UG9WOVxxx2XqnyibdrUKRK/qPC3v/0N5i/6t9pqq+nndejQIYhDmrJMkRdccEHU7XWPu/DCCzUt3bt3T/Us9TGhyznwwANLyomLL8mUk4sXX3xR4sfBTw7ccMMNun+h9mgejzjiCPnll1+WEK6ULlINvEvaKt3Tu3dvuWjRopL8dME4IE74dbz//vsjZUkyNY9nnnlmLPFTp07VfTby77LLLrH5GAexrPEi4brrrpPKerIME3gfQ/7ffvttCZ1XXXVVWV7CjJqMkBhTRAXGQRRX6h8HvqsJtEBmr732WuRDlS8+qXaMDPKRTDFOe/DBB8vusc1PBTAOiBN+HWt9L9j2H1RrxgFxws+jrVx5nOinHNNSZSvXtdZaq+wdQu8SHNXEWyRJrvqDYGlPi7JIeW7WTCfbH2M28ZZbblH0C4GZ59/97nfi7bffFttvv7048sgjtXXKZ599JjbaaCPxzTff6Hy1/qlkkfLUU0/pZ6LsDz74QHTs2FGoAZqAxhOz3FdffbV45ZVX9KPVQE2cdtpptZJR033fffednlldZ5119PKemgpRN5177rlCKYOEUqSIu+66KygmLj7IkKMTZ5rFHPHEl6pMnjw5mDVGH3DYYYfp7dYnTZqkLU5UDyf++Mc/ipNPPlmT/PHHH2srNrRZ9EuwOujZs6d45JFHxDXXXCPQd4SxTnVlHBAn/Dq2tbWJe++9N5Yo9IWYNUC48sorxemnn16WF7iAFco777yj05QiRUyfPr0sHyIYB5Fs8SIS8uvSpYumZe+99xbDhg3TFil33323GDVqlI6fMmWKUJM6+vyee+4RBxxwgD6HpQIsXdWHtpgwYYJQClq9XBhjjDPOOEPnMf8wDkxu1P8cFgZ33HGHbsNYbkxBKVIExjlmgKVKjx49BCxS0L9fdNFFYvnllxeXXHKJePLJJwUshzFuVINkfZttfvNZjAOTG/6c1/JesO0/zNoyDkxu+HVuK1ceJ/olP1fU2MoV3w9wawH3GPimjwr4XsD3fzg46w9gkYJfnz5bSWUur61RBgwYkMpaBFoeBMwqKbP9krLGjBmj0/Dn0EMPLUkjKxObY1KLFPVRFjyXTtRLWnbr1k1rstQLXM6bN4+Syo7KlFg+9NBDUi2dkcq0uCwdEZglV0uX5Ny5c4N08OKBBx6Qr7/+ehBHJ5Q/Ko3yYKZefXDKiRMnyoULF1J0yTHO8iQu3rw5Sflmfl/PXWkWfa1fluk66aSTdBvDDGU4KLN8nbbHHnsESWeddZaOUx2fDM9kqmUdOk0NsqXyuRTcQyeMA+JEto5jx47Vcl1llVWkMumMJF4t6dJ51MtQH9kiJZJN3keqJV5afugPwpYkarmfTjv11FODeqjJFx23+eabB3F00q9fP50GS9qowP1BFFfqE4fxFLVNHLfZZpvgOtyPg4KHH35Yp8MSGpYmFNQyTkkzjOjvKdjmp/twZByY3MjOedR7wbb/MGvLODC54de5rVx5nOiX/FxRYytXfAfgfbP22mtbk+CqPxCkSNnSUKRgUGKjzDDzqhnDoDJ//etfy8rZcMMN5SmnnKJ/66+/flm6WVaS8zSKFBD66quvSnyUQRBqJjSgnU7+8Y9/SLUOWyuZzEGCWs8t1UwKZdNH6gigiFIWOWrJVEswkMC9qLcZlP8Hna7WBJvR+vzDDz+UarZOhpcinXDCCVLN9JTkj1OYxMXjZpvySx7m6YWrBuFp9TJNFpQknTp1imxfavZRtwFlnRbUkUzChw4dGsTRifKlIG+77TZ56623agxTPB0ZB8SJ7ByVNYqE/NFHos+KCsoqQaevuuqqUlna6XNWpERxyv84tGvIev/99y8jlt5ZULBSwDgB+dU6aIoKjmoGSqetuOKKQZx5wv2ByY36nkORsuyyy0qMf7BkA+MjyA2/KEUKKcigcAkHLP3GfabyzDa/WSbjwORGNs7j3gu2/YdZW8aByQ2/zm3lyuNEv+TnihpbueIbHu+KLbbYwpoEV/2BcsDS5b8+UpQiBTMDeAmmUaQcffTRQWVOPPHEQFECBYoy4wyukyhJkuRJq0gBsagzBKGczwa04wQWNaQMUY7tJAZtynmaVGbJOn94FowUKbDswVpv+HiA1Q3uRfn4Pfroo8EzKilS9ttvP51/gw02kJdeeqk877zzJPy8oIxjjjkmKAMnNPi08ZFiU37Jwzy9cNUgPK1ebslC5wdMQwuNoMw79TXioMS0DYwDW441P79ajqhlDqvAKMtB5URMrrHGGjrPnXfeKamfZUVK82VXCwVqSY6WpXL4LpVz0ZIidtttN52mlvoF8coZrVSO46Uy+Q3i6ATvRfQVP/rRjyiq5Mj9QQk76n6hlmoHz6imSNlhhx207KjvD25UJ2SJsPLKKwfRtvmDG9UJ48DkRjbO494Ltv2HWVvGgckNv85t5MrjRL9k54qaWuSqloHq9whZtaudeqVaYirNd1Ecfa76A22RAmez+OHjH8qBNIqUX/7ylwHNap27Xg4D6wcEaJhBuFoL60yh4kKRcvbZZ2tBqDW8Ae04UX5UdDxmWTDbQkHtsKPjoTAxhUUDfAzsMKNCDvNwhEIE8aYjxThFCpY/Ia/apUQqfxD0WG3+qtaBaYWXOcNjq0ixLT8gwOMTVw3C4yrmgjS1JbdU66K1VYnaoUPjXG2NHjgKVn6NdBzwjw8nLKdTvlPkrrvuKvfZZx+pfCFELpMj5jAOiBPZOGJpB6wYIW/l4yKSaMgd6WpXMp1O/SwrUiLZ5X2k8pumLdQgU3wcq528tNKULA7QH1RaZmtWkJaPHHLIIWZ0cM79QcCKhp9UU6Sst956ul2PHDmyjDa1q2PwHiALXNv8ZqGMA5Mb/p9Xei+k6T8YB/7K3kauPE70V45pKKtFrn/5y1/0u0LtvquNFvCNjLEFVnPstNNO8vnnn48lyVV/oC1SaHmPC0VKlPltVC2w9CWJxUm1PC4UKbQjQNg8GJ05lhLg488MuIb1DoSlnNUGSTTA79WrV9nab7XNss6vHOUF+eMUKT/96U91XliihAO0bniucroZJNkqUmzLDx7k8YmrBuFxFXNBmrmTFnCMJR3mRxN2akA8frAQo3PzCEuvuM6RcZAtmCgHtFrG2MFl/vz5ZcRjCRdkj6VhZK1C/SwrUsrYlZmI9957T5vimu0a57AsgaI1SaDlXhi3KEfUkbdwfxDJloZEVlOkwNoEMlfOacvoQf9O2EA5CLb5zUIZByY3/D+v9l6otf9gHPgt+6Ry5XGi33Kslbpa5Koc1AfvCihRYLQAdxnkFgMrOeq9a0/gIwXKFAxI0i7tCX/8K6+48g9/+INUO3VIWKuY5rkw462mKKmW7kKRAt8oeGljJqxSgFObl19+WS/Poa0bzQ86GuBH+TwhqxeaVcVz4hQpamcTTc+vfvUr7ZANTtboR4oU0/LHVpFiW34lnviSxi9IXyRRmQ7Iacstt9Rr6WmgDF9AMMVDUDt3BJ0i0jFjje3JMUM5bty4wDk0lnqEFZy4n3EALmQjQFENX1OQMxTN4fDGG2/oPhnp5lao1M+yIiXMsWxcw/RW7dAU+CaDw3cs/cUgCGMQLA/Gcq5KATNXmPgANrD9cVzg/iCOM/WPr6ZIUTstaPlhCUc4YJwF2eL3r3/9Syfb5jfLZByY3PD7vNp7IU3/wTjwV/Y2cuVxor9yTENZLXKFIgWOZuFCg74jQMObb74pN954Y/0OgUV7VHDVHwSKFFdLe8z1ro8//rj2vm4qQ+BjhAKUC2ZaLecuFCmk5ICTm3DA7Bh2HcH6fXqxm8ekipRf//rX+v4kihTMuJvPiDo3LVtsFSm25Yd54uO1qwbhY93ySBN2i4JycMcdd9RY7969u4Rp59SpUwPsh5Wy4IOpsY7yocI4yA5a4JASfRuWSEJpYgYMpvHyQ/qxxx5rJrGPlBJuZO8Cy3AgV1gZwUKNApbPkj8xOBnFUuCogHEFJj1QBiYWaOlHVF7uD6K40pi4aooU+MiBDDGhFA60fBrptDubbX6zTMaByQ2/zyu9F0B5mv6DceCv7G3kyuNEf+WYhrK0cg0/Gzve4h2C73dytWHmcdUfRPpIgVVKLUoN3INdZSgMGTKkrBwMlChA+1Trc+g+F4oU2kIRFjJmgOkwBvkQBGbGYVkzffp07asEcfjVQ5FCJqzwDXHzzTdH/jBDT8FWkWJbPj3H56OrBuFzHfNIG2aeMQuNtjR58mT53HPP6XNcR30gIY5motEew4FxEOaIv9ewTIKc4RsjHGg3Fih9oWSBny360RbY2E0NcdiaPhwYB2GO+HENeUHm+MFXVziYzubgRC4cHnjggcCaDTv7RPUR5j2MA5MbjT2vpkghR+OXXXZZGWE0AIYVCgXb/HQfjowDkxt+n1d6L6TtPxgHfsreVq48TvRTjmmpSivX8PPff//9YLwBp/Xh4Ko/cG6RAucuFOB7hBQedIRCgsLo0aPL0ilf0mNaRQpMgWj7Y3OnANC46aabaiFgWRJmSM1gu7THxiJlu+2208+FH5kkwVaRYlt+EhqancdVg2h2PfL2/NmzZ8uePXtqXyhxM8yYmcaHFZZswCqF2laU3wO0w7XWWkvnj9qunHGQDQTBiTBkjuUcpp8pon7QoEE6nT66Kx3DTsJRBuOAOOnXEVZkJEuY3kYFWKchz+23316SjG3PaWID72TT0XtJRuOCcWAwo8Gn1RQpUIRBzqaVLpGI5ZxIg8k2Bdv8dB+OjAOTG/6eV3svpOk/GAf+yt1WrjxO9FeWaSizlSvGAPhux6QqlHHhsHDhwmC8YS77oXyu3guGIqU12LUnjUUKFCALFizQdGK2CA4jTaXIhRdeSHWQp512WkmamS/peRpFCl70tJUxTIXBdDOQsxrMgpkBDmhJ+VIPi5Tjjz9eC/+II44wH6vP8WGKmXtaN4xILJfCoAMDDTPExduWb5bp67mrBuFr/bJKl6kRxham4QCfSeRlG0t9EMjJLHxghM3xaCct4D2qPMZBmMN+XsOPVNxHFCg+6qijJEz5o34rrLCCvhcf1UjH8rBwYByEOeLHNZZpQO74YbeecMAuddglD+lz5swJkrFbF1muYTfA8MRGkDF0wjgIMaSBl9UUKVdccYWWc8eOHcuUYuTHDf5yKNjmp/twZByY3PD3vNp7odb+g2rMOCBO+HWsRa48TvRLhq6osZGrObGKFS7hMH78+OAdEzVmcNUfGIoUOJttn3r7YyhA8AFPAbNOWKKCF+OJJ54oP/nkE52ESmHrwqQKk7h8toqUxYsX63XZmM2m7fQwaLvhhhuI5OAIB3hIg8UHBXz40dp9pNVDkQKzVgwa8cNSIgoYmNBHBHazoIDlP6Clc+fOJU764uJty6fn+Hx01SB8rmNWaaPtbdGe4HyaAmS27777auzi4wlKFwSalQKmhw4dKuFPBQHa6sGDB+v8WPMYZdbPONCs8voPFMGQLX5QDNsGzD7gXnY2a8s5P/Jjpy7IDz7JHn300UBZirYLx9NIg4KMAhzTIg6/iy++mKITHbk/SMSmumSqpkjBsk6akMLYkAa61157bSBv+MOhYJuf7sORcWByw8/zpO8F2/7DrC3jwOSGX+e2cuVxol/yc0WNrVxhcICxASxZ4WOFNqF49dVXtTU80vDdEBVc9QeBIoV27Rk4cKDeuSdOcZEkvqWlRcKrfqWAwVGSsqrlSapIwYcaPr5o22IamOEa6/GjAma+kA95wBf4fIHlCnYMofvroUgBLdiVB8+AMgUKJzx7lVVW0XFdu3aVUAhRABhoQII1xZi9Q4iLR5pN+cjve3DVIHyvZxbpw8cyLdeBFQE8affo0SNoQ8D5ddddV1I1zERSG4NlWN++fSW2MUMcMA5lYFRgHERxxa84WlqIj+ZaAitSauGaP/fAqoysTtCe8Y4ny1Bco6/Asl8EWKlRP4Aj7ov74QM8HLg/CHOkcdfVFCmgBDsTknyxxBNjG7reZ599yoi1zU8FMA6IE/4ek74XbPqPcG0ZB2GO+HNdi1x5nOiP/FxSYiNXTM5i5z96b8DCsU+fPsE3B1wLxC0jdtUfBIqUls4/LO2B0qCaAqNaOgZG2HUD+zfDPB+zDVjPhLVwZ5xxRury6fmVFCkw/SfmmsdVV11VYpYcs93YZi8uYAkP1mKTkgKKGOwS0NbWFrzwTfNj2s8aThDD4dxzz9W0wDM1BbIYicoPrdr555+v98Mm5c9yyy0nMbiI2hpy7Nix2uoHNKJeFOLibcun8nw9umoQvtYv63RhfSK0wtSWqD2iHd53331l1UN/MXLkSL3Mh5QwwD+swSZMmFCWnyIYB8QJP49QsJPso5ZmJaEauEAZcBIeFxgHcZzxIx7jAPjBoWV9kCcUpviYmjFjRkDkxIkTA7wQbuKO7Hw6YJsXJ6bj4Ndffz2WJjiPhgUSyRUKc1io0Mxi+Ebb/Lif+4MwF/26tn0vJO0/wrVkHIQ54te1rVx5nOiX/FxRYytXfBMfcMABJUYO2KgAFu/z5s2LJctVf9AOlijqBabtZhcsmCeUfxRcCmVpoY8u/igrDqGWpIhFixYJZUnhosigjLFj7tDn/QcMDOJcn6glBGL+/PlCab2EUmq4Lr5qeeCbWjsulOM1oQaeVfPbZqh3+bb01JJfaSX1bb169arldr6nQRxQDmeF0g4LpVQVStkqlOKv6pPRZ+AepVkWShFTMT/joCJ7CpPIOMiGqNEPoG3jvaZMc52/XxkH2cABqFSKF6Em3fQ4S1niViXcJj/joCo7M5nBtv9gHGRDzLZyRa14nJgN2dpSaSNXlK0sIYVSxOjxRLVnueoPGqJIqVaZNOmNUKSkoY/vbQwHXDWIxlDLT6kXBxgH9eJstsplHGRLXvWilnFQL85mq1zGQbbkVS9qGQf14my2ymUcZEte9aLWFQ7atbZ2kUKq/4rSelmk1IsJKJcVKfXkbnbKdtUgslNjpjSKA4yDKK4UL45xUDyZR9WYcRDFleLFMQ6KJ/OoGjMOorhSvDjGQfFkHlVjVzgosUhZuGC+6D+gv36ey6U9URVwFceKFFeczHY5rhpEtrnA1DMOGAPgAOOAccA4YAwQB7g/IE4U+8g4KLb8qfaMA+JEsY+ucFCiSIFFitrDWWB9KitSig2wrNXeVYPIWr2Z3lIOMA5K+VHUK8ZBUSVfWm/GQSk/inrFOCiq5EvrzTgo5UdRrxgHRZV8ab1d4SCkSJmvnM2yRUopq/kqCxxw1SCyUFemMZ4DjIN43hQphXFQJGnH15VxEM+bIqUwDook7fi6Mg7ieVOkFMZBkaQdX1dXOChRpGBpz7Dhw/RT586dG/90j1KOP+5YTU2nzi0eUcWkMAeYA8wB5gBzgDnAHGAOMAeYA8wB5gBzgDmQRw5oRYre/1jVDkt7hg8frnzPStHW1paJ+rIiJRNiYiKZA8wB5gBzgDnAHGAOMAeYA8wB5gBzgDmQCw6UWKTwrj25kGkhK+HKRKuQzMtRpRkHORJmiqowDlIwL0e3Mg5yJMwUVWEcpGBejm5lHORImCmqwjhIwbwc3eoKBz9sf6ysUBa+u0A7mwWf2NlsjtBSgKq4ahAFYFWuq8g4yLV4E1eOcZCYVbnOyDjItXgTV45xkJhVuc7IOMi1eBNXjnGQmFW5zugKB2yRkmuYFKdyrhpEcTiWz5oyDvIpV9taMQ5sOZbP/IyDfMrVtlaMA1uO5TM/4yCfcrWtFePAlmP5zO8KB0qR0kW5SJHq3399pPD2x/kETN5r5apB5J1Pea8f4yDvEk5WP8ZBMj7lPRfjIO8STlY/xkEyPuU9F+Mg7xJOVj/GQTI+5T2XKxywRUrekVKQ+rlqEAVhV26ryTjIrWitKsY4sGJXbjMzDnIrWquKMQ6s2JXbzIyD3IrWqmKMAyt25TazKxwEPlLAqflq154BAwboXXteeOGFTDBv7Jg7NJ39BwzMBL1MZH044KpB1Ic6LrVRHGAcNIrTfj+HceC3fBpFHeOgUZz2+zmMA7/l0yjqGAeN4rTfz2Ec+C2fRlHnCgfaIsXc/hiKFAR2NtsoUfJzXHDAVYNwQQuX0TwOMA6ax3ufnsw48EkazaOFcdA83vv0ZMaBT9JoHi2Mg+bx3qcnMw58kkbzaHGFgx+W9hi79kh1nkeLFNTr3XffFW+++aa2uunevbtYa621RLt27ZonSX6yEw64ahBOiOFCmsYBxkHTWO/VgxkHXomjacQwDprGeq8ezDjwShxNI4Zx0DTWe/VgxoFX4mgaMa5wEDibRU1oaQ/Oa7VIOeigg8SvfvUrFFE1PPTQQ+Lss8+umq9ShiRLe7777jtx3XXXiSuvvFLMnTu3pDgoU4YOHSpOPvlk0b59+5I0vsgOB1w1iOzUOHuUPvnkk+KJJ54QOK644opi9913F7vttptobW2NrMycOXPE+PHjxaxZs8TXX38tNttsM7HXXnuJnXfeOTI/IhkHsazxJuGTTz4RN954o3jmmWfE+++/L7p27Sp23XVXcfjhh4sll1yyhM4RI0Zo5XdJpHExfPjwSPwwDgwmeXpq277feustMW7cOPH000+LxYsXi6233loMGTJE9wtxVWQcxHHGn3jb9wLjwB/ZuaTEtj+wxQ1o5f7ApcTqU1YSHLz00kvi+uuvT0QAxpmDBg0qycs4KGGHlxeZwkFry9qy5X8/ZZkhBw4cqH9rrrmmrOX329/+Vhl+JAsTJ06s6RkmXdOmTpH4xYWvvvpKqsEWVi/pX8eOHeUuu+wi1cBdrr766kG8Uv7EFcHxGeDAiy++KPHj4CcHTjnllKCtUVvEUSkv5ciRI8uIVopPucwyy5Tdgz7qzDPPlN9++23ZPYhgHESyxZvImTNnlvS7JhZ69+4tFy1aVEKrshgsw4B5z7PPPluSny4YB8QJP4+27VtZyMrOnTuXYaFDhw7ywQcfjK0k4yCWNV4k2L4XGAdeiM05Ebb9gS1uiGDuD4gTfh6T4uD+++8vexeY4wLzHOPFcGAchDni13XWcBAs7VHA0xYpabc/Xm+99QTKiAu9evUSBx54oE4ePXq0+OUvfxmXNVF8NYuUYcOGicsvv1yXhWedf/75Qg2+9DVmuS+44AKBWU8s77nnnnvEvvvum+i5nMkvDrCG2S95mNTA6uyiiy7SFl9nnHGG2HvvvcU777wjbr75ZvHII4/orI8++mhgaYK0Ll266HjkRRtGW7377rvFqFGjdPyUKVOEUvqaj9HnjIMylngT8fHHnMfyogAAA0JJREFUH4t1111XfPDBB6KlpUWcc845omfPnhoD11xzjfjss8/0u+Guu+7SNKtXu1h66aU1bq6++urIeuBdopTjZWmMgzKWeBNh276///570aNHDwFLBOAFfcnyyy8vLrnkEm3dttRSS4m3335bL9MNV5JxEOaIP9e27wXGgT+yc0mJbX9gixuTVu4PTG74dW6Dg7a2NnHvvffGVgCrEGCtioCVCKeffnpJXsZBCTu8usgkDmCRoq1SOrfKdu3aa2sU5XA2taWIaTVinkOTiKCALrfffvvUz6lkkaIGXlINxLXmcscdd5TqRayfHf7Tr18/nUctN5C4hwJmR2fPni3VciAdhftxjRkw5WeFsunjN998Ix9//HE5bdo0+eGHH5akmRdffvmlnDRpkoQ1zsKFC82k4JyeqzoLHac+IuVf//pX+cUXXwR5+KSUA6xhLuWHL1doM7ACUz21PO2000rIQlvYaKONdNq2224bpCmTTR2nPrrL2uymm26q00499dQgv3nCODC54df5WWedpWUHPLz22mslxCllt05TH8Xyo48+0mk4Ajdrr712Sd4kF4yDJFxqTh7b9v3www9rHCyxxBISFgkU1LIwSRZLwE9UYBxEcaX5cbW8FxgHzZdbPSiw6Q9qwY1JM/cHJjf8OrfBQTXKx44dq98Zq6yyilRLicuyMw7KWOJNRBZxIAJFilKowMw+7dIeU2kSPjeVGQ888EBqJQrKr6RIufPOO3VjgjLl1VdfjQXKv//9b7nsssvqvGPGjAnykUChWLrppptkp06ddB4M7rHEQFmzSCg5TjjhBAklDOLxwzkUJWaAckXNrkuYIlM+HHEvlh+ZgZ47ePBgqaxlgrJffvllMxufGxzgjtFghkenkAvhXa1pLqPsqaee0uloT8oRtE5XPot03P7771+WX1kx6LQ999yzLA0RjINItngRCcUYsAD5hgP60dtuu03eeuutgSIafTbyb7HFFuHsVa8ZB1VZ1LQMtu37yCOP1DjYZpttymg+7rjjdNrmm29eloYIxkEkW5oeWct7gXHQdLHVhQCb/qAW3JhEc39gcsOvcxscVKIck/Q0QYfxYlRgHERxxY+4LOLg/wEAAP//fSiEZAAAQABJREFU7H0HwBU11nYAUcEuKvDSVEAFBEEQsStVgRVQsPcVXF0LWEDd37aKDflsWFnLp4KooCI2xFVsKCiCYkM/xUa3FxBb/jzZTcidcu/Mvbn3ZmZO4L4zk2Rmkuc8SWbOnJywJk2a8ZqapryJ+NWqVYv37NmT9+rVi2+11VbWfw8//DBXoXv37lau/+yMZzh+QeG8887jjDG+8847ByXnxHXt2lXmHTVqlI6/9dZbZdw666wjsWnUqBE/6qij+I477ijj69aty/fYYw+537ZtW37MMcfwxo0by+NmzZrx3377TV/roIMOkvE77LADv+qqq/jFF1/MN998cxl3wgkn6HzYUfddd911Zfpmm23G99tvP75kyZKcfHSwFoF33nmH40fBLQQeeughyWG0wx9//NFXuD///FO3gylTpsj0adOmyXOaNGnCV69enXNO7969ZdqNN96YE68OiAcKCbe2X375pebBG2+8EalwL7/8sjxn//33l/l/+ukn/t577/Fff/214PnEg4IQVS1D3Pa95557Sh5gPPeGiRMnyrRNNtnEmySPiQeBsFQ9sphxgXhQdbGVpQBx+oNieGMWmvoDEw239uPwIF/JH3zwQTkmbLDBBvyrr74KzEo8CITFicgk8oBBgQJFCn5QpECJUg5Fyu67787/+OMPKagZM2ZYUaJA2ZNPkdKvXz/ZoA455JCCBDniiCNk3gMOOEDnVQoNvASeeuqpHC99CHghxL0Rj98DDzygz5k7d66Onz9/voyfMGGCjGvevHnOy+Tbb7/Na9euzevUqcM/+ugjfQ3zvscdd1zOOToT7eQgQB1jDhzOHOClWbUTPAR5w5o1a3T6zTffLJN//vlnDqUlzsPD87PPPstxnWOPPVbGbbzxxnzx4sXeS8lj4kEgLFWPnDVrlpbzd999x5944gnZp0JBPGDAAH7NNdfwjz/+OKecjzzyiDync+fOfJdddpF9JThRr149vvfee/O33norJ795QDww0XBrP2773m677SQPxo0b56vICy+8oHn1yy+/+NKJBz5InIgoZlwgHjghOuuFiNMfFMMbs8DUH5houLUfhwdhJcc7Wvv27eWYcNZZZ4Vlkx9dwQUK7iGQRB4wWKRAmaIsUsqlSIGWUIW+fftWRJECxQUevM8//3x169DthRdeKPM2bdpU51EKjXbt2mkliko88MADZX4oYLwBFiS47+OPPy6T/vrXv8pjWKJ4A762Iu9NN92kk9R98eDw+++/63jaCUeABshwbKqZAiuCjTbaSHIcL794iVYB1gXKogtt4LLLLlNJfMWKFdKSDPHmb9ttt+WLFi3S+bw7xAMvIm4coy9UcuzRo4feV3HYbrHFFjnKkdtvv13ng8IZ1ny77rqrVKQgPyz6Xn/99cAKEg8CYXEmMk77hrUJ5H3ffff5yg9lmuLQ559/7ksnHvggcSKimHGBeOCE6MpSiKj9QTG8MQtM/YGJhnv7UXkQVnLMesB4sN566+W14CcehCHoRnzSeCAtUkxFSjmm9uDhVykEYK5tc9pQPouUFi1ayEYVZBLspYtSpGBKjgpKoYHyewMsRdBgR4wY4U3iLVu2lGlqKpN6WYRCZ/r06Tk/pUg555xz9HXy3Vdnop0cBKhjzIHDqQNYmqiXHSgZ99prLw6FCCzgVDy2mO6GgIclTLHD1DnEox23adNGWiTgnOOPP54vX748sI7Eg0BYqh5pmmRDprA0uvTSSzksCiZNmiRljPgtt9xST4mEIgWKbVijQOmmwmeffaanV8KiJSgQD4JQcSMubvtWU1zNjzGqJu+//77uQz788EMVrbfEAw2FcztxxwXigXMitFKguP1BXN6YhaT+wETDrf24PPCWHtYoHTt2lOPBySef7E3OOSYe5MDh1EESeaAVKeWc2oMHZRUGDx5cMUXKX/7yF9mohgwZom4fuj388MNlXkwHUiGfQgMvc3jwD1KktGrVSqYpRQq+tCJvvh98r6iQ774qD21zEaCOMRcP147uuuuunOlwUIjstNNOctoOLA3QNm644QZZ7MMOO0weY3rPK6+8oqvyxRdfyJdq5O3UqZOeKqgziB3igYmGO/uYzqn6vyDLPNNiBebbhcJTTz0lr4d50EpJb55DPDDRcGs/bvuGryRwZ/z48b6KvPbaa5pX33zzjS+deOCDxKmIOOMC8cAp0VkrTNz+ADeOwxuzoNQfmGi4tV8MD8waTJ06VY4F8Gn56aefmkm+feKBDxJnIpLIg0AfKbBKsWU1gq+JyukqHpBtXVddJ59Fyj/+8Q/ZsPDSVSh06dJF5jWtV/IpNOIoUpRJKvys3HHHHYE/fJlVId99VR7a5iJAHWMuHq4ewfx+zpw5/Pvvv9dF3HTTTWXbg+PIr7/+Wu7jxQm+hbzBdFoK6zZvIB54EXHj+M0339RyDfJlgTg1BUwp1PKVfOXKlfp68+bN82UlHvggcSKimPYNZ/HoD66++mpfHZRCDdYKQYF4EISKe3GFxgWUmHjgntxKLVEx/YF5zyi8MfNTf2Ci4c5+qTxATdQ7HHzpFQrEg0IIVSc9qTwou0WKOa/56KOPrqgiBZYweADDFIEFCxaEMgPmwcpsFC9zKuRTaMRRpMDRLspx5513qkvn3ea7b94TM5xIHWMyhQ8fF2gb+MHZqOlMDlM4gsLWW28t8997772+ZOKBDxInIuBADPOWIefnnnvOVyaY5TZs2FCmX3vttXJlHqzMBKUKBldvWLZsmcyL65nTflQ+4oFCwq1tMe0bDuAh5yCn8ZgehjTTt5lZY+KBiUZy9r3jAkpOPEiO/KKWtJj+IN+1g3hj5qf+wETDnf1SeQDn9RgH4Evtgw8+KFgx4kFBiKqSIak8MBQpTfSqPbYsUrDaglqqEsRVViQ2t/ksUvD1ev3115cNDMsbq1WDTIYgTvkwwYM+pg+okE+hEUeRMmzYMFkGLI/sDVjZ5+mnn+bm/O589/WeT8f/QYA6RjeZgFWsGjRoIH1fQGHpDVj6GwMgpsMhwDwfx/hhtR5vwIpZqk0HKUeJB17E3DlWTmb33Xdf33Sc2bNna7m/+uqr0rm3UqwErfY0efJkmR/cUqupmTUlHphouLNfTPseO3aslrV6nlA1UmM3xuOgQDwIQqX6cXHHBZSYeFB9udkuQdz+oBjemGWm/sBEw539uDzwlhx+LPHMGKRs9+bFMfEgCJXqxyWVB4YiBcsf17a6/PHdd9+tJTN06NCKK1JwczW9B40MDojMKQU//PADP+OMM/QDvDmtB+fmU2jEUaTA/Bg+IfB7/vnncWkZYJa44YYbyvtjzqcK+e6r8tA2FwHqGHPxcOUI/ivwsov2hxXBli5dKouGl98rrrhCtz2T/23btpXxrVu35jNnztQv3ZBx//79ZRrmywcF4kEQKm7Eqa9G4AJ8S61atUoWDNYqahU0+DxRU3+geEZeWCDBx4qaIrpw4ULt0BvnBQXiQRAqbsTFbd9wLK0cT59yyilacWY6nXzxxRcDK0c8CISl6pHFjAvEg6qLrSwFiNMfFMMbs9DUH5houLUfhwdmyfEhGs8J+OHDdJRAPIiCUnXyJJEHWpFiLn9swyIF3pPXrFkjJfF///d/0mzbpiWKulY+ixTcHF+wlCNZNDQ8qKNs8JuilBiIP/TQQ7X1jKJPPoVGHEUKrodVeXAfKFO6devGBw4cyJVvCCzTvHr1anXbvAocnYl2chCgjjEHDqcO4OsE3Ff879ChA1dLhCPuoIMOyrEWg3WCsjpBOto6VtNS14Dl2D333BNYR+JBICzORKp+E7KsV68eh6UgljHGMaZXQumswrvvvqtX80E6FHKwclRThLA6Wtj0L+KBQtG9bTHtGyveqfYPJ9QYM9XxgAEDQitJPAiFpuoJcccFFJh4UHWxWS9A3P6gGN6oQlN/oJBwbxuXB6oGynUCPrJFDcSDqEhVPl8SeaAVKTWN107twZdjpagodnv22WdrCZx++uklXy+sHIUUKSgEpu/gi3f79u31w5d6CGvXrp10/ho07QfLbyLfbrvtpuuidv7617/KtLPOOktF6e12220n0x599FEdh6+pl1xyCYcJWp06dWR6/fr1OR4CvUu55ruvviDt5CBAHWMOHM4dTJkyhavVeVTbQ5sePXq0tjgxC425klhBC3NeVX68eGPQhLPasEA8CEPGjXhYIo0bN45jmo9SiKAfxDLG06ZN8xUSfSNWesOyyIoHWAVt0KBBfPHixb78KoJ4oJBwc1tM+x4zZgxXK7eAC1DAwUJFWSoF1ZR4EISKO3FxxwWUnHjgjvxslSRuf1AMb1BW6g9sSaw814nLg1mzZunnAkwJjhqIB1GRqk6+pPGgVrt27fl3334rPxcvXbqYCWsU8YzC2FtvvSW3rv+ZOOE+WcQePXtFKqowI2fCDwoTliFMPJQxYZUS6Tybmb4VeAtfD0w4yGPiRdHmpTN7LfH1WtZdKMYyi0ESKi4chzIxvYcJayxWU1NTkP/CoowJqwOZT0zxYEIJmbeaxIO88DiVKKzwpGyFZQkTUzcKlk1MhWRCEcPAg0KBeFAIITfS47ZvlFr4PmPCxJ+1aNFCjuP5akI8yIeOO2lxxwWUnHjgjvxslSRufxCXN9Qf2JJUea8TlwdxS0M8iItYdfInhQe1evfqw1esWMFWrFwpXnDSr0ipDh3oruVGgDrGciOcjOsTD5Ihp3KXknhQboSTcX3iQTLkVO5SEg/KjXAyrk88SIacyl1K4kG5EU7G9W3xoFafPgdw4b2NiSWj2Bdffp56i5RkiJdKGRcBWw0i7n0pv1sIEA/ckke1SkM8qBbybt2XeOCWPKpVGuJBtZB3677EA7fkUa3SEA+qhbxb97XFg1q9e+/Pa4m6fSrM5z/6cCHr0bOHrGlap/a4JUYqjS0EbDUIW+Wh61QHAeJBdXB37a7EA9ckUp3yEA+qg7trdyUeuCaR6pSHeFAd3F27K/HANYlUpzy2eFCrj1CkiMAwveett+cz4QRQzjsmRUp1BEt3LQ4BWw2iuLvTWa4gQDxwRRLVLQfxoLr4u3J34oErkqhuOYgH1cXflbsTD1yRRHXLQTyoLv6u3N0WD7QiZaXwkTL/rfliag9ZpLgiZCpHdARsNYjod6ScLiJAPHBRKpUvE/Gg8pi7eEfigYtSqXyZiAeVx9zFOxIPXJRK5ctEPKg85i7e0RYP5NQeJixSoEh5SyhSRo4aKev7ySefuFhvX5mGDT1RxjVqXONLowhCgBAgBAgBQoAQIAQIAUKAECAECAFCgBAgBGwiIBUpmNrzlbRImcdGjRol9CqcLVq0yOZ9ynYtUqSUDVq6MCFACBAChAAhQAgQAoQAIUAIEAKEACFACHgQ0M5m4SNl/lvzaNUeD0B0mAwEbJloJaO2VMowBIgHYchkK554kC15h9WWeBCGTLbiiQfZkndYbYkHYchkK554kC15h9XWFg9q7S+WP/4TzmaXL2dvL3hLOpvFTcnZbBj0FO8iArYahIt1ozJFR4B4EB2rNOckHqRZutHrRjyIjlWacxIP0izd6HUjHkTHKs05iQdplm70utnigcfZLFmkRBcB5XQJAVsNwqU6UVniI0A8iI9ZGs8gHqRRqvHrRDyIj1kazyAepFGq8etEPIiPWRrPIB6kUarx62SLB7X6CIsU/uef0tkspvbQ8sfxhUFnVB8BWw2i+jWhEpSCAPGgFPTScy7xID2yLKUmxINS0EvPucSD9MiylJoQD0pBLz3nEg/SI8tSamKLB8IiRShS+FpFSs+ePWW5aGpPKeKhcyuNgK0GUely0/3sIkA8sItnUq9GPEiq5OyWm3hgF8+kXo14kFTJ2S038cAunkm9GvEgqZKzW25bPNBTe1bI5Y//M7UHq/a8/fbbdktcpqtNnHCfvHKPnr3KdAe6bBIQsNUgklBXKmM4AsSDcGyylEI8yJK0w+tKPAjHJkspxIMsSTu8rsSDcGyylEI8yJK0w+tqiwe1mtQ0FWqT/4SlSxfTqj3hmFOKwwjYahAOV5GKFgEB4kEEkDKQhXiQASFHqCLxIAJIGchCPMiAkCNUkXgQAaQMZCEeZEDIEapoiwdSkYL7wQpl2fKl0keKbYuUDTbYgK2zzjrs+++/j1C1eFnCLFJ+/PFHeaF69erJewdddc2aNezXX39ltWvXZihjJcPvv//OVq9ezerWrcvWX3/9St46lfey1SBSCU6GKkU8yJCw81SVeJAHnAwlEQ8yJOw8VSUe5AEnQ0nEgwwJO09ViQd5wMlQki0eCEVKM2GQ8h+blCUWLVKgHPjHP/7BevfuzVq0aMFq1arFlixZwmbNmsUuuOAC9s0331gRV5AiBQqKmpoa9t1337HjjjuO3XXXXYH32mWXXdgbb7zBunTpwl5//fXAPOWKvPnmm9nf//531qtXL/bMM8+U6zaZua6tBpEZwKpQUShSx48fz2bPni2dWzdv3pztt99+7Oijjw5Uds6dO5c9++yz7LXXXmM///wz22mnndhee+3FDjzwwNDSEw9CoXEmIS4P5syZw1566SWG7Q8//MDQb++2227sgAMOCK0T8SAUmqomvPfee+zWW2+NVIY+ffqwfv366byff/45mzRpkuwPMMbvuuuubODAgaxjx446j3eHeOBFxI3jUniwYMECNnnyZDZv3jyGj2GQf9++fdk+++wTWjniQSg0ziS8/PLLsp/HdqONNmJo/3h/aNKkSWAZaVwIhCXxkXF5QP1B4kUeWIG4PPBeZMyYMfK9vn379lLn4E3HsbVxAVN7av77E8oOLl7s5W+rrbbixf5at27N33nnHWHYEhyEQoWLB+Gir2+W69kZz3D8vOGyyy6DdogLSxi+aNEibzJ/+umnZTryTJ061Zde7ohx48bJ+wvnvuW+VSauD77l41wmQHC4kkIpwrfYYgvd5tDu1K9Dhw7822+/zSn9bbfdxuvUqaPzqLzYHnPMMXzVqlU5+dUB8UAh4eY2Lg+uu+66QA6AByeddJJYcO7PwIoSDwJhqXokxlqzLefbP/fcc3V5hc823rhxY9+5wuKUP/744zqfd4d44EXEjeNieXDLLbfw9dZbz8cDPLuCL8LSN7CCxINAWJyJPO2003wyRd8grMU5npW9gcYFLyLpOI7LA+oP0iF3by3i8sB7/owZMzjGBPQh++67rzdZH9saF/TUHnFDBosUG8sfDx48mN100024pHRae/nll7P69euzIUOG6K+IN9xwAxs9erTMU8qfIIsUXO+nn35i22yzDfvqq6/Y3/72NyYaXM5t8GUbGq+uXbvKL+Q5iRU4AD6nnnqq9EkjhF6BO6b7FtY0i+mGqSq1g2WYUK7KtghLMViktWzZkj333HOyn8A0PPQNDz74oCyfUHLqfmKPPfZgRx55JBMvUeypp56SFi2iF2Q33nijbD/eChEPvIi4cxyXB1OmTGEYSxBgeXDUUUcxTNWcNm0aE4o2OR31mmuuYWeddZavksQDHyRORIiPGuzhhx8OLcsff/zBRo0aJdOvvfZaNnz4cCaUZXIsh0UK+g08T2Aq7pVXXinHcEyP/eKLL1jDhg191yUe+CBxIqIYHnz55ZesWbNmsvz9+/dnI0eOlBYpDz30ELv99ttlPKx7YeXrDcQDLyLuHMNyHW0aU+zRl0O2kPUdd9whnxFQ0pkzZ2qLIxoX3JGdzZLE5QH1BzbRd+dacXngLTmeM2GFAn4gCEUKe/75573Z5LG1cQEWKdIqpXETocGpLa1RYCVhWn3E3X/kkUekxueXX37hW2+9tb6WmOLDRSVlmqiAjo97fTN/mEUKbiIesqVGCl8wFi9eLO+LP6JT1tpvMfDqeHNHmJDzJ554gj/wwANcmBCaSXofX9Hnz5/PxUOBjBNmpvzf//43F9MQdB6189FHH3HxosjFw6CMKmSRgi/u4sWRP/nkk3zZsmXqMjlbdf9PPvlEx0PD9thjj/GPP/5Yx2Vhx5ZmMQtYVbqO5513nmxvDRo04GgHZhDmdzJNvAxxMd1PJokpbzIOlm3eIKZzyLT999/fmySPiQeBsDgRGZcHxx57rJR1p06dfOXv3r27TIMFZVAgHgSh4n7cxIkTpVw33XRTLqaAyQJPnz5dxsFCDZYpKqxcuZIL5YlMQz8SFIgHQai4HxfEAzElTMoa44LXEk1M+5Rpp59+emDliAeBsFQ9EnLEc4F4q+FnnHFGTnnwDNy2bVuZBgt2FWhcUEikZ1sMD6g/SI/8VU2K4YE6V22FqwDZZ6BPwa8SFilMK1KEQgVmdDam9ogvzbJOy5cv9ylLxFx3mSa+IPnSTAVJ1P18ihR0xMocWHzZUjjLOgLgvffeW8epHeEzRU47wpQgJQhsxTxcrQRReVVDFj4buLCu4WJepzzn/fffV1k4FEbbbbddzrXEXF5+xRVXyDjv1J6vv/6aC408h8myeX9hVcOhmDKDuj+uceedd4opWjU558A8KiuBHpTclTQefMHlESNG+AoJ5ePdd9/NhR8jDu4jQEnSqFEjLr5I+/KLr9DyWnjACgrEgyBU3IiLy4Ptt99eyhp9qzdcf/31Mg19blAgHgSh4nacsEbRL07Cak0XVr04devWTcepnaFDh0oeBCnbkId4oJBKzjaMBxg/MI4cfPDBvsqAL0iDoj0oEA+CUKl+HOSinnOFhbivQMKnokyHmT7eJxBoXPDBlPiIYnhA/UHixe6rQDE8MC8irNVkf7HZZpvxCy+8UO5XRpHSpJn0kQKFCjorvJRDmRJVkRGU7+KLL9Z1O+KII/S18CCkvjLhxT/o3Lhx+RQpKISy/BBTi/iKFSu4cHSpO+4XX3xRlxM7mF+rlBHCoSHHw/pFF13EhTmpPMf79VMpMtZdd10tPOE8k8MHDAIUOTvuuKNMEw6zOL6WCOdZ0m+LGjy8ipSDDjpI5t9hhx34VVddxYHl5ptvLuNOOOEEeV31R90fSh/IDj4ogDfKrq4P65ssBHpQclPKwrxOcxFKylLDzjvvLK8H64agQDwIQqX6ccXwQDiT5K+++qq2YjRrgX4Rfdy2225rRut94oGGIjE7sNiETMW0HS6m5Opy77nnnqFtXlkubLLJJjq/uUM8MNFIxn4YD8SUPskDPEsJZ8M5lcFzFbgjpnzmxKsD4oFCwq2tmJYl5QbZiSm+vsLhC7V6/sVLEgKNCz6YEh9RDA+oP0i82H0VKIYH6iJQtG655ZayP7n//vu5ej+ujCLlv45m4XAWL+M2LFKgMBE+SmT9fvvtN37vvffysWPH6i/OiBNe1iuiSMEXb7E6iAQXzshgPYJOW3gEV/jrrVKyiBWHOCxmVBCrhshzoLAQyyWraC0oXE+sDuQbCK6++mp5HgaCTz/9VJ8H5YZypGkqUiZMmCDzo7zmoAJzZlgL4RxzaoQiCu6PL3PK0Rq2UMQg3nTYpwuQwh16UHJTqOqLEriIaX2YLid8A3EoHAcMGCCn3+Wbhoa+AlPnYLWCPgPX2XjjjUMdCxMP0skDb60wxoALhx12mDdJHhMPAmFxNhIvTGJes5Sp8JOQU05l0RnkdPKFF16Q54ALXotNXIR4kAOl8wf5eIAp07BUhKyhXBMrunEo55XFEsYFcwq3WVnigYmGO/uQH+SJH16ivAHP7ypdrHTpTfYd07jggyQREcXwgPqDRIg2ViGL4YG6Ad4n0FcccsghMkq9H1dGkSIsUtT0HluKFFiVeK03VGWxFc4jrShRcJ9CFim437/+9S/dGatOOcjvCQZxdNx4eTMDjpXi44MPPtBJSlB40FNKDJ0odlBP3O+UU04xo+W+MkszFSl//etfZX5YongDpjvgWsJJrU5S92/Xrp1vzvDJJ58s8wsHjTp/mnfoQclN6WJFDdXmhCNrva/isIUl1VtvvRVYgVdeeSXnHEzpCXtYxgWIB4EwVj2yVB6YFVDmmxiv1DRSMx37xAMvIm4fCwe0sp3Dn5my6FQlhrUJ+on77rtPRekt+g3Vlyj/YzpR7BAPTDTc38/HA5QeVsXKKlHJHVtYpkHhHhaIB2HIVDceH1zVlHhMtVc+FFEqsUQ2F87mdfvGSpz5Ao0L+dBxO61YHlB/4LZc45auWB7ANQDGASjalTWrej+ujCJFWKKYihQbU3vwldB0kAqTG/MhB45c8dUp7jSeoPxRFClQhLRq1Up3yNBcRQlwfgl/J7AgUUvumS98SlC77rpr4OW6dOki7wlLE29QU45MRYoaNM4//3wOB3vmTylSzjnnHH2pfPcXno/lvZV2Tp+U0h16UHJTsKapHjo6fEm89NJLOb4kT5o0icMBNeJhkudVYKJGkCvaEazEkA8/+BDCQ1ZQIB4EoVL9uFJ5oGoACyf14I3lj8MC8SAMGffi8QEDPsjQtvEBwBvU1FlM+fAGjM+qX/jwww+9yaRI8SHibkQhHuAhW6zoxOGYHDLH2NGmTRtprQul6vHHH6/9aHhrSf2BFxF3jmFpotowfBuIFTWlYgwyVfHYmi4DvKWnccGLSPKO4/KA+oPkyThKiePyALM9YI2IPgIf7FRQ78cVVaTYmtoDhYVafQNEP/HEE7XCBBX67LPPZD1hwQENdJByJE5cFEUKbiiWUtOd8ty5cxXWvi2+amDVEMzTNjtxtR9HkaIe+INWBgpSpODLvLpP2Na0MFFECVLk/L//9//ktUiR4hMxRVQQAaznrrgcZGllWirArC8swN8QFIt4yML1sBpY0OpY9MAchmB1423wAD6t1IAJxXLQVA5VS+KBQsL97dSpU2WbxtRZcwqsKjl8YqDNjx8/XkXprZp2i3T13KETxQ7xwETD7f1CPMAHOsgZXx1hqagCpmErv3BwOgxntd5APPAi4tYxvijjuR/yxQ9KFKzEhOlbapr6DTfcEFhoGhcCYUlkZBweUH+QSBFHKnRUHkD5DjcB6DOgazCDej+umCIFShRTkQIriTjKDDPvoYcequsCvyhmGvYHDx6s0+FV15se9ziqIgUdsuqklemPLsh/d2AaqFbrwZdzdNxi/Wm55KI6N44iRS3rhmWMvSFIkaJMmOFDAoqfoB++5KugiEKKFHpgVpxwbfvmm2/qdhf04os4pXAMe1Ay6wTrNvWl6umnnzaT5D49MPsgcSKiVB5gSXdllYSVOYK4ZFaUeGCi4fa+styEr4ugoKZywOeYN2BsxdgMq5WgQDwIQsXNuHw8wIpu6hksyMLXdGYdtPoL8cBNmXtLBct1TLtXi1IgHUuhQ/ZwLO0NNC54EUnHcSEeUH+QDjkXqkUhHqjVG2GEgI8w4IX6jRkzRvYbWDodcZgJ4w22xoWc5Y/xglKqs1lzyV2YWnoVIy1bttR1gTLBmx732KYiBRpwdNjwbQJNlxmKmdoDAeJ60K55Q5AiZffdd5f5saJRlECKlLUo2WoQa69IezYQgNWIajtB/izQzho2bCh5j+WO58+fz9FHwBdK0JdFlEk5HAT/vYF44EXEjeO4PDBLDUfDSsGNvtl0+G3mM/eJByYa7u7D+TTGSDhTN/2PmSWG4gx5gqwrMU0QaU2bNjVP0fvEAw2F0zuFeGA6IVRWzd4KwUoRXMDiBt5APPAikozj119/XcoUcvU6padxIRkytFFKLw+oP7CBavKu4eVBv379dP+APiLfD7NlvMHWuGAoUproVXtKsUjByhoqwMmrVzFiLuEL56re9LjHNhUp9erVk4KAltsMcECr5uXGsUg55phj5PUOP/xw83Jy/4wzzpBppo+UYcOGyTic5w14wcQXeHMeOClS1qJkq0GsvSLt2UJAOZmFiZ3XKbNaKQsdIJa6XblypWwD6thbBjijw0sX0jHVxxuIB15E3DmOwwNV6muuuUZbIA0fPtyn4Fb5vFvigRcRN49hTYm2HKQkUSWGZSvywMLTq0RTfsXw0SYoEA+CUHEvrhAPMG0LHMAP1sXegFUOlcXaggULvMk0xcuHiBsRmGaPdg0fafB35A14X4DMvS9BNC54kUr2cVweUH+QbHmHlT4uD7BaLqb+Bv023HBD2XfgIxzS4RbAG2w9HxiKFCx/XLtkixQs3Wv6LnjggQf40UcfzQcNGsRhhaHMa/BC1bp1a6cUKXBchk77ggsu0HjjxU3NwUJaHEUK5nTjHAzwmMuNgK/sUDCp6QmmIgVmyojHD1OKVIB5kyKFad1CihSFEE3tWYuEe3vqayPaAlargr8TBPQTajly+CRS0zXUMqhoj++++66uEDo99COqTUHp4g22Okbvdem4dATi8gCOJSFr/K644opYBSAexIKrKpnxYUDJFx8KwgKm86kPGVgBT1mLmk7p4CchKBAPglBxKy4qD2ClCL7guRELACilPGQMB+RIwwNzUCAeBKFS/TjIUE2BhzX80qVLZaHQxtHnq/7BfO6lcaH6crNdgmJ4QP2BbSlU/3rF8CCs1HAVgP6jYj5SzFV70JmVYpECi5KhQ4eG1U3Go5PEfOe41idB+W1apOCLJ4DHUsfAYeDAgdK5IbTlqkOPo0hBPZUSBtYu+HqGOuBa8E6OralIAThYlQfxUKZ069ZNlkHNEYWSavXq1RpbUqRoKOiL01oonNzDF2PVhtAWunbtyjfffHMZB/8Gph8hvFSp6UDQJu+44458m2220efjOrfccktgPemBORAWZyKj8gDWRoov2EIZHfbDC7U3EA+8iLh3rKay4iW4UMBKdooPmNqHsVAd51uFj3hQCNnqp0flAawXldUJZI9nqWbNmmkeYMy45557AitEPAiExYlI+LxRbRnPvR06dNDPx4g/6KCD9DRfGhecEFlZChGHBygA9QdlEUPVLxqXB2EFrooipabx2qk9UCIEKS3ixMFUF/OZ1NcjbGGWiwENU1fiXCtf3qiKFPhnUJ11kHd/CANTeDAHX339wldyrA6xSKzkox7cTLPR22+/XV4TvlDCAqxJhgwZoi1Kampq+MiRI+WAj/L07t0751QsAXvJJZdwmLpCoYM89evX53hYxJc5M+S7Pxz54lx4ts5CoAclt6WM9g+LNEzvUEoS8BqKxmnTpvkKj+WNYa2i2qJqu7BWefTRR335VQTxQCHh5jYqD5588kndXyvZh22DnBQTD9yUvyoVlitV8sSUvigBzuNgcaDOgyIWFipBy6ar6xEPFBJubuPyAL4RMC9eTe8EF6CYhzIGTkrDAvEgDBk34rHQg1qdR7VvPPePHj1aWx6hpDQuuCGvcpUiKg/U/ak/UEikaxuXB0G1V35Iu3fvHpQs42yNC7Xatt0RFxR9F2MLF77PxIuO3BeWF3Jb6h/xBYE1btyYCSUFE6b4TDz0lHrJnPMnTrhPHvfo2SsnvpQDMcWALVmyhLVo0YIJZUYpl9Ln4prCczATD4I6rtDOt99+y8TcXyYc6THx4FAoe6bTxRQQWf927dplGockVF5YVTHhMJAJp7JMKEryFllMhZN5hRKWia+PTCg38+YnHuSFx6nEODyIW3DiQVzEkpNfrNDChAmwHJ/FF+y8BSce5IUnsYkYDzCG4LlIOJkt+JxGPEiGqPGMLKb3MGGFzcRHR+vPvcSDdPKA+oNkyDVuKZPSH9Rq06YdppEwKFPKoUiJC1zc/OVQpMQtA+WvPgI0QFZfBi6UgHjgghSqXwbiQfVl4EIJiAcuSKH6ZSAeVF8GLpSAeOCCFKpfBuJB9WXgQgls8aDsFinlBosUKeVGOBnXt9UgklFbKmUYAsSDMGSyFU88yJa8w2pLPAhDJlvxxINsyTustsSDMGSyFU88yJa8w2priwdSkYKbkEVKGNQUnwQEbDWIJNSVyhiOAPEgHJsspRAPsiTt8LoSD8KxyVIK8SBL0g6vK/EgHJsspRAPsiTt8Lra4oHPIkU4ZmGY6mPLR0p4FeykkEWKHRyTfhVbDSLpOGS9/MSDrDPgP/UnHhAPgADxgHhAPCAOKASoP1BIZHtLPMi2/FXtbfHAp0ix7WxWFbhcW1KklAvZZF3XVoNIVq2ptF4EiAdeRLJ5TDzIpty9tSYeeBHJ5jHxIJty99aaeOBFJJvHxINsyt1ba1s88ClSxNK88l6ffPKJ955OHg8beqIsV6PGNU6WjwpFCBAChAAhQAgQAoQAIUAIEAKEACFACBAC6UEgR5HywQfvs1GjRkp/KYsWLUpELUmRkggxUSEJAUKAECAECAFCgBAgBAgBQoAQIAQIgVQgIBUpqAk5m02FPDNbCVsmWpkFMCUVJx6kRJAlVoN4UCKAKTmdeJASQZZYDeJBiQCm5HTiQUoEWWI1iAclApiS023xQFukQJHy4YcLWY8e3SVE5Gw2JUzJSDVsNYiMwJXaahIPUivaWBUjHsSCK7WZiQepFW2sihEPYsGV2szEg9SKNlbFiAex4EptZls80IoUILVw4ftCkdJDgkaKlNRyJ5UVs9UgUglOhipFPMiQsPNUlXiQB5wMJREPMiTsPFUlHuQBJ0NJxIMMCTtPVYkHecDJUJItHvgUKbT8cYZYlKKq2moQKYIkk1UhHmRS7L5KEw98kGQygniQSbH7Kk088EGSyQjiQSbF7qs08cAHSSYjbPHAp0ghi5RM8inxlbbVIBIPRMYrQDzIOAH+W33iAfEACBAPiAfEA+KAQoD6A4VEtrfEg2zLX9XeFg8CFSnwl/L222+rezm9nTjhPlm+Hj17OV1OKlx5EbDVIMpbSrp6uREgHpQb4WRcn3iQDDmVu5TEg3IjnIzrEw+SIadyl5J4UG6Ek3F94kEy5FTuUtriQaAiBYUnHynlFiFd3yYCthqEzTLRtSqPAPGg8pi7eEfigYtSqXyZiAeVx9zFOxIPXJRK5ctEPKg85i7ekXjgolQqXyZbPJCKFBT/zz//1Kv22LZI2Xjjjdlvv/3GVq9ebR2pOBYpq1atYn/88QerW7cuW3/99Usqy4oVK9gWW2zBateuXdJ16GQ7CNhqEHZKQ1epFgLEg2oh79Z9iQduyaNapSEeVAt5t+5LPHBLHtUqDfGgWsi7dV/igVvyqFZpbPGgbBYpLVu2ZCeddBLbbbfdWOvWrdnvv//O5syZw55//nn2v//7v+yHH36wgl1URcqvv/7KGjZsyL777jvWtm1bPXe6mEKMHz9e1q1r167stddeK+YSdI5lBGw1CMvFyvzl3nvvPXbrrbdGwqFPnz6sX79+Ou+CBQvY5MmT2bx589iaNWtYx44dWd++fdk+++yj83h3iAdeRNw7/v777xn60NmzZ7OVK1ey5s2bs/32248dffTRbJ111ilY4DFjxrDXX3+dtW/fnl1wwQWB+YkHgbA4Ezl69Gi2fPny0PKMGjWKNWnSJDQdCcSDvPAkJjFOf1Asb6g/cJ8OL7/8MnvppZcYthtttBHD80Dv3r1z+oFSnieAAPHATR6UItc4/YeqPfFAIVH57eeff84uuugiabwxduxYaZAQVArkmzRpknzHhhHGrrvuygYOHCjfA2zkxzWs8aBt2x15mzbt5E9YV/BevXrJ31ZbbcWL/XXr1o0vW7ZMGLYEB1F4vv322xd9fbNcz854huNXKDz++ONc4KZ/77zzTqFTQtMvu+wyeZ2tt946NA8lVBYByLMUmVa2tNm529SpU3WbM9tf0P65556rgbnlllv4euut5zu3Vq1aHPmEYlbnNXeIByYa7u3PnTuXC0s+n1zBhw4dOvBvv/02b6FnzJjBwQHk33fffUPzEg9CoXEiQXzUCOSA6heEoixvOYkHeeFJTGLc/qBY3lB/4DYlTjvttMD+AO8k48aN04Uv9nlCXYB4oJBwa1usXOP2H6rWxAOFRGW3wF0YVui2/tFHHwUWQPho5Y0bN9b51HNBvXr1ON7lvSFufnW+LR74LFJsLH/8xhtvsGbNmom6M/bQQw+xKVOmyK+Oxx57LGvXrp2Mv/vuuxm+OpUaolqkHHPMMezee+/Vt4NG7OKLL9bHcXYwPQhfRFu1ahWqTYtzPcpbOgLWNIulF4WuYCCwaNEi9vDDDxsxubtoS6ofuPbaa9nw4cPZl19+qfuP/v37s5EjR0qLFPQlt99+u7zAM888w4TSN/di4oh44IPEmQhYA8I68auvvmI1NTXSmgSWi8899xy76aab2I8//siGDBnCHnzwwcAy43xYoYAfCEKRIi0cgzITD4JQcSNOPMSwddddV06Lvf766wMLBR40aNAgMI14EAhL4iLj9gel8Ib6A3fp8Y9//INdfvnlsj8466yzGMZ89PF33HGHHBtQ8pkzZ0pL1GKeJ8yaEw9MNNzZL0aucfsPs7bEAxON8u/D4ui+++5jeMb/5Zdf9A2FIkW+R+sIsQM3I9tssw2DRQqeD9E3bLDBBuzKK6+U1mpwzfHFF1/IGSY4L25+817WeACLFPx22KEtVxYpPXv2LNpaZM8991TKHi6m8eRcB18cv/76a5mOL8rQTJnWJcXsR7FIEYLjwk+L1G4JocitmN6jyykEwefPny9/woRIx6sdnI904YBXRuGrKY4//vhjlYW2VUbAlmaxytXI3O0nTpwo2+Omm27KhYmmrL+YCiTj0D+gbZphp512kmmnn366Ga33iQcaCud2zjvvPCk78YLMvV8ixDQNmSYGSf7NN98Ell1M/ZF5xEAot2SREgiT85GQL2TYtGnTospKPCgKNudOitsflMIbGhecE78sEMZ3jAfoD84444ycQgqfhuLdpK1MEy4CctLCDoKeJ8y8xAMTjeTsB8k1bv9h1pZ4YKJR3n2h9JBtWD23YcaK2vc+B6Ik06dPl+l16tThsDRRQUwD58oiEc+LKsTNr87D1hYPhL8Qc2pPnZKn9px99tm6nGeeeaZPUSK+OOv0E044wZceV5kSRZGizMaEdoujc65fv74UFEBEgPJEaLxk3P3336/Lp3bEPC2Zhg4fCiAxv18eizlbKgttq4yArQZR5Wpk6vbCGkU/KAlfF7ruI0aMkO3r4IMP1nFqB/nQCR9wwAEqKmdLPMiBw6kDZdIJ+XqD8IHDhZUiv+uuu7Sy3cwjrBql3DfbbDN+4YUXyn1SpJgIJWd/4cKFUn4777xz7EITD2JD5uwJcfuDUnhD44KbNIBc1EuV8I3iK+SsWbNkOqZzCp9KvnQzIux5wsxDPDDRSMZ+mFzj9h9mbYkHJhrl3YciRSzuwmGggXdxYWmi23yQIkXMXJHpULh4w9ChQ2Vap06ddFLc/PpEsWOLBx5FSm1ZWfhJiavQUPmvvvpqXU58OVLxaium9uj06667zpeu8kXdRlGkHHHEERJ8YTYo7z1o0CB5LKb36LIccsghMu7II4/UcWrnqKOOkmlQ/CCQIkUh487WVoNwp0bpL4mYwiHbFZSYYrqHrvC0adNkvHA2KZWcOkHsCOdzMu3GG280o/U+8UBD4dSOMNWWcsNDs5j6GatseIDecsst5flQdCuLJVKkxILRmcx4YQIP9t9/f1mmn376iQvTXy4cwuctI/EgLzyJSiymPyiWNwCGxgU36SGm6+pxQUzt9BUSFiubb765zAMlar4Q9jxhnkM8MNFIxn6QXIvpP8zaEg9MNMq/b47thRQpmNWC5wNYHHmDskzaZJNNdFLc/PpEsWOLB0w5msVWTe0pRZFyyimn6HKK1Xl8ipKDDjpIp+MLZFSFSVi+QooUWJsID+BSMC+++KK8N+4LQbVp00aXRXXo6LRNR5bYVx35E088IfOTIkXD5syOrQbhTIVSXhA8IAl/F7IdKgWnqvLPP//MGzVqJNPQST777LPy5VtpnjFNb/HixSp7zpZ4kAOHMwfqyyL6XTG3maMvPfXUU7lYrYcPGDCAX3PNNaFTJZGO86DsRiBFijNiLaogjzzyiJRn586d+S677CKfOyBfOJLbe++99RRa78WJB15EkntcTH9QLG+AEo0LbnIFSnW0ffzwDO4NsFRU6TfffLM3WR/ne57QmcQO8cBEw/39MLkW03+YtSUemGhUdr+QImW77baTbd50Mq1K+MILL+j+AC43EOLmV9fC1hYPhPPX9nynnTrxTp06W1Gk7L777hymWAj40gQzbpjw4uvTbbfdlqOkePTRR8uuSBGOLiXw+KKpyoWv35h/hQ4aQCLg5U1N+RFLsMk4/ME+8kEDhk4dgRQpEgan/thqEE5VKsWFUe0SK/MsWbLEV9MVK1bIfkM9RKnttttuyxctWuTLryKIBwoJt7bmqmk9evTQg6GSK7ZYzUf5oVKlx1QfpEGxpqyWSJGi0EnmVjiM1vLHx5sddtiBY5osFCmQNT5ceFftIR4kU9ZhpS6mPyiGN+r+NC4oJNza4h1BfeiEEhVKdhVgpbbHHnvovgKrZYaFQs8T6jzigUIiGdswuRbTf5g1Jh6YaFR2v5AiBe/aeA4Qzml9BcPzIdLww3UQ4uY3L2qLB+zgg4fwIUMOlT8oFzCPqRSLFFiOQNEQJeALQ5ilSdT4QhYphx56qAT9+OOPzynSPvvsI+PN6T2DBw+WcWIVEZ1XrBgi4zC9RwVSpCgk3NnaahDu1Ci9JcFXho4dO8p2dfLJJ/sqiocrtEE4HkWH2aJFC2k9hpcuzJVGWw6bL0088MHpRISy+FODICyNLr30Uo4vDPBBBRkjDQrv3377TZb5008/1U7CzSXvSJHihEiLLgReiOFoFtYoeFlS4bPPPuM77rij5AEslVQgHigk0rMtpj+IyxsTLRoXTDTc2oeliRoX4ANrr7324vhgopa5V2lilc3Aghd6njBPIh6YaLi9n0+uxfQfZm2JByYald0vpEgRK/rJ/gBTurzh/fff133Fhx9+KJPj5jevaYsHYrnJ/yhRBg8+hK+zzjolO5uFAkQsbclHjx4tLVLMQuNByXQ0iK9MURUmYfnyKVJgZaKcyMIi5p///Kf+4QsYOmhzes8DDzwg40w/LkhHPljPqECKFIWEO1tbDcKdGqW3JMr5M/obvCR5w2GHHSbbHKwQXnnlFZ0Mp1V4+UJ7hLMpZWGmM4gd4oGJhjv7M2bMkHKD7K666ipfwcwvTDD3xkMUXqaR/8QTT8zJT4qUHDhSdfDUU09JmWPcxrRa4kGqxKsrE7c/0CeG7Hh5481G44IXEbeO1bsA+nv8oETBCn2Y1guLNcTdcMMNgYUu9DxhnkQ8MNFwez+fXEvtP4gH1ZN9IUUKfCOivQcZZLz22msyDelqdce4+c2a2+IB22uvfeS0HkztgUUKrFFKWf7YVHhgqaKuXbvyvn37ys4QaeZKN2PHji2rIsWrtQT4QT+AiYAv4cq8GNMHsLwx8m+44YY5Ti9JkWJS0Y19Ww3CjdqkuxRdunSR7Qo+T7wBy6OrNjphwgRvMjedjAV5+Sce+CBzIuLNN9/UclVzW82CIU6ZeOOB+frrr5f5Md0HyjbwQv3UUslYEhNxP/zwg3kpuU888EGSiAgscaja/7x584gHiZBa/ELG7Q8K3cHLG29+6g+8iLh5jJesOXPm8O+//14XcNNNN5V9AhxNBoV8zxPe/MQDLyLuHueTa6n9B/GgenIvpEiBKxA8A5gL16jSKoU5rFBUiJtfnYetLR7IVXvUEsg2nM3CJO/AAw+Uv2bNmvkUJebXSKyQYypeitnPZ5GipupgGgGm8Hh/zZs3lwLDcpoqwBkuhIhVQbCqEPYxPcgMpEgx0XBj31aDcKM26S0FnIyiTaGv+eCDD3wVNZ3PwYItKGy99dbyGvfee68vmXjgg8SJCFgHwh8OZP/cc8/5ygTLAyjekX7ttdfyfv36yX0cF/q1atXKdz3igQ8SJyLgvR9jK5RlUIJ5w7Jly7S8Me2HeOBFKB3HcfuDuLzxokT9gReRZBzDV5Lq//Fh0xsKPU948xMPvIi4eVxIrnH7D28tiQdeRCp3XEiRcsABB8g2rxYXMEuG6eDoDzA1WIW4+dV52NrigW/541ItUv7+97/rcl5++eU5ipK2bdtqx5L4AokXomKUJ+Y5YYoUWJco57F33HGHLpO5Az8MEIo5vUctr9SnTx9pmYN0WLaYgRQpJhpu7NtqEG7UJr2lUFPqgjpJ1BrmeurBCWa93oAlErEmPfIsWLDAm2ytY/RdmCJKRkA5mcWyxebKaLjw7NmztdxfffVVftxxx3GYbAb9YCEI+WNqGNIxp94bqD/wIuLGsakw846rKOHkyZOlbBs0aCCn9RAP3JBbOUoRpz+Iyxtveak/8CLixvHcuXM52jp8Y8H/gTeccMIJsj8IUpYjb6HnCe/1iAdeRNw8jiLXOP2Ht5bEAy8ilTsupEjBTBU836FfMJdNRgmV82nT52nc/GZNbfGAdejQkXfuvIvwPbCrntpTirNZLGmKQQ8ByoxLLrlETheC9YmpUcZXKVMhUux+mCIFDgwhDHz5xgogQQFTA5AHPwCKADNx9aKGeChjoP00AylSTDTc2LfVINyoTTpL8fTTT+v2Nn/+/NBKQuGKtte6dWs+c+ZM/dINGffv31+m4QU6KBAPglBxI059ZYJs4Str1apVsmDoX2HFiHj4xgia+mPWANYMyAuFTFggHoQhU/34Y445RsoPH1Iw1105F164cCFv2bKlTAMfCgXiQSGE3E6P2x+UwhvqD9zkAhTqeGFCf473jqVLl8qC4h3iiiuukPFIgw8Vb4j6PGGeRzww0XBzP6pc4/YfZm2JByYald0vpEjBQhJqoYlTTjlF6xNMp9QvvviiLnTc/PpEsWOLB9rZLJzOKmezpfpIgYYoX8D8NkwBKlZ5Yp4XpkhRU3SwpFpYgLNKaMLRUZvTewYOHKg7cFzHG0iR4kWk+se2GkT1a5LeEmBpdLQ1KEPyBVgnmMpMtHdME8S5+GGKyD333BN4CeJBICzOROJLgpIj/FHBhxaWu0Uc5r1iDmyhQC/QhRByO/3dd9/VqzRB7niR6ty5s576BWVK2LQ+s2bEAxONZO7H6Q9K4Q2NC+7yA77Q1JgAJ7MdOnTgWL1HxeEZPMixfNTnCbPmxAMTDTf348g1Tv9h1pZ4YKJR2f1CihSU5vzzz9ftH4tOKDcc6BMGDBjgK3Dc/OoCtnjADjnkMD5o0MHi5eZAKxYpSsmBaTOY74xgWqhgxYVtttnGihIF9wpSpMAcSDmN/Z//+R+FWeAWDi8hHKwCogLWr1adeJCDK0wVQjqcHVJwAwFbDcKN2qSvFLNmzdJtClM3CgX4SoF/BFiUqbaINo1BFs7owgLxIAwZN+IxFowbN47DLFf5TIHVH1bomTZtWqRC4nxwonv37qH5iQeh0DiRgK9I8GGmPmRAnnAsPGjQIL548eJIZSQeRILJ6Uxx+4NieUP9gdM04FOmTNGr86jxHs/3WP3TOw0UNYn7PKFqTzxQSLi5jSvXuP2HqjXxQCFR+a25YIQ5S8VbEiwqAMtz1R/ggxssVJQFa6n5cb4tHtRq334ndFSirIwtXPg+Ew+4cv+tt96S21L/iM6QiS+NTKwIxASATGiWS71kzvkTJ9wnj3v07JUTTwfZQkB8rZIVFktXZ6viKa+tUIoy8XWaCYUKE1MBZD+Sr8rEg3zouJW2evVqKVthgcCEKafVwhEPrMJZ1ouJL1RMPBDL9m37RsQD24iW73px+4M4vCEelE9uNq8sHFAzMb2HiZV6WE1NjRz3bV6feGATTbeuFaf/IB64Jbt8pYHeADqKFi1aMGGxli+rTIuT3xYParVp0w5rtjOhnCmLIqVgrUvMQIqUEgFMyem2GkRK4MhsNYgHmRV9TsWJBzlwZPaAeJBZ0edUnHiQA0dmD4gHmRV9TsWJBzlwZPbAFg9qYeljKFEQymGRUm4JkSKl3Agn4/q2GkQyakulDEOAeBCGTLbiiQfZkndYbYkHYchkK554kC15h9WWeBCGTLbiiQfZkndYbW3xoFaXLl2xxBAT89XZvHlzmZirLu9pa+7IHU8AAEAASURBVGpPWAVsxZMixRaSyb6OrQaRbBSo9MQD4gAQIB4QD4gHxAGFAPUHColsb4kH2Za/qj3xQCGR7a0tHtTCaj2AEnOUp059hIklJeU8JFKkZJtgSau9rQaRtHpTeXMRIB7k4pHVI+JBViWfW2/iQS4eWT0iHmRV8rn1Jh7k4pHVI+JBViWfW29bPKiFVXswtQdOYB977FGySMnFmY4SgoCtBpGQ6lIxQxAgHoQAk7Fo4kHGBB5SXeJBCDAZiyYeZEzgIdUlHoQAk7Fo4kHGBB5SXVs8qNWpU2epSMH0ng8+eI+NHDlS3vKTTz4JubVb0cOGnigL1KhxjVsFo9IQAoQAIUAIEAKEACFACBAChAAhQAgQAoRA6hDIcTb7wQfvs1GjRsoVfBYtWpSIypIiJRFiokISAoQAIUAIEAKEACFACBAChAAhQAgQAqlAQCpSUBNM76FVe1Ih00xWwpaJVibBS1GliQcpEmYJVSEelABeik4lHqRImCVUhXhQAngpOpV4kCJhllAV4kEJ4KXoVFs80BYpUKR8+OFC1qNHdwkTOZtNEVsyUBVbDSIDUKW6isSDVIs3cuWIB5GhSnVG4kGqxRu5csSDyFClOiPxINXijVw54kFkqFKd0RYPtCIFaJFFSqo5k+rK2WoQqQYpA5UjHmRAyBGqSDyIAFIGshAPMiDkCFUkHkQAKQNZiAcZEHKEKhIPIoCUgSy2eOBTpHTv3p2WP84AgdJWRVsNIm24ZK0+xIOsSTy4vsSDYFyyFks8yJrEg+tLPAjGJWuxxIOsSTy4vsSDYFyyFmuLBz5FSo8ePSSWNLUna5RKdn1tNYhko0ClJx4QB4AA8YB4QDwgDigEqD9QSGR7SzzItvxV7YkHColsb23xIFCRAn8pb7/9diIQnjjhPlnOHj17JaK8VMjyIGCrQZSndHTVSiFAPKgU0m7fh3jgtnwqVTriQaWQdvs+xAO35VOp0hEPKoW02/chHrgtn0qVzhYPAhUpqARZpFRKlHQfGwjYahA2ykLXqB4CxIPqYe/SnYkHLkmjemUhHlQPe5fuTDxwSRrVKwvxoHrYu3Rn4oFL0qheWWzxQCpSUI0///xTr9pTKYuU+vXrs3XWWYf98MMPRSOZzyIF9fjpp59811533XXZeuut54uniOQiYKtBJBcBKjkQIB4QD4gHxAGFAPUHColsb4kH2Za/qj3xQCGR7S3xINvyV7W3xQOrFimnnnoqO/PMM2UZjzjiCPbaa6+p8uZsTznlFDZ48GDWpk0bVrt2bfbpp5+yGTNmsEsuuYT99ttvOXkLHeRTpLz66qts9913910C92zdujXr2rUrGzNmDGvYsKEvD0UkCwFbDSJZtXa/tO+99x679dZbIxW0T58+bJtttomVv1+/fjnXJh7kwOHkwffff8/Gjx/PZs+ezVauXMmaN2/O9ttvP3b00UdLxbpZ6NGjR7Ply5ebUTn7o0aNYk2aNMmJwwHxwAeJUxHFytWsBMbu119/nbVv355dcMEFZpLeJx5oKJzdidIfxB1HaFxwVtyhBVuwYAGbPHkymzdvHluzZg3r2LEj69u3L9tnn330OcQDDUWqdkqRaxTeeMGiccGLiHvHceU6Z84c9tJLLzFsYZyxyy67sN12240dcMABoZWzxoO2bXfkbdq0kz+hYOC9evWSv6222opH/YkHYX777bcLA5C14aijjgo8XzxAr83k2Xv++ed506ZNA88LK8uzM57h+AWFV155hQsE5W/LLbfkjRs35o0aNeK1atXS8bjfO++8E3Q6xSUIAciQ5OiewKZOnarbmmqLYdtzzz2Xx83vrTHxwIuIW8dz587lW2yxRSAnOnTowL/99tucAgsld2BexSHxIp2TXx0QDxQSbm6LlauqjfjwosfxfffdV0X7tsQDHyRORUTtD2hccEps1gtzyy23cGEl7uvr8ayO54Lff/9d3pN4YB16Jy5YrFyj8sZbSRoXvIi4dRxXrtddd52v71DPiCeddBIXM24CK2iLBz6LlDjLH4sHYgbrkkGDBrGamhpR7rUBXxefeeaZtRFiDxYoM2fOlHH4CvHPf/6TrVq1ip199tmsZcuWMh7XmzJlityP8iefRcqsWbPYHnvsIS/z1VdfsQYNGsj9zz77jE2cOFF+xfrjjz/YySefzG6++eYot6M8jiJgTbPoaP2SWqxFixaxhx9+OLT4aH+wKkC49tpr2YABA2LlHz58eM61iQc5cDh18N1330lLQPTFGC9gRYB+/7nnnmM33XQT+/HHH9mQIUPYgw8+KMstRj6GaZiwILz++usD64L8ql83MxAPTDTc2i9FrqgJeAQrlC+//FJWTChSmPgIE1hJ4kEgLE5ExukP4o4jNC44IeJIhUA7btasmczbv39/NnLkSGmR8tBDDzHxgVbG411CfORlxINIkCYuUzFyjcMbLyA0LngRcec4rlyhL8AMF4SBAwcyYcTB6tWrx6ZNm8Zuu+02hueNa665hp111lm+SlrjASxS8Nthh7ZcWaT07NkzklWIeIgN1PIgMsgiBVomFY477jh9jz333JOLKT0y6YUXXtDxYVYoZnxUixTx8K5urbeop0CWb7/99jrOu7N69WqOr1/Tp0/nP//8c04ytFzz58+XP+Tzhl9++UWmCce93iQ6toyALc2i5WLR5QogIBSasg1uuummXChXC+TmvFB+4kFBCKuW4bzzzpOyFooP/tFHH+WUQ0zTkGl169bl33zzjUzDFv0zrAbjBuJBXMQql78UuaKU4iON5AW4gR9ZpFROdjbvFLc/yHdvGhfyoeN2mpj6K9uxmG7v+3K80047ybTTTz89UiWIB5FgSlymILmWwht6PnCXAnHleuyxx8o+olOnTr5KCcMQmYaZNkHBFg8YlChrp/bUiTW1R8xD5b/++isXc5L4iBEj+OGHH67LGqRI+fjjj2U6HqRg2msqRIQ/FZkG5USLFi1y0sx83v1SFCljx46VIG+wwQa63GpHzLHiQjvO119/fZkHD2wwPYTyZcWKFTIblCcbbrihTL/33nvVqXorvqzKtM0331ybJupE2rGKgK0GYbVQdLG8CAhrFKHEbSvbiLBOyJsXiVHyEw8Kwli1DHhQRj+KscIbxJx4fvfdd/O77rqLf/311zJ54cKFMv/OO+/szV7wmHhQEKKqZShFruLrk+TEZpttxi+88EK5T4qUqomypBvH7Q/CbkbjQhgyyYjHeIBx4eCDD/YVGM8FSBN+Dnxp3gjigReRdByHybUU3tDzgbvciCtXGEKgjxB+13yVEpbMMm2jjTbypSHCFg88ipTaUlEA7Y1XYRF2LBz96bymhUqQIkWsoCMr88QTT+hz1HWF6Y2uaJcuXXzpKp93W4oiRUwjkiALcyB9b+xAmXPQQQfJNHwph/XMiSeeqOf2C+dX2oLmyCOPlPmCBgGcBwEff/zxOdenA/sI2GoQ9ktGVwxDQCkaocgMshjznhclP/HAi5obx8JcU/aF6A/feOONSIV6+eWX5Tn777+/zI/xQzilk8r7QhcgHhRCqHrpxcpVOB3m8HUGDt1///1cfbkiRUr1ZFnsnYvpD8LuReNCGDLJiBcm+LJN413Ca9ndu3dvmXbjjTcWrAzxoCBEicwQJtdSeEPPB+5SIa5chXNqLhaW4WKqqK9SF198sew/tt12W18aImzxQPgt+Y+jWWzV1J44ihRTsZFPkQIrExXuvPNOn6LknHPOUckcD87mdfPtF6tIeeqpp7iYRyVBvuOOO/S9sYOvonhYE0sz8w8++ECnLVmyhEOzhbTLL79cxiuh42XQHASgjFEO9R5//HF9DdopDwK2GkR5SkdX9SKA9iH8HMi2JOYuepN9x1HzEw980DkRIfxVSVmj78SAB2W6WOWNi9V6uPCLw6FIVxaLqsCPPPKIPKdz585ceGCX4xPOR7+9995783xTJokHCkX3tsXKFTyB/A855BBZKVKkuCfbqCUqpj8IujaNC0GoJCsOU+axCATaNqb5P/vss1LZrkz2N954Y7548eK8lSIe5IUnsYn55FoKb+j5wF1KlCJXb626desm+5XDDjvMmySPbfHAZ5ECJUo5FCmmebZwKulTlAwbNkxXNMiaJUyZElWRAs32gQceyP/yl7/w7bbbToKLDhqabpiOmQHWJ+jUhw4dakbLfaXhUqaGMEmHmTHyw/O0CvjqijjcA3kolBcBWw2ivKWkqysEhANa2T4wXQ4KykIhan7iQSEkq5MOZTL6Q/x69Oih91UctljNx1SOYCU4lQ4l/w477MB33XVXrQDHlElatac68izlrsXIVX3cwAuXsl4jRUopUqjuucX0B0ElpnEhCJXkxWG6PN4RVH+vtviSvGjRooIVIh4UhCiRGQrJtVje0HOi23QoVq5mrdQ0YKz8JRY0MJP0vi0esCY1Tbn64YbwAVIORQq+KKoA3yRexQiUFyocc8wxvnRvfnUcVZGiOmZzC+c0MAvyBrH2tOzQhcdfbxJ/8sknZZrwMq7TlOIFU3lUECsSyXxHHHGEiqJtGRGw1SDKWES69H8RwFeGjh07yvYhVswqiEuc/MSDgnBWJYNYgUHKW/W/+PJ46aWXcjgXnzRpkvSLhTRM3VCOx/HCDUezGDswpUcFseoa33HHHeX1YNESFIgHQai4ERdXrp9++qn8IAF+mNadpEhxQ57FlKKY/sB7HxoXvIgk8xhTNsXKfRyOxtHGYb0uVviUFoh4J8HUeEzrCwvEgzBkkh1fSK6l8IaeD9zlRilyVbWCxaOaPYLlj8OCLR5oRUqNUKig0yqXRco222yj6/Kvf/3Lpygxzfv79u3rS1eKE+82qiJl8uTJ/N///rc0G4QVinJyiQd179yqTTbZRHboUJp4w4IFC/QLgVplBKaIGACwGoVa7x5fThEHrRiF8iNgq0GUv6R0B1huoW1g6hxekgqFOPmJB4XQrE46Vj6DzPG76qqrfIUwv1BH8aGCqZm4FqZUqj7XvCjxwEQjOfteueJhGsoyyNr82IIakSIlOXL1ltRGf0DjghfVZB7D7B7tG9Zmr7zyiq7EF198IZXoSMNHT6/luMpIPFBIpGtbSK6l8IaeD9zlSilyRa1efPFF/eEFbkKwem5YsMUDqUiBEsVUpERd/tir1MjnIwV5V61aJeuDBuI998orr9R1xRdIb3rYcVRFijIHVjeBuSAewtFJ33DDDSpabpVDO5TTG2DBgnNgaq6WQ8aDvPKH8vzzz/OVK1fK9Pr16+s6e69Dx3YRsNUg7JaKrhaEAJxJow1hDnSUECc/8SAKopXP8+abb0qZQ+5BAxvi1BcEb38cVFr0sbgWfkFWhcSDINTcj/PKVXndx7QvKF2xopP6qSWzYUGKOKy05w3EAy8ibhzb6A9oXHBDlqWUAu1W9eMTJkzwXcp0Sgwn1UGBeBCESvLj8sm1VN7QuOAmP0qV62OPPaZX2oX7jaBnTbPmtnhQMYsUKEI+//xzWQeY6XkVIzNnztT1g/WKNz3suFhFCm6mVubBWtNmUF/Axo0bZ0bL/UcffVR2/Fi6zwxwnIgBAevdYylk7A8ePNjMQvtlRMBWgyhjEenSAgE4GUXbgCLSdOQcBk7c/MSDMCSrGw+lM/zhQPZB81VheaCU0fCh9euvv0r/VVCqYHD1hmXLlslr4XrmtB+Vj3igkHBrG1eu/fr103KGrPP9WrVq5ass8cAHiRMRcfsDb6FpXPAiksxj5UsQ7RpTNoPC1ltvLds9nqu9gXjgRSQdx4XkWipvaFxwkyelyPXuu++WVu7oS7CaLp41CgVbPDAUKU301J5yWaSYHSGUGEo5An8JasUbOA9U8VG2pShSxo8fLztoPOCbmiulFPEuiwyhqCWTUX4zqCUdmzdvzpVpEpZopFAZBGw1iMqUNrt3UVPe1MobhZCIm594UAjR6qUrJ7NYrtY7HWf27Nn6JRlL2ZmKFfhT8AZM1cSAiemUyOsNxAMvIm4cx5Ur/I5hWdSg34Ybbig5gCmCSN9rr718lSQe+CBxJiJOf+AtNI0LXkSSefzNN9/ofh9T5L3hxx9/1F+YMa3eG4gHXkTScVxIrqXyhsYFN3lSrFyx6iNck+CZcPjw4YHPhEE1tsUDQ5ECHym1y+YjBUoR+D5RYenSpfzwww/ngwYNyjHNhq+UKAoUlacURcq7776rO/GXXnpJFY0//fTTWiimnxQ84NepU0eeA+2XGfCACCUKBIkflDNBpsbmObRvDwFbDcJeiehKXgTQrlT7mD9/vjfZdxw3Py5APPDB6EyE+soEDowYMUJPe8TXaayohnhMt1RKbTgdRxy+SMKngnJCu3DhQt6yZUuZhvOCAvEgCBU34kqRq1kDWCuBH1DMhQXiQRgy1Y+P2x+oEtO4oJBIx1b5K4SVNyzTlZIdbbd///6yjUNR6g3EAy8i6TiOKtdieQOUaFxwlytx5QpH1XgOwO+KK66IVTFbPNCKFKzco5zNlssiBcoP0+u+t8ZY+jLOtB5crxRFCpQfyrGsVwDnnXeeFg4Eq1aJgLC8Tu9UPc4++2x9DpZZplA5BGw1iMqVOHt32n333WX7wMNRlBA3P65JPIiCbPXyYAUGNejVq1ePd+3alWMZY8Stu+66HM5GVYCiGys4qPywPuncubOeIgRlSpg5OPFAoejethS5mrUhRYqJRjL34/QHqoY0Ligk0rGFNeL666+v+3k812NVTNXv46PkPffc46ss8cAHSSoiosq1WN4AJHo+cJcqceQ6ffp03U+gv0A/Eva7+eabfZW2xQOtSKlpvHZqT7HLH2M+swrm1B1lPYItPHNjSo2a9w5lBpY7goIFa8abeaPs51OkwIJEdcYwGQoKvXv3lnm8U3XgIfySSy6RXsPhzwFKJqxzDwXLmjVrgi7FTfN0r8VK4AkUaQ0BWw3CWoHoQjkIYDky1RbRLguFuPnV9YgHCgk3t+jv4XsKZv3KZwqccsMv1bRp03yFhj8t+JpSDsDBITgehSXj4sWLfflVBPFAIeHmtli5mrUBj8AHr48zMw/xwETDvf24/QGNC+7J0EaJ4BsB7w941lbPCVC046V6zpw5vlsQD3yQpCIirlzj8kaBROOCQsLNbVS5YsaI6i8KbYMWMbDFg1qwRBEFkHYxS5cuZsIaBYdMWIfIbTn/CHM9JgZSJh6q5LaYe02ccJ88rUfPXsWcHukcscwxE3Rjm266ad78YpUfJvyqMPGCIOskrF3y5qdEewiIr5zyYu3atbN3UbpS4hAgHiRHZMIvFhMWJUxYlrC6desWLLhwVi7HCTHVp2Be4kFBiJzJEEeucQtNPIiLWPXyx+0P4pSUeBAHrerlFQ4i5ZggFCoM/byYSm+1MMQDq3A6c7G4vCEeOCO6vAWJK9e8FwtItMWDqipSAuoVO6oSipQohYJCSJidM+H7gR166KFs0qRJUU6jPJYQsNUgLBWHLlMlBIgHVQLesdsSDxwTSJWKQzyoEvCO3ZZ44JhAqlQc4kGVgHfstsQDxwRSpeLY4kGtJk3EXERhbQGzlEpbpNjArtqKFFiqCJ8p7JVXXmHCCaKskjBLkkoVG/Wja0RDwFaDiHY3yuUqAsQDVyVT2XIRDyqLt6t3Ix64KpnKlot4UFm8Xb0b8cBVyVS2XMSDyuLt6t1s8SDHImXZ0iWsR88ess6VmNpjA9xqK1KELxUmll+UVRFzOtl1113Hhg0bZqNqdI0YCNhqEDFuSVkdRIB44KBQqlAk4kEVQHfwlsQDB4VShSIRD6oAuoO3JB44KJQqFIl4UAXQHbylLR7kKFJgkSKcADLhWLUiPlJs4FptRQrqAKWT8BTMWrVqZX1Opw2MsnANWw0iC1iluY7EgzRLN3rdiAfRsUpzTuJBmqUbvW7Eg+hYpTkn8SDN0o1eN+JBdKzSnNMWDzyKlCXC2SxZpKSZOGmtm60GkVZ8slIv4kFWJJ2/nsSD/PhkJZV4kBVJ568n8SA/PllJJR5kRdL560k8yI9PVlJt8SBHkYKpPSNHjZQYfvLJJ4nActjQE2U5GzWuSUR5qZCEACFACBAChAAhQAgQAoQAIUAIEAKEACGQXASkIkWufyzqgKk9o0aNkkv9Llq0KBG1IkVKIsREhSQECAFCgBAgBAgBQoAQIAQIAUKAECAEUoFAjkUKrdqTCplmshK2TLQyCV6KKk08SJEwS6gK8aAE8FJ0KvEgRcIsoSrEgxLAS9GpxIMUCbOEqhAPSgAvRafa4sHa5Y/FMr7Lli+VzmaBE63akyK2ZKAqthpEBqBKdRWJB6kWb+TKEQ8iQ5XqjMSDVIs3cuWIB5GhSnVG4kGqxRu5csSDyFClOqMtHpBFSqppkp3K2WoQ2UEsnTUlHqRTrnFrRTyIi1g68xMP0inXuLUiHsRFLJ35iQfplGvcWhEP4iKWzvy2eCAUKc2EixQu/v3HRwotf5xOwqS9VrYaRNpxSnv9iAdpl3C0+hEPouGU9lzEg7RLOFr9iAfRcEp7LuJB2iUcrX7Eg2g4pT2XLR6QRUramZKR+tlqEBmBK7XVJB6kVrSxKkY8iAVXajMTD1Ir2lgVIx7Egiu1mYkHqRVtrIoRD2LBldrMtnigfaQAqSVi1Z6ePXvKVXvefvvtRIA3ccJ9spw9evZKRHmpkOVBwFaDKE/p6KqVQoB4UCmk3b4P8cBt+VSqdMSDSiHt9n2IB27Lp1KlIx5UCmm370M8cFs+lSqdLR5IixRz+WMoUhDI2WylREn3sYGArQZhoyx0jeohQDyoHvYu3Zl44JI0qlcW4kH1sHfpzsQDl6RRvbIQD6qHvUt3Jh64JI3qlcUWD9ZO7TFW7eFiP+kWKT///DP7888/C0qofv36rE6dOgXzmRl+++039ssvv7B1112XrbfeemYS7VcJAVsNokrFp9taQoB4YAnIhF+GeJBwAVoqPvHAEpAJvwzxIOECtFR84oElIBN+GeJBwgVoqfi2eKCdzaJcamoP9ouxSDn11FPZmWeeidPZEUccwV577TW5H/Ynbv6g64RN7dl4443Zjz/+GHRKTtxtt93Ghg0blhNX6OCiiy5i//znP9khhxzCHnjggULZKb0CCNhqEBUoaqZu8d5777Fbb701Up379OnD+vXrp/N+/vnnbNKkSbIfWb16Ndt1113ZwIEDWceOHXUe7w7xwIuIe8cvv/wye+mllxi2G220EYPce/fuzZo0aRJY2Dlz5sj82P7www9sl112Ybvtths74IADAvMjkngQCo0zCd9//z0bP348mz17Nlu5ciVr3rw522+//djRRx/N1llnnZxyjh49mi1fvjwnzjwYNWpUIH+IByZK7uyXMi4sWLCATZ48mc2bN4+tWbNGjgd9+/Zl++yzT2gFiQeh0DiTEFeuNC44IzqrBYkzLpg3xvMi3s3wAX3s2LFsiy22MJNz9qk/yIHDyYNE9QdNaprymv/+ateuzXv16iV/W221FY/6Ew9A/PbbbxeGLGvDUUcdFXp+3Pz5yvHsjGc4ft7QsmXLnPsLpmAGExcWKDnx9957r/fUgscXXHCBvNaQIUMK5qUMlUHgnXfe4fhRcAuBqVOnyrai2l++7bnnnqsLLyzieOPGjX3n1qtXjz/++OM6n3eHeOBFxK3j0047zSdTcAJjz7hx43yFve666wLz45yTTjqJi4cm3zmIIB4EwuJM5Ny5c7l40A2UbYcOHfi3336bU9aGDRsG5lX9yeuvv56TXx0QDxQSbm2LHRduueUWLqyAfVyoVasWx/jx+++/B1aUeBAIizORceVK44IzorNakLjjgro52nfr1q11v/DRRx+ppMAt9QeBsDgTmbT+QE/tadCgAXv3vXfkFyExKEWySIHG75RTTmGDBg1iNTU14plmbcBXpWeeeWZthNiLmz/n5JCDMIsUb/Ytt9ySffXVV0wofNjQoUO9ybGOL7zwQnbppZcyoUhhDz74YKxzKXN5ECANc3lwLfWqixYtYg8//HDoZf744w+Gr8kI1157LRs+fLj8orDNNtswfGEQClF2+eWXsw022IBdeeWV0oqhbt267IsvvmDi5cp3XeKBDxJnIv7xj39IWQqlCTvrrLNY//792ZdffsnuuOMO9txzz8lyzpw5U39ZnjJlChs8eLCMhyWSUM4zoUhj06ZNY7AkFKM+u+aaa+S1vJUkHngRcef4u+++Y+KhV47HeG4QHyZkOwcHbrrpJmlJao6tkDOm0YI3119/fWBFkB/PMN5APPAi4sZxMeMC+opmzZrJCqDvGDlypLRIeeihh+RzHRLwzCk+BvoqSTzwQeJMRFy50rjgjOisFiTuuICbw7Ltvvvuk8+OcLegglCksFatWqlD35b6Ax8kzkQksj+ARUqL5lvznj16cWFOK61RhMPZHKuNMIuQfBYZQRYpcfOH3deMD7NI8arW1Ncvr+WMN58wHedPPPEEF1N2uDAd9CbLY7JICYSlqpGkYa4q/EXffOLEifIrwqabbsqFSae8zvTp02Wc8F3EYZmigjD/5+rL9JgxY1R0zpZ4kAOHMwewHBEvulKuZ5xxRk65Vq1axdu2bSvTxJQdnXbsscfKuE6dOuk4tdO9e3eZBgvKoEA8CELFjbjzzjtPyg588H45RLsWT3RcKEv5N998IwuMLeKaNm0auwLEg9iQOXFC0LggpohKHuDLs9cSbaeddpJpp59+emD5iQeBsDgRGVeuNC44ITbrhYg7LoiPabLNY2zAr1u3bvrYO654C0v9gRcRd46T2B8wKFK2334H3qtnb61IwcOpqawI2xf+DPivv/4qFQ4jRozghx9+uJZGkCIlbv6w+5rxthQpb7zxBsdDPJRJqmFiK/wxcPFlXNcLO6RIyYHDiQPqGJ0QQ6xCCGsU/QKNNqWCelDCwOgNwppMts+gl2vkJR54EXPjGHJR/arwjeIr1KxZs2Q6TPSFLwyZvv3228s44R/Dl19YJsg04WPFl4YI4kEgLE5EKhNsPDN4g/B5we+++25+11138a+//lomL1y4UMp655139mYveEw8KAiRcxnCxgXwBX3IwQcf7CuzeiYTfpN8aYggHgTC4kRkXLnSuOCE2KwXIu64AEXK+uuvz/HhH1MF8Z6mnjFIkWJdPBW7YBL7A+GgrRnvuFMn3rtXH44vwCBlVEUKFBrCQaBWupgWJ0GKlGLym0qToH0bihTMqxUmxrIRCkeGHA/pwmkRF2akMs771VMN2mZ9K8YyulEgAvSgFAiL05FiWpxsX2LaDhfT7nRZ99xzTxmPLxTeoL5UbrLJJt4keUw8CISl6pHC/F7KFA86wgm4rzz4wrz55pvLPMJ0W6YLZ5L81Vdf5cLk15f/4osvlnm33XZbXxoiiAeBsFQ9Upjtah7g40WUAMUbeLP//vvL7D/99BMXJt3yI06h84kHhRByLz1sXBBT+iQP8MwpnI/nFFw4q5ZpN954Y068OiAeKCTc28aVK40L7smw1BIVMy7gnviQrwIpUhQSyd4msT+QFinduu0ulCf/UaRAaRBHkWIqN0zFQpgipZT85rlq34YiRawaIAdhaDeh5VRBrDok42GlYjZYUqQohNzZ0oOSO7KIUhK8OLdv3162L+EvI+eU7bbbTsYHOR994YUXZBperMSc2JzzcEA88EHiRARemtXXIihVvAGWCCr95ptv9ib7jpUZ72GHHeZLQwTxIBCWqkcqyyPIGgoyTKMVq/dxsVoPHzBgABc+b/jHH3+cU85HHnlEcqNz584cHzrgmBjnw/H03nvvzcUKgzn5zQPigYmG+/v5xoWff/6ZN2rUSMoeyvZnn32Wo19RFoxipUa+ePHiwEoSDwJhcSKyFLl6K0DjgheRZBwXMy54a0aKFC8iyTxOYn8gLVJ2320PbZGSRUUKBm88yP/22285zMMxrHTw0PbBBx/oNFKkaCic2aEHJWdEEakgwgGtbFdYgWHJkiU558DaBG1OOBHLiccBXpqQhp93yh3SiQdAwb0AKwJMw4Hc8PJrWpnAumCPPfbQcr3sssvyVgAWK7gOpgEJB6WBeYkHgbBUPRIrbqn226NHD72v4rCFPzNTOQK/ZiodSpQddtiBi6XQpSIF8bBkolV7qi5aKwXINy7gBitWrOCY4qX4oLawTFu0aFFoGag/CIXGiYRi5WoWnsYFE41k7RczLnhrSIoULyLJPU5afyAtUjp16qwVKXGn9ijLEGyTapHipRuc273//vtcrCChl9ozH+xIkeJFrPrH9KBUfRlELQEUl/A9hIfgk08+2XeaWKFDpsHE2xvQLtXD84cffuhNJkWKDxF3ImBpomS32Wab8b322ovjBQgKERWPLabthAV8uVIKGSx/HBaoPwhDprrx5hQvyBqWBWIFPA5Ls0mTJvEWLVpILohV9vSHDShS4GgW1ihQuqnw2Wef8R133FHmh0VLUCAeBKHiZlyhcQHKWLHCm3REDO6AK23atJEWSuhDjj/+eO1fyVtD4oEXEXeOS5GrqgWNCwqJZG6LGRe8NSVFiheRZB4nsT+QipQdtm8jnc3C+iKLFimgG75m/P3vf+fw12A+1Kt9UqS43SjpQclt+Zilg2MwtCtMmfv000/NJLmPOfBIHz9+vC9NTbdDulrVw8xEPDDRcG8fTkShdFf9Kl6AsOIGzPRhaYD4G264IbDgL774Iof5PvLAX0bQ1C51IvFAIeHWdsaMGVr2V111la9w5pfJKD5UnnrqKXk9jNvwdeYNxAMvIu4eFxoXMI0PbR/Te1555RVdEUzHhpINaXBCDme13kA88CLiznEpckUtaFxwR5bFlsTGuECKlGLRd+u8JPYHUpHSQix/jFV76tSJt/yxaY2SZIsUmASq1XrwhQwP8s8//7xcehWDM36kSHGrsXlLQw9KXkTcPe7SpYtsU5jbHhSU6fbVV1/tS1YvTrBaCQrEgyBU3IvDQw+Wl1dLXqOEWAIbfS0cCnvDY489Jj30Ix0rc+RTouBc4oEXQTeO33zzTSljyDFIhohTFkdhCjWzJlgSHdfCD04ovYF44EXE3eN84wJWcFJynjBhgq8SprPKoFXBiAc+yJyIKFWuNC44IcaSC2FjXCBFSsliqPoFktofSEUKlkDu1HFn6Q8kixYp+CKKQfrII4/kMC81A3w4II0UKSYq7u3Tg5J7MgkqEZxLoj3B14Hpd8jMixdl5DnkkEPMaLmPaQBIg6l/UCAeBKHifhx8XECu+HmdjWI5XKXoRh9tOv4OqxnxIAyZ6sbDkZwaU4P822D8bdiwoeTBtddeK2WNlVigVFHLIZs1WLZsmeaNOe1H5SEeKCTc3hYaF0xn1ZjSFRS23npryYV7773Xl0w88EHiREQpcqVxwQkRWilE3HEh6KakSAlCJVlxSe0PtCKlpqaJfLmBIgV+UrzWJlGOk+ojBd7/8QAP7bYZ4IC2bt26Ms1UpGBpZOTHCx8FNxCgByU35FCoFHASibYTpCRR544dO1bmadCgge+lWTklxXz4oEA8CEKl+nFz587lkCd8X8DPjTeccMIJUuatWrXKScIqLsqHyvDhw32K7pzMxgHxwADDsV3lZHbffff1TcdRK+ihj8DS16ZiJWi1p8mTJ+u+wvsRBNUmHjgm/JDiFBoXMI0TnMAP0wC9AUuqY9VFpC9YsMCbTDzwIeJGRLFypXHBDfnZLEWccSHovqRICUIlWXFJ7Q8MRUpT8cBaO5M+UuCwDAMwnMiqgFUl4MBODd6mIuWOO+6Q8Y0bNw51bqauQ9vKIEAPzJXBuZS7PP3007o9zZ8/P/RSy5cv1wrMU045Rb88m85KMS86KBAPglCpfhz8V0CRgv4UyvqlS5fKQuHl94orrtC8gA8VFeBYUvW/yBMnEA/ioFXZvMr6ALIdMWIEX7VqlSwAvkoeeOCBUubweaKm/hxzzDEyDhYHmEuvVtdbuHAhb9mypUzDeUGBeBCEiltxUceFtm3bSlm3bt1aLgSgfOJAxv3795dp8K8VFIgHQai4ERdXrjQuuCE326WIOy5470+KFC8iyTxOYn+gFSmY3oMvf1m0SMGXTjzUKWe7AwcOlE4N8fVUPcibihQMyspSBb4aoB2nUF0E6EGpuvhHufvuu+8u2xMeeguF888/X7c9OBds3ry5Ph4wYEDo6cSDUGiqngDfBqo/xVjToUMHjtV7VNxBBx2kHUVOnz5dxyMdX5vDflCweQPxwIuIW8ewKFNyh0Vo165d5TLGiMOYCl9IKrz77rtyhRaVHwq5zp076ylCUKaETfcgHigU3d1GHRdgraSsTsAFWEk3a9ZM8whTxu65557AihIPAmFxIjKOXGlccEJkZStEnHHBWwhSpHgRSeZxEvsDrUipadxEK1KgTIkylcebp1+/flpyeCj2pnuP4+b3no/jZ2c8I3/6xiE7yIvB91//+pcvB6bwYO69Uo7gaxhWhVgkVvJRL3Bec1E4RMQ0A+TFVzUK1UWAHpSqi3+hu2N5QvUiBJP9KGHMmDFcreCDczfffHMOCxX1RTroGsSDIFTciYNjb7U6j+ID+ubRo0fnTPN48sknNV9UvrBtkFNS4oE7Mg8qCSyRxo0bx2HOrXym1K9fX1qBTps2zXcKrNQGDx4sp4YpHmyxxRZ80KBBfPHixb78KoJ4oJBwcxt3XMAcejw3wseW4gEUcVDGwHl1WCAehCHjRnxUudK44Ia8ylWKuOOCWQ7T4bTXz5qZD/vUH3gRces4af1BLViiiAFJTj5dunQxE/5RcMiEBYbcuv5n4oT7ZBF79OxVclGFKTFbsmQJa9GiBRPWKSVfjy5QOQTEV0t5s3bt2lXupnSniiAgBkgmzLhluxSWDHnvSTzIC48zicJxKBPTe5hYqYfV1NQw8WJktWzEA6twlvViq1evZsKihAnLEiY+ZhS8l/jyyMQDNxNTfQrmJR4UhCiRGYTDackZ9BvgQaHnNeJBMsQcV65xa0U8iItY9fLHHRfilJR4EAet6uVNSn9AipTqcYTubBEB6hgtgpngSxEPEiw8i0UnHlgEM8GXIh4kWHgWi048sAhmgi9FPEiw8CwWnXhgEcwEX8oWD2o1aSLmmHLxX4CRdYuUBPMh80W31SAyD2TCASAeJFyAlopPPLAEZMIvQzxIuAAtFZ94YAnIhF+GeJBwAVoqPvHAEpAJv4wtHuRYpCxbuoT16NlDQpPFqT0J50Smi2+rQWQaxBRUnniQAiFaqALxwAKIKbgE8SAFQrRQBeKBBRBTcAniQQqEaKEKxAMLIKbgErZ4kKNIgUWKcP7G4IeAFCkpYEmGqmCrQWQIslRWlXiQSrHGrhTxIDZkqTyBeJBKscauFPEgNmSpPIF4kEqxxq4U8SA2ZKk8wRYPPIqUJcLZLFmkpJIxKa+UrQaRcphSXz3iQepFHKmCxINIMKU+E/Eg9SKOVEHiQSSYUp+JeJB6EUeqIPEgEkypz2SLBzmKFEztGTlqpATvk08+SQSIw4aeKMvZqHFNIspLhSQECAFCgBAgBAgBQoAQIAQIAUKAECAECIHkIiAVKXL9Y1EHTO0ZNWqU8D3L2aJFixJRK1KkJEJMVEhCgBAgBAgBQoAQIAQIAUKAECAECAFCIBUI5Fik0Ko9qZBpJithy0Qrk+ClqNLEgxQJs4SqEA9KAC9FpxIPUiTMEqpCPCgBvBSdSjxIkTBLqArxoATwUnSqLR6sXf5YWKEsW75UOpsFTuRsNkVsyUBVbDWIDECV6ioSD1It3siVIx5EhirVGYkHqRZv5MoRDyJDleqMxINUizdy5YgHkaFKdUZbPCCLlFTTJDuVs9UgsoNYOmtKPEinXOPWingQF7F05icepFOucWtFPIiLWDrzEw/SKde4tSIexEUsnflt8UAoUpoJFylc/PuPjxRa/jidhEl7rWw1iLTjlPb6EQ/SLuFo9SMeRMMp7bmIB2mXcLT6EQ+i4ZT2XMSDtEs4Wv2IB9FwSnsuWzwgi5S0MyUj9bPVIDICV2qrSTxIrWhjVYx4EAuu1GYmHqRWtLEqRjyIBVdqMxMPUivaWBUjHsSCK7WZbfFA+0gBUkvEqj09e/aUq/a8/fbbiQBv4oT7ZDl79OyViPJSIcuDgK0GUZ7S0VUrhQDxoFJIu30f4oHb8qlU6YgHlULa7fsQD9yWT6VKRzyoFNJu34d44LZ8KlU6WzyQFinm8sdQpCCQs9lKiZLuYwMBWw3CRlnoGtVDgHhQPexdujPxwCVpVK8sxIPqYe/SnYkHLkmjemUhHlQPe5fuTDxwSRrVK4stHqyd2mOs2sPFfiUsUtZbbz227rrrsh9//LFoJMMsUtQ169Wrx9ZZZ53A669Zs4b9+uuvrHbt2myDDTYIzGM7csWKFWyLLbaQ97R97Sxfz1aDyDKGaag78SANUiy9DsSD0jFMwxWIB2mQYul1IB6UjmEarkA8SIMUS68D8aB0DNNwBVs80M5mAYqa2oP9YixSTj31VHbmmWfidHbEEUew1157Te6bf6BEOOecc1jnzp1ZmzZtpJLj008/ZW+++SYbO3Ys+7//+z8ze8H9IEXK6tWrWU1NDfvuu+/Ycccdx+66667A6+yyyy7sjTfeYF26dGGvv/56YB6bkePHj2cnnXQS69q1ayA2Nu+VtWvZahBZw81GfT///HN20UUXsT///FO2YbTxoIB8kyZNktxHG911113ZwIEDWceOHYOys7j5cRHiQSCUTkV+//33DH3h7Nmz2cqVK1nz5s3Zfvvtx44++uhQpbdZgTFjxsj+un379uyCCy4wk/Q+8UBD4exOXB7MmTOHvfTSSwzbH374gWH83m233dgBBxwQWkfiQSg0ziQsWLCATZ48mc2bN4/h4xbGg759+7J99tknbxmjjju4CPEgL5ROJMbtD1ShiQcKiXRs4/YHcfMDJeoP3OfKyy+/LMd7bDfaaCPWp08f1rt3b9akSZPAwlf1faFJTVNe899frVq1eK9eveRvq6224lF/4kGY33777cKQZW046qijfOe3bduWv//++2szefbEQzXfd999feflK8ezM57h+HnDZZddhhlLXFij8EWLFnmT+dNPPy3TkWfq1Km+9HJEqDJtvfXW5bh8pq/5zjvvcPwoVBYBYN66dWvdlj766KPAAggLN964cWOdD+0OP2Exxh9//HHfOXHzqwsQDxQSbm7nzp3LhaLNxwNwoUOHDvzbb7/NW/AZM2ZwjFPIj7EiLBAPwpBxIz4uD6677rpAzoAH4uMEF0rcwIoRDwJhcSbylltu4cIy2SdbtPFzzz2X//7774FljTruqJOJBwoJN7dx+wNVC+KBQiId27j9Qdz8CiXqDxQSbm5PO+0035iAsV7MHuHjxo3zFbra7wsMihT1w+AlfKREVqRAMYJKLV682FexIEXKAw88oPMJCxD+t7/9jR9//PH8ySef1PHPP/+8FUWKmNqjH9hxH2/Yc889paCEdYg3qWzHeCh49dVXORRGFOwiQB2jXTwLXU1o9Pl5553H119//ZwOL0iR8scff3AoW9ERtmzZkqMfgPJEtcG6devyZcuW6VvGza9PFDvEAxMNt/ahJFFKFGExyPEQ9Mwzz8gXJvHFQfJjyJAhoYXG+U2bNtV8I0VKKFROJ8TlgbBW0DIXFmwcx0888YR8flBKtWuuuSawztQfBMLiROQXX3yh5dq/f3/+4osvcihKhw0bpuPRP5ghzrhjnkc8MNFwaz9uf4DSEw/ckqGN0sTtD+LmN8tI/YGJhlv7559/vuz/oTQRs1f4Cy+8wCdMmMC7d++ux4WZM2fqQrvwvqAVKTWNm4gvfbWlEgXKlHxWICot30NvkCLlk08+kZUXJnzygVhdB9ulS5fKtJ9++ok3atQo0v1xXphFCi6Ghyu8vOGLh6nsgRAQj593oJaFEH+E6bB8WMNLnzAlVtE5WwwA8+fP56peSEQDfeyxx/jHH3+ckxcHKr9Kw1c0nI+fmOrgy//LL7/INDHNypdGEbkIUMeYi0c5j8wBDG2oW7duuj0FKVKmT58u0+vUqcOhOVYBCsWGDRvKNDFdQ0XzuPn1iWKHeGCi4dY+FG/gS4MGDbiXJ5A/0qBU++abbwILLqb+yDzIhx8pUgJhcj4yLg+OPfZYKe9OnTr56qYermBJGxSoPwhCxY24W2+9VcoVFo1ei6KddtpJpp1++um6sHHHHX2i2CEemGi4tR+3PyAeuCU/W6WJ2x/EzW+Wk/oDEw139jEO4PkQz3dnnHFGTsFWrVrFYbyBNDGlV6e58L6wVpEiLFOgAYoztadfv35cOGuVioYRI0bwww8/XFfOq0jBF2lojhAefPBBn6IEcSrASsRUsuTbz6dIAfBqOsHw4cPV5WUdIYy9995bx6kd4TNFCglTgpBH/cS8XS7mYKlscqsaMhRPd955p5giVaPz4zyYJ5lB+AWQ6cI3hIyG8kQ4uZVx999/v5lV7gt/EjINxAozcfWdlNEI6hgrJ3g8yMASBbzHtDi0C9VOvC/IKJV6EYLCxRuGDh0qzzVfkuLmN69JPDDRcGtfTQHDWOENwjcCv/vuu7nwZ8W//vprbzKfMmWK5Mlmm23GL7zwQrlPihQfTImIiMuD7bffXsp79OjRvvpdf/31Mg0WTUGB+oMgVNyIQz+AcePggw/2FUj4PpJpwv+NTos77ugTxQ7xwETDrf24/QHxwC352SpN3P4gbn6znNQfmGi4sw+5qHcJ4RvFV7BZs2bJdFiiLl++XKa78L4gHLc0+//tXQfcFMX5HkANoLFg5ftoClaMYsNCDCrFggF7jTV2jTWCGo1GY++9R39SNLaoGHtssaDGiu2nUcRCUaMBBaKo+59n/s46t7t3u3M3dze3+4x+7O7M7O47z/vM7O5777yjYqRgeo/t1B4YOGTgl9DoYXqoRA0pqCsDCgZ4MPbv3z88RxtJNGgwGPTu3TtWrutFt5UMKUAZU4+gmK5duwZyxZxABjgMFQVXUjPh3toYIgPZBXhJk0E0g549e6pzor96aUMKjC7ADm7rMshugHM1GUwXpKghBffeaaedVN3dd9/dFEXtA0NcZ999942VMaMUAQ6MpXjU+wgGVJ3SDCl6Cg9+eYqmCRMmKI4vtthiYZFt/fBEuUMemGj4s//xxx+HYyKM1TYJD8yll15anQ+Dsx53aUixQdGPutXwQAYhVVNiZfD4WCNOOeUUxYsVVlghVoYMjgeJsHiROXHiRKU7vENGPXJlUEFVdumll5bIavPcMU8kD0w0/NmvZjyA9OSBPzp0JYnteGBb35ST44GJhj/7t912mxr38d2L8BzRBI+Vbt26qTr4cQ3Jh+8F5ZFSa7BZbdxIM6ToetEt3HX0wAiCR8srHacZUvBLp47PgOBlI0eOVEqQEYCjOgqNLPi1HVZvneTqQ+ocGEy0nCjTL/RQOn5Z114j2K6yyirqHNxTpyRDiiYOyKHPR33sa8JgPjhTZQQ4MFbGp56laYaUlVZaSfWFpCBRmP+ojY6YyoZkW99sG3lgouHPvv4lAbrGBzHGNLnKmzKujxo1Sk3D1FMeo1KjHOfB6Iykx10aUqJI+X9cCw+SWqenFe6yyy5JxTSkJKLiR+acOXPUNG70bbwMP/LIIwGMrPoXxkUXXbRkSnZU6rTnjlmfzwUTDX/2XYwH5IE/+qxFEtvxwLa+KRvHAxMNf/Yx/uvvAXwbRxO+53X5FVdcoYp9+F5QHilmsFmbqT1RA0c1hhTEQ/nHP/4R4jV69GinhhRc+LrrrgvB10pIinsCaxcUNX/+/FAe7OAY8R1w7ttvvx2W6Rd6eNhE5/gefPDBqj68SnRKMqRgMIC3DK4tl3bUVdU+8vBLPWRiqowAB8bK+NSzNO1FBhwGl8eNGxcTA/F/UIY/XAfJtr55UfLARMOffQQX1noeMmRIuK/zsIVHXzQe1A1yqg/K8Jz4/PPPVYP0uEtDij/6zSpJtTxIur6e7gVv0EcffTSpCg0piaj4kwkv4bXXXjs2HsDDaMqUKRUFTXvumCfzuWCi4c++i/GAPPBHn7VKYjse2NbX8nE80Ej4tUWMVL3wAEJvmF6ob775ZjBo0KDwWYFVcJF8+F4IY6RUO7XHNKbYGlIQaNK0OmF6j3m9LPtpHikAGoaQfv36hQrAL5xZEoIeYrlmTM/RS/SZL/r6hV7HPDGv+Yc//EHdT/+KirIkQwryd9hhB1V3zJgxOFQJBiV8QJiGGF3GbRwBDoxxTBqVk/Yis9BCCykum3GQtGzoX/pj+p133lHZtvX1tbAlD0w0/NnXnnda1/gF+rTTTlMR2RELCtM5UYYpPNqQ/cEHHwT4VRr5eOHWSY+7NKRoRFpnWw0PklqHX7L1CxeWPy6XOB6UQ6b5+XhpxjsPAkyjj2MMWHXVVVWsPhjHsKKjngefJG3ac8c8hzww0fBn38V4QB74o89aJLEdD2zrm7JxPDDR8Gsfnib6PREx8TbeeOMAhnU8E3Q+tpjWi+TD90JoSMH0HgjaKI8UzItFoEqdsJwZpsNkMZ6YdbIYUnCP66+/PlQC1qwvl/AryKGHHhoGgTUVh/2shpQTTzxR3S+LIQUrA+Ha8GzRCS8UyLvrrrt0FrcVEODAWAGcOhelvcigr4PLMCRGk542h3K9WottffOa5IGJhj/7WNYUOsbf2WefHRPM/GUS7p3w8ENMLdTfb7/9SurTkFICR0sd2PIgqXGIbaYNbFtssUWgpwQm1eV4kISKH3mYjoX+DW+zp59+OhQK06p1nDkEIdeLFIQVftxJe+6Y9ckDEw1/9l2MB+SBP/qsRRLb8cC2vikbxwMTDf/24YmM73z9zgjbBFZyw/RPHTbjkksuUYL78L2QGCMl6/LHpkED+1k9Uvr06aO8PLT6QGoYDqLXy3Kc1ZACBWilaBdxfX+9hauwXq0Hv5hCUY899phaslWfWw9DCiyrXbp0UfLBkINYAbjfIossEgvCpmXlthQBDoyleDTyKO1FRrtun3POOTGx7r//fsV1WJV1sq2vz8OWPDDR8Gf/pZdeCsffpA9f5GkPA4y7ejUWTPeBZwpW8tF/eqlkLIGHPCxVH03kQRQRP45teRCV+p577lErhuH5iMD1SVwyzyEPTDT82Ue/1e9U48ePjwlmBiHVCxFEK6U9d8z65IGJhj/7tY4HaAl54I8+q5XEdjywrR+Vi+NBFBE/j9G3EYZj1qxZoYCLL764enZgoQokH74XGu6RAmsSBk+dnn32WTXtJovRJKmOS0MKLF54uGMFnWjME9upPTYeKcBiu+22U/dGlPqLLrpI7e+8884aJm5TEODAmAJQHYvTXmTwwYN+ZXpnaXEwvQNlPXr00FnqA8mmfnii3CEPTDT82UcsKD2GJsWzwHiLqZ7Q+4UXXhiMGDFC7eM47Q/TNqOJPIgi4sexLQ9MqbE8tv6hA89oM/C7Wc/cJw9MNPzZN4MKTp06NVEw/OCGvj927NjE8rTnjnkSeWCi4c9+LeOBbgV5oJFo3a3teGBbP4oMx4MoIq1x/MILL4Tvg3pxAtvvC7OlrnhgGFLaw6k99fJIGTBgQKDjIKAx+DUaSwsnGUiy5rk0pGivEPzqZSYEe9XzeOvhkYJ76WVgsZoQ8McLhBk/xpSH+3EEXHWI+JWZk4ZA2ovM+eefr/i85JJLxj5+dPAozIfXyba+Pg9b8sBEw699HWQWsU3MFcogpbksPYzre++9dwCXzaQ/eOphfMRHNcoxhzaayIMoIv4c2/BAS33eeeeFc6SPPPLI2A8dul50Sx5EEfHjGNM4tYEU3sLRhKUvsXoi6kyePDlarI7TnjvmSeSBiYZf+9WMB2YLyAMTjdbctx0PbOtHUeF4EEXEj2OE3cB3AmLlIX5iNO27777qmWD+eObD94JhSEHxCIO8AAA5H0lEQVSMlI51i5GCZQrhrqnTjBkzVCBVzHOL/q2zzjqZjSsuDSk6LslJJ52kxVRRg/VcfTzU62VIgXu6fnHAfbCSD6z1TNkQ4MCYDad61Ep7kUHAQG2IPOSQQ8KPIDOoFOIe6GRbX5+HLXlgouHXPpY81h9PRx11VDB37lwlIMY5vSz9wgsvnDpdA1N/cB0Gm/VLv1mlseUBApJq3px55plZb6PqcTywgquhlVdbbTWl1xVXXFFN9dbGVehs6623VmUwlJZLac8d8zzywETDr33b8SAqPXkQRaQ1j23HA9v6JiocD0w0/NnHMwCGFDzvEa91+vTpSjh4LOPZr98DEENFJx++F0JDil61B8LXwyPl5JNP1u1O3cKFtxkeKfilC4rCUsfAYZtttlFB7WAd0wqslyEFoOB++j6Y6sOUHQEOjNmxcl0zy4vMCSecEHIbwQV79eoVHietomVbX7eJPNBI+LmF55Ee4+ABOHDgwKBbt24qD3Fy4KWYlmhISUPI//KsPHjwwQdDvoA3+LGh3B8Ms9HE8SCKiD/H8EIzfzzCOx88lPX4gKmAN910U1mBszx39MnkgUbCz23W8SBJevIgCZXWy7MdD2zrm4hwPDDR8GsfMbP0MwBBZtdYY40Aq/foPHwbRwOQN/t7ITSktHX/aWoPjAhZDRlmPcxr1wmNNcuOPfZYXZS6xQuReW6l/aweKZiXrxWhVweJCoIpPJh7rX89x6+jWBUAAWD1h5/pZnrNNdeoayLoYTT98Y9/VGXwttFJrxyUVB91xo0bF8qoA+noc7mtjAAHxsr41LPUDAyo5y0m3Q9BQvELo+6H+ICGh4pe7jZ6jm19nE8eRFH06xi/LFx22WUB3Ll1zBR438Hrb+LEiZmExfng0GabbVa2PnlQFhovCrLy4L777gvHCz1ulNvCwBZN5EEUEb+OEesA740dO3YM9QwD60YbbaSCDFaSNutzB9cgDyoh2fyyrONBkqTkQRIqrZlnOx7Y1teocDzQSPi5xcIvenUe/byHHeD000+PTQvXLWjm90IHeKJIQVVEv+nTPxHSGwWHQnpeqK3v/0wYP06JOGToMGeiypUAxLRp00Tv3r2F9E5xdl1eqH4IyOWz1cXlEtL1uwmv7AQB+eIjpAuf6l/S4px6TZv65EEqnN5UmDdvnpCBJkXfvn2FNF47lYs8cApnXS9GHtQV3pa4uAwcrMYCaVARMsis8/cujgctQQMlJMeD1tFVvSS1HQ9s63M8qJfm3F5Xrs4k5PQeIVfqEW1tbQLPh7TUjO8FGlLStMLylkCAA2NLqKnuQpIHdYe4JW5AHrSEmuouJHlQd4hb4gbkQUuoqe5Ckgd1h7glbkAetISa6i6kKx50aG+Xc1ID+b8UmR4pddcbb1AnBFx1iDqJx8s2CAHyoEFAe34b8sBzBTVIPPKgQUB7fhvywHMFNUg88qBBQHt+G/LAcwU1SDxXPCjxSJkxfZoYMnSIakKRp/Y0SIe8jUMEXHUIhyLxUk1AgDxoAuge3pI88FApTRCJPGgC6B7ekjzwUClNEIk8aALoHt6SPPBQKU0QyRUPSgwp8EiRQQAF4hbQkNIErfKWVSPgqkNULQBP9AIB8sALNTRdCPKg6SrwQgDywAs1NF0I8qDpKvBCAPLACzU0XQjyoOkq8EIAVzyIGFKmyWCz9EjxQsMUwgoBVx3C6qas7B0C5IF3KmmKQORBU2D37qbkgXcqaYpA5EFTYPfupuSBdyppikDkQVNg9+6mrnhQYkjB1J7RY0arxr7//vveNTpJoAP2309lL9e9LamYeUSACBABIkAEiAARIAJEgAgQASJABIgAEXCGgDKkqPWP5SUxtWfMmDEy9mwgpkyZ4uwm9bwQDSn1RJfXJgJEgAgQASJABIgAESACRIAIEAEiQARMBEo8UrhqjwkN91sJAVcuWq3UZsoaR4A8iGNSxBzyoIhaj7eZPIhjUsQc8qCIWo+3mTyIY1LEHPKgiFqPt9kVD35a/lh6ocyYOV0Fm8XtGGw2Djpz/EXAVYfwt4WULAsC5EEWlPJfhzzIv46ztJA8yIJS/uuQB/nXcZYWkgdZUMp/HfIg/zrO0kJXPKBHSha0Wcd7BFx1CO8bSgErIkAeVISnMIXkQWFUXbGh5EFFeApTSB4URtUVG0oeVISnMIXkQWFUXbGhrnggDSk9ZYiUQP73/zFSuPxxRdxZ6CkCrjqEp82jWBkRIA8yApXzauRBzhWcsXnkQUagcl6NPMi5gjM2jzzICFTOq5EHOVdwxua54gE9UjICzmp+I+CqQ/jdSkqXhgB5kIZQMcrJg2LoOa2V5EEaQsUoJw+Koee0VpIHaQgVo5w8KIae01rpigdhjBTccJpctWfo0KFq1Z7XXnstTQYvyieMH6fkGDJ0mBfyUIjmIOCqQzRHet7VFQLkgSskW/s65EFr68+V9OSBKyRb+zrkQWvrz5X05IErJFv7OuRBa+vPlfSueKA8Uszlj2FIQWKwWVeq4nUagYCrDtEIWXmP+iFAHtQP21a6MnnQStqqn6zkQf2wbaUrkwetpK36yUoe1A/bVroyedBK2qqfrK548NPUHmPVnkDuN8IjpWvXrmLBBRcUs2bNqhqpch4pc+bMET/88EPqdSFDp06dUuuxgt8IuOoQfreS0qUhQB6kIVSMcvKgGHpOayV5kIZQMcrJg2LoOa2V5EEaQsUoJw+Koee0VrriQRhsFjfUU3uwX41HymGHHSaOPvponC522203MWnSJLVv/rPIIouIE088UWywwQZi5ZVXFh07dhQzZswQL7/8sjj55JPF1KlTzeqp++UMKYsuuqj46quvUs+/+uqrxQEHHJBajxX8RsBVh/C7la0t3VNPPSX++c9/Cmx//vOfi80331wMHz5ctLe3JzZs8uTJ4vbbb1djwzfffCMGDBggttpqKzF48ODE+sgkD8pC09SCN998U1x11VWZZAAvRowYEdaFof3aa68Vzz33nPjss89Er169xKabbir22GMPscACC4T1zB3ywETDz32OB37qpdFS2fZv2/poD8eDRmvV/n4cD+wxy+MZtjx4/vnn1XsltrNnzxbrrbee2HDDDcWWW25ZFh6OB2Wh8abA9v3/ww8/FLfccouyO8ybN0+sv/76YptttlHfDeUa5YwH7W09grYf/zp06BAMGzZM/S2zzDJB1j/5Yhtcc8010pHlp/Sb3/wmdn7//v0DCc5PlSJ78gEZjBw5MnZeJTkeefihAH/R1Ldv35LrSCAxgymQHigl+WPHjo2eyuMWROD1118P8MfkJwK/+93vVP/T/VBvpSE1uOyyy2JCX3nllcHPfvaz2DkYo4477rjgu+++i52DDPIgEZamZ959990xXWoORLfQr04vvvhisNRSSyWeu8YaawRffvmlrlqyJQ9K4PDugOOBdyppikC2/du2vm4UxwONhJ9bjgd+6qXRUtny4KKLLkp8N8A7xYEHHhjIWQmJTeB4kAiLN5m27/9yBk3QvXv3GBe6dOkS3HvvvWXb5YoHAoYU/YePFBkjJbMhZbXVVlMfQZ988klM0CRDivT+COu99dZbwZ///Ofg8MMPL2koGl3JcBItK2dICW/0445+GY8afKL1eNyaCLjqEK3Zer+lPuGEE9QAB6PJscceGzzxxBPB+PHjg8022ywc+B5//PGwER999FGYv/XWWwdPPvlk8PDDDwfScyzMf+ihuPEUFyAPQhi92nn//feD8847r+zf2WefHer2wgsvVLLDSKLH7ba2tgAPV+gdhhbp0aTq77jjjontJA8SYfEik+OBF2pouhC2/du2vtlAjgcmGn7tczzwSx/NksaWB9JbOXxnkJ4HAY7//ve/BwcddFCAb1kYU/DOkZQ4HiSh4kee7fv/999/H8CZA/qGA8Vf//pXZVP45S9/qfJk+JBAznpJbJwrHoSGlLbu7ZJ8HZURBcaUqMEi6bjcSywkTjKkSPdu1RgZvyRYYYUVwnssu+yywQcffKDK5HQcZVlKul9SnmtDinQJUh9tDz74YAA5kxIe6K+88kqAjwMkWD1xDCOQnJpUcsq3336rPgQfeeSR4D//+U9JGQ/cIeCqQ7iTiFcCAugbSy65pBrQjjjiiBJQ5s6dG8AYiwFQumKGZXIKiMpbccUVY78orLnmmqoMBtikRB4koeJ/3oQJE5ReF1988QCeiUjHH3+8ygN/3n333ZJGnHvuuaoMD8kvvviipAwH5EEMEi8yOB54oQYvhLDt37b1zUZyPDDR8Gef44E/umimJNXwYK+99lLvAGuttVZMdP0jHWZYJCWOB0mo+JFn+/6Pb3V8Q8hYpwE8U3SS08AD2BZQhvfFpOSKBz8ZUqRnCn4xtpnaI+exBzAUyLlpwVFHHRXsuuuuoazlDCkzZ84MbrjhhtCIoo0jcl6cOheGjB49esTKdb3o1pUhRc6tC/Drd+fOnRXwAB9TC2BU+vTTT8N2YUcrGmXXXXddsNxyy4XnwBJ62mmnBTKmg7KM6l9OcT3s33fffSXX4oEbBFx1CDfS8CoaAegF3Mef7uO6DNtnnnlGlaHfYGxAwliC+ttvv706Nv856aSTVJmc/2pmh/vkQQhFy+zgFwVtUIN+dYIhDTwAH6IJ4+uNN96oniVJBmryIIqYH8ccD/zQgw9S2PZv2/pmGzkemGj4s8/xwB9dNFOSanggY2yq94PTTz89JvrFF1+syvDNlZQ4HiSh4kee7fu/NqjJuKuxBuy///6KB0nGNlR2xQMZ6LGnipGC6T22U3tg1JCBIkOjh+mhkmRIiRpB9PHAgQPDmAcwNOj8LFsXhhRYQ7fbbjsFOH4R3XvvvYP99tsvdCuXwS2D+fPnh0rShhQZ6FBhBkMK2rv66qura+BX0kGDBql9fCDsueee4fytnj17llwrvCh3akLAVYeoSQieHEPgtttuU/0AH8TwNosm9L1u3bqpOnfccYcqnjhxojrG2ALDqplkcFpVdumll5rZ4T55EELRMju33nqr0unCCy8cfP7550rujz/+WOWBN//617+s20IeWEPWkBM4HjQEZu9vYtu/betHAeB4EEXEj2OOB37oodlSVMMDuUBJ8Oyzzwb//e9/Y+Kfcsop6v0BMx+SEseDJFT8yLN9/9dTeOCxGE3a03mxxRaLFqljVzxQHim1BpvVBg8bQ8o666wTnHrqqepXavwiiQTvFrnaT8MNKfCQwQs7DCNvv/22kgX/TJs2LZyLf8YZZ4T52pCCc+RKReH0A3woAgvk4w9ztXRCkDSdj2lATG4RcNUh3ErFq+EjWPMeD8togmeBLr/iiitUMabUaS8vDJKYFofraMuzXJErSIrLhJPJgyjCfh/DkPaLX/xCceCYY44JhdWeSuAGXpQw9xljrVytJxg1apSa+/zee++F9aM75EEUET+OOR74oYdmS2Hbv23rR9vH8SCKiB/HHA/80EOzpaiGB5VkhncC3h122WWXxGocDxJh8SLT9v1/pZVWUrpOWrQC8Rj198X//ve/WPtc8UB5pJjBZm2m9mgDit7aGFKOPPLIWKN23313KyMK7uvCIwXeJwAbbkDRpC2b5lQCbUjBKkT4EDATVh3CtWAQiqYlllhClVWKIhw9h8fZEHDVIbLdjbWyIvD111+Hxshf/epXJb8eIGaS9txCn0HwaZ0wnW7ttdcOB0E9GOIXhilTpuhqsS15EIPE64w777xT6RjTKGG41gljpNb5kCFDwn2dhy0C0b766qv6lJIteVAChzcHHA+8UUVTBbHt37b1o43jeBBFxI9jjgd+6KHZUlTLgyS54dmM9wPMsHj00UeTqvAHt0RU/Mm0ef+Htwn0PW7cuFgD8H6o3xnl8sixclfPhTBGSrVTe7QRBVsbQwqm0qAR5jKm+HX6ggsusDKmuDCkINAlwDZXFdKIY6oRyjAlRydtSJHrVOuscItpQaifNK8fEYVRho8HJrcIuOoQbqXi1YAAPE3Ae/zBmLjxxhurYNN40Ol8bGG0RMJDdcyYMQGmyCG/d+/ewaqrrqpiOOGcffbZJ4ynok4w/iEPDDA834UResCAAUrHBx98cIm0pqsvOADPJMSewi8Mt9xyi+IE8pdeeunEqZLkQQmcXh1wPPBKHU0RxrZ/29aPNorjQRQRf445Hviji2ZKYsuDJFnhuabjUmL543KJ40E5ZJqfb/v+v9BCC6l3SEwRjyasDoz3RPy988470WJnBrXQkILpPfhIaZRHijbAwLgA48O///3vsJHw6tDlaVsXhhRt0UoKBDt58uRQEXo1iUqGFHzkQWlJhpR+/fqpMhpSQlU72+HA6AzKulxIB5jWgxrGGqzAg2k7q6yyiuoXl1xyibo33DFRD9N7nn766VAeLIu23nrrqTIEj9JTAsMKcoc8MNHwe//uu+9WusSUSr1qm5YYy11rrmBp5Ggyf6GGW3A0kQdRRPw65njglz4aLY1t/7atH20Px4MoIn4dczzwSx/NksaGB1EZn3zyyQDTvvHesMUWWwRJUzn0ORwPNBL+bW3f/xFLETq/9tprY42ZNGlS+B5Zz9UdE2OkZF3+OGrkqOSRAo+OTTbZRP3hAyl67q9//esQhLPOOitWHq2vj10YUvCrJhSBF/toQkAjlGFFI70cMg0pUZSaf8yBsfk6yCIB3Ouwypc2SuIcBHhGH0NgKKzAgn38jR8/PnZJM+hg0ipA5EEMMm8z1l13XaVnxL6JppdeeinkQdILEfL0L0/aAGdegzww0fB3n+OBv7qpp2S2/du2flR2jgdRRPw85njgp14aLVUaD6Ly3HPPPeGKqwjDkPTOYJ7D8cBEw5/9at7/dQiAc845J9aQ+++/X71HwmslKbniQcM8Ug455JCwHTCoaEOI3q6xxhphOZYU1vlpWxeGFAQwxIdbUrCau+66S5Vh6T2daEjRSPizddUh/GlRMSR54YUXwg9mBA81g45NnTo1EYQ+ffqoc8aOHRsrJw9ikHiZgeCxGHNhoDYDfGthYbRG3BTUSZrnjGlByy67rCq/8MIL9WnhljwIoWipHY4HLaWuqoW17d+29aOCcTyIItIaxxwPWkNP9ZYyygPzfjfeeKNaKATvCoiziUVL0hLHgzSEmlNezfs/DGfQ/U477RQTGtPBUdajR49YGTJc8cAwpLSHU3vq4ZFiepxgLlzUQGLOZ/vDH/4QK4/W18cuDClYDQJgb7PNNjGwYQBCGWK66ERDikbCn62rDuFPi/IhCVarWnLJJVUsC8xXjKZ9991X9S9Me0OC+x36G/4w7SeasDJW586dVTmm3UUTeRBFxM9jxJeCjpMeflpiHWQWhnczlhbKn3vuuZAnWAIxmsiDKCJ+HHM88EMPPkhh279t65tt5HhgouHPPscDf3TRTElseaBlPe+889R3K94lsIBJdPEPXS+65XgQRcSP42re/88//3z1LojvjKgRTS9mgZAbSckVDwxDCmKkdKxbjJTll19efSShMYhtAGPE4MGD1VKW8AT58ssvw3ZuvvnmDTWkPPDAA2FnNOOk4AW9U6dOSkmweupEQ4pGwp+tqw7hT4vyIQk+gDHA4UGH+EvTp09XDcMD78wzzww/hjE3VqfVVltN5cML7PHHHw8/oqHjrbfeWpVhXmRSIg+SUPErD+Mt+IC/SkvBa68V1EPMqblz56qG4NdpvTrawgsvnOjGSx74pXMtDccDjQS3tv3btr6JMMcDEw1/9jke+KOLZkpSDQ+wIIF+j8C7pE3ieGCDVmPr2r7/z5w5M1yYAo4P2phmBi9G/Jyk5IoHoSFFr9qDj516eKTAgwRBZdPSNddck9mIgmu68EiBTMcff3zYKaHI1VdfPTzG8shmoiHFRMOPfVcdwo/W5EsKxDrRDzwEmcU0Pr0UOPLh7WUGjoW3gfY6QTn6OWIs6WtgysdNN92UCBJ5kAiLV5kbbbSR0iWMYmlJB++G7rt06RIMHDgw6Natmzof814xBzYpkQdJqPiRx/HADz34IIVt/7atr9vI8UAj4d+W44F/OmmGRDY8ePDBB8P3Qbwb4H2x3B8+qKOJ40EUEX+Oq3n/P+GEE0I+IAZrr169wuNRo0aVbZwrHoSGlLbuP03tgTFFT52x2Y4YMSIUGB9HSefi5RlA6Q8nbT3CihxHH320Wqkj6bxyeVkNKTgfHQ7xV5IS5PnTn/6kVgXBvH188CGIDQwsWJbZTDD24FpYNjmafvvb36qyY445JloUrLTSSqoMcVeY3CLgqkO4lYpX0wjccccd4eo86Dv4Q588/fTTQ48TXRdbzJXEeIK+qOvjQxof4QhWWy6RB+WQ8SMfyxNqfSZNyYlKiecDPBbh1q9jpnTt2jVAXKuJEydGq4fH5EEIhZc7HA+8VEvDhbLt37b1dYM4Hmgk/NxyPPBTL42WKisPMHNAv0ekbRmMvtFarP1+1bz/n3vuuYFewQecwA9u8FCZP39+WYFcPRc6wBNF3lR92Uyf/omQ3ig4FK+++qra1uufBRdcUMgAMELOaRIy7oGYPXt2VbeaMH6cOm/I0GFVnZ90klxRREjkhVxNJKmYeR4i8MYbbyip+vfv76F0FEkjIKNyCzm9R/WttrY2IQ0luihxi/FBBp1V9WSQWSGn2iXW05nkgUYif9t58+YpLvTt21fg+VEpkQeV0PGnjOOBP7potiQ2/Ruy2tTneNBs7Wa7P8eDbDjlvZYtD2zx4Hhgi1hz6tu+/0NKubKnkFPFRO/evYV0iKgouCseNM2QUrF1FoX1MKRY3J5VPUHAVYfwpDkUo0oEyIMqgcvZaeRBzhRaZXPIgyqBy9lp5EHOFFplc8iDKoHL2WnkQc4UWmVzXPGgQ3u7jD0gvS/gltJIj5Qq2x07jYaUGCSFzHDVIQoJXo4aTR7kSJk1NIU8qAG8HJ1KHuRImTU0hTyoAbwcnUoe5EiZNTSFPKgBvByd6ooHJR4pM6ZPE0OGDlEw1Xtqjytd0JDiCsnWvo6rDtHaKFB68oAcAALkAXlAHpADGgGOBxqJYm/Jg2LrX7eePNBIFHvrigclhhR4pMigfmpeEQ0pxSZYq7XeVYdotXZT3lIEyINSPIp6RB4UVfOl7SYPSvEo6hF5UFTNl7abPCjFo6hH5EFRNV/ablc8iBhSpslgs/RIKYWaR62AgKsO0QptpYzlESAPymNTpBLyoEjaLt9W8qA8NkUqIQ+KpO3ybSUPymNTpBLyoEjaLt9WVzwoMaRgas/oMaPVXd9///3yd/eo5ID991PSLNe9zSOpKAoRIAJEgAgQASJABIgAESACRIAIEAEikEcElCFFrX8sW4epPWPGjFFL/06ZMqUl2ktDSkuoiUISASJABIgAESACRIAIEAEiQASIABHIBQIlHilctScXOi1kI1y5aBUSvBw1mjzIkTJraAp5UAN4OTqVPMiRMmtoCnlQA3g5OpU8yJEya2gKeVADeDk61RUPflr+WC6BPGPmdBVsFjgx2GyO2FKAprjqEAWAKtdNJA9yrd7MjSMPMkOV64rkQa7Vm7lx5EFmqHJdkTzItXozN448yAxVriu64gE9UnJNk+I0zlWHKA5i+WwpeZBPvdq2ijywRSyf9cmDfOrVtlXkgS1i+axPHuRTr7atIg9sEctnfVc8kIaUnjJESiD/+/8YKVz+OJ+EyXurXHWIvOOU9/aRB3nXcLb2kQfZcMp7LfIg7xrO1j7yIBtOea9FHuRdw9naRx5kwynvtVzxgB4peWdKQdrnqkMUBK7cNpM8yK1qrRpGHljBldvK5EFuVWvVMPLACq7cViYPcqtaq4aRB1Zw5bayKx6EMVKA1DS5as/QoUPVqj2vvfZaS4A3Yfw4JeeQocNaQl4KWR8EXHWI+kjHqzYKAfKgUUj7fR/ywG/9NEo68qBRSPt9H/LAb/00SjryoFFI+30f8sBv/TRKOlc8UB4p5vLHMKQgMdhso1TJ+7hAwFWHcCELr9E8BMiD5mHv053JA5+00TxZyIPmYe/TnckDn7TRPFnIg+Zh79OdyQOftNE8WVzx4KepPcaqPYHcz6NHyty5c8X3338vFlxwQdG5c2cr7X333Xdi3rx5sXM//fRTsdRSS4mOHTtaXY+V3SLgqkO4lYpXazQC5EGjEffzfuSBn3pptFTkQaMR9/N+5IGfemm0VORBoxH3837kgZ96abRUrngQBptFA/TUHuxX45Fy2GGHiaOPPhqni912201MmjRJ7Vf6Z7HFFhOPPfaYWG655cTUqVPFhhtuWKl6rCzr1J5vv/1WLLvssuK///2vWG211YQGMHbBMhlXXHGFOPTQQ8WwYcPEQw89pGpde+214sADDxQDBw7M1NYyl2a2AwS0Pvv37+/garyEKwTefPNNcdVVV2W63Oabby5GjBgR1p01a5ZAH3vuuefEZ599Jnr16iU23XRTsccee4gFFlggrGfukAcmGn7uT548Wdx+++3i5ZdfFt98840YMGCA2GqrrcTgwYNDgWvhDS5CHoRQervz4osvikceeUQ9O+fMmSPWXHNNsfHGG4uRI0dmkvncc88VL7zwgvjFL34hTjrppMRzyINEWJqeWUv/5nOh6eqriwBZngvmjW3r41yOByaCfu5Xo1ezJXwumGi01n4tz4UPP/xQ3HLLLep9Ak4P66+/vthmm23U+2U5FJyNB+1tPYK2H/86dOgQSEOB+ltmmWWCrH/yAye45pprpCPLT+k3v/lNpvPlC3V40syZMzOdY8r1yMMPBfhLS/feey9mMIV/r7/+etopJeWXXXaZOldOfQrz//znP6u8Pn36hHncaQ4C0KetTpsjabHuevfdd4d9zux/SfvHHXdcCI78yAqkp1fiuWussUbw5ZdfhnXNHfLARMO//SuvvDL42c9+FtMrnj3Qv/T8U0JXyxvdYvJAI+Hn9uqrrw46deoU4wHGhT333DOQ3qMVBX/44YcDcAb1N9lkk7J1yYOy0DS1oNr+zedCU9VWt5tnfS5oAWzr6/M4Hmgk/NxWq1fdGj4XNBKtua32uSBn0ATdu3ePvU906dIlwLd/ueRqPAin9sgXEuWRYrP8Maa0HHLIIWLbbbcVbW1tuESY8Kux9twIMyM7W2+9tbj++uvDXEyTwa9LNimrR4p8ORNjx44NL33yySeLU045JTxO27n88ssFPG4QQ0Z2VlUd04Twi1i/fv3U9J60a7C8fgg4syzWT8RCXnnKlCnizjvvLNt29KExY8ao8gsvvFAceeSRymtsxRVXFJ9//rkaV/Brc9++fcWjjz4q0A+/+uorseOOO4pbb701dl3yIAaJNxkff/yx6Nmzp5IHY//o0aOVR8ptt90mpCFe5eOZAa+/anhjNpQ8MNHwa/+BBx4QW265pRJq0KBBYvfddxfyJUjcf//9ygNNvvSISy+9VD1vkySHVyneE8AnJGlIUV6tSXXJgyRUmp9XTf+G3vlcaL7uXEtg81zAvW3rm/JyPDDR8Gu/Fr2iJXwu+KXPaqSp5rnwww8/iOWXX17AIwXfCWeccYZYeOGFxVlnnSWeeuopFY7jo48+UjNSojI5Gw/gkaK8Urq3y194OipvFHhdmF4f5fblx0w5Q0+Q5pEip2AE//nPf0rOr5dHyv/+979g0UUXVdYqCbLayuk9JfeOHrz77ruB/FALpHJUUZJHCn4Vf+WVV4L33nsvejqPG4yAK8tig8Uu/O0mTJig+uPiiy8eSJdthcfxxx+v8pZccskA/dBM0m1Tlck4R8EXX3xhFql98iAGiTcZcoqX0p38GArkw69ELjmtQ5UdfvjhJfnlDpJ4Y9YlD0w0/NqXU2RDHkQlkwYWVbbFFltEi8Jj+SONqiNfitSWHikhNLnZSerffC7kRr0lDbF9LtjWN2/G54KJhl/7tegVLeFzwS991kOapOfCgw8+qN4D4OEKzxSdZDiAQIbzUGX4bkhKrsYDERpSpEFFBky1mtoj4xkEMvZI8PzzzwdHHXVUsOuuu4ayphlS0Hik+fPnq/OxXy9DinYXktYq5TLctWtXBS5AjCZpoQpWWmklVa5f1OTc/eDMM89UeebUHhm/QeXJuVjRy/C4wQi46hANFrvQt5PeKAEMmuhn0uskxAIf2sjDmBJNMqZGcOONNwY33HBDzBCLuuRBFDF/jqFP6HX77bePCQX9owwf0mmpHG/M88gDEw2/9mEkkTHRAumBFhNM/oqkeFDuh4477rhDlS+xxBLBH//4R7VPQ0oMxpbOKNe/+VxoabWWFd72uWBb37wxnwsmGn7t16JXPhf80mU9pCn3XNhrr73Ue8AGG2wQu+3++++vytZaa61YGTJcjQeivb2nipECgwrmHMNQgDgp5bxQovnt7e1hXdNDpZIhRbrvh40677zzAsyXRqqXIUUGvlVgHnPMMeo+ciqSOpbTe9Sx/gfzsldffXVVhnbh19Hhw4cHMrClysOLPg0pGi2/tq46hF+tyrc08PhCn5JueIGcxqMaK907w772r3/9yxoA8sAasoadMHHixHBslcHASu6LcRZckFM6SvKTDpJ4E61HHkQRaY3jtddeW/EA3gfRhPeDpZdeWpXffPPNgf4Fk4aUKFKtfZzUv/lcaG2dVpLe9rlgW9+8N58LJhp+7VerVz4X/NJjvaRJei7gXr/85S/LvjNoDxa5qE2iWK7GA+WRUmuwWW1cyWJIWWeddQIZ40A1Sq4MJI04bXU1pOCF/ec//7kC+sknn1T3xS/aeGlfddVVS8A955xzVH63bt2CDz74ICx7/PHHw8B4NKSEsHi146pDeNWoHAuDqR0yzoHqb9rAieY+88wzKg/9U855Df7+978HMjZRIFfrCUaNGhXA8FppKh154C9p5MosyhMBusXDT67YEsBYpn9RwPTLTz75pGIDyvEmehJ5EEXEz2N4pMp50crLTK7cpPo+eAD9RRP6P7iz0047qSIaUqIItf5xuf7N50Lr67ZcC2yfC7b1zfvyuWCi4dd+tXrlc8EvPdZDmnLPBdxLzyBB+I1oeuKJJ8LvCYT4iCZX44HySNHTe6pdtSerIQXzlZ5++mnVFjRKLnWovFnq6ZEiA10qIPFLFlyDkPDrt14xwHxhk0HvVF0ZQFfVM//Rbmc0pJio+LPvqkP406J8S6L7JVZwmTZtWthYc3UtGfg6HATxAaX/sJoPjLBJiTxIQsWfPBlQPNBeB1qf2K6wwgrqgzpN0nK8iZ5HHkQR8fMY7wMmDzClJ8mYhql8qIcpQdp7jYYUP3Vai1Tl+jefC7Wg6v+5ts8F2/oaAT4XNBJ+bm31yueCn3p0LVW55wLuA28TvBuMGzcudlt8J+j3Cx3v1KzkajwIY6RUO7VHG1GwTfNIMeMgYFqNPreehpSdd95ZAbnPPvuY+AWIewKAzek96667rsobP358SV0cJAWbZYyUGExNy3DVIZrWgALdGNblAQMGqL528MEHl7RcruCi8vXgB8+F0047LYBlWa4RH/Tu3VuVwzCKX7OjiTyIIuLP8ddffx3IFZoCBAqGfqFLeAUiNheM+Bij4aZbLlXiTfQc8iCKiJ/H0BOeu507dw77vVzRKXjzzTdDgeEdqoPFm0sZ0pASQpSLnUr9m8+FXKg4sRG2zwXb+uZN+Vww0fBr31avfC74pb96SVPpuYB7LrTQQurdAVN/oumtt94K3yveeeedaLHDGCl61Z4fY6QgPopNjBRtDEkzpOCDSM+Lf/bZZ1U0XX1uvQwpcBVD/AW8tCPA3amnnhr+IUAs8s3pPXoKkFyCMwY4DSkxSLzK4APSK3VUFEYHf0bsIXMKHU6SS4uHA9/ZZ58du475y2RSDBXyIAaZNxm77LKL0i28CrRnIoSTS9MF6623nipDUDDtORgVvBJvonXJgygifh8jPhkC0MNLFc/lPn36BHh+4yUK0/qQt99++5U0goaUEjha/qBS/+ZzoeXVW7YBts8F2/rmjflcMNHwa99Gr3wu+KW7ekpT6bmA+yKeKd4P4NgQTZMmTVJlKK/nKp+JMVIwfUUbOWy2lTxSMMdVp4suukityIHpMvjTH0R4gcbxQQcdlPn+jzz8UIC/pBT9FQNgJv1hcEXCcqsov//++2OXoyElBolXGXxAeqWOisJozy/Exoiml156KeyjSXMakacNnpdcckn0dGcW5tiFmVETAljqXo+9SR5/ZjDJp556KvFelXgTPYHjQRSR1jiGRxK8k8CVBx54ILj44ovVPqbzwegKHuk/vRT6hhtuqPJmz54dayR5EIPE24xK/ZvPBW/VVpNgts8F2/pR4TgeRBHx49hWr3wu+KG3RkhR6bmA++up4ohxGk34lse7BLxWkpKr8SCc2oOAs/WMkYKAcjape/fumYwplQwpO+ywgwIR0wgwhSf616tXL1WOZRSR8EIG0DHvLppoSIki4texqw7hV6vyJw2Cx6KPYTrH22+/HWsgfoVG3BTUefTRR2Pl+CVCrw2ftHwqeRCDzIsMGMuhU/xNnTo1USZ4IaB87NixsfI03kRPIA+iiPhx/MorrwR9+/ZVy56X8zyCxxJ4AI+TESNGhLzR/Cm37devX6yR5EEMEi8z0vo3nwteqq1moWyfC7b1owJyPIgi4sexrV75XPBDb/WWIu25gPtvueWW6h1BB6E3ZUJYALwv9OjRw8wO912NB4YhpT00pNTDI+Wxxx5TQSURWDL6F7ZK7qAMq3LgYymLN0w5Qwrm23Xt2lWBeP3115u3CPcxXx8g6+k9e+65pzreddddwzp654gjjlBlDDarEfFr66pD+NWq/Emjp9QlDXq6tTrILJY1/e6773S22j733HOqH6LfYopgNJEHUUT8OIZbpf4Axmo90YSV3HScjMmTJ0eLgyy8MU8iD0w0/Nn/7LPPQh4k9V+s1AUjK7iCqT577723ct2F+270b5FFFlH1MEUQZZgWFE3kQRQRP4+z9G8+F/zUXS1S2T4XbOtHZeN4EEXEj2NbvfK54Ife6i1FlufC+eefr94DMKPk22+/LRFp0KBBqiwaI1VXcjUeGIYUeKR0VPFR6hEjpZJRRHuAwK23Ur2ksnKGFASmxMsYXsoQCTopwYVcv9wDUB08Fi/0mFuFhF/NrrvuutDdmIaUJCSbn+eqQzS/JfmVAK76ur/hl+lySVuhURdT/RA/AQm/So4cOVJdA7GPkqb+kAflUG1+PlZkgU5XXHHFAEvKayMZdIYAoyjDB3E0ZeWNeR55YKLh175e9hw/YLzxxhuhcNDZtttuq3iAZzCMLpUSpvaBMzC4lkvkQTlk/MnP2r/5XPBHZy4lsX0u2NY3ZeV4YKLh134tejVbwueCiUbr7md9LsBuoBcwwIq78FpHuuKKK9T7Ad4RnnzyyUQgXI0HoSFFr9oDI0o9PFKSjCA6rx6GlO22206B+Ktf/SoRQGTCSILVPwA0pveYAYy6dOkSwJoFGVG+xBJLqC0NKWXhbGqBqw7R1Ebk/OYbbbSR6kP4aE5LsCCj3+EPfXHgwIFBt27d1DHmOybFMcI1yYM0ZJtXDm8i7XUCvWJs7dmzZ6hnTOm66aabYgLa8EafTB5oJPzbwoiqp+/Bm2T11VcPll9++ZAH4MaVV16ZKjhfmFMhaokKNv2bz4WWUKmVkLbPBdv6pjB8Lpho+LVfi17NlvC5YKLRuvs2z4UTTjghfH/A1GAdtgPvEqNGjSoLgqvxIDSktHX/aWpPtR4pmLemEwwZ2lCStr388svVaYijklY3Wp7kkQL3Hnx8AcQLLrhAi5S4RcBL1MNqEUhYaxpBc7XbcFtbWzB69Gj1go96w4cPD6+DKUPIQ2wVpuYi4KpDNLcV+b07gk2jr+AvyaU/2nIYNRGXCO7c+qMLU/WwgsfEiROj1cNj8iCEwssdzIXGc0JP3wAfMFbjofn888/HZLbljb4AeaCR8HOL5Y3hXaZ/SdJjA7xV7rrrrkxC67hlm222Wdn65EFZaLwosO3ffC54oTbnQtg+F2zra4E5Hmgk/NxWq1ezNXwumGi05r7tcwGtRPB5eDTrdwn88AoPlfnz55cFwdV40AGeKPLG6gtn+vRPhPS4wKF49dVX1db3fyaMH6dEHDJ0mFNR5bQBISNJC6kYp9flxeqDgHQRVxfu379/fW7AqzYNAblsupABSoUMUinkh1dFOciDivB4UyiN3Uqn0qAiZJBZ0alTJ6eykQdO4azbxaRXqOIB+CC9k4Scsuf0XuSBUzi9uhifC16pw4kwts8F2/ocD5yoqe4XsdWrrUDkgS1irVNfrgAp5LRx0bt3byEX0KkouCse0JBSEWYWtgoCrjpEq7SXciYjQB4k41K0XPKgaBpPbi95kIxL0XLJg6JpPLm95EEyLkXLJQ+KpvHk9rriQYf2djlHPZD/y/vQIyUZbOb6j4CrDuF/SylhJQTIg0roFKeMPCiOriu1lDyohE5xysiD4ui6UkvJg0roFKeMPCiOriu11BUPSjxSZkyfJoYMHaLuW/SpPZXAZ5l/CLjqEP61jBLZIEAe2KCV37rkQX51a9My8sAGrfzWJQ/yq1ublpEHNmjlty55kF/d2rTMFQ9KDCnwSJHBHdW8IhpSbNTBus1GwFWHaHY7eP/aECAPasMvL2eTB3nRZG3tIA9qwy8vZ5MHedFkbe0gD2rDLy9nkwd50WRt7XDFg4ghZZoMNkuPlNpUw7ObgYCrDtEM2XlPdwiQB+6wbOUrkQetrD13spMH7rBs5SuRB62sPXeykwfusGzlK5EHraw9d7K74kGJIQVTe0aPGa2kfP/9991JW8crHbD/furqy3Vvq+NdeGkiQASIABEgAkSACBABIkAEiAARIAJEgAgI0WGVlVcNZn/1lcICU3vGjBkjY88GYsqUKS2BDw0pLaEmCkkEiAARIAJEgAgQASJABIgAESACRCAXCHTYcIONgg8//JCr9uRCncVthCsXreIimI+Wkwf50GOtrSAPakUwH+eTB/nQY62tIA9qRTAf55MH+dBjra0gD2pFMB/nu+JBh+HDtwjeeust8f1334kZM6erYLOAiMFm80GUorTCVYcoCl55bSd5kFfN2rWLPLDDK6+1yYO8atauXeSBHV55rU0e5FWzdu0iD+zwymttVzzosLk0pLz33nti7rx5AlN7hg4dqjCjISWv1Mlnu1x1iHyiU5xWkQfF0XWllpIHldApThl5UBxdV2opeVAJneKUkQfF0XWllpIHldApTpkrHnTYfPMtgw+nThWzZs9WhhQuf1wcEuWppa46RJ4wKWJbyIMiaj3eZvIgjkkRc8iDImo93mbyII5JEXPIgyJqPd5m8iCOSRFzXPFAeqRsGXzyycfiiy+/pEdKEZmUkza76hA5gaOwzSAPCqv6koaTByVwFPaAPCis6ksaTh6UwFHYA/KgsKovaTh5UAJHYQ9c8aDDFvBIkcFmZ82aJab9OLUHq/a89tprLQHuhPHjlJxDhg5rCXkpZH0QcNUh6iMdr9ooBMiDRiHt933IA7/10yjpyINGIe33fcgDv/XTKOnIg0Yh7fd9yAO/9dMo6VzxQMVIwVLHX8+ZQ4+URmmP93GOgKsO4VwwXrChCJAHDYXb25uRB96qpqGCkQcNhdvbm5EH3qqmoYKRBw2F29ubkQfeqqahgrnigVq159133hHffPNNuGoPPVIaqkvezAECrjqEA1F4iSYiQB40EXyPbk0eeKSMJopCHjQRfI9uTR54pIwmikIeNBF8j25NHnikjCaK4ooHHTYZvGnw7rvvqqboqT04qGbVnsMOO0wcffTR6lq77babmDRpktrX/3Tq1Em8+OKL+jBxe9RRR4nHHnsssSwpk1N7klApXp6rDlE85PLVYvIgX/qstjXkQbXI5es88iBf+qy2NeRBtcjl6zzyIF/6rLY15EG1yOXrPFc86DBgzbWCTz/7TKFT7fLHnTt3FieeeKLYf//9Q5T32GMP8dBDD4XH2Fl66aXF66+/XpIXPTj00EPF7bffHs0ue0xDSlloClXgqkMUCrQcNpY8yKFSq2gSeVAFaDk8hTzIoVKraBJ5UAVoOTyFPMihUqtoEnlQBWg5PMUVDzr07NEr+OGHHxRE8EixWf54qaWWEocccojYdtttRVtbWwnMSYaUVVZZRTzxxBOq3umnn64C3JacJA8eeOABMXPmzGh22WMaUspCU6gCVx2iUKDlsLHkQQ6VWkWTyIMqQMvhKeRBDpVaRZPIgypAy+Ep5EEOlVpFk8iDKkDL4SmueNChva1HAHwQF2X6jOli6NAhaj/Lqj2DBw8Wt956ayK8SYaUQYMGiTvvvFPVX3755cXcuXMTz7XJpCHFBq381nXVIfKLUDFaRh4UQ89prSQP0hAqRjl5UAw9p7WSPEhDqBjl5EEx9JzWSvIgDaFilLviwU+GFInbjBnTlEcKIMwSI2W99dYTf/vb38Qrr7wibr75Znn+DDFhwgSlgSRDysiRI8W1114r5s2bJ/r06aPq1foPDSm1IpiP8111iHygUdxWkAfF1b3ZcvLARKO4++RBcXVvtpw8MNEo7j55UFzdmy0nD0w0irvvigcd2tt7SmeUQHSQWNpO7QH8Cy64oJg/f77ShOmhkmRI2WeffcRZZ50lPvroI4HytdZaS7S3t4t35KpBL7zwgpg2bZq6js0/NKTYoJXfuq46RH4RKkbLyINi6DmtleRBGkLFKCcPiqHntFaSB2kIFaOcPCiGntNaSR6kIVSMclc8UB4pam6PxK3aYLMa8jRDyu9//3tx7LHH6uqx7Q033CCOO+64WH6lDBpSKqFTnDJXHaI4iOWzpeRBPvVq2yrywBaxfNYnD/KpV9tWkQe2iOWzPnmQT73atoo8sEUsn/Vd8UB5pMigKAqlWpc/TjOkwBsFXik6wTNl9uzZYuWVVxYLLLCAyv7LX/4ijj/+eF0ldUtDSipEhajgqkMUAqwcN5I8yLFyLZpGHliAleOq5EGOlWvRNPLAAqwcVyUPcqxci6aRBxZg5biqKx6EMVKAVTVTe0yM0wwpRx55pNhrr73EnDlzxOjRo8UzzzyjTu/fv78KWotVgBCAtl+/fuL77783L112n4aUstAUqsBVhygUaDlsLHmQQ6VW0STyoArQcngKeZBDpVbRJPKgCtByeAp5kEOlVtEk8qAK0HJ4iisehIYU+KTUe2pPJT0ceOCB4tRTT1VVhg8fninYLSrTkFIJ1eKUueoQxUEsny0lD/KpV9tWkQe2iOWzPnmQT73atoo8sEUsn/XJg3zq1bZV5IEtYvms74oHiTFSEHw2y/LHUWjTPFKi9c1jc2nkY445RowbN84sLrtPQ0pZaApV4KpDFAq0HDaWPMihUqtoEnlQBWg5PIU8yKFSq2gSeVAFaDk8hTzIoVKraBJ5UAVoOTzFFQ8a5pGyzDLLiKuuukqp4uKLLxZPPPFEiVqGDRsWGk8QR+W+++4rKS93QENKOWSKle+qQxQLtfy1ljzIn06raRF5UA1q+TuHPMifTqtpEXlQDWr5O4c8yJ9Oq2kReVANavk7xxUP/g9ORuE4H3BrsQAAAABJRU5ErkJggg==' />\n",
    "        </td>\n",
    "    </tr>\n",
    "</table>"
   ]
  },
  {
   "cell_type": "markdown",
   "id": "2105118b",
   "metadata": {
    "id": "2105118b",
    "slideshow": {
     "slide_type": "subslide"
    }
   },
   "source": [
    "- Following examples will be demonstrated using CSV files\n",
    "    - make sure you have this file by executing the the first code block in this notebook\n"
   ]
  },
  {
   "cell_type": "markdown",
   "id": "be50ad98",
   "metadata": {
    "id": "be50ad98",
    "slideshow": {
     "slide_type": "subslide"
    }
   },
   "source": [
    "### Loading a CSV file as a `DataFrame` object\n"
   ]
  },
  {
   "cell_type": "code",
   "execution_count": null,
   "id": "6d6c6f39",
   "metadata": {
    "execution": {
     "iopub.execute_input": "2025-03-10T07:51:25.868190Z",
     "iopub.status.busy": "2025-03-10T07:51:25.867682Z",
     "iopub.status.idle": "2025-03-10T07:51:25.886959Z",
     "shell.execute_reply": "2025-03-10T07:51:25.886005Z"
    },
    "id": "6d6c6f39",
    "slideshow": {
     "slide_type": "fragment"
    }
   },
   "outputs": [],
   "source": [
    "inputFileName = \"files/StudentsGrades.csv\"\n",
    "df = pd.read_csv(inputFileName)\n",
    "display(df)"
   ]
  },
  {
   "cell_type": "markdown",
   "id": "3306d119",
   "metadata": {
    "id": "3306d119",
    "slideshow": {
     "slide_type": "subslide"
    }
   },
   "source": [
    "### General description of `DataFrame` object"
   ]
  },
  {
   "cell_type": "code",
   "execution_count": null,
   "id": "a5d76bc4",
   "metadata": {
    "execution": {
     "iopub.execute_input": "2025-03-10T07:51:25.890440Z",
     "iopub.status.busy": "2025-03-10T07:51:25.889899Z",
     "iopub.status.idle": "2025-03-10T07:51:25.894292Z",
     "shell.execute_reply": "2025-03-10T07:51:25.893403Z"
    },
    "id": "a5d76bc4",
    "slideshow": {
     "slide_type": "fragment"
    }
   },
   "outputs": [],
   "source": [
    "print(len(df)) # num of rows (excluding the header)"
   ]
  },
  {
   "cell_type": "code",
   "execution_count": null,
   "id": "a3edccb8",
   "metadata": {
    "execution": {
     "iopub.execute_input": "2025-03-10T07:51:25.897880Z",
     "iopub.status.busy": "2025-03-10T07:51:25.897356Z",
     "iopub.status.idle": "2025-03-10T07:51:25.902261Z",
     "shell.execute_reply": "2025-03-10T07:51:25.901373Z"
    },
    "id": "a3edccb8",
    "slideshow": {
     "slide_type": "fragment"
    }
   },
   "outputs": [],
   "source": [
    "print(df.dtypes)"
   ]
  },
  {
   "cell_type": "markdown",
   "id": "5c63ceed",
   "metadata": {
    "id": "5c63ceed",
    "slideshow": {
     "slide_type": "fragment"
    }
   },
   "source": [
    "Note that 'object' dtype represents also strings"
   ]
  },
  {
   "cell_type": "markdown",
   "id": "92d7f170",
   "metadata": {
    "id": "92d7f170",
    "slideshow": {
     "slide_type": "subslide"
    }
   },
   "source": [
    "### Fetching rows and columns"
   ]
  },
  {
   "cell_type": "markdown",
   "id": "95baa27a",
   "metadata": {
    "id": "95baa27a",
    "slideshow": {
     "slide_type": "fragment"
    }
   },
   "source": [
    "#### `[]`, `iloc[,]` and `loc[,]`"
   ]
  },
  {
   "cell_type": "markdown",
   "id": "14d312db",
   "metadata": {
    "id": "14d312db",
    "slideshow": {
     "slide_type": "fragment"
    }
   },
   "source": [
    "- `df[x]`: Fetching data by column names (x)\n",
    "- `df.loc[x,y]`:  Fetching data by row name(s) (x) and column name(s) (y)\n",
    "- `df.iloc[x,y]`: Fetching data by row position(s) (x) and column position(s) (y)"
   ]
  },
  {
   "cell_type": "markdown",
   "id": "e0e063c8",
   "metadata": {
    "id": "e0e063c8",
    "slideshow": {
     "slide_type": "fragment"
    }
   },
   "source": [
    "#### <span style='color:red'> Do not get confused between `df[]`, `df.loc[]` and `df.iloc[]`!</span>"
   ]
  },
  {
   "cell_type": "markdown",
   "id": "56035980",
   "metadata": {
    "id": "92d7f170",
    "slideshow": {
     "slide_type": "subslide"
    }
   },
   "source": [
    "### Fetching rows and columns: data types"
   ]
  },
  {
   "cell_type": "markdown",
   "id": "7d8b99d0",
   "metadata": {
    "id": "7d8b99d0",
    "slideshow": {
     "slide_type": "fragment"
    }
   },
   "source": [
    "- Fetching a single row **and** a single column yields an object of y column (d)type\n",
    "- Fetching a single row **or** a single column yields a `Series` object\n",
    "- Fetching multiple rows **and** columns yields a `DataFrame` object\n",
    "\n",
    "You can think about the class `Series` as one-dimensional vector, and `DataFrame` as two-dimensional matrix."
   ]
  },
  {
   "cell_type": "markdown",
   "id": "95293131",
   "metadata": {
    "id": "92d7f170",
    "slideshow": {
     "slide_type": "subslide"
    }
   },
   "source": [
    "### Fetching rows and columns: `DataFrame` example"
   ]
  },
  {
   "cell_type": "code",
   "execution_count": null,
   "id": "b12c8ec6",
   "metadata": {
    "execution": {
     "iopub.execute_input": "2025-03-10T07:51:25.906203Z",
     "iopub.status.busy": "2025-03-10T07:51:25.905695Z",
     "iopub.status.idle": "2025-03-10T07:51:25.915353Z",
     "shell.execute_reply": "2025-03-10T07:51:25.914577Z"
    },
    "slideshow": {
     "slide_type": "fragment"
    }
   },
   "outputs": [],
   "source": [
    "df_first3=df.iloc[0:3,0:3]\n",
    "print(type(df_first3))\n",
    "display(df_first3)"
   ]
  },
  {
   "cell_type": "code",
   "execution_count": null,
   "id": "2912a2a8",
   "metadata": {
    "execution": {
     "iopub.execute_input": "2025-03-10T07:51:25.918497Z",
     "iopub.status.busy": "2025-03-10T07:51:25.918163Z",
     "iopub.status.idle": "2025-03-10T07:51:25.924107Z",
     "shell.execute_reply": "2025-03-10T07:51:25.923133Z"
    },
    "slideshow": {
     "slide_type": "fragment"
    }
   },
   "outputs": [],
   "source": [
    "print(df_first3.iloc[0])\n",
    "print(df_first3.iloc[:,0])"
   ]
  },
  {
   "cell_type": "markdown",
   "id": "48b8c633",
   "metadata": {
    "id": "92d7f170",
    "slideshow": {
     "slide_type": "subslide"
    }
   },
   "source": [
    "### Fetching rows and columns: `Series` example"
   ]
  },
  {
   "cell_type": "code",
   "execution_count": null,
   "id": "d9495073",
   "metadata": {
    "execution": {
     "iopub.execute_input": "2025-03-10T07:51:25.927735Z",
     "iopub.status.busy": "2025-03-10T07:51:25.927029Z",
     "iopub.status.idle": "2025-03-10T07:51:25.934387Z",
     "shell.execute_reply": "2025-03-10T07:51:25.933570Z"
    },
    "slideshow": {
     "slide_type": "fragment"
    }
   },
   "outputs": [],
   "source": [
    "df_first1=df.iloc[0,0:3]\n",
    "print(type(df_first1))\n",
    "display(df_first1)"
   ]
  },
  {
   "cell_type": "code",
   "execution_count": null,
   "id": "e9c4e66b",
   "metadata": {
    "execution": {
     "iopub.execute_input": "2025-03-10T07:51:25.937485Z",
     "iopub.status.busy": "2025-03-10T07:51:25.937133Z",
     "iopub.status.idle": "2025-03-10T07:51:28.442582Z",
     "shell.execute_reply": "2025-03-10T07:51:28.441769Z"
    },
    "slideshow": {
     "slide_type": "fragment"
    },
    "tags": [
     "raises-exception"
    ]
   },
   "outputs": [],
   "source": [
    "print(df_first1.iloc[0])\n",
    "print(df_first1.iloc[:,0])"
   ]
  },
  {
   "cell_type": "markdown",
   "id": "e5f1676e",
   "metadata": {
    "id": "e5f1676e",
    "slideshow": {
     "slide_type": "subslide"
    }
   },
   "source": [
    "### `iloc`  vs. `loc` "
   ]
  },
  {
   "cell_type": "markdown",
   "id": "50e957c9",
   "metadata": {
    "slideshow": {
     "slide_type": "fragment"
    }
   },
   "source": [
    "Objective #1: Create a `DataFrame` (`df_partial`) that contains the first, third and fifth lines in `df` "
   ]
  },
  {
   "cell_type": "code",
   "execution_count": null,
   "id": "f409bec9",
   "metadata": {
    "execution": {
     "iopub.execute_input": "2025-03-10T07:51:28.446463Z",
     "iopub.status.busy": "2025-03-10T07:51:28.445701Z",
     "iopub.status.idle": "2025-03-10T07:51:28.451863Z",
     "shell.execute_reply": "2025-03-10T07:51:28.451128Z"
    },
    "slideshow": {
     "slide_type": "fragment"
    }
   },
   "outputs": [],
   "source": [
    "# option 1 \n",
    "x=[1,3,5]\n",
    "df_partial = df.iloc[x] \n",
    "# option 2 \n",
    "df_partial= df.iloc[[1,3,5]]  \n",
    "# option 3\n",
    "df_partial= df.iloc[1:7:2]"
   ]
  },
  {
   "cell_type": "code",
   "execution_count": null,
   "id": "c24f0a60",
   "metadata": {
    "execution": {
     "iopub.execute_input": "2025-03-10T07:51:28.455247Z",
     "iopub.status.busy": "2025-03-10T07:51:28.454908Z",
     "iopub.status.idle": "2025-03-10T07:51:28.465651Z",
     "shell.execute_reply": "2025-03-10T07:51:28.464806Z"
    },
    "slideshow": {
     "slide_type": "fragment"
    }
   },
   "outputs": [],
   "source": [
    "print(type(df_partial))\n",
    "display(df_partial)"
   ]
  },
  {
   "cell_type": "markdown",
   "id": "0419f9cc",
   "metadata": {
    "slideshow": {
     "slide_type": "fragment"
    }
   },
   "source": [
    "Objective #2: Fetch the last line from `df_partial`"
   ]
  },
  {
   "cell_type": "code",
   "execution_count": null,
   "id": "7305fda7",
   "metadata": {
    "execution": {
     "iopub.execute_input": "2025-03-10T07:51:28.469038Z",
     "iopub.status.busy": "2025-03-10T07:51:28.468695Z",
     "iopub.status.idle": "2025-03-10T07:51:28.478300Z",
     "shell.execute_reply": "2025-03-10T07:51:28.477562Z"
    },
    "slideshow": {
     "slide_type": "fragment"
    }
   },
   "outputs": [],
   "source": [
    "display(df_partial)"
   ]
  },
  {
   "cell_type": "code",
   "execution_count": null,
   "id": "aa6f3ab8",
   "metadata": {
    "execution": {
     "iopub.execute_input": "2025-03-10T07:51:28.481880Z",
     "iopub.status.busy": "2025-03-10T07:51:28.481228Z",
     "iopub.status.idle": "2025-03-10T07:51:28.488554Z",
     "shell.execute_reply": "2025-03-10T07:51:28.487670Z"
    },
    "id": "aa6f3ab8",
    "slideshow": {
     "slide_type": "fragment"
    }
   },
   "outputs": [],
   "source": [
    "# option 1 \n",
    "s_last=df_partial.iloc[2]\n",
    "# option 2\n",
    "s_last=df_partial.iloc[-1]\n",
    "print(type(s_last))\n",
    "display(s_last)"
   ]
  },
  {
   "cell_type": "code",
   "execution_count": null,
   "id": "da48af7a",
   "metadata": {
    "execution": {
     "iopub.execute_input": "2025-03-10T07:51:28.492259Z",
     "iopub.status.busy": "2025-03-10T07:51:28.491541Z",
     "iopub.status.idle": "2025-03-10T07:51:29.927316Z",
     "shell.execute_reply": "2025-03-10T07:51:29.926558Z"
    },
    "id": "da48af7a",
    "slideshow": {
     "slide_type": "fragment"
    },
    "tags": [
     "raises-exception"
    ]
   },
   "outputs": [],
   "source": [
    "print(df_partial.loc[2])"
   ]
  },
  {
   "cell_type": "markdown",
   "id": "f2ee8e53",
   "metadata": {
    "id": "f2ee8e53",
    "slideshow": {
     "slide_type": "subslide"
    }
   },
   "source": [
    "### Why did we get an error?\n",
    "- The `loc` method access rows by their index\n",
    "- The `iloc` method access rows by their position"
   ]
  },
  {
   "cell_type": "code",
   "execution_count": null,
   "id": "4cd7d9b9",
   "metadata": {
    "execution": {
     "iopub.execute_input": "2025-03-10T07:51:29.930566Z",
     "iopub.status.busy": "2025-03-10T07:51:29.930306Z",
     "iopub.status.idle": "2025-03-10T07:51:29.942067Z",
     "shell.execute_reply": "2025-03-10T07:51:29.941347Z"
    },
    "id": "4cd7d9b9",
    "slideshow": {
     "slide_type": "fragment"
    }
   },
   "outputs": [],
   "source": [
    "display(df_partial)\n",
    "print(df_partial.loc[5] == df_partial.iloc[2])"
   ]
  },
  {
   "cell_type": "markdown",
   "id": "31c3cd65",
   "metadata": {
    "id": "92d7f170",
    "slideshow": {
     "slide_type": "subslide"
    }
   },
   "source": [
    "###  Rows and column names : `DataFrame`"
   ]
  },
  {
   "cell_type": "markdown",
   "id": "b0c90c9f",
   "metadata": {
    "slideshow": {
     "slide_type": "fragment"
    }
   },
   "source": [
    "- The attribute of row names in `DataFrame` is called **index**\n",
    "- The attribute of column names in `DataFrame` is called **columns**\n",
    "- Both are of class `Index`  \n",
    "\n",
    "You can think about the class `Index` as general naming class, and the attributes `df.index` `df.columns` as instances that represents row names columns names, respectively."
   ]
  },
  {
   "cell_type": "code",
   "execution_count": null,
   "id": "c4fc0c9f",
   "metadata": {
    "execution": {
     "iopub.execute_input": "2025-03-10T07:51:29.945396Z",
     "iopub.status.busy": "2025-03-10T07:51:29.945045Z",
     "iopub.status.idle": "2025-03-10T07:51:29.950252Z",
     "shell.execute_reply": "2025-03-10T07:51:29.949552Z"
    },
    "slideshow": {
     "slide_type": "fragment"
    }
   },
   "outputs": [],
   "source": [
    "df.index "
   ]
  },
  {
   "cell_type": "code",
   "execution_count": null,
   "id": "174ef9f0",
   "metadata": {
    "execution": {
     "iopub.execute_input": "2025-03-10T07:51:29.953300Z",
     "iopub.status.busy": "2025-03-10T07:51:29.952955Z",
     "iopub.status.idle": "2025-03-10T07:51:29.958597Z",
     "shell.execute_reply": "2025-03-10T07:51:29.957868Z"
    },
    "slideshow": {
     "slide_type": "fragment"
    }
   },
   "outputs": [],
   "source": [
    "df.columns"
   ]
  },
  {
   "cell_type": "markdown",
   "id": "34f4b573",
   "metadata": {
    "id": "92d7f170",
    "slideshow": {
     "slide_type": "subslide"
    }
   },
   "source": [
    "###  Cell names in `Series`"
   ]
  },
  {
   "cell_type": "markdown",
   "id": "6836bc8f",
   "metadata": {
    "slideshow": {
     "slide_type": "fragment"
    }
   },
   "source": [
    "The cell names in a `Series` is also called **index**, regardless whether it came form a column or a row."
   ]
  },
  {
   "cell_type": "code",
   "execution_count": null,
   "id": "823a5d14",
   "metadata": {
    "execution": {
     "iopub.execute_input": "2025-03-10T07:51:29.962470Z",
     "iopub.status.busy": "2025-03-10T07:51:29.961700Z",
     "iopub.status.idle": "2025-03-10T07:51:29.968538Z",
     "shell.execute_reply": "2025-03-10T07:51:29.967784Z"
    },
    "slideshow": {
     "slide_type": "fragment"
    }
   },
   "outputs": [],
   "source": [
    "s=df.iloc[0]\n",
    "print(type(s))\n",
    "s.index"
   ]
  },
  {
   "cell_type": "markdown",
   "id": "c8310314",
   "metadata": {
    "id": "c8310314",
    "slideshow": {
     "slide_type": "slide"
    }
   },
   "source": [
    "## Manipulations on `DataFrame`"
   ]
  },
  {
   "cell_type": "markdown",
   "id": "f50e3c59",
   "metadata": {
    "id": "f50e3c59",
    "slideshow": {
     "slide_type": "subslide"
    }
   },
   "source": [
    "### Column operations"
   ]
  },
  {
   "cell_type": "markdown",
   "id": "636ceff2",
   "metadata": {
    "slideshow": {
     "slide_type": "fragment"
    }
   },
   "source": [
    "Fetch Math column"
   ]
  },
  {
   "cell_type": "code",
   "execution_count": null,
   "id": "50fdfe32",
   "metadata": {
    "execution": {
     "iopub.execute_input": "2025-03-10T07:51:29.971981Z",
     "iopub.status.busy": "2025-03-10T07:51:29.971606Z",
     "iopub.status.idle": "2025-03-10T07:51:29.976203Z",
     "shell.execute_reply": "2025-03-10T07:51:29.975377Z"
    },
    "id": "50fdfe32",
    "slideshow": {
     "slide_type": "fragment"
    }
   },
   "outputs": [],
   "source": [
    "print(df['Math'])"
   ]
  },
  {
   "cell_type": "code",
   "execution_count": null,
   "id": "cf7d83be",
   "metadata": {
    "execution": {
     "iopub.execute_input": "2025-03-10T07:51:29.979437Z",
     "iopub.status.busy": "2025-03-10T07:51:29.979054Z",
     "iopub.status.idle": "2025-03-10T07:51:29.984250Z",
     "shell.execute_reply": "2025-03-10T07:51:29.983515Z"
    },
    "id": "cf7d83be",
    "slideshow": {
     "slide_type": "fragment"
    }
   },
   "outputs": [],
   "source": [
    "print(type(df['Math']))"
   ]
  },
  {
   "cell_type": "markdown",
   "id": "0315cde3",
   "metadata": {
    "slideshow": {
     "slide_type": "subslide"
    }
   },
   "source": [
    "Subtract Art grades from Math grades"
   ]
  },
  {
   "cell_type": "code",
   "execution_count": null,
   "id": "a1030637",
   "metadata": {
    "execution": {
     "iopub.execute_input": "2025-03-10T07:51:29.987509Z",
     "iopub.status.busy": "2025-03-10T07:51:29.986947Z",
     "iopub.status.idle": "2025-03-10T07:51:29.992654Z",
     "shell.execute_reply": "2025-03-10T07:51:29.991770Z"
    },
    "id": "a1030637",
    "slideshow": {
     "slide_type": "fragment"
    }
   },
   "outputs": [],
   "source": [
    "print(df['Math'] - df['Art'])"
   ]
  },
  {
   "cell_type": "markdown",
   "id": "2a24baaf",
   "metadata": {
    "slideshow": {
     "slide_type": "subslide"
    }
   },
   "source": [
    "Average Art and Math grades"
   ]
  },
  {
   "cell_type": "code",
   "execution_count": null,
   "id": "f4674e3b",
   "metadata": {
    "execution": {
     "iopub.execute_input": "2025-03-10T07:51:29.996093Z",
     "iopub.status.busy": "2025-03-10T07:51:29.995512Z",
     "iopub.status.idle": "2025-03-10T07:51:30.001761Z",
     "shell.execute_reply": "2025-03-10T07:51:30.000939Z"
    },
    "id": "a1030637",
    "slideshow": {
     "slide_type": "fragment"
    }
   },
   "outputs": [],
   "source": [
    "print((df['Math'] + df['Art'])/2)"
   ]
  },
  {
   "cell_type": "markdown",
   "id": "b6003212",
   "metadata": {
    "slideshow": {
     "slide_type": "subslide"
    }
   },
   "source": [
    "Average grades of all classes"
   ]
  },
  {
   "cell_type": "code",
   "execution_count": null,
   "id": "779d496a",
   "metadata": {
    "execution": {
     "iopub.execute_input": "2025-03-10T07:51:30.004837Z",
     "iopub.status.busy": "2025-03-10T07:51:30.004269Z",
     "iopub.status.idle": "2025-03-10T07:51:30.011804Z",
     "shell.execute_reply": "2025-03-10T07:51:30.010989Z"
    },
    "slideshow": {
     "slide_type": "fragment"
    }
   },
   "outputs": [],
   "source": [
    "df.iloc[:,1:].mean(axis=1)"
   ]
  },
  {
   "cell_type": "markdown",
   "id": "ffdb5090",
   "metadata": {
    "id": "ffdb5090",
    "slideshow": {
     "slide_type": "subslide"
    }
   },
   "source": [
    "Add the average of all classes for each student (adding an average column)"
   ]
  },
  {
   "cell_type": "code",
   "execution_count": null,
   "id": "d7c75d06",
   "metadata": {
    "execution": {
     "iopub.execute_input": "2025-03-10T07:51:30.014917Z",
     "iopub.status.busy": "2025-03-10T07:51:30.014570Z",
     "iopub.status.idle": "2025-03-10T07:51:30.027881Z",
     "shell.execute_reply": "2025-03-10T07:51:30.027214Z"
    },
    "id": "d7c75d06",
    "slideshow": {
     "slide_type": "fragment"
    }
   },
   "outputs": [],
   "source": [
    "df['Avg'] = df.iloc[:,1:].mean(axis=1)\n",
    "display(df)"
   ]
  },
  {
   "cell_type": "markdown",
   "id": "3ca56937",
   "metadata": {
    "id": "3ca56937",
    "slideshow": {
     "slide_type": "subslide"
    }
   },
   "source": [
    "### Add a new row\n",
    "- In order to add a new student (Dana) to our data frame\n",
    "    - Create a single row data frame with Dana's grades\n",
    "    - Concatenate the two data frames"
   ]
  },
  {
   "cell_type": "code",
   "execution_count": null,
   "id": "74aea0ee",
   "metadata": {
    "execution": {
     "iopub.execute_input": "2025-03-10T07:51:30.030843Z",
     "iopub.status.busy": "2025-03-10T07:51:30.030491Z",
     "iopub.status.idle": "2025-03-10T07:51:30.044039Z",
     "shell.execute_reply": "2025-03-10T07:51:30.043250Z"
    },
    "id": "74aea0ee",
    "slideshow": {
     "slide_type": "fragment"
    }
   },
   "outputs": [],
   "source": [
    "inputFileName = \"files/StudentsGrades.csv\"\n",
    "df = pd.read_csv(inputFileName)\n",
    "df"
   ]
  },
  {
   "cell_type": "code",
   "execution_count": null,
   "id": "ef40a79d",
   "metadata": {
    "execution": {
     "iopub.execute_input": "2025-03-10T07:51:30.047190Z",
     "iopub.status.busy": "2025-03-10T07:51:30.046842Z",
     "iopub.status.idle": "2025-03-10T07:51:30.068915Z",
     "shell.execute_reply": "2025-03-10T07:51:30.068171Z"
    },
    "id": "ef40a79d",
    "slideshow": {
     "slide_type": "fragment"
    }
   },
   "outputs": [],
   "source": [
    "new_student = [{'Name':\"Dana\",'Programming':76.0,'Marine Biology':65.0,'Stellar Cartography':98.0,'Math':8.07,\n",
    "                'History':65.0,'Planet Survival':89.0,'Art':100.0}]\n",
    "pd.DataFrame(new_student)\n",
    "df = pd.concat((df, pd.DataFrame(new_student)), ignore_index=True)\n",
    "display(df)\n"
   ]
  },
  {
   "cell_type": "markdown",
   "id": "01411f1f",
   "metadata": {
    "id": "01411f1f",
    "slideshow": {
     "slide_type": "subslide"
    }
   },
   "source": [
    "But what about the index of Dana?"
   ]
  },
  {
   "cell_type": "code",
   "execution_count": null,
   "id": "79f7baec",
   "metadata": {
    "execution": {
     "iopub.execute_input": "2025-03-10T07:51:30.072456Z",
     "iopub.status.busy": "2025-03-10T07:51:30.071644Z",
     "iopub.status.idle": "2025-03-10T07:51:30.078050Z",
     "shell.execute_reply": "2025-03-10T07:51:30.077359Z"
    },
    "id": "79f7baec",
    "slideshow": {
     "slide_type": "fragment"
    }
   },
   "outputs": [],
   "source": [
    "inputFileName = \"files/StudentsGrades.csv\"\n",
    "df = pd.read_csv(inputFileName) "
   ]
  },
  {
   "cell_type": "code",
   "execution_count": null,
   "id": "5188b334",
   "metadata": {
    "execution": {
     "iopub.execute_input": "2025-03-10T07:51:30.081260Z",
     "iopub.status.busy": "2025-03-10T07:51:30.080771Z",
     "iopub.status.idle": "2025-03-10T07:51:30.102256Z",
     "shell.execute_reply": "2025-03-10T07:51:30.101415Z"
    },
    "id": "5188b334",
    "slideshow": {
     "slide_type": "fragment"
    }
   },
   "outputs": [],
   "source": [
    "new_student = [{'Name':\"Dana\",'Programming':76.0,'Marine Biology':65.0,'Stellar Cartography':98.0,'Math':8.07,\n",
    "                'History':65.0,'Planet Survival':89.0,'Art':100.0}]\n",
    "df = pd.concat([df, pd.DataFrame(new_student)], ignore_index=True) # ignores the original indices\n",
    "display(df)"
   ]
  },
  {
   "cell_type": "markdown",
   "id": "f08a4608",
   "metadata": {
    "id": "f08a4608",
    "slideshow": {
     "slide_type": "fragment"
    }
   },
   "source": [
    "We will see a more general usage of ```concat``` later"
   ]
  },
  {
   "cell_type": "markdown",
   "id": "e1b7b701",
   "metadata": {
    "id": "e1b7b701",
    "slideshow": {
     "slide_type": "subslide"
    }
   },
   "source": [
    "### Delete a column"
   ]
  },
  {
   "cell_type": "code",
   "execution_count": null,
   "id": "6cd4f751",
   "metadata": {
    "execution": {
     "iopub.execute_input": "2025-03-10T07:51:30.105534Z",
     "iopub.status.busy": "2025-03-10T07:51:30.105065Z",
     "iopub.status.idle": "2025-03-10T07:51:30.124504Z",
     "shell.execute_reply": "2025-03-10T07:51:30.123581Z"
    },
    "id": "6cd4f751",
    "slideshow": {
     "slide_type": "fragment"
    }
   },
   "outputs": [],
   "source": [
    "df_without_names = df.drop('Name', axis=1) # axis=1 --> columns are dropped\n",
    "display(df_without_names)"
   ]
  },
  {
   "cell_type": "markdown",
   "id": "5ee7cb75",
   "metadata": {
    "execution": {
     "iopub.execute_input": "2024-02-20T15:56:04.161289Z",
     "iopub.status.busy": "2024-02-20T15:56:04.160471Z",
     "iopub.status.idle": "2024-02-20T15:56:04.732277Z",
     "shell.execute_reply": "2024-02-20T15:56:04.731080Z"
    },
    "id": "5ee7cb75",
    "slideshow": {
     "slide_type": "subslide"
    }
   },
   "source": [
    "### Delete a row\n",
    "- Remove rows based on index"
   ]
  },
  {
   "cell_type": "code",
   "execution_count": null,
   "id": "029b767d",
   "metadata": {
    "execution": {
     "iopub.execute_input": "2025-03-10T07:51:30.127795Z",
     "iopub.status.busy": "2025-03-10T07:51:30.127322Z",
     "iopub.status.idle": "2025-03-10T07:51:30.147616Z",
     "shell.execute_reply": "2025-03-10T07:51:30.146729Z"
    },
    "id": "029b767d",
    "slideshow": {
     "slide_type": "fragment"
    }
   },
   "outputs": [],
   "source": [
    "display(df.drop(10))  # by default, axis=0 --> rows are dropped"
   ]
  },
  {
   "cell_type": "code",
   "execution_count": null,
   "id": "7dd9be50",
   "metadata": {
    "execution": {
     "iopub.execute_input": "2025-03-10T07:51:30.150890Z",
     "iopub.status.busy": "2025-03-10T07:51:30.150544Z",
     "iopub.status.idle": "2025-03-10T07:51:30.168797Z",
     "shell.execute_reply": "2025-03-10T07:51:30.167933Z"
    },
    "id": "7dd9be50",
    "slideshow": {
     "slide_type": "fragment"
    }
   },
   "outputs": [],
   "source": [
    "display(df.drop([0,3,10]))"
   ]
  },
  {
   "cell_type": "markdown",
   "id": "e0d8ef3f",
   "metadata": {
    "execution": {
     "iopub.execute_input": "2024-02-20T15:56:04.746799Z",
     "iopub.status.busy": "2024-02-20T15:56:04.746257Z",
     "iopub.status.idle": "2024-02-20T15:56:04.751797Z",
     "shell.execute_reply": "2024-02-20T15:56:04.750681Z"
    },
    "id": "e0d8ef3f",
    "slideshow": {
     "slide_type": "fragment"
    }
   },
   "source": [
    "- Remove rows based on condition?\n",
    "    - For example: remove all the students named \"Nadav\""
   ]
  },
  {
   "cell_type": "markdown",
   "id": "fcc72514",
   "metadata": {
    "id": "fcc72514",
    "slideshow": {
     "slide_type": "subslide"
    }
   },
   "source": [
    "### Reminder: masking"
   ]
  },
  {
   "cell_type": "markdown",
   "id": "8fd19cd1",
   "metadata": {
    "id": "8fd19cd1",
    "slideshow": {
     "slide_type": "fragment"
    }
   },
   "source": [
    "Numpy:\n",
    "- Generate a boolean matrix (`ndarray`) of the same the same dimensions as a given matrix\n",
    "     - e.g., by applying a condition on the original matrix\n",
    "- This boolean matrix is then used to filter the original matrix\n",
    "\n",
    "Pandas:\n",
    "- Generate a boolean `Series` of the same the same length as the columns/rows of the `DataFrame`\n",
    "- This boolean `Series` is then used to filter the `DataFrame`"
   ]
  },
  {
   "cell_type": "markdown",
   "id": "04fdd22f",
   "metadata": {
    "id": "04fdd22f",
    "slideshow": {
     "slide_type": "subslide"
    }
   },
   "source": [
    "### Masking in Pandas"
   ]
  },
  {
   "cell_type": "code",
   "execution_count": null,
   "id": "38d18c7e",
   "metadata": {
    "execution": {
     "iopub.execute_input": "2025-03-10T07:51:30.172163Z",
     "iopub.status.busy": "2025-03-10T07:51:30.171719Z",
     "iopub.status.idle": "2025-03-10T07:51:30.178286Z",
     "shell.execute_reply": "2025-03-10T07:51:30.177537Z"
    },
    "id": "38d18c7e",
    "slideshow": {
     "slide_type": "fragment"
    }
   },
   "outputs": [],
   "source": [
    "df['Name'] != 'Nadav' # the condition"
   ]
  },
  {
   "cell_type": "code",
   "execution_count": null,
   "id": "49f26515",
   "metadata": {
    "execution": {
     "iopub.execute_input": "2025-03-10T07:51:30.181274Z",
     "iopub.status.busy": "2025-03-10T07:51:30.180945Z",
     "iopub.status.idle": "2025-03-10T07:51:30.185763Z",
     "shell.execute_reply": "2025-03-10T07:51:30.185035Z"
    },
    "id": "49f26515",
    "slideshow": {
     "slide_type": "fragment"
    }
   },
   "outputs": [],
   "source": [
    "msk=df['Name'] != 'Nadav'\n",
    "print(type(msk))\n",
    "print(msk.dtype)"
   ]
  },
  {
   "cell_type": "markdown",
   "id": "124119dd",
   "metadata": {
    "slideshow": {
     "slide_type": "subslide"
    }
   },
   "source": [
    "### Masking: before and after"
   ]
  },
  {
   "cell_type": "code",
   "execution_count": null,
   "id": "729e4bfb",
   "metadata": {
    "execution": {
     "iopub.execute_input": "2025-03-10T07:51:30.188990Z",
     "iopub.status.busy": "2025-03-10T07:51:30.188647Z",
     "iopub.status.idle": "2025-03-10T07:51:30.207695Z",
     "shell.execute_reply": "2025-03-10T07:51:30.206871Z"
    },
    "id": "729e4bfb",
    "slideshow": {
     "slide_type": "fragment"
    }
   },
   "outputs": [],
   "source": [
    "display(df)"
   ]
  },
  {
   "cell_type": "code",
   "execution_count": null,
   "id": "9e1190a8",
   "metadata": {
    "execution": {
     "iopub.execute_input": "2025-03-10T07:51:30.210938Z",
     "iopub.status.busy": "2025-03-10T07:51:30.210463Z",
     "iopub.status.idle": "2025-03-10T07:51:30.229316Z",
     "shell.execute_reply": "2025-03-10T07:51:30.228562Z"
    },
    "id": "9e1190a8",
    "slideshow": {
     "slide_type": "fragment"
    }
   },
   "outputs": [],
   "source": [
    "display(df[msk]) # Using the condition to filter the DataFrame"
   ]
  },
  {
   "cell_type": "markdown",
   "id": "6ab308ba",
   "metadata": {
    "slideshow": {
     "slide_type": "subslide"
    }
   },
   "source": [
    "### Other masking filters"
   ]
  },
  {
   "cell_type": "code",
   "execution_count": null,
   "id": "460daa72",
   "metadata": {
    "execution": {
     "iopub.execute_input": "2025-03-10T07:51:30.232673Z",
     "iopub.status.busy": "2025-03-10T07:51:30.232111Z",
     "iopub.status.idle": "2025-03-10T07:51:30.251628Z",
     "shell.execute_reply": "2025-03-10T07:51:30.250723Z"
    },
    "id": "460daa72",
    "slideshow": {
     "slide_type": "fragment"
    }
   },
   "outputs": [],
   "source": [
    "display(df[df['Name'] != 'Nadav']) # Typically wriiten as a one-liner"
   ]
  },
  {
   "cell_type": "code",
   "execution_count": null,
   "id": "07ccdb59",
   "metadata": {
    "execution": {
     "iopub.execute_input": "2025-03-10T07:51:30.254887Z",
     "iopub.status.busy": "2025-03-10T07:51:30.254409Z",
     "iopub.status.idle": "2025-03-10T07:51:30.269672Z",
     "shell.execute_reply": "2025-03-10T07:51:30.268710Z"
    },
    "id": "07ccdb59",
    "slideshow": {
     "slide_type": "fragment"
    }
   },
   "outputs": [],
   "source": [
    "display(df[df['Programming'] > 80])"
   ]
  },
  {
   "cell_type": "markdown",
   "id": "3f00e996",
   "metadata": {
    "execution": {
     "iopub.execute_input": "2024-02-20T15:56:04.774655Z",
     "iopub.status.busy": "2024-02-20T15:56:04.774138Z",
     "iopub.status.idle": "2024-02-20T15:56:04.780914Z",
     "shell.execute_reply": "2024-02-20T15:56:04.779677Z"
    },
    "id": "3f00e996",
    "slideshow": {
     "slide_type": "subslide"
    }
   },
   "source": [
    "### Changing specific values of a column by masking"
   ]
  },
  {
   "cell_type": "markdown",
   "id": "cbc33225",
   "metadata": {
    "id": "cbc33225",
    "slideshow": {
     "slide_type": "fragment"
    }
   },
   "source": [
    "- We wish to give a passing grade to all students in Programming"
   ]
  },
  {
   "cell_type": "code",
   "execution_count": null,
   "id": "457642fa",
   "metadata": {
    "execution": {
     "iopub.execute_input": "2025-03-10T07:51:30.272989Z",
     "iopub.status.busy": "2025-03-10T07:51:30.272622Z",
     "iopub.status.idle": "2025-03-10T07:51:30.292312Z",
     "shell.execute_reply": "2025-03-10T07:51:30.291407Z"
    },
    "id": "457642fa",
    "slideshow": {
     "slide_type": "fragment"
    }
   },
   "outputs": [],
   "source": [
    "df.loc[df[\"Programming\"] < 60, \"Programming\"] = 60\n",
    "display(df)"
   ]
  },
  {
   "cell_type": "markdown",
   "id": "b48a53ca",
   "metadata": {
    "id": "b48a53ca",
    "slideshow": {
     "slide_type": "subslide"
    }
   },
   "source": [
    "### Creating a new column by applying a custom function on each row"
   ]
  },
  {
   "cell_type": "code",
   "execution_count": null,
   "id": "b61971fb",
   "metadata": {
    "execution": {
     "iopub.execute_input": "2025-03-10T07:51:30.295338Z",
     "iopub.status.busy": "2025-03-10T07:51:30.294986Z",
     "iopub.status.idle": "2025-03-10T07:51:30.316824Z",
     "shell.execute_reply": "2025-03-10T07:51:30.315844Z"
    },
    "id": "b61971fb",
    "slideshow": {
     "slide_type": "fragment"
    }
   },
   "outputs": [],
   "source": [
    "display(df.apply(lambda row: row['Name'].upper(),axis=1)) # Note the axis=1!\n",
    "\n",
    "df=df.iloc[:,:-1]\n",
    "df"
   ]
  },
  {
   "cell_type": "markdown",
   "id": "e409fd7a",
   "metadata": {
    "id": "e409fd7a",
    "slideshow": {
     "slide_type": "subslide"
    }
   },
   "source": [
    "### Creating a new row by applying a custom function on each column"
   ]
  },
  {
   "cell_type": "code",
   "execution_count": null,
   "id": "41175bf1",
   "metadata": {
    "execution": {
     "iopub.execute_input": "2025-03-10T07:51:30.319941Z",
     "iopub.status.busy": "2025-03-10T07:51:30.319591Z",
     "iopub.status.idle": "2025-03-10T07:51:30.340655Z",
     "shell.execute_reply": "2025-03-10T07:51:30.339785Z"
    },
    "id": "41175bf1",
    "slideshow": {
     "slide_type": "fragment"
    }
   },
   "outputs": [],
   "source": [
    "display(df.drop('Name',axis=1).apply(lambda col: col + (100.0 - max(col)), axis=0))  # Note the axis=0!"
   ]
  },
  {
   "cell_type": "markdown",
   "id": "e0a5624d",
   "metadata": {
    "id": "e0a5624d",
    "slideshow": {
     "slide_type": "subslide"
    }
   },
   "source": [
    "### Combining two `DataFrame` objects into one"
   ]
  },
  {
   "cell_type": "markdown",
   "id": "d5fbf7f8",
   "metadata": {
    "id": "d5fbf7f8",
    "slideshow": {
     "slide_type": "fragment"
    }
   },
   "source": [
    "- When the two data frames have the same set of columns - we use ```concat``` (remember?)"
   ]
  },
  {
   "cell_type": "code",
   "execution_count": null,
   "id": "84b45d02",
   "metadata": {
    "execution": {
     "iopub.execute_input": "2025-03-10T07:51:30.343885Z",
     "iopub.status.busy": "2025-03-10T07:51:30.343353Z",
     "iopub.status.idle": "2025-03-10T07:51:30.355689Z",
     "shell.execute_reply": "2025-03-10T07:51:30.354831Z"
    },
    "id": "84b45d02",
    "slideshow": {
     "slide_type": "fragment"
    }
   },
   "outputs": [],
   "source": [
    "inputFileName = \"files/StudentsGrades.csv\"\n",
    "df = pd.read_csv(inputFileName)\n",
    "df=df.head(3) # For simplicity, we take only the first three rows of the table\n",
    "display(df)"
   ]
  },
  {
   "cell_type": "code",
   "execution_count": null,
   "id": "c0881eae",
   "metadata": {
    "execution": {
     "iopub.execute_input": "2025-03-10T07:51:30.358835Z",
     "iopub.status.busy": "2025-03-10T07:51:30.358268Z",
     "iopub.status.idle": "2025-03-10T07:51:30.374396Z",
     "shell.execute_reply": "2025-03-10T07:51:30.373698Z"
    },
    "id": "c0881eae",
    "slideshow": {
     "slide_type": "fragment"
    }
   },
   "outputs": [],
   "source": [
    "lst_staff = \\\n",
    "        [{'Name':\"Shahar\",'Programming':45.0,'Marine Biology':15.0,'Stellar Cartography':87.0,'Math':81.0,\n",
    "          'History':100.0,'Planet Survival':82.0,'Art':24.0},\n",
    "         {'Name':\"Hagai\",'Programming':100.0,'Marine Biology':62.0,'Stellar Cartography':78.0,'Math':10.0,\n",
    "          'History':62.0,'Planet Survival':69.0,'Art':100.0},\n",
    "         {'Name':\"Inbal\",'Programming':100.0,'Marine Biology':25.0,'Stellar Cartography':84.0,'Math':100.0,\n",
    "          'History':95.0,'Planet Survival':99.0,'Art':30.0}]\n",
    "df_staff = pd.DataFrame(lst_staff)\n",
    "display(df_staff)"
   ]
  },
  {
   "cell_type": "code",
   "execution_count": null,
   "id": "325a70a6",
   "metadata": {
    "execution": {
     "iopub.execute_input": "2025-03-10T07:51:30.377589Z",
     "iopub.status.busy": "2025-03-10T07:51:30.377031Z",
     "iopub.status.idle": "2025-03-10T07:51:30.381579Z",
     "shell.execute_reply": "2025-03-10T07:51:30.380830Z"
    },
    "id": "325a70a6",
    "slideshow": {
     "slide_type": "subslide"
    }
   },
   "outputs": [],
   "source": [
    "df_with_staff = pd.concat([df, df_staff], ignore_index=True) # ignores the original indices to avoid duplicated indices"
   ]
  },
  {
   "cell_type": "code",
   "execution_count": null,
   "id": "3e1dc4fc",
   "metadata": {
    "execution": {
     "iopub.execute_input": "2025-03-10T07:51:30.385021Z",
     "iopub.status.busy": "2025-03-10T07:51:30.384476Z",
     "iopub.status.idle": "2025-03-10T07:51:30.399239Z",
     "shell.execute_reply": "2025-03-10T07:51:30.398483Z"
    },
    "id": "3e1dc4fc",
    "slideshow": {
     "slide_type": "fragment"
    }
   },
   "outputs": [],
   "source": [
    "display(df_with_staff)"
   ]
  },
  {
   "cell_type": "markdown",
   "id": "43ee7431",
   "metadata": {
    "id": "43ee7431",
    "slideshow": {
     "slide_type": "subslide"
    }
   },
   "source": [
    "### Combining `DataFrame` objects"
   ]
  },
  {
   "cell_type": "markdown",
   "id": "7ce81bf7",
   "metadata": {
    "id": "7ce81bf7",
    "slideshow": {
     "slide_type": "fragment"
    }
   },
   "source": [
    "- When the two data frames have **different** set of columns, what happens?"
   ]
  },
  {
   "cell_type": "code",
   "execution_count": null,
   "id": "3f901b06",
   "metadata": {
    "execution": {
     "iopub.execute_input": "2025-03-10T07:51:30.402740Z",
     "iopub.status.busy": "2025-03-10T07:51:30.402227Z",
     "iopub.status.idle": "2025-03-10T07:51:30.408277Z",
     "shell.execute_reply": "2025-03-10T07:51:30.407489Z"
    },
    "id": "3f901b06",
    "slideshow": {
     "slide_type": "fragment"
    }
   },
   "outputs": [],
   "source": [
    "lst_staff_grades_from_technion = \\\n",
    "        [{'Name':\"Shahar\", 'Machine Learning':96.0,'Spanish':100.0,'Karting':100.0, 'Yoga': 97.0},\n",
    "         {'Name':\"Hagai\", 'Machine Learning':98.0,'Spanish':65.0,'Karting':87.0, 'Yoga': 100.0},\n",
    "         {'Name':\"Inbal\", 'Machine Learning':100.0,'Spanish':92.0,'Karting':95.0, 'Yoga': 86.0},\n",
    "         {'Name':\"Rotem\", 'Machine Learning':80.0,'Spanish':100.0,'Karting':100.0, 'Yoga': 100.0},\n",
    "        ]\n",
    "df_staff_from_technion = pd.DataFrame(lst_staff_grades_from_technion)"
   ]
  },
  {
   "cell_type": "code",
   "execution_count": null,
   "id": "f4ac6a87",
   "metadata": {
    "execution": {
     "iopub.execute_input": "2025-03-10T07:51:30.411303Z",
     "iopub.status.busy": "2025-03-10T07:51:30.410905Z",
     "iopub.status.idle": "2025-03-10T07:51:30.432821Z",
     "shell.execute_reply": "2025-03-10T07:51:30.431941Z"
    },
    "id": "f4ac6a87",
    "slideshow": {
     "slide_type": "fragment"
    }
   },
   "outputs": [],
   "source": [
    "display(df_staff_from_technion)\n",
    "display(df_with_staff)"
   ]
  },
  {
   "cell_type": "code",
   "execution_count": null,
   "id": "87126671",
   "metadata": {
    "execution": {
     "iopub.execute_input": "2025-03-10T07:51:30.436006Z",
     "iopub.status.busy": "2025-03-10T07:51:30.435638Z",
     "iopub.status.idle": "2025-03-10T07:51:30.459413Z",
     "shell.execute_reply": "2025-03-10T07:51:30.458518Z"
    },
    "id": "87126671",
    "slideshow": {
     "slide_type": "subslide"
    }
   },
   "outputs": [],
   "source": [
    "df_after_concat = pd.concat([df_with_staff, df_staff_from_technion], ignore_index=True)\n",
    "display(df_after_concat)"
   ]
  },
  {
   "cell_type": "markdown",
   "id": "442c67a5",
   "metadata": {
    "id": "442c67a5",
    "slideshow": {
     "slide_type": "fragment"
    }
   },
   "source": [
    "Any issues?"
   ]
  },
  {
   "cell_type": "markdown",
   "id": "14d6b773",
   "metadata": {
    "id": "43ee7431",
    "slideshow": {
     "slide_type": "subslide"
    }
   },
   "source": [
    "### Combining `DataFrame` objects"
   ]
  },
  {
   "cell_type": "markdown",
   "id": "669f7f66",
   "metadata": {
    "id": "669f7f66",
    "slideshow": {
     "slide_type": "fragment"
    }
   },
   "source": [
    "- Add new rows instead of match by name\n",
    "- NaN: Not a number (Also relevant for non-numeric missing values)"
   ]
  },
  {
   "cell_type": "markdown",
   "id": "5f336928",
   "metadata": {
    "id": "5f336928",
    "slideshow": {
     "slide_type": "subslide"
    }
   },
   "source": [
    "### `concat`  by columns (axis=1)"
   ]
  },
  {
   "cell_type": "code",
   "execution_count": null,
   "id": "d1dd2eca",
   "metadata": {
    "execution": {
     "iopub.execute_input": "2025-03-10T07:51:30.463034Z",
     "iopub.status.busy": "2025-03-10T07:51:30.462500Z",
     "iopub.status.idle": "2025-03-10T07:51:30.483610Z",
     "shell.execute_reply": "2025-03-10T07:51:30.482718Z"
    },
    "id": "d1dd2eca",
    "slideshow": {
     "slide_type": "fragment"
    }
   },
   "outputs": [],
   "source": [
    "df_after_concat = pd.concat([df_with_staff, df_staff_from_technion], axis=1)\n",
    "display(df_after_concat)"
   ]
  },
  {
   "cell_type": "markdown",
   "id": "d94ffc6a",
   "metadata": {
    "id": "d94ffc6a",
    "slideshow": {
     "slide_type": "fragment"
    }
   },
   "source": [
    "Any issues?"
   ]
  },
  {
   "cell_type": "markdown",
   "id": "39d01a31",
   "metadata": {
    "id": "39d01a31",
    "slideshow": {
     "slide_type": "fragment"
    }
   },
   "source": [
    "- Wrong match again: by row index\n"
   ]
  },
  {
   "cell_type": "markdown",
   "id": "d816d7ae",
   "metadata": {
    "id": "d816d7ae",
    "slideshow": {
     "slide_type": "subslide"
    }
   },
   "source": [
    "### `concat`  by columns (axis=1): changing the indices"
   ]
  },
  {
   "cell_type": "code",
   "execution_count": null,
   "id": "674a8ac3",
   "metadata": {
    "execution": {
     "iopub.execute_input": "2025-03-10T07:51:30.487090Z",
     "iopub.status.busy": "2025-03-10T07:51:30.486628Z",
     "iopub.status.idle": "2025-03-10T07:51:30.509191Z",
     "shell.execute_reply": "2025-03-10T07:51:30.508294Z"
    },
    "id": "674a8ac3",
    "slideshow": {
     "slide_type": "fragment"
    }
   },
   "outputs": [],
   "source": [
    "df_with_staff.index=list(df_with_staff['Name'])\n",
    "df_staff_from_technion.index=list(df_staff_from_technion['Name'])\n",
    "display(pd.concat([df_with_staff, df_staff_from_technion], axis=1))"
   ]
  },
  {
   "cell_type": "markdown",
   "id": "ef2f3615",
   "metadata": {
    "id": "ef2f3615",
    "slideshow": {
     "slide_type": "fragment"
    }
   },
   "source": [
    "- Still have a redundant \"Name\" column\n",
    "- What if we need to match by another column (e.g., last name)"
   ]
  },
  {
   "cell_type": "markdown",
   "id": "27824b04",
   "metadata": {
    "id": "27824b04",
    "slideshow": {
     "slide_type": "subslide"
    }
   },
   "source": [
    "### `merge` function"
   ]
  },
  {
   "cell_type": "markdown",
   "id": "cfef67ee",
   "metadata": {
    "id": "cfef67ee",
    "slideshow": {
     "slide_type": "fragment"
    }
   },
   "source": [
    "- Joining two table by crossing their column values\n",
    "    - `how='inner/outer'` for intersection/union\n",
    "    - `on='x'/['x','y']` joining rows that are matched on column 'x' / ('x' **and** 'y')"
   ]
  },
  {
   "cell_type": "code",
   "execution_count": null,
   "id": "365bf1aa",
   "metadata": {
    "execution": {
     "iopub.execute_input": "2025-03-10T07:51:30.512704Z",
     "iopub.status.busy": "2025-03-10T07:51:30.512197Z",
     "iopub.status.idle": "2025-03-10T07:51:30.519893Z",
     "shell.execute_reply": "2025-03-10T07:51:30.519187Z"
    },
    "id": "365bf1aa",
    "slideshow": {
     "slide_type": "fragment"
    }
   },
   "outputs": [],
   "source": [
    "df_staff_from_technion = pd.DataFrame(lst_staff_grades_from_technion)\n",
    "df_after_merge_inner = pd.merge(df_with_staff, df_staff_from_technion, on='Name', how = 'inner')"
   ]
  },
  {
   "cell_type": "code",
   "execution_count": null,
   "id": "f1d4f89e",
   "metadata": {
    "execution": {
     "iopub.execute_input": "2025-03-10T07:51:30.523136Z",
     "iopub.status.busy": "2025-03-10T07:51:30.522656Z",
     "iopub.status.idle": "2025-03-10T07:51:30.539095Z",
     "shell.execute_reply": "2025-03-10T07:51:30.538252Z"
    },
    "id": "f1d4f89e",
    "slideshow": {
     "slide_type": "fragment"
    }
   },
   "outputs": [],
   "source": [
    "display(df_after_merge_inner)"
   ]
  },
  {
   "cell_type": "markdown",
   "id": "63000970",
   "metadata": {
    "id": "63000970",
    "slideshow": {
     "slide_type": "subslide"
    }
   },
   "source": [
    "#### Who did we lose?"
   ]
  },
  {
   "cell_type": "code",
   "execution_count": null,
   "id": "19e020a2",
   "metadata": {
    "execution": {
     "iopub.execute_input": "2025-03-10T07:51:30.542410Z",
     "iopub.status.busy": "2025-03-10T07:51:30.541934Z",
     "iopub.status.idle": "2025-03-10T07:51:30.549272Z",
     "shell.execute_reply": "2025-03-10T07:51:30.548380Z"
    },
    "id": "19e020a2",
    "slideshow": {
     "slide_type": "fragment"
    }
   },
   "outputs": [],
   "source": [
    "df_after_merge_outer = pd.merge(df_with_staff, df_staff_from_technion, on='Name', how = 'outer')"
   ]
  },
  {
   "cell_type": "code",
   "execution_count": null,
   "id": "482f55a8",
   "metadata": {
    "execution": {
     "iopub.execute_input": "2025-03-10T07:51:30.552505Z",
     "iopub.status.busy": "2025-03-10T07:51:30.552010Z",
     "iopub.status.idle": "2025-03-10T07:51:30.571825Z",
     "shell.execute_reply": "2025-03-10T07:51:30.570963Z"
    },
    "id": "482f55a8",
    "slideshow": {
     "slide_type": "fragment"
    }
   },
   "outputs": [],
   "source": [
    "display(df_after_merge_outer)"
   ]
  },
  {
   "cell_type": "markdown",
   "id": "3a343605",
   "metadata": {
    "id": "3a343605",
    "slideshow": {
     "slide_type": "fragment"
    }
   },
   "source": [
    "- How to treat NaN? in the recitation"
   ]
  },
  {
   "cell_type": "markdown",
   "id": "757d957d",
   "metadata": {
    "id": "757d957d",
    "slideshow": {
     "slide_type": "slide"
    }
   },
   "source": [
    "## Data analysis"
   ]
  },
  {
   "cell_type": "code",
   "execution_count": null,
   "id": "de34f39d-510f-4c02-aac6-919a61e865e9",
   "metadata": {
    "execution": {
     "iopub.execute_input": "2025-03-10T07:51:30.575088Z",
     "iopub.status.busy": "2025-03-10T07:51:30.574756Z",
     "iopub.status.idle": "2025-03-10T07:51:30.581335Z",
     "shell.execute_reply": "2025-03-10T07:51:30.580542Z"
    },
    "slideshow": {
     "slide_type": "subslide"
    }
   },
   "outputs": [],
   "source": [
    "inputFileName = \"files/StudentsGrades.csv\"\n",
    "df = pd.read_csv(inputFileName)  "
   ]
  },
  {
   "cell_type": "code",
   "execution_count": null,
   "id": "3721b302",
   "metadata": {},
   "outputs": [],
   "source": []
  },
  {
   "cell_type": "markdown",
   "id": "c7c994ec",
   "metadata": {
    "execution": {
     "iopub.execute_input": "2024-02-20T15:56:04.803562Z",
     "iopub.status.busy": "2024-02-20T15:56:04.802795Z",
     "iopub.status.idle": "2024-02-20T15:56:05.098983Z",
     "shell.execute_reply": "2024-02-20T15:56:05.098118Z"
    },
    "id": "c7c994ec",
    "slideshow": {
     "slide_type": "subslide"
    }
   },
   "source": [
    "### Total number of fails - per course"
   ]
  },
  {
   "cell_type": "code",
   "execution_count": null,
   "id": "eb7250cd",
   "metadata": {
    "execution": {
     "iopub.execute_input": "2025-03-10T07:51:30.584840Z",
     "iopub.status.busy": "2025-03-10T07:51:30.584357Z",
     "iopub.status.idle": "2025-03-10T07:51:30.594080Z",
     "shell.execute_reply": "2025-03-10T07:51:30.593188Z"
    },
    "id": "eb7250cd",
    "slideshow": {
     "slide_type": "fragment"
    }
   },
   "outputs": [],
   "source": [
    "df_no_names = df.drop('Name', axis=1)\n",
    "print(df_no_names[df_no_names < 60].count())"
   ]
  },
  {
   "cell_type": "markdown",
   "id": "deeb9095",
   "metadata": {
    "execution": {
     "iopub.execute_input": "2024-02-20T15:56:04.803562Z",
     "iopub.status.busy": "2024-02-20T15:56:04.802795Z",
     "iopub.status.idle": "2024-02-20T15:56:05.098983Z",
     "shell.execute_reply": "2024-02-20T15:56:05.098118Z"
    },
    "id": "deeb9095",
    "slideshow": {
     "slide_type": "subslide"
    }
   },
   "source": [
    "### Total number of fails - per student"
   ]
  },
  {
   "cell_type": "code",
   "execution_count": null,
   "id": "a29d72b0",
   "metadata": {
    "execution": {
     "iopub.execute_input": "2025-03-10T07:51:30.597531Z",
     "iopub.status.busy": "2025-03-10T07:51:30.597009Z",
     "iopub.status.idle": "2025-03-10T07:51:30.606903Z",
     "shell.execute_reply": "2025-03-10T07:51:30.606144Z"
    },
    "id": "a29d72b0",
    "slideshow": {
     "slide_type": "fragment"
    }
   },
   "outputs": [],
   "source": [
    "df_no_names = df.drop('Name', axis=1)\n",
    "print(df_no_names[df_no_names < 60].count(axis=1))"
   ]
  },
  {
   "cell_type": "code",
   "execution_count": null,
   "id": "00a50f7d",
   "metadata": {
    "execution": {
     "iopub.execute_input": "2025-03-10T07:51:30.610263Z",
     "iopub.status.busy": "2025-03-10T07:51:30.609700Z",
     "iopub.status.idle": "2025-03-10T07:51:30.618002Z",
     "shell.execute_reply": "2025-03-10T07:51:30.617265Z"
    },
    "id": "00a50f7d",
    "slideshow": {
     "slide_type": "fragment"
    }
   },
   "outputs": [],
   "source": [
    "print(df_no_names[df_no_names < 60].count().sum())"
   ]
  },
  {
   "cell_type": "code",
   "execution_count": null,
   "id": "9aa1a864",
   "metadata": {
    "execution": {
     "iopub.execute_input": "2025-03-10T07:51:30.621273Z",
     "iopub.status.busy": "2025-03-10T07:51:30.620819Z",
     "iopub.status.idle": "2025-03-10T07:51:30.630015Z",
     "shell.execute_reply": "2025-03-10T07:51:30.629293Z"
    },
    "id": "9aa1a864",
    "slideshow": {
     "slide_type": "fragment"
    }
   },
   "outputs": [],
   "source": [
    "print(df_no_names[df_no_names < 60].count(axis=1).sum())"
   ]
  },
  {
   "cell_type": "markdown",
   "id": "3468197f",
   "metadata": {
    "id": "3468197f",
    "slideshow": {
     "slide_type": "subslide"
    }
   },
   "source": [
    "### Number of fails per student - with names"
   ]
  },
  {
   "cell_type": "code",
   "execution_count": null,
   "id": "203614cd",
   "metadata": {
    "execution": {
     "iopub.execute_input": "2025-03-10T07:51:30.633303Z",
     "iopub.status.busy": "2025-03-10T07:51:30.632914Z",
     "iopub.status.idle": "2025-03-10T07:51:30.648482Z",
     "shell.execute_reply": "2025-03-10T07:51:30.647636Z"
    },
    "id": "203614cd",
    "slideshow": {
     "slide_type": "fragment"
    }
   },
   "outputs": [],
   "source": [
    "for index, row in df.iterrows():\n",
    "    row_without_name = row.drop('Name')\n",
    "    print(row[\"Name\"],row_without_name[row_without_name < 60].count())"
   ]
  },
  {
   "cell_type": "markdown",
   "id": "5d07dbd9",
   "metadata": {
    "id": "5d07dbd9",
    "slideshow": {
     "slide_type": "fragment"
    }
   },
   "source": [
    "#### A better solution"
   ]
  },
  {
   "cell_type": "code",
   "execution_count": null,
   "id": "714724ed",
   "metadata": {
    "execution": {
     "iopub.execute_input": "2025-03-10T07:51:30.651581Z",
     "iopub.status.busy": "2025-03-10T07:51:30.651237Z",
     "iopub.status.idle": "2025-03-10T07:51:30.676236Z",
     "shell.execute_reply": "2025-03-10T07:51:30.675462Z"
    },
    "id": "714724ed",
    "slideshow": {
     "slide_type": "fragment"
    }
   },
   "outputs": [],
   "source": [
    "display(df.apply(lambda row: pd.Series([row[\"Name\"], row.drop(\"Name\")[row.drop(\"Name\") < 60].count()]) ,axis=1))"
   ]
  },
  {
   "cell_type": "markdown",
   "id": "feb9021c",
   "metadata": {
    "id": "feb9021c",
    "slideshow": {
     "slide_type": "subslide"
    }
   },
   "source": [
    "### Get the name of the student with the highest average grade\n"
   ]
  },
  {
   "cell_type": "code",
   "execution_count": null,
   "id": "f3b57185",
   "metadata": {
    "execution": {
     "iopub.execute_input": "2025-03-10T07:51:30.678983Z",
     "iopub.status.busy": "2025-03-10T07:51:30.678644Z",
     "iopub.status.idle": "2025-03-10T07:51:30.684641Z",
     "shell.execute_reply": "2025-03-10T07:51:30.683877Z"
    },
    "id": "f3b57185",
    "slideshow": {
     "slide_type": "fragment"
    }
   },
   "outputs": [],
   "source": [
    "df['Avg'] = df.iloc[:,1:].mean(axis=1)\n",
    "max_id = df['Avg'].idxmax()\n",
    "print(max_id)"
   ]
  },
  {
   "cell_type": "code",
   "execution_count": null,
   "id": "47fdc282",
   "metadata": {
    "execution": {
     "iopub.execute_input": "2025-03-10T07:51:30.687353Z",
     "iopub.status.busy": "2025-03-10T07:51:30.687027Z",
     "iopub.status.idle": "2025-03-10T07:51:30.691413Z",
     "shell.execute_reply": "2025-03-10T07:51:30.690671Z"
    },
    "id": "47fdc282",
    "slideshow": {
     "slide_type": "fragment"
    }
   },
   "outputs": [],
   "source": [
    "print(df.loc[max_id][\"Name\"])"
   ]
  },
  {
   "cell_type": "markdown",
   "id": "15eaaf54",
   "metadata": {
    "id": "15eaaf54",
    "slideshow": {
     "slide_type": "fragment"
    }
   },
   "source": [
    "### <span style='color:red'>`idxmax` always comes `loc`, if we want a row with the max index</span>"
   ]
  },
  {
   "cell_type": "markdown",
   "id": "24f9744a",
   "metadata": {
    "id": "24f9744a",
    "slideshow": {
     "slide_type": "subslide"
    }
   },
   "source": [
    "### Get the name of the course with the highest average grade"
   ]
  },
  {
   "cell_type": "code",
   "execution_count": null,
   "id": "4be4bea7",
   "metadata": {
    "execution": {
     "iopub.execute_input": "2025-03-10T07:51:30.694274Z",
     "iopub.status.busy": "2025-03-10T07:51:30.693951Z",
     "iopub.status.idle": "2025-03-10T07:51:30.699276Z",
     "shell.execute_reply": "2025-03-10T07:51:30.698601Z"
    },
    "id": "4be4bea7",
    "slideshow": {
     "slide_type": "fragment"
    }
   },
   "outputs": [],
   "source": [
    "print(df.drop('Name', axis=1).mean(axis=0).idxmax())"
   ]
  },
  {
   "cell_type": "markdown",
   "id": "45094ad8",
   "metadata": {
    "id": "45094ad8",
    "slideshow": {
     "slide_type": "fragment"
    }
   },
   "source": [
    "<span style='color:red'>Since we are dealing with columns, the input for `.drop` is the column name (and axis=1)</span>"
   ]
  },
  {
   "cell_type": "markdown",
   "id": "d289e901",
   "metadata": {
    "id": "d289e901",
    "slideshow": {
     "slide_type": "subslide"
    }
   },
   "source": [
    "### Get all students who have failed in Marine Biology or Stellar Cartography"
   ]
  },
  {
   "cell_type": "code",
   "execution_count": null,
   "id": "e1b44280",
   "metadata": {
    "execution": {
     "iopub.execute_input": "2025-03-10T07:51:30.702115Z",
     "iopub.status.busy": "2025-03-10T07:51:30.701796Z",
     "iopub.status.idle": "2025-03-10T07:51:30.706236Z",
     "shell.execute_reply": "2025-03-10T07:51:30.705618Z"
    },
    "id": "e1b44280",
    "slideshow": {
     "slide_type": "fragment"
    }
   },
   "outputs": [],
   "source": [
    "print((df['Marine Biology'] < 60))"
   ]
  },
  {
   "cell_type": "code",
   "execution_count": null,
   "id": "bdba3520",
   "metadata": {
    "execution": {
     "iopub.execute_input": "2025-03-10T07:51:30.708833Z",
     "iopub.status.busy": "2025-03-10T07:51:30.708509Z",
     "iopub.status.idle": "2025-03-10T07:51:30.713071Z",
     "shell.execute_reply": "2025-03-10T07:51:30.712341Z"
    },
    "id": "bdba3520",
    "slideshow": {
     "slide_type": "fragment"
    }
   },
   "outputs": [],
   "source": [
    "print((df['Stellar Cartography'] < 60))"
   ]
  },
  {
   "cell_type": "code",
   "execution_count": null,
   "id": "a76a4f23",
   "metadata": {
    "execution": {
     "iopub.execute_input": "2025-03-10T07:51:30.715675Z",
     "iopub.status.busy": "2025-03-10T07:51:30.715339Z",
     "iopub.status.idle": "2025-03-10T07:51:30.720592Z",
     "shell.execute_reply": "2025-03-10T07:51:30.719827Z"
    },
    "id": "a76a4f23",
    "slideshow": {
     "slide_type": "fragment"
    }
   },
   "outputs": [],
   "source": [
    "print(((df['Marine Biology'] < 60) | (df['Stellar Cartography'] < 60)))"
   ]
  },
  {
   "cell_type": "code",
   "execution_count": null,
   "id": "815935e2",
   "metadata": {
    "execution": {
     "iopub.execute_input": "2025-03-10T07:51:30.723412Z",
     "iopub.status.busy": "2025-03-10T07:51:30.723082Z",
     "iopub.status.idle": "2025-03-10T07:51:30.729567Z",
     "shell.execute_reply": "2025-03-10T07:51:30.728819Z"
    },
    "id": "815935e2",
    "slideshow": {
     "slide_type": "fragment"
    }
   },
   "outputs": [],
   "source": [
    "df_fail = df.loc[(df['Marine Biology'] < 60) | (df['Stellar Cartography'] < 60)]\n",
    "print(df_fail[\"Name\"])"
   ]
  },
  {
   "cell_type": "markdown",
   "id": "8bf11ba3",
   "metadata": {
    "id": "8bf11ba3",
    "slideshow": {
     "slide_type": "subslide"
    }
   },
   "source": [
    "### Get all students who have aced both Math and Art"
   ]
  },
  {
   "cell_type": "code",
   "execution_count": null,
   "id": "6c14d604",
   "metadata": {
    "execution": {
     "iopub.execute_input": "2025-03-10T07:51:30.732283Z",
     "iopub.status.busy": "2025-03-10T07:51:30.731931Z",
     "iopub.status.idle": "2025-03-10T07:51:30.737846Z",
     "shell.execute_reply": "2025-03-10T07:51:30.737091Z"
    },
    "id": "6c14d604",
    "slideshow": {
     "slide_type": "fragment"
    }
   },
   "outputs": [],
   "source": [
    "df_ace = df.loc[(df['Art'] >= 90) & (df['Math'] >= 90)]\n",
    "print(df_ace[\"Name\"])"
   ]
  },
  {
   "cell_type": "markdown",
   "id": "6dc1de51",
   "metadata": {
    "id": "6dc1de51",
    "slideshow": {
     "slide_type": "subslide"
    }
   },
   "source": [
    "## `groupby` - aggregating groups of rows"
   ]
  },
  {
   "cell_type": "markdown",
   "id": "d5e0ee18",
   "metadata": {
    "id": "d5e0ee18",
    "slideshow": {
     "slide_type": "fragment"
    }
   },
   "source": [
    "First, let's add to our table new columns called \"Degree\""
   ]
  },
  {
   "cell_type": "code",
   "execution_count": null,
   "id": "9d343ea6",
   "metadata": {
    "execution": {
     "iopub.execute_input": "2025-03-10T07:51:30.740624Z",
     "iopub.status.busy": "2025-03-10T07:51:30.740290Z",
     "iopub.status.idle": "2025-03-10T07:51:30.754786Z",
     "shell.execute_reply": "2025-03-10T07:51:30.753926Z"
    },
    "id": "9d343ea6",
    "slideshow": {
     "slide_type": "fragment"
    }
   },
   "outputs": [],
   "source": [
    "inputFileName = \"files/StudentsGrades.csv\"\n",
    "df = pd.read_csv(inputFileName)\n",
    "df['Degree']=[\"Industrial\", \"Industrial\", \"mechanical\", \\\n",
    "              \"Industrial\", \"Industrial\", \"electrical\", \\\n",
    "              \"electrical\", \"electrical\", \"electrical\", \\\n",
    "              \"bio-medical\", \"bio-medical\", \"mechanical\", \"mechanical\"]\n",
    "display(df)"
   ]
  },
  {
   "cell_type": "markdown",
   "id": "a3243f13",
   "metadata": {
    "id": "a3243f13",
    "slideshow": {
     "slide_type": "subslide"
    }
   },
   "source": [
    "### `groupby` syntax"
   ]
  },
  {
   "cell_type": "markdown",
   "id": "c684e865",
   "metadata": {
    "id": "c684e865",
    "slideshow": {
     "slide_type": "fragment"
    }
   },
   "source": [
    " ####  df.<span style='color:red'>groupby(x)</span><span style='color:blue'>[y]</span>.<span style='color:green'>op()</span>\n",
    "\n",
    "- <span style='color:red'>Splitting the `DataFrame` into groups (sub-table of type `DataFrame`) according to values of some column(s) `x`</span>\n",
    "- <span style='color:blue'>Select the relevant column(s). e.g., `y`</span>\n",
    "- <span style='color:green'>Aggregate the values of each column in a sub-table into a single value using the relevant operator/function (`op`). e.g., `mean()`,`max()`,`min()`,`sum()`,`count()`,`apply()`</span>\n",
    "\n",
    "Note that `x` and `y` are single columns (type `str`) or multiple ones (list of `str`s)"
   ]
  },
  {
   "cell_type": "code",
   "execution_count": null,
   "id": "a50e2a7a",
   "metadata": {
    "execution": {
     "iopub.execute_input": "2025-03-10T07:51:30.757630Z",
     "iopub.status.busy": "2025-03-10T07:51:30.757297Z",
     "iopub.status.idle": "2025-03-10T07:51:30.764490Z",
     "shell.execute_reply": "2025-03-10T07:51:30.763820Z"
    },
    "id": "a50e2a7a",
    "slideshow": {
     "slide_type": "fragment"
    }
   },
   "outputs": [],
   "source": [
    "df.groupby([\"Degree\"])['Programming'].mean()"
   ]
  },
  {
   "cell_type": "markdown",
   "id": "5cd27ec6",
   "metadata": {
    "id": "5cd27ec6",
    "slideshow": {
     "slide_type": "subslide"
    }
   },
   "source": [
    "### Use `groupby` to find the maximal/minimal value in each category (e.g., Degree)"
   ]
  },
  {
   "cell_type": "markdown",
   "id": "10a52f6d",
   "metadata": {
    "id": "10a52f6d",
    "slideshow": {
     "slide_type": "fragment"
    }
   },
   "source": [
    "1. Extracting the maximal/minimal index in each category using idxmax()/idxmin() operator"
   ]
  },
  {
   "cell_type": "code",
   "execution_count": null,
   "id": "63d219bd",
   "metadata": {
    "execution": {
     "iopub.execute_input": "2025-03-10T07:51:30.767290Z",
     "iopub.status.busy": "2025-03-10T07:51:30.766953Z",
     "iopub.status.idle": "2025-03-10T07:51:30.774364Z",
     "shell.execute_reply": "2025-03-10T07:51:30.773636Z"
    },
    "id": "63d219bd",
    "slideshow": {
     "slide_type": "fragment"
    }
   },
   "outputs": [],
   "source": [
    "df.groupby([\"Degree\"])['Programming'].idxmax()"
   ]
  },
  {
   "cell_type": "markdown",
   "id": "73109763",
   "metadata": {
    "id": "73109763",
    "slideshow": {
     "slide_type": "fragment"
    }
   },
   "source": [
    "2. Extract the rows of the original rows corresponding to those indices"
   ]
  },
  {
   "cell_type": "code",
   "execution_count": null,
   "id": "9bf6ad81",
   "metadata": {
    "execution": {
     "iopub.execute_input": "2025-03-10T07:51:30.777131Z",
     "iopub.status.busy": "2025-03-10T07:51:30.776816Z",
     "iopub.status.idle": "2025-03-10T07:51:30.789042Z",
     "shell.execute_reply": "2025-03-10T07:51:30.788371Z"
    },
    "id": "9bf6ad81",
    "slideshow": {
     "slide_type": "fragment"
    }
   },
   "outputs": [],
   "source": [
    "df.loc[df.groupby([\"Degree\"])['Programming'].idxmax()]"
   ]
  },
  {
   "cell_type": "markdown",
   "id": "f7ff6668",
   "metadata": {
    "slideshow": {
     "slide_type": "slide"
    }
   },
   "source": [
    "## Data visualization"
   ]
  },
  {
   "cell_type": "markdown",
   "id": "732bbaf1",
   "metadata": {
    "slideshow": {
     "slide_type": "fragment"
    }
   },
   "source": [
    "Motivation - we want to visualize our data in a way that convey the main point that stems from the data\n",
    "\n",
    "- e.g., show difference between two large groups of numbers"
   ]
  },
  {
   "cell_type": "markdown",
   "id": "cb2cbb88",
   "metadata": {
    "slideshow": {
     "slide_type": "fragment"
    }
   },
   "source": [
    "- There are several libraries that can help us drawing figures. e.g., `matplotlib`, `seaborn` etc.\n",
    "- In this course, we will see examples of plotting out data using `matplotlib`"
   ]
  },
  {
   "cell_type": "markdown",
   "id": "694177eb",
   "metadata": {
    "slideshow": {
     "slide_type": "subslide"
    }
   },
   "source": [
    "#### Import matplotlib library"
   ]
  },
  {
   "cell_type": "code",
   "execution_count": null,
   "id": "8b231278",
   "metadata": {
    "execution": {
     "iopub.execute_input": "2025-03-10T07:51:30.792027Z",
     "iopub.status.busy": "2025-03-10T07:51:30.791709Z",
     "iopub.status.idle": "2025-03-10T07:51:31.590176Z",
     "shell.execute_reply": "2025-03-10T07:51:31.589228Z"
    },
    "slideshow": {
     "slide_type": "fragment"
    }
   },
   "outputs": [],
   "source": [
    "import matplotlib.pyplot as plt"
   ]
  },
  {
   "cell_type": "markdown",
   "id": "156c0305",
   "metadata": {
    "slideshow": {
     "slide_type": "fragment"
    }
   },
   "source": [
    "#### Code template for drawing a figure"
   ]
  },
  {
   "cell_type": "markdown",
   "id": "c4de7430",
   "metadata": {
    "slideshow": {
     "slide_type": "fragment"
    }
   },
   "source": [
    "```python\n",
    "fig, ax = plt.subplots() ## Create canvas. figsize=(4,3) sets the size of the figure (optional)\n",
    "## Draw your plot here\n",
    "plt.legend() # plot the names that each color represents (optional)\n",
    "plt.show() # Visualize plot\n",
    "```"
   ]
  },
  {
   "cell_type": "markdown",
   "id": "9b602365",
   "metadata": {
    "slideshow": {
     "slide_type": "subslide"
    }
   },
   "source": [
    "### Objective: visualize Programming and Math"
   ]
  },
  {
   "cell_type": "markdown",
   "id": "44a2fe33",
   "metadata": {
    "slideshow": {
     "slide_type": "subslide"
    }
   },
   "source": [
    "#### Curves of Programming and Math"
   ]
  },
  {
   "cell_type": "code",
   "execution_count": null,
   "id": "2733aead",
   "metadata": {
    "execution": {
     "iopub.execute_input": "2025-03-10T07:51:31.594239Z",
     "iopub.status.busy": "2025-03-10T07:51:31.593697Z",
     "iopub.status.idle": "2025-03-10T07:51:31.952708Z",
     "shell.execute_reply": "2025-03-10T07:51:31.951914Z"
    },
    "slideshow": {
     "slide_type": "fragment"
    }
   },
   "outputs": [],
   "source": [
    "fig, ax = plt.subplots(figsize=(4,3))\n",
    "columns = ['Programming', 'Math', 'Art'] \n",
    "ax.plot(df.loc[:,columns], label=columns)\n",
    "plt.legend()\n",
    "plt.show()"
   ]
  },
  {
   "cell_type": "markdown",
   "id": "5a01661b",
   "metadata": {
    "slideshow": {
     "slide_type": "fragment"
    }
   },
   "source": [
    "#### Caveat\n",
    "- Curves are designed to describe the link between two **ordered** variables -no order between students \n",
    "- The link between variables is mandatory - no way to plot this figure w/o with grade of different students in each class or with NaN values (NaN row will be dropped)"
   ]
  },
  {
   "cell_type": "markdown",
   "id": "26b8a93e",
   "metadata": {
    "slideshow": {
     "slide_type": "subslide"
    }
   },
   "source": [
    "#### Boxplot of Programming and Math grades"
   ]
  },
  {
   "cell_type": "code",
   "execution_count": null,
   "id": "360df78e",
   "metadata": {
    "execution": {
     "iopub.execute_input": "2025-03-10T07:51:31.956181Z",
     "iopub.status.busy": "2025-03-10T07:51:31.955626Z",
     "iopub.status.idle": "2025-03-10T07:51:32.085183Z",
     "shell.execute_reply": "2025-03-10T07:51:32.084428Z"
    },
    "slideshow": {
     "slide_type": "fragment"
    }
   },
   "outputs": [],
   "source": [
    "fig, ax = plt.subplots(figsize=(4,3))\n",
    "columns = ['Programming', 'Math']\n",
    "ax.boxplot(df.loc[:,columns], labels=columns) # Orange lines are the medians\n",
    "plt.show()"
   ]
  },
  {
   "cell_type": "markdown",
   "id": "2a491d37",
   "metadata": {
    "slideshow": {
     "slide_type": "fragment"
    }
   },
   "source": [
    "- Pro: the differences between sets are clear\n",
    "- Con: less appropriate for counting (e.g., how many students has grade > 85)"
   ]
  },
  {
   "cell_type": "markdown",
   "id": "1e3a8c3b",
   "metadata": {
    "slideshow": {
     "slide_type": "subslide"
    }
   },
   "source": [
    "#### Plot bars of number of student that pass 85"
   ]
  },
  {
   "cell_type": "code",
   "execution_count": null,
   "id": "1e6bafdd",
   "metadata": {
    "execution": {
     "iopub.execute_input": "2025-03-10T07:51:32.088467Z",
     "iopub.status.busy": "2025-03-10T07:51:32.088104Z",
     "iopub.status.idle": "2025-03-10T07:51:32.193536Z",
     "shell.execute_reply": "2025-03-10T07:51:32.192729Z"
    },
    "slideshow": {
     "slide_type": "fragment"
    }
   },
   "outputs": [],
   "source": [
    "fig, ax = plt.subplots(figsize=(4,3))\n",
    "columns = ['Programming', 'Math'] \n",
    "ax.bar(columns, (df.loc[:,columns]>85).sum())\n",
    "plt.show()"
   ]
  },
  {
   "cell_type": "markdown",
   "id": "e534604b",
   "metadata": {
    "slideshow": {
     "slide_type": "slide"
    }
   },
   "source": [
    "## Questions from previous exams"
   ]
  },
  {
   "cell_type": "markdown",
   "id": "34324761",
   "metadata": {
    "slideshow": {
     "slide_type": "fragment"
    }
   },
   "source": [
    "[Exam 2024 semester B Moed A](https://courses.cs.tau.ac.il/pyProg/2425a/exams/exam2324b_moedA.pdf)"
   ]
  },
  {
   "cell_type": "markdown",
   "id": "b0f9d8a3",
   "metadata": {
    "slideshow": {
     "slide_type": "subslide"
    }
   },
   "source": [
    "E."
   ]
  },
  {
   "cell_type": "code",
   "execution_count": null,
   "id": "271ab21b",
   "metadata": {
    "execution": {
     "iopub.execute_input": "2025-03-10T07:51:32.197258Z",
     "iopub.status.busy": "2025-03-10T07:51:32.196908Z",
     "iopub.status.idle": "2025-03-10T07:51:32.202899Z",
     "shell.execute_reply": "2025-03-10T07:51:32.202138Z"
    },
    "slideshow": {
     "slide_type": "fragment"
    }
   },
   "outputs": [],
   "source": [
    "def read_in_range(start_month,start_year,end_month,end_year):\n",
    "    cur_month=start_month\n",
    "    cur_year=start_year\n",
    "    dfs=[]\n",
    "    while cur_year < end_year or (cur_year == end_year and cur_month <= end_month):\n",
    "        dfs.append(pd.read_csv(\"files/orders_\"+str(cur_month)+\"_\"+str(cur_year)+\".csv\")) # The \"files/\" prefix in the path is due to technical reasons, and should be ignored.\n",
    "        cur_month+=1\n",
    "        if cur_month>12:\n",
    "            cur_year+=1\n",
    "            cur_month=1\n",
    "    return pd.concat(dfs, ignore_index=True)"
   ]
  },
  {
   "cell_type": "markdown",
   "id": "9c9b8d5c",
   "metadata": {
    "slideshow": {
     "slide_type": "subslide"
    }
   },
   "source": [
    "Read products and order tables"
   ]
  },
  {
   "cell_type": "code",
   "execution_count": null,
   "id": "b9c591be",
   "metadata": {
    "execution": {
     "iopub.execute_input": "2025-03-10T07:51:32.206301Z",
     "iopub.status.busy": "2025-03-10T07:51:32.205955Z",
     "iopub.status.idle": "2025-03-10T07:51:32.221590Z",
     "shell.execute_reply": "2025-03-10T07:51:32.220760Z"
    },
    "slideshow": {
     "slide_type": "fragment"
    }
   },
   "outputs": [],
   "source": [
    "df_p=pd.read_csv(\"files/products2.csv\") # The \"files/\" prefix in the path is due to technical reasons, and should be ignored.\n",
    "df_o=read_in_range(2,2024,4,2024)"
   ]
  },
  {
   "cell_type": "markdown",
   "id": "07d32c58",
   "metadata": {
    "slideshow": {
     "slide_type": "subslide"
    }
   },
   "source": [
    "F."
   ]
  },
  {
   "cell_type": "code",
   "execution_count": null,
   "id": "94596950",
   "metadata": {
    "execution": {
     "iopub.execute_input": "2025-03-10T07:51:32.225232Z",
     "iopub.status.busy": "2025-03-10T07:51:32.224863Z",
     "iopub.status.idle": "2025-03-10T07:51:32.244162Z",
     "shell.execute_reply": "2025-03-10T07:51:32.243406Z"
    },
    "slideshow": {
     "slide_type": "fragment"
    }
   },
   "outputs": [],
   "source": [
    "display(df_o)\n",
    "df_o.fillna(df_o.median(),inplace=True)\n",
    "display(df_o)"
   ]
  },
  {
   "cell_type": "markdown",
   "id": "94322ded",
   "metadata": {
    "slideshow": {
     "slide_type": "subslide"
    }
   },
   "source": [
    "G."
   ]
  },
  {
   "cell_type": "code",
   "execution_count": null,
   "id": "4a123bec",
   "metadata": {
    "execution": {
     "iopub.execute_input": "2025-03-10T07:51:32.247588Z",
     "iopub.status.busy": "2025-03-10T07:51:32.247236Z",
     "iopub.status.idle": "2025-03-10T07:51:32.266411Z",
     "shell.execute_reply": "2025-03-10T07:51:32.265680Z"
    },
    "slideshow": {
     "slide_type": "fragment"
    }
   },
   "outputs": [],
   "source": [
    "df_p.index=df_p['Name'] # First line is missing\n",
    "df_join=pd.concat((df_p,df_o.T), axis=1)\n",
    "df_join"
   ]
  },
  {
   "cell_type": "markdown",
   "id": "82238630",
   "metadata": {
    "slideshow": {
     "slide_type": "subslide"
    }
   },
   "source": [
    "H."
   ]
  },
  {
   "cell_type": "code",
   "execution_count": null,
   "id": "0b9320d1",
   "metadata": {
    "execution": {
     "iopub.execute_input": "2025-03-10T07:51:32.269780Z",
     "iopub.status.busy": "2025-03-10T07:51:32.269432Z",
     "iopub.status.idle": "2025-03-10T07:51:32.277715Z",
     "shell.execute_reply": "2025-03-10T07:51:32.276919Z"
    },
    "slideshow": {
     "slide_type": "fragment"
    }
   },
   "outputs": [],
   "source": [
    "profit=df_join.iloc[:,4:].sum(axis=1)*( df_join['Price']- df_join['Cost']) # \"axis of sum should be 1\"\n",
    "profit"
   ]
  },
  {
   "cell_type": "markdown",
   "id": "853ee0c1",
   "metadata": {
    "slideshow": {
     "slide_type": "subslide"
    }
   },
   "source": [
    "I."
   ]
  },
  {
   "cell_type": "code",
   "execution_count": null,
   "id": "afff74b4",
   "metadata": {
    "execution": {
     "iopub.execute_input": "2025-03-10T07:51:32.281127Z",
     "iopub.status.busy": "2025-03-10T07:51:32.280658Z",
     "iopub.status.idle": "2025-03-10T07:51:32.290554Z",
     "shell.execute_reply": "2025-03-10T07:51:32.289694Z"
    },
    "slideshow": {
     "slide_type": "fragment"
    }
   },
   "outputs": [],
   "source": [
    "df_p['Gain']=df_o.sum()*(df_p['Price']-df_p['Cost'])\n",
    "df_p.groupby('Vendor')['Gain'].sum().idxmin()"
   ]
  },
  {
   "cell_type": "markdown",
   "id": "36cc0e92-4857-44b4-91c0-7330daa3422e",
   "metadata": {
    "slideshow": {
     "slide_type": "subslide"
    }
   },
   "source": [
    "### Common pandas functions"
   ]
  },
  {
   "cell_type": "markdown",
   "id": "e6e72d46-4b80-4a28-ba59-9017b416f5d6",
   "metadata": {
    "slideshow": {
     "slide_type": "fragment"
    }
   },
   "source": [
    "| categoy  | name  | use |\n",
    "|:--------:|:-----|:---|\n",
    "|**Creation**| | |\n",
    "| |[pd.DataFrame](https://pandas.pydata.org/docs/reference/api/pandas.DataFrame.html)|create a new dataframe from numpy array/dictionary. Can provide row and column names|\n",
    "| |[pd.Series](https://pandas.pydata.org/docs/reference/api/pandas.Series.html)|create a new Series object from numpy array/dictionary. Can provide names|\n",
    "| |[pd.read_csv](https://pandas.pydata.org/docs/reference/api/pandas.read_csv.html)|read a dataframe from csv file|\n",
    "| |[df.to_csv](https://pandas.pydata.org/docs/reference/api/pandas.DataFrame.to_csv.html)|write a dataframe to a csv file|\n",
    "|**Basic information**| | |\n",
    "| |[df.info](https://pandas.pydata.org/docs/reference/api/pandas.DataFrame.info.html)|print a summary of the dataframe: column names, dtypes, number of existing (non Na) values, etc.|\n",
    "| |[df.head](https://pandas.pydata.org/docs/reference/api/pandas.DataFrame.head.html)|return the first rows of a dataframe|\n",
    "| |[df.tail](https://pandas.pydata.org/docs/reference/api/pandas.DataFrame.tail.html)|return the last rows of a dataframe|\n",
    "| |[df.sample](https://pandas.pydata.org/docs/reference/api/pandas.DataFrame.sample.html)|return the random rows from a dataframe|"
   ]
  },
  {
   "cell_type": "markdown",
   "id": "07b64fd7-340d-4ee6-b3c9-2ec48d583257",
   "metadata": {
    "slideshow": {
     "slide_type": "subslide"
    }
   },
   "source": [
    "### Common pandas functions (cond.)"
   ]
  },
  {
   "cell_type": "markdown",
   "id": "bb089572-959a-4404-a647-b5c440601ea2",
   "metadata": {
    "slideshow": {
     "slide_type": "fragment"
    }
   },
   "source": [
    "| categoy  | name  | use |\n",
    "|:--------:|:-----|:---|\n",
    "|**Data access**| | |\n",
    "| |[df.index](https://pandas.pydata.org/docs/reference/api/pandas.DataFrame.index.html)|get row labels of dataframe|\n",
    "| |[df.columns](https://pandas.pydata.org/docs/reference/api/pandas.DataFrame.columns.html)|get column labels of dataframe|\n",
    "| |[df.loc](https://pandas.pydata.org/docs/reference/api/pandas.DataFrame.loc.html)|get dataframe subset by labels|\n",
    "| |[df.iloc](https://pandas.pydata.org/docs/reference/api/pandas.DataFrame.iloc.html)|get dataframe subset by position|\n",
    "|**Manipulation**| | |\n",
    "| |[df.drop](https://pandas.pydata.org/docs/reference/api/pandas.DataFrame.drop.html)|remove rows or columns by label name|\n",
    "| |[df.apply](https://pandas.pydata.org/docs/reference/api/pandas.DataFrame.apply.html)|apply a function on all rows/columns of a dataframe|\n",
    "| |[df.map](https://pandas.pydata.org/docs/reference/api/pandas.DataFrame.map.html)|apply a function on all values in a dataframe|\n",
    "| |[df.sort_values](https://pandas.pydata.org/docs/reference/api/pandas.DataFrame.sort_values.html)|sort table rows according to the values over a column, or table columns according to the values across a row|"
   ]
  },
  {
   "cell_type": "markdown",
   "id": "dc1f0417",
   "metadata": {
    "slideshow": {
     "slide_type": "subslide"
    }
   },
   "source": [
    "### Common pandas functions (cond.)"
   ]
  },
  {
   "cell_type": "markdown",
   "id": "4c309582",
   "metadata": {
    "slideshow": {
     "slide_type": "fragment"
    }
   },
   "source": [
    "| categoy  | name  | use |\n",
    "|:--------:|:-----|:---|\n",
    "|**Fusion**| | |\n",
    "| |[pd.concat](https://pandas.pydata.org/docs/reference/api/pandas.concat.html)|concatanate dataframes along an axis|\n",
    "| |[pd.merge](https://pandas.pydata.org/docs/reference/api/pandas.merge.html)|merge the columns of two dataframes based on \n",
    "|**misc.**| | |\n",
    "| |[df.groupby](https://pandas.pydata.org/docs/reference/api/pandas.DataFrame.groupby.html)|split dataframe rows according to the values of some column. should be followed by a summary operation which will result in a single dataframe again|\n",
    "|**Aggregation**| | |\n",
    "| |[df.max](https://pandas.pydata.org/docs/reference/api/pandas.DataFrame.max.html)|return the largest value along an axis|\n",
    "| |[df.min](https://pandas.pydata.org/docs/reference/api/pandas.DataFrame.min.html)|return the smallest value along an axis|\n",
    "| |[df.idxmax](https://pandas.pydata.org/docs/reference/api/pandas.DataFrame.idxmax.html)|return the index of the largest value along an axis|\n",
    "| |[df.idxmin](https://pandas.pydata.org/docs/reference/api/pandas.DataFrame.idxmin.html)|return the index of the smallest value along an axis|\n",
    "| |[df.mean](https://pandas.pydata.org/docs/reference/api/pandas.DataFrame.mean.html)|return the mean value along an axis|\n",
    "| |[df.median](https://pandas.pydata.org/docs/reference/api/pandas.DataFrame.median.html)|return the median value along an axis|\n",
    "| |[df.sum](https://pandas.pydata.org/docs/reference/api/pandas.DataFrame.sum.html)|return the sum total along an axis|\n",
    "| |[df.count](https://pandas.pydata.org/docs/reference/api/pandas.DataFrame.count.html)|return the number of existing (not Na) values along an axis|\n"
   ]
  }
 ],
 "metadata": {
  "celltoolbar": "Slideshow",
  "colab": {
   "provenance": []
  },
  "kernelspec": {
   "display_name": "Python 3 (ipykernel)",
   "language": "python",
   "name": "python3"
  },
  "language_info": {
   "codemirror_mode": {
    "name": "ipython",
    "version": 3
   },
   "file_extension": ".py",
   "mimetype": "text/x-python",
   "name": "python",
   "nbconvert_exporter": "python",
   "pygments_lexer": "ipython3",
   "version": "3.11.12"
  }
 },
 "nbformat": 4,
 "nbformat_minor": 5
}
